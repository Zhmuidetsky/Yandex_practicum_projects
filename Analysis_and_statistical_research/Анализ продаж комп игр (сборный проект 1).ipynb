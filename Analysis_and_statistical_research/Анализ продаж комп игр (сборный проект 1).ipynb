{
 "cells": [
  {
   "cell_type": "markdown",
   "id": "df3e4879",
   "metadata": {},
   "source": [
    "# **Проект исследования продаж компьютерных игр (сб проект №1)**"
   ]
  },
  {
   "cell_type": "markdown",
   "id": "57777595",
   "metadata": {},
   "source": [
    "## **План исследования с оглавлением**\n",
    "\n",
    "Работать с данными будем в следующем порядке:\n",
    " - [данные о датасете](#данные)\n",
    " - [подготовка данных](#предобработка)\n",
    " - [исследовательский анализ данных, графики, локальные выводы](#ИАД)\n",
    " - [составление портрета пользователя](#пользователь)\n",
    " - [проверка гипотез](#гипотезы)\n",
    " - [общий вывод исследования](#выводы)"
   ]
  },
  {
   "cell_type": "markdown",
   "id": "42f7e22a",
   "metadata": {},
   "source": [
    "### **Данные о датасете** <a id = 'данные'></a> "
   ]
  },
  {
   "cell_type": "markdown",
   "id": "6c28048d",
   "metadata": {},
   "source": [
    "-\tName — название игры\n",
    "-\tPlatform — платформа\n",
    "-\tYear_of_Release — год выпуска\n",
    "-\tGenre — жанр игры\n",
    "-\tNA_sales — продажи в Северной Америке (миллионы проданных копий)\n",
    "-\tEU_sales — продажи в Европе (миллионы проданных копий)\n",
    "-\tJP_sales — продажи в Японии (миллионы проданных копий)\n",
    "-\tOther_sales — продажи в других странах (миллионы проданных копий)\n",
    "-\tCritic_Score — оценка критиков (максимум 100)\n",
    "-\tUser_Score — оценка пользователей (максимум 10)\n",
    "-\tRating — рейтинг от организации ESRB (англ. Entertainment Software Rating Board). Эта ассоциация определяет рейтинг компьютерных игр и присваивает им подходящую возрастную категорию.\n"
   ]
  },
  {
   "cell_type": "markdown",
   "id": "6156c606",
   "metadata": {},
   "source": [
    "**Общая информация**\n",
    "\n",
    "Предстоит работать с данными по продажам, оценкам, рейтингам видеоигр. Необходимо будет выявить закономерности, определяющие успешность игры. Данные получены из открытых источников. Мы \"находимся\" в конце 2016 года. "
   ]
  },
  {
   "cell_type": "markdown",
   "id": "6315ea72",
   "metadata": {},
   "source": [
    "## **Подготовка данных**  <a id = 'предобработка'></a> "
   ]
  },
  {
   "cell_type": "code",
   "execution_count": 1,
   "id": "3e18a5a1",
   "metadata": {},
   "outputs": [],
   "source": [
    "# импортируем библиотеки, которые могу нам понадобиться в работе над проектом\n",
    "import pandas as pd\n",
    "\n",
    "import math\n",
    "\n",
    "import numpy as np\n",
    "\n",
    "from matplotlib import pyplot as plt\n",
    "\n",
    "from scipy import stats as st\n",
    "\n",
    "import seaborn as sns\n",
    "\n",
    "%matplotlib inline"
   ]
  },
  {
   "cell_type": "code",
   "execution_count": 2,
   "id": "34df8319",
   "metadata": {
    "scrolled": true
   },
   "outputs": [
    {
     "data": {
      "text/html": [
       "<div>\n",
       "<style scoped>\n",
       "    .dataframe tbody tr th:only-of-type {\n",
       "        vertical-align: middle;\n",
       "    }\n",
       "\n",
       "    .dataframe tbody tr th {\n",
       "        vertical-align: top;\n",
       "    }\n",
       "\n",
       "    .dataframe thead th {\n",
       "        text-align: right;\n",
       "    }\n",
       "</style>\n",
       "<table border=\"1\" class=\"dataframe\">\n",
       "  <thead>\n",
       "    <tr style=\"text-align: right;\">\n",
       "      <th></th>\n",
       "      <th>Name</th>\n",
       "      <th>Platform</th>\n",
       "      <th>Year_of_Release</th>\n",
       "      <th>Genre</th>\n",
       "      <th>NA_sales</th>\n",
       "      <th>EU_sales</th>\n",
       "      <th>JP_sales</th>\n",
       "      <th>Other_sales</th>\n",
       "      <th>Critic_Score</th>\n",
       "      <th>User_Score</th>\n",
       "      <th>Rating</th>\n",
       "    </tr>\n",
       "  </thead>\n",
       "  <tbody>\n",
       "    <tr>\n",
       "      <th>0</th>\n",
       "      <td>Wii Sports</td>\n",
       "      <td>Wii</td>\n",
       "      <td>2006.0</td>\n",
       "      <td>Sports</td>\n",
       "      <td>41.36</td>\n",
       "      <td>28.96</td>\n",
       "      <td>3.77</td>\n",
       "      <td>8.45</td>\n",
       "      <td>76.0</td>\n",
       "      <td>8</td>\n",
       "      <td>E</td>\n",
       "    </tr>\n",
       "    <tr>\n",
       "      <th>1</th>\n",
       "      <td>Super Mario Bros.</td>\n",
       "      <td>NES</td>\n",
       "      <td>1985.0</td>\n",
       "      <td>Platform</td>\n",
       "      <td>29.08</td>\n",
       "      <td>3.58</td>\n",
       "      <td>6.81</td>\n",
       "      <td>0.77</td>\n",
       "      <td>NaN</td>\n",
       "      <td>NaN</td>\n",
       "      <td>NaN</td>\n",
       "    </tr>\n",
       "    <tr>\n",
       "      <th>2</th>\n",
       "      <td>Mario Kart Wii</td>\n",
       "      <td>Wii</td>\n",
       "      <td>2008.0</td>\n",
       "      <td>Racing</td>\n",
       "      <td>15.68</td>\n",
       "      <td>12.76</td>\n",
       "      <td>3.79</td>\n",
       "      <td>3.29</td>\n",
       "      <td>82.0</td>\n",
       "      <td>8.3</td>\n",
       "      <td>E</td>\n",
       "    </tr>\n",
       "    <tr>\n",
       "      <th>3</th>\n",
       "      <td>Wii Sports Resort</td>\n",
       "      <td>Wii</td>\n",
       "      <td>2009.0</td>\n",
       "      <td>Sports</td>\n",
       "      <td>15.61</td>\n",
       "      <td>10.93</td>\n",
       "      <td>3.28</td>\n",
       "      <td>2.95</td>\n",
       "      <td>80.0</td>\n",
       "      <td>8</td>\n",
       "      <td>E</td>\n",
       "    </tr>\n",
       "    <tr>\n",
       "      <th>4</th>\n",
       "      <td>Pokemon Red/Pokemon Blue</td>\n",
       "      <td>GB</td>\n",
       "      <td>1996.0</td>\n",
       "      <td>Role-Playing</td>\n",
       "      <td>11.27</td>\n",
       "      <td>8.89</td>\n",
       "      <td>10.22</td>\n",
       "      <td>1.00</td>\n",
       "      <td>NaN</td>\n",
       "      <td>NaN</td>\n",
       "      <td>NaN</td>\n",
       "    </tr>\n",
       "    <tr>\n",
       "      <th>5</th>\n",
       "      <td>Tetris</td>\n",
       "      <td>GB</td>\n",
       "      <td>1989.0</td>\n",
       "      <td>Puzzle</td>\n",
       "      <td>23.20</td>\n",
       "      <td>2.26</td>\n",
       "      <td>4.22</td>\n",
       "      <td>0.58</td>\n",
       "      <td>NaN</td>\n",
       "      <td>NaN</td>\n",
       "      <td>NaN</td>\n",
       "    </tr>\n",
       "    <tr>\n",
       "      <th>6</th>\n",
       "      <td>New Super Mario Bros.</td>\n",
       "      <td>DS</td>\n",
       "      <td>2006.0</td>\n",
       "      <td>Platform</td>\n",
       "      <td>11.28</td>\n",
       "      <td>9.14</td>\n",
       "      <td>6.50</td>\n",
       "      <td>2.88</td>\n",
       "      <td>89.0</td>\n",
       "      <td>8.5</td>\n",
       "      <td>E</td>\n",
       "    </tr>\n",
       "    <tr>\n",
       "      <th>7</th>\n",
       "      <td>Wii Play</td>\n",
       "      <td>Wii</td>\n",
       "      <td>2006.0</td>\n",
       "      <td>Misc</td>\n",
       "      <td>13.96</td>\n",
       "      <td>9.18</td>\n",
       "      <td>2.93</td>\n",
       "      <td>2.84</td>\n",
       "      <td>58.0</td>\n",
       "      <td>6.6</td>\n",
       "      <td>E</td>\n",
       "    </tr>\n",
       "    <tr>\n",
       "      <th>8</th>\n",
       "      <td>New Super Mario Bros. Wii</td>\n",
       "      <td>Wii</td>\n",
       "      <td>2009.0</td>\n",
       "      <td>Platform</td>\n",
       "      <td>14.44</td>\n",
       "      <td>6.94</td>\n",
       "      <td>4.70</td>\n",
       "      <td>2.24</td>\n",
       "      <td>87.0</td>\n",
       "      <td>8.4</td>\n",
       "      <td>E</td>\n",
       "    </tr>\n",
       "    <tr>\n",
       "      <th>9</th>\n",
       "      <td>Duck Hunt</td>\n",
       "      <td>NES</td>\n",
       "      <td>1984.0</td>\n",
       "      <td>Shooter</td>\n",
       "      <td>26.93</td>\n",
       "      <td>0.63</td>\n",
       "      <td>0.28</td>\n",
       "      <td>0.47</td>\n",
       "      <td>NaN</td>\n",
       "      <td>NaN</td>\n",
       "      <td>NaN</td>\n",
       "    </tr>\n",
       "  </tbody>\n",
       "</table>\n",
       "</div>"
      ],
      "text/plain": [
       "                        Name Platform  Year_of_Release         Genre  \\\n",
       "0                 Wii Sports      Wii           2006.0        Sports   \n",
       "1          Super Mario Bros.      NES           1985.0      Platform   \n",
       "2             Mario Kart Wii      Wii           2008.0        Racing   \n",
       "3          Wii Sports Resort      Wii           2009.0        Sports   \n",
       "4   Pokemon Red/Pokemon Blue       GB           1996.0  Role-Playing   \n",
       "5                     Tetris       GB           1989.0        Puzzle   \n",
       "6      New Super Mario Bros.       DS           2006.0      Platform   \n",
       "7                   Wii Play      Wii           2006.0          Misc   \n",
       "8  New Super Mario Bros. Wii      Wii           2009.0      Platform   \n",
       "9                  Duck Hunt      NES           1984.0       Shooter   \n",
       "\n",
       "   NA_sales  EU_sales  JP_sales  Other_sales  Critic_Score User_Score Rating  \n",
       "0     41.36     28.96      3.77         8.45          76.0          8      E  \n",
       "1     29.08      3.58      6.81         0.77           NaN        NaN    NaN  \n",
       "2     15.68     12.76      3.79         3.29          82.0        8.3      E  \n",
       "3     15.61     10.93      3.28         2.95          80.0          8      E  \n",
       "4     11.27      8.89     10.22         1.00           NaN        NaN    NaN  \n",
       "5     23.20      2.26      4.22         0.58           NaN        NaN    NaN  \n",
       "6     11.28      9.14      6.50         2.88          89.0        8.5      E  \n",
       "7     13.96      9.18      2.93         2.84          58.0        6.6      E  \n",
       "8     14.44      6.94      4.70         2.24          87.0        8.4      E  \n",
       "9     26.93      0.63      0.28         0.47           NaN        NaN    NaN  "
      ]
     },
     "metadata": {},
     "output_type": "display_data"
    },
    {
     "name": "stdout",
     "output_type": "stream",
     "text": [
      "<class 'pandas.core.frame.DataFrame'>\n",
      "RangeIndex: 16715 entries, 0 to 16714\n",
      "Data columns (total 11 columns):\n",
      " #   Column           Non-Null Count  Dtype  \n",
      "---  ------           --------------  -----  \n",
      " 0   Name             16713 non-null  object \n",
      " 1   Platform         16715 non-null  object \n",
      " 2   Year_of_Release  16446 non-null  float64\n",
      " 3   Genre            16713 non-null  object \n",
      " 4   NA_sales         16715 non-null  float64\n",
      " 5   EU_sales         16715 non-null  float64\n",
      " 6   JP_sales         16715 non-null  float64\n",
      " 7   Other_sales      16715 non-null  float64\n",
      " 8   Critic_Score     8137 non-null   float64\n",
      " 9   User_Score       10014 non-null  object \n",
      " 10  Rating           9949 non-null   object \n",
      "dtypes: float64(6), object(5)\n",
      "memory usage: 1.4+ MB\n"
     ]
    }
   ],
   "source": [
    "# откроем датасет используя конструкцию try-except для возможности открыть как локально так и с сервера\n",
    "\n",
    "try:\n",
    "    games = pd.read_csv(r'C:\\Users\\rosto\\OneDrive\\Документы\\Learning_is_the_light\\Сборный проект\\games.csv')\n",
    "except:\n",
    "    games = pd.read_csv('/datasets/games.csv')\n",
    "\n",
    "display(games.head(10))\n",
    "games.info()"
   ]
  },
  {
   "cell_type": "markdown",
   "id": "6df01dfc",
   "metadata": {},
   "source": [
    "Что видно по первому взгляду на данные:\n",
    "- наименования столбцов начинаются с заглавной буквы - надо будет привести все к прописным\n",
    "- в данных встречаются пропуски в столбцах Name, Year_of_Release, Genre, Critic_Score, User_Score, Rating - небоходимо будет разобраться с ними\n",
    "- столбец Year_of_Release  имеет тип float64 - надо будет привести к целому\n",
    "- столбец User_Score имеет тип object, хотя скорее должен иметь тип float, надо будет проверить"
   ]
  },
  {
   "cell_type": "code",
   "execution_count": 3,
   "id": "6b81a6b9",
   "metadata": {
    "scrolled": true
   },
   "outputs": [
    {
     "data": {
      "text/plain": [
       "Index(['name', 'platform', 'year_of_release', 'genre', 'na_sales', 'eu_sales',\n",
       "       'jp_sales', 'other_sales', 'critic_score', 'user_score', 'rating'],\n",
       "      dtype='object')"
      ]
     },
     "execution_count": 3,
     "metadata": {},
     "output_type": "execute_result"
    }
   ],
   "source": [
    "# приведем наименования столбцов к прописным буквам\n",
    "games.columns = games.columns.str.lower()\n",
    "games.columns"
   ]
  },
  {
   "cell_type": "code",
   "execution_count": 4,
   "id": "90956a04",
   "metadata": {
    "scrolled": true
   },
   "outputs": [
    {
     "data": {
      "text/html": [
       "<div>\n",
       "<style scoped>\n",
       "    .dataframe tbody tr th:only-of-type {\n",
       "        vertical-align: middle;\n",
       "    }\n",
       "\n",
       "    .dataframe tbody tr th {\n",
       "        vertical-align: top;\n",
       "    }\n",
       "\n",
       "    .dataframe thead th {\n",
       "        text-align: right;\n",
       "    }\n",
       "</style>\n",
       "<table border=\"1\" class=\"dataframe\">\n",
       "  <thead>\n",
       "    <tr style=\"text-align: right;\">\n",
       "      <th></th>\n",
       "      <th>name</th>\n",
       "      <th>platform</th>\n",
       "      <th>year_of_release</th>\n",
       "      <th>genre</th>\n",
       "      <th>na_sales</th>\n",
       "      <th>eu_sales</th>\n",
       "      <th>jp_sales</th>\n",
       "      <th>other_sales</th>\n",
       "      <th>critic_score</th>\n",
       "      <th>user_score</th>\n",
       "      <th>rating</th>\n",
       "    </tr>\n",
       "  </thead>\n",
       "  <tbody>\n",
       "    <tr>\n",
       "      <th>659</th>\n",
       "      <td>NaN</td>\n",
       "      <td>GEN</td>\n",
       "      <td>1993.0</td>\n",
       "      <td>NaN</td>\n",
       "      <td>1.78</td>\n",
       "      <td>0.53</td>\n",
       "      <td>0.00</td>\n",
       "      <td>0.08</td>\n",
       "      <td>NaN</td>\n",
       "      <td>NaN</td>\n",
       "      <td>NaN</td>\n",
       "    </tr>\n",
       "    <tr>\n",
       "      <th>14244</th>\n",
       "      <td>NaN</td>\n",
       "      <td>GEN</td>\n",
       "      <td>1993.0</td>\n",
       "      <td>NaN</td>\n",
       "      <td>0.00</td>\n",
       "      <td>0.00</td>\n",
       "      <td>0.03</td>\n",
       "      <td>0.00</td>\n",
       "      <td>NaN</td>\n",
       "      <td>NaN</td>\n",
       "      <td>NaN</td>\n",
       "    </tr>\n",
       "  </tbody>\n",
       "</table>\n",
       "</div>"
      ],
      "text/plain": [
       "      name platform  year_of_release genre  na_sales  eu_sales  jp_sales  \\\n",
       "659    NaN      GEN           1993.0   NaN      1.78      0.53      0.00   \n",
       "14244  NaN      GEN           1993.0   NaN      0.00      0.00      0.03   \n",
       "\n",
       "       other_sales  critic_score user_score rating  \n",
       "659           0.08           NaN        NaN    NaN  \n",
       "14244         0.00           NaN        NaN    NaN  "
      ]
     },
     "execution_count": 4,
     "metadata": {},
     "output_type": "execute_result"
    }
   ],
   "source": [
    "# посмотрим на пропуски данных в столбце Name\n",
    "games.query('name.isna()')"
   ]
  },
  {
   "cell_type": "markdown",
   "id": "fecfcd90",
   "metadata": {},
   "source": [
    "Строк с отсутствующими данными всего две, у обеих игр небольшие продажи, не указаны жанры и оценки, поэтому эти строки можно удалить без потери для качества исследования."
   ]
  },
  {
   "cell_type": "code",
   "execution_count": 5,
   "id": "3b1c8679",
   "metadata": {
    "scrolled": true
   },
   "outputs": [],
   "source": [
    "games = games.dropna(subset = ['name'])\n",
    "# games.query('name.isna()')"
   ]
  },
  {
   "cell_type": "code",
   "execution_count": 6,
   "id": "b110f7f3",
   "metadata": {},
   "outputs": [
    {
     "data": {
      "text/html": [
       "<div>\n",
       "<style scoped>\n",
       "    .dataframe tbody tr th:only-of-type {\n",
       "        vertical-align: middle;\n",
       "    }\n",
       "\n",
       "    .dataframe tbody tr th {\n",
       "        vertical-align: top;\n",
       "    }\n",
       "\n",
       "    .dataframe thead th {\n",
       "        text-align: right;\n",
       "    }\n",
       "</style>\n",
       "<table border=\"1\" class=\"dataframe\">\n",
       "  <thead>\n",
       "    <tr style=\"text-align: right;\">\n",
       "      <th></th>\n",
       "      <th>name</th>\n",
       "      <th>platform</th>\n",
       "      <th>year_of_release</th>\n",
       "      <th>genre</th>\n",
       "      <th>na_sales</th>\n",
       "      <th>eu_sales</th>\n",
       "      <th>jp_sales</th>\n",
       "      <th>other_sales</th>\n",
       "      <th>critic_score</th>\n",
       "      <th>user_score</th>\n",
       "      <th>rating</th>\n",
       "    </tr>\n",
       "  </thead>\n",
       "  <tbody>\n",
       "    <tr>\n",
       "      <th>183</th>\n",
       "      <td>Madden NFL 2004</td>\n",
       "      <td>PS2</td>\n",
       "      <td>NaN</td>\n",
       "      <td>Sports</td>\n",
       "      <td>4.26</td>\n",
       "      <td>0.26</td>\n",
       "      <td>0.01</td>\n",
       "      <td>0.71</td>\n",
       "      <td>94.0</td>\n",
       "      <td>8.5</td>\n",
       "      <td>E</td>\n",
       "    </tr>\n",
       "    <tr>\n",
       "      <th>377</th>\n",
       "      <td>FIFA Soccer 2004</td>\n",
       "      <td>PS2</td>\n",
       "      <td>NaN</td>\n",
       "      <td>Sports</td>\n",
       "      <td>0.59</td>\n",
       "      <td>2.36</td>\n",
       "      <td>0.04</td>\n",
       "      <td>0.51</td>\n",
       "      <td>84.0</td>\n",
       "      <td>6.4</td>\n",
       "      <td>E</td>\n",
       "    </tr>\n",
       "    <tr>\n",
       "      <th>456</th>\n",
       "      <td>LEGO Batman: The Videogame</td>\n",
       "      <td>Wii</td>\n",
       "      <td>NaN</td>\n",
       "      <td>Action</td>\n",
       "      <td>1.80</td>\n",
       "      <td>0.97</td>\n",
       "      <td>0.00</td>\n",
       "      <td>0.29</td>\n",
       "      <td>74.0</td>\n",
       "      <td>7.9</td>\n",
       "      <td>E10+</td>\n",
       "    </tr>\n",
       "    <tr>\n",
       "      <th>475</th>\n",
       "      <td>wwe Smackdown vs. Raw 2006</td>\n",
       "      <td>PS2</td>\n",
       "      <td>NaN</td>\n",
       "      <td>Fighting</td>\n",
       "      <td>1.57</td>\n",
       "      <td>1.02</td>\n",
       "      <td>0.00</td>\n",
       "      <td>0.41</td>\n",
       "      <td>NaN</td>\n",
       "      <td>NaN</td>\n",
       "      <td>NaN</td>\n",
       "    </tr>\n",
       "    <tr>\n",
       "      <th>609</th>\n",
       "      <td>Space Invaders</td>\n",
       "      <td>2600</td>\n",
       "      <td>NaN</td>\n",
       "      <td>Shooter</td>\n",
       "      <td>2.36</td>\n",
       "      <td>0.14</td>\n",
       "      <td>0.00</td>\n",
       "      <td>0.03</td>\n",
       "      <td>NaN</td>\n",
       "      <td>NaN</td>\n",
       "      <td>NaN</td>\n",
       "    </tr>\n",
       "    <tr>\n",
       "      <th>...</th>\n",
       "      <td>...</td>\n",
       "      <td>...</td>\n",
       "      <td>...</td>\n",
       "      <td>...</td>\n",
       "      <td>...</td>\n",
       "      <td>...</td>\n",
       "      <td>...</td>\n",
       "      <td>...</td>\n",
       "      <td>...</td>\n",
       "      <td>...</td>\n",
       "      <td>...</td>\n",
       "    </tr>\n",
       "    <tr>\n",
       "      <th>16373</th>\n",
       "      <td>PDC World Championship Darts 2008</td>\n",
       "      <td>PSP</td>\n",
       "      <td>NaN</td>\n",
       "      <td>Sports</td>\n",
       "      <td>0.01</td>\n",
       "      <td>0.00</td>\n",
       "      <td>0.00</td>\n",
       "      <td>0.00</td>\n",
       "      <td>43.0</td>\n",
       "      <td>tbd</td>\n",
       "      <td>E10+</td>\n",
       "    </tr>\n",
       "    <tr>\n",
       "      <th>16405</th>\n",
       "      <td>Freaky Flyers</td>\n",
       "      <td>GC</td>\n",
       "      <td>NaN</td>\n",
       "      <td>Racing</td>\n",
       "      <td>0.01</td>\n",
       "      <td>0.00</td>\n",
       "      <td>0.00</td>\n",
       "      <td>0.00</td>\n",
       "      <td>69.0</td>\n",
       "      <td>6.5</td>\n",
       "      <td>T</td>\n",
       "    </tr>\n",
       "    <tr>\n",
       "      <th>16448</th>\n",
       "      <td>Inversion</td>\n",
       "      <td>PC</td>\n",
       "      <td>NaN</td>\n",
       "      <td>Shooter</td>\n",
       "      <td>0.01</td>\n",
       "      <td>0.00</td>\n",
       "      <td>0.00</td>\n",
       "      <td>0.00</td>\n",
       "      <td>59.0</td>\n",
       "      <td>6.7</td>\n",
       "      <td>M</td>\n",
       "    </tr>\n",
       "    <tr>\n",
       "      <th>16458</th>\n",
       "      <td>Hakuouki: Shinsengumi Kitan</td>\n",
       "      <td>PS3</td>\n",
       "      <td>NaN</td>\n",
       "      <td>Adventure</td>\n",
       "      <td>0.01</td>\n",
       "      <td>0.00</td>\n",
       "      <td>0.00</td>\n",
       "      <td>0.00</td>\n",
       "      <td>NaN</td>\n",
       "      <td>NaN</td>\n",
       "      <td>NaN</td>\n",
       "    </tr>\n",
       "    <tr>\n",
       "      <th>16522</th>\n",
       "      <td>Virtua Quest</td>\n",
       "      <td>GC</td>\n",
       "      <td>NaN</td>\n",
       "      <td>Role-Playing</td>\n",
       "      <td>0.01</td>\n",
       "      <td>0.00</td>\n",
       "      <td>0.00</td>\n",
       "      <td>0.00</td>\n",
       "      <td>55.0</td>\n",
       "      <td>5.5</td>\n",
       "      <td>T</td>\n",
       "    </tr>\n",
       "  </tbody>\n",
       "</table>\n",
       "<p>269 rows × 11 columns</p>\n",
       "</div>"
      ],
      "text/plain": [
       "                                    name platform  year_of_release  \\\n",
       "183                      Madden NFL 2004      PS2              NaN   \n",
       "377                     FIFA Soccer 2004      PS2              NaN   \n",
       "456           LEGO Batman: The Videogame      Wii              NaN   \n",
       "475           wwe Smackdown vs. Raw 2006      PS2              NaN   \n",
       "609                       Space Invaders     2600              NaN   \n",
       "...                                  ...      ...              ...   \n",
       "16373  PDC World Championship Darts 2008      PSP              NaN   \n",
       "16405                      Freaky Flyers       GC              NaN   \n",
       "16448                          Inversion       PC              NaN   \n",
       "16458        Hakuouki: Shinsengumi Kitan      PS3              NaN   \n",
       "16522                       Virtua Quest       GC              NaN   \n",
       "\n",
       "              genre  na_sales  eu_sales  jp_sales  other_sales  critic_score  \\\n",
       "183          Sports      4.26      0.26      0.01         0.71          94.0   \n",
       "377          Sports      0.59      2.36      0.04         0.51          84.0   \n",
       "456          Action      1.80      0.97      0.00         0.29          74.0   \n",
       "475        Fighting      1.57      1.02      0.00         0.41           NaN   \n",
       "609         Shooter      2.36      0.14      0.00         0.03           NaN   \n",
       "...             ...       ...       ...       ...          ...           ...   \n",
       "16373        Sports      0.01      0.00      0.00         0.00          43.0   \n",
       "16405        Racing      0.01      0.00      0.00         0.00          69.0   \n",
       "16448       Shooter      0.01      0.00      0.00         0.00          59.0   \n",
       "16458     Adventure      0.01      0.00      0.00         0.00           NaN   \n",
       "16522  Role-Playing      0.01      0.00      0.00         0.00          55.0   \n",
       "\n",
       "      user_score rating  \n",
       "183          8.5      E  \n",
       "377          6.4      E  \n",
       "456          7.9   E10+  \n",
       "475          NaN    NaN  \n",
       "609          NaN    NaN  \n",
       "...          ...    ...  \n",
       "16373        tbd   E10+  \n",
       "16405        6.5      T  \n",
       "16448        6.7      M  \n",
       "16458        NaN    NaN  \n",
       "16522        5.5      T  \n",
       "\n",
       "[269 rows x 11 columns]"
      ]
     },
     "execution_count": 6,
     "metadata": {},
     "output_type": "execute_result"
    }
   ],
   "source": [
    "# посмотрим на пропуски данных в столбце Year_of_Release\n",
    "games.query('year_of_release.isna()')"
   ]
  },
  {
   "cell_type": "markdown",
   "id": "c98fc082",
   "metadata": {},
   "source": [
    "Видим 269 пропусков, что составляет 1,6% от всех данных. Посмотрим на самые популярные из этих игр."
   ]
  },
  {
   "cell_type": "code",
   "execution_count": 7,
   "id": "d146113f",
   "metadata": {
    "scrolled": true
   },
   "outputs": [
    {
     "data": {
      "text/html": [
       "<div>\n",
       "<style scoped>\n",
       "    .dataframe tbody tr th:only-of-type {\n",
       "        vertical-align: middle;\n",
       "    }\n",
       "\n",
       "    .dataframe tbody tr th {\n",
       "        vertical-align: top;\n",
       "    }\n",
       "\n",
       "    .dataframe thead th {\n",
       "        text-align: right;\n",
       "    }\n",
       "</style>\n",
       "<table border=\"1\" class=\"dataframe\">\n",
       "  <thead>\n",
       "    <tr style=\"text-align: right;\">\n",
       "      <th></th>\n",
       "      <th>name</th>\n",
       "      <th>platform</th>\n",
       "      <th>year_of_release</th>\n",
       "      <th>genre</th>\n",
       "      <th>na_sales</th>\n",
       "      <th>eu_sales</th>\n",
       "      <th>jp_sales</th>\n",
       "      <th>other_sales</th>\n",
       "      <th>critic_score</th>\n",
       "      <th>user_score</th>\n",
       "      <th>rating</th>\n",
       "    </tr>\n",
       "  </thead>\n",
       "  <tbody>\n",
       "    <tr>\n",
       "      <th>183</th>\n",
       "      <td>Madden NFL 2004</td>\n",
       "      <td>PS2</td>\n",
       "      <td>NaN</td>\n",
       "      <td>Sports</td>\n",
       "      <td>4.26</td>\n",
       "      <td>0.26</td>\n",
       "      <td>0.01</td>\n",
       "      <td>0.71</td>\n",
       "      <td>94.0</td>\n",
       "      <td>8.5</td>\n",
       "      <td>E</td>\n",
       "    </tr>\n",
       "    <tr>\n",
       "      <th>609</th>\n",
       "      <td>Space Invaders</td>\n",
       "      <td>2600</td>\n",
       "      <td>NaN</td>\n",
       "      <td>Shooter</td>\n",
       "      <td>2.36</td>\n",
       "      <td>0.14</td>\n",
       "      <td>0.00</td>\n",
       "      <td>0.03</td>\n",
       "      <td>NaN</td>\n",
       "      <td>NaN</td>\n",
       "      <td>NaN</td>\n",
       "    </tr>\n",
       "    <tr>\n",
       "      <th>657</th>\n",
       "      <td>Frogger's Adventures: Temple of the Frog</td>\n",
       "      <td>GBA</td>\n",
       "      <td>NaN</td>\n",
       "      <td>Adventure</td>\n",
       "      <td>2.15</td>\n",
       "      <td>0.18</td>\n",
       "      <td>0.00</td>\n",
       "      <td>0.07</td>\n",
       "      <td>73.0</td>\n",
       "      <td>tbd</td>\n",
       "      <td>E</td>\n",
       "    </tr>\n",
       "    <tr>\n",
       "      <th>627</th>\n",
       "      <td>Rock Band</td>\n",
       "      <td>X360</td>\n",
       "      <td>NaN</td>\n",
       "      <td>Misc</td>\n",
       "      <td>1.93</td>\n",
       "      <td>0.33</td>\n",
       "      <td>0.00</td>\n",
       "      <td>0.21</td>\n",
       "      <td>92.0</td>\n",
       "      <td>8.2</td>\n",
       "      <td>T</td>\n",
       "    </tr>\n",
       "    <tr>\n",
       "      <th>456</th>\n",
       "      <td>LEGO Batman: The Videogame</td>\n",
       "      <td>Wii</td>\n",
       "      <td>NaN</td>\n",
       "      <td>Action</td>\n",
       "      <td>1.80</td>\n",
       "      <td>0.97</td>\n",
       "      <td>0.00</td>\n",
       "      <td>0.29</td>\n",
       "      <td>74.0</td>\n",
       "      <td>7.9</td>\n",
       "      <td>E10+</td>\n",
       "    </tr>\n",
       "    <tr>\n",
       "      <th>475</th>\n",
       "      <td>wwe Smackdown vs. Raw 2006</td>\n",
       "      <td>PS2</td>\n",
       "      <td>NaN</td>\n",
       "      <td>Fighting</td>\n",
       "      <td>1.57</td>\n",
       "      <td>1.02</td>\n",
       "      <td>0.00</td>\n",
       "      <td>0.41</td>\n",
       "      <td>NaN</td>\n",
       "      <td>NaN</td>\n",
       "      <td>NaN</td>\n",
       "    </tr>\n",
       "    <tr>\n",
       "      <th>678</th>\n",
       "      <td>LEGO Indiana Jones: The Original Adventures</td>\n",
       "      <td>Wii</td>\n",
       "      <td>NaN</td>\n",
       "      <td>Action</td>\n",
       "      <td>1.51</td>\n",
       "      <td>0.61</td>\n",
       "      <td>0.00</td>\n",
       "      <td>0.21</td>\n",
       "      <td>78.0</td>\n",
       "      <td>6.6</td>\n",
       "      <td>E10+</td>\n",
       "    </tr>\n",
       "    <tr>\n",
       "      <th>805</th>\n",
       "      <td>Rock Band</td>\n",
       "      <td>Wii</td>\n",
       "      <td>NaN</td>\n",
       "      <td>Misc</td>\n",
       "      <td>1.33</td>\n",
       "      <td>0.56</td>\n",
       "      <td>0.00</td>\n",
       "      <td>0.20</td>\n",
       "      <td>80.0</td>\n",
       "      <td>6.3</td>\n",
       "      <td>T</td>\n",
       "    </tr>\n",
       "    <tr>\n",
       "      <th>1506</th>\n",
       "      <td>Adventure</td>\n",
       "      <td>2600</td>\n",
       "      <td>NaN</td>\n",
       "      <td>Adventure</td>\n",
       "      <td>1.21</td>\n",
       "      <td>0.08</td>\n",
       "      <td>0.00</td>\n",
       "      <td>0.01</td>\n",
       "      <td>NaN</td>\n",
       "      <td>NaN</td>\n",
       "      <td>NaN</td>\n",
       "    </tr>\n",
       "    <tr>\n",
       "      <th>719</th>\n",
       "      <td>Call of Duty 3</td>\n",
       "      <td>Wii</td>\n",
       "      <td>NaN</td>\n",
       "      <td>Shooter</td>\n",
       "      <td>1.17</td>\n",
       "      <td>0.84</td>\n",
       "      <td>0.00</td>\n",
       "      <td>0.23</td>\n",
       "      <td>69.0</td>\n",
       "      <td>6.7</td>\n",
       "      <td>T</td>\n",
       "    </tr>\n",
       "  </tbody>\n",
       "</table>\n",
       "</div>"
      ],
      "text/plain": [
       "                                             name platform  year_of_release  \\\n",
       "183                               Madden NFL 2004      PS2              NaN   \n",
       "609                                Space Invaders     2600              NaN   \n",
       "657      Frogger's Adventures: Temple of the Frog      GBA              NaN   \n",
       "627                                     Rock Band     X360              NaN   \n",
       "456                    LEGO Batman: The Videogame      Wii              NaN   \n",
       "475                    wwe Smackdown vs. Raw 2006      PS2              NaN   \n",
       "678   LEGO Indiana Jones: The Original Adventures      Wii              NaN   \n",
       "805                                     Rock Band      Wii              NaN   \n",
       "1506                                    Adventure     2600              NaN   \n",
       "719                                Call of Duty 3      Wii              NaN   \n",
       "\n",
       "          genre  na_sales  eu_sales  jp_sales  other_sales  critic_score  \\\n",
       "183      Sports      4.26      0.26      0.01         0.71          94.0   \n",
       "609     Shooter      2.36      0.14      0.00         0.03           NaN   \n",
       "657   Adventure      2.15      0.18      0.00         0.07          73.0   \n",
       "627        Misc      1.93      0.33      0.00         0.21          92.0   \n",
       "456      Action      1.80      0.97      0.00         0.29          74.0   \n",
       "475    Fighting      1.57      1.02      0.00         0.41           NaN   \n",
       "678      Action      1.51      0.61      0.00         0.21          78.0   \n",
       "805        Misc      1.33      0.56      0.00         0.20          80.0   \n",
       "1506  Adventure      1.21      0.08      0.00         0.01           NaN   \n",
       "719     Shooter      1.17      0.84      0.00         0.23          69.0   \n",
       "\n",
       "     user_score rating  \n",
       "183         8.5      E  \n",
       "609         NaN    NaN  \n",
       "657         tbd      E  \n",
       "627         8.2      T  \n",
       "456         7.9   E10+  \n",
       "475         NaN    NaN  \n",
       "678         6.6   E10+  \n",
       "805         6.3      T  \n",
       "1506        NaN    NaN  \n",
       "719         6.7      T  "
      ]
     },
     "execution_count": 7,
     "metadata": {},
     "output_type": "execute_result"
    }
   ],
   "source": [
    "games.query('year_of_release.isna()').sort_values(by = 'na_sales', ascending=False).head(10)"
   ]
  },
  {
   "cell_type": "markdown",
   "id": "fee3b620",
   "metadata": {},
   "source": [
    "Исходя из того, что игр с пропусками в датах релиза немного, 1,6%, они не относяткся к самым популярным, так как продажи измеряются миллионами, а не десятками миллионов, а также с учетом того, что логичного метода заполнения этих пропусков нет, эти строки также удалю из дата фрейма."
   ]
  },
  {
   "cell_type": "code",
   "execution_count": 8,
   "id": "73fc086c",
   "metadata": {
    "scrolled": true
   },
   "outputs": [],
   "source": [
    "games = games.dropna(subset = ['year_of_release'])\n",
    "# games.query('year_of_release.isna()')"
   ]
  },
  {
   "cell_type": "code",
   "execution_count": 9,
   "id": "b0c4ab89",
   "metadata": {},
   "outputs": [
    {
     "data": {
      "text/html": [
       "<div>\n",
       "<style scoped>\n",
       "    .dataframe tbody tr th:only-of-type {\n",
       "        vertical-align: middle;\n",
       "    }\n",
       "\n",
       "    .dataframe tbody tr th {\n",
       "        vertical-align: top;\n",
       "    }\n",
       "\n",
       "    .dataframe thead th {\n",
       "        text-align: right;\n",
       "    }\n",
       "</style>\n",
       "<table border=\"1\" class=\"dataframe\">\n",
       "  <thead>\n",
       "    <tr style=\"text-align: right;\">\n",
       "      <th></th>\n",
       "      <th>name</th>\n",
       "      <th>platform</th>\n",
       "      <th>year_of_release</th>\n",
       "      <th>genre</th>\n",
       "      <th>na_sales</th>\n",
       "      <th>eu_sales</th>\n",
       "      <th>jp_sales</th>\n",
       "      <th>other_sales</th>\n",
       "      <th>critic_score</th>\n",
       "      <th>user_score</th>\n",
       "      <th>rating</th>\n",
       "    </tr>\n",
       "  </thead>\n",
       "  <tbody>\n",
       "  </tbody>\n",
       "</table>\n",
       "</div>"
      ],
      "text/plain": [
       "Empty DataFrame\n",
       "Columns: [name, platform, year_of_release, genre, na_sales, eu_sales, jp_sales, other_sales, critic_score, user_score, rating]\n",
       "Index: []"
      ]
     },
     "execution_count": 9,
     "metadata": {},
     "output_type": "execute_result"
    }
   ],
   "source": [
    "# посмотрим на пропуски в столбце жанра\n",
    "games.query('genre.isna()')"
   ]
  },
  {
   "cell_type": "markdown",
   "id": "53b7a6ce",
   "metadata": {},
   "source": [
    "Таковых не осталось, они были удалены видимо с теми играми, у которых были пропуски в наименовании."
   ]
  },
  {
   "cell_type": "code",
   "execution_count": 10,
   "id": "b37d3336",
   "metadata": {
    "scrolled": true
   },
   "outputs": [
    {
     "data": {
      "text/html": [
       "<div>\n",
       "<style scoped>\n",
       "    .dataframe tbody tr th:only-of-type {\n",
       "        vertical-align: middle;\n",
       "    }\n",
       "\n",
       "    .dataframe tbody tr th {\n",
       "        vertical-align: top;\n",
       "    }\n",
       "\n",
       "    .dataframe thead th {\n",
       "        text-align: right;\n",
       "    }\n",
       "</style>\n",
       "<table border=\"1\" class=\"dataframe\">\n",
       "  <thead>\n",
       "    <tr style=\"text-align: right;\">\n",
       "      <th></th>\n",
       "      <th>name</th>\n",
       "      <th>platform</th>\n",
       "      <th>year_of_release</th>\n",
       "      <th>genre</th>\n",
       "      <th>na_sales</th>\n",
       "      <th>eu_sales</th>\n",
       "      <th>jp_sales</th>\n",
       "      <th>other_sales</th>\n",
       "      <th>critic_score</th>\n",
       "      <th>user_score</th>\n",
       "      <th>rating</th>\n",
       "    </tr>\n",
       "  </thead>\n",
       "  <tbody>\n",
       "    <tr>\n",
       "      <th>1</th>\n",
       "      <td>Super Mario Bros.</td>\n",
       "      <td>NES</td>\n",
       "      <td>1985.0</td>\n",
       "      <td>Platform</td>\n",
       "      <td>29.08</td>\n",
       "      <td>3.58</td>\n",
       "      <td>6.81</td>\n",
       "      <td>0.77</td>\n",
       "      <td>NaN</td>\n",
       "      <td>NaN</td>\n",
       "      <td>NaN</td>\n",
       "    </tr>\n",
       "    <tr>\n",
       "      <th>4</th>\n",
       "      <td>Pokemon Red/Pokemon Blue</td>\n",
       "      <td>GB</td>\n",
       "      <td>1996.0</td>\n",
       "      <td>Role-Playing</td>\n",
       "      <td>11.27</td>\n",
       "      <td>8.89</td>\n",
       "      <td>10.22</td>\n",
       "      <td>1.00</td>\n",
       "      <td>NaN</td>\n",
       "      <td>NaN</td>\n",
       "      <td>NaN</td>\n",
       "    </tr>\n",
       "    <tr>\n",
       "      <th>5</th>\n",
       "      <td>Tetris</td>\n",
       "      <td>GB</td>\n",
       "      <td>1989.0</td>\n",
       "      <td>Puzzle</td>\n",
       "      <td>23.20</td>\n",
       "      <td>2.26</td>\n",
       "      <td>4.22</td>\n",
       "      <td>0.58</td>\n",
       "      <td>NaN</td>\n",
       "      <td>NaN</td>\n",
       "      <td>NaN</td>\n",
       "    </tr>\n",
       "    <tr>\n",
       "      <th>9</th>\n",
       "      <td>Duck Hunt</td>\n",
       "      <td>NES</td>\n",
       "      <td>1984.0</td>\n",
       "      <td>Shooter</td>\n",
       "      <td>26.93</td>\n",
       "      <td>0.63</td>\n",
       "      <td>0.28</td>\n",
       "      <td>0.47</td>\n",
       "      <td>NaN</td>\n",
       "      <td>NaN</td>\n",
       "      <td>NaN</td>\n",
       "    </tr>\n",
       "    <tr>\n",
       "      <th>10</th>\n",
       "      <td>Nintendogs</td>\n",
       "      <td>DS</td>\n",
       "      <td>2005.0</td>\n",
       "      <td>Simulation</td>\n",
       "      <td>9.05</td>\n",
       "      <td>10.95</td>\n",
       "      <td>1.93</td>\n",
       "      <td>2.74</td>\n",
       "      <td>NaN</td>\n",
       "      <td>NaN</td>\n",
       "      <td>NaN</td>\n",
       "    </tr>\n",
       "    <tr>\n",
       "      <th>...</th>\n",
       "      <td>...</td>\n",
       "      <td>...</td>\n",
       "      <td>...</td>\n",
       "      <td>...</td>\n",
       "      <td>...</td>\n",
       "      <td>...</td>\n",
       "      <td>...</td>\n",
       "      <td>...</td>\n",
       "      <td>...</td>\n",
       "      <td>...</td>\n",
       "      <td>...</td>\n",
       "    </tr>\n",
       "    <tr>\n",
       "      <th>16710</th>\n",
       "      <td>Samurai Warriors: Sanada Maru</td>\n",
       "      <td>PS3</td>\n",
       "      <td>2016.0</td>\n",
       "      <td>Action</td>\n",
       "      <td>0.00</td>\n",
       "      <td>0.00</td>\n",
       "      <td>0.01</td>\n",
       "      <td>0.00</td>\n",
       "      <td>NaN</td>\n",
       "      <td>NaN</td>\n",
       "      <td>NaN</td>\n",
       "    </tr>\n",
       "    <tr>\n",
       "      <th>16711</th>\n",
       "      <td>LMA Manager 2007</td>\n",
       "      <td>X360</td>\n",
       "      <td>2006.0</td>\n",
       "      <td>Sports</td>\n",
       "      <td>0.00</td>\n",
       "      <td>0.01</td>\n",
       "      <td>0.00</td>\n",
       "      <td>0.00</td>\n",
       "      <td>NaN</td>\n",
       "      <td>NaN</td>\n",
       "      <td>NaN</td>\n",
       "    </tr>\n",
       "    <tr>\n",
       "      <th>16712</th>\n",
       "      <td>Haitaka no Psychedelica</td>\n",
       "      <td>PSV</td>\n",
       "      <td>2016.0</td>\n",
       "      <td>Adventure</td>\n",
       "      <td>0.00</td>\n",
       "      <td>0.00</td>\n",
       "      <td>0.01</td>\n",
       "      <td>0.00</td>\n",
       "      <td>NaN</td>\n",
       "      <td>NaN</td>\n",
       "      <td>NaN</td>\n",
       "    </tr>\n",
       "    <tr>\n",
       "      <th>16713</th>\n",
       "      <td>Spirits &amp; Spells</td>\n",
       "      <td>GBA</td>\n",
       "      <td>2003.0</td>\n",
       "      <td>Platform</td>\n",
       "      <td>0.01</td>\n",
       "      <td>0.00</td>\n",
       "      <td>0.00</td>\n",
       "      <td>0.00</td>\n",
       "      <td>NaN</td>\n",
       "      <td>NaN</td>\n",
       "      <td>NaN</td>\n",
       "    </tr>\n",
       "    <tr>\n",
       "      <th>16714</th>\n",
       "      <td>Winning Post 8 2016</td>\n",
       "      <td>PSV</td>\n",
       "      <td>2016.0</td>\n",
       "      <td>Simulation</td>\n",
       "      <td>0.00</td>\n",
       "      <td>0.00</td>\n",
       "      <td>0.01</td>\n",
       "      <td>0.00</td>\n",
       "      <td>NaN</td>\n",
       "      <td>NaN</td>\n",
       "      <td>NaN</td>\n",
       "    </tr>\n",
       "  </tbody>\n",
       "</table>\n",
       "<p>8461 rows × 11 columns</p>\n",
       "</div>"
      ],
      "text/plain": [
       "                                name platform  year_of_release         genre  \\\n",
       "1                  Super Mario Bros.      NES           1985.0      Platform   \n",
       "4           Pokemon Red/Pokemon Blue       GB           1996.0  Role-Playing   \n",
       "5                             Tetris       GB           1989.0        Puzzle   \n",
       "9                          Duck Hunt      NES           1984.0       Shooter   \n",
       "10                        Nintendogs       DS           2005.0    Simulation   \n",
       "...                              ...      ...              ...           ...   \n",
       "16710  Samurai Warriors: Sanada Maru      PS3           2016.0        Action   \n",
       "16711               LMA Manager 2007     X360           2006.0        Sports   \n",
       "16712        Haitaka no Psychedelica      PSV           2016.0     Adventure   \n",
       "16713               Spirits & Spells      GBA           2003.0      Platform   \n",
       "16714            Winning Post 8 2016      PSV           2016.0    Simulation   \n",
       "\n",
       "       na_sales  eu_sales  jp_sales  other_sales  critic_score user_score  \\\n",
       "1         29.08      3.58      6.81         0.77           NaN        NaN   \n",
       "4         11.27      8.89     10.22         1.00           NaN        NaN   \n",
       "5         23.20      2.26      4.22         0.58           NaN        NaN   \n",
       "9         26.93      0.63      0.28         0.47           NaN        NaN   \n",
       "10         9.05     10.95      1.93         2.74           NaN        NaN   \n",
       "...         ...       ...       ...          ...           ...        ...   \n",
       "16710      0.00      0.00      0.01         0.00           NaN        NaN   \n",
       "16711      0.00      0.01      0.00         0.00           NaN        NaN   \n",
       "16712      0.00      0.00      0.01         0.00           NaN        NaN   \n",
       "16713      0.01      0.00      0.00         0.00           NaN        NaN   \n",
       "16714      0.00      0.00      0.01         0.00           NaN        NaN   \n",
       "\n",
       "      rating  \n",
       "1        NaN  \n",
       "4        NaN  \n",
       "5        NaN  \n",
       "9        NaN  \n",
       "10       NaN  \n",
       "...      ...  \n",
       "16710    NaN  \n",
       "16711    NaN  \n",
       "16712    NaN  \n",
       "16713    NaN  \n",
       "16714    NaN  \n",
       "\n",
       "[8461 rows x 11 columns]"
      ]
     },
     "execution_count": 10,
     "metadata": {},
     "output_type": "execute_result"
    }
   ],
   "source": [
    "# посмотрим на пропуски в столбце оценок критиков\n",
    "games.query('critic_score.isna()')"
   ]
  },
  {
   "cell_type": "markdown",
   "id": "c293f5c8",
   "metadata": {},
   "source": [
    "Строк с отсутствующими оценками критиков много, 8461 строка, около половины всех данных. Посмотрим на группировку отсутствия оценок по годам, исходя из предположения, что нет оценок у старых игр."
   ]
  },
  {
   "cell_type": "code",
   "execution_count": 11,
   "id": "f55b20e0",
   "metadata": {},
   "outputs": [
    {
     "data": {
      "text/plain": [
       "year_of_release\n",
       "1980.0      9\n",
       "1981.0     46\n",
       "1982.0     36\n",
       "1983.0     17\n",
       "1984.0     14\n",
       "1985.0     13\n",
       "1986.0     21\n",
       "1987.0     16\n",
       "1988.0     14\n",
       "1989.0     17\n",
       "1990.0     16\n",
       "1991.0     41\n",
       "1992.0     42\n",
       "1993.0     60\n",
       "1994.0    120\n",
       "1995.0    219\n",
       "1996.0    255\n",
       "1997.0    272\n",
       "1998.0    351\n",
       "1999.0    299\n",
       "2000.0    207\n",
       "2001.0    156\n",
       "2002.0    202\n",
       "2003.0    190\n",
       "2004.0    201\n",
       "2005.0    284\n",
       "2006.0    386\n",
       "2007.0    505\n",
       "2008.0    712\n",
       "2009.0    775\n",
       "2010.0    755\n",
       "2011.0    636\n",
       "2012.0    332\n",
       "2013.0    271\n",
       "2014.0    320\n",
       "2015.0    381\n",
       "2016.0    270\n",
       "Name: na_sales, dtype: int64"
      ]
     },
     "execution_count": 11,
     "metadata": {},
     "output_type": "execute_result"
    }
   ],
   "source": [
    "# выведем список игр без оценок критиков, сгруппированный по годам выпуска\n",
    "games.query('critic_score.isna()').groupby('year_of_release')['na_sales'].count()"
   ]
  },
  {
   "cell_type": "markdown",
   "id": "21601539",
   "metadata": {},
   "source": [
    "Отсутвтвующих данных много за года, предшествующие исследованию, значит их отсутствие может оказать существенное влияние на выводы. Посмотрим, можно ли с этим что то сделать."
   ]
  },
  {
   "cell_type": "code",
   "execution_count": 12,
   "id": "e4db53e5",
   "metadata": {},
   "outputs": [
    {
     "data": {
      "text/html": [
       "<div>\n",
       "<style scoped>\n",
       "    .dataframe tbody tr th:only-of-type {\n",
       "        vertical-align: middle;\n",
       "    }\n",
       "\n",
       "    .dataframe tbody tr th {\n",
       "        vertical-align: top;\n",
       "    }\n",
       "\n",
       "    .dataframe thead th {\n",
       "        text-align: right;\n",
       "    }\n",
       "</style>\n",
       "<table border=\"1\" class=\"dataframe\">\n",
       "  <thead>\n",
       "    <tr style=\"text-align: right;\">\n",
       "      <th></th>\n",
       "      <th>name</th>\n",
       "      <th>platform</th>\n",
       "      <th>year_of_release</th>\n",
       "      <th>genre</th>\n",
       "      <th>na_sales</th>\n",
       "      <th>eu_sales</th>\n",
       "      <th>jp_sales</th>\n",
       "      <th>other_sales</th>\n",
       "      <th>critic_score</th>\n",
       "      <th>user_score</th>\n",
       "      <th>rating</th>\n",
       "    </tr>\n",
       "  </thead>\n",
       "  <tbody>\n",
       "    <tr>\n",
       "      <th>1785</th>\n",
       "      <td>007: Quantum of Solace</td>\n",
       "      <td>PS3</td>\n",
       "      <td>2008.0</td>\n",
       "      <td>Action</td>\n",
       "      <td>0.43</td>\n",
       "      <td>0.51</td>\n",
       "      <td>0.02</td>\n",
       "      <td>0.19</td>\n",
       "      <td>65.0</td>\n",
       "      <td>6.6</td>\n",
       "      <td>T</td>\n",
       "    </tr>\n",
       "    <tr>\n",
       "      <th>1285</th>\n",
       "      <td>007: Quantum of Solace</td>\n",
       "      <td>X360</td>\n",
       "      <td>2008.0</td>\n",
       "      <td>Action</td>\n",
       "      <td>0.82</td>\n",
       "      <td>0.51</td>\n",
       "      <td>0.01</td>\n",
       "      <td>0.14</td>\n",
       "      <td>65.0</td>\n",
       "      <td>7.1</td>\n",
       "      <td>T</td>\n",
       "    </tr>\n",
       "    <tr>\n",
       "      <th>14658</th>\n",
       "      <td>007: Quantum of Solace</td>\n",
       "      <td>PC</td>\n",
       "      <td>2008.0</td>\n",
       "      <td>Action</td>\n",
       "      <td>0.01</td>\n",
       "      <td>0.01</td>\n",
       "      <td>0.00</td>\n",
       "      <td>0.00</td>\n",
       "      <td>70.0</td>\n",
       "      <td>6.3</td>\n",
       "      <td>T</td>\n",
       "    </tr>\n",
       "    <tr>\n",
       "      <th>3120</th>\n",
       "      <td>007: Quantum of Solace</td>\n",
       "      <td>Wii</td>\n",
       "      <td>2008.0</td>\n",
       "      <td>Action</td>\n",
       "      <td>0.29</td>\n",
       "      <td>0.28</td>\n",
       "      <td>0.01</td>\n",
       "      <td>0.07</td>\n",
       "      <td>54.0</td>\n",
       "      <td>7.5</td>\n",
       "      <td>T</td>\n",
       "    </tr>\n",
       "    <tr>\n",
       "      <th>4475</th>\n",
       "      <td>007: Quantum of Solace</td>\n",
       "      <td>PS2</td>\n",
       "      <td>2008.0</td>\n",
       "      <td>Action</td>\n",
       "      <td>0.17</td>\n",
       "      <td>0.00</td>\n",
       "      <td>0.00</td>\n",
       "      <td>0.26</td>\n",
       "      <td>NaN</td>\n",
       "      <td>NaN</td>\n",
       "      <td>NaN</td>\n",
       "    </tr>\n",
       "    <tr>\n",
       "      <th>9507</th>\n",
       "      <td>007: Quantum of Solace</td>\n",
       "      <td>DS</td>\n",
       "      <td>2008.0</td>\n",
       "      <td>Action</td>\n",
       "      <td>0.11</td>\n",
       "      <td>0.01</td>\n",
       "      <td>0.00</td>\n",
       "      <td>0.01</td>\n",
       "      <td>65.0</td>\n",
       "      <td>tbd</td>\n",
       "      <td>T</td>\n",
       "    </tr>\n",
       "    <tr>\n",
       "      <th>11273</th>\n",
       "      <td>1 vs. 100</td>\n",
       "      <td>DS</td>\n",
       "      <td>2008.0</td>\n",
       "      <td>Misc</td>\n",
       "      <td>0.08</td>\n",
       "      <td>0.00</td>\n",
       "      <td>0.00</td>\n",
       "      <td>0.01</td>\n",
       "      <td>38.0</td>\n",
       "      <td>3.2</td>\n",
       "      <td>E</td>\n",
       "    </tr>\n",
       "    <tr>\n",
       "      <th>3054</th>\n",
       "      <td>100 Classic Books</td>\n",
       "      <td>DS</td>\n",
       "      <td>2008.0</td>\n",
       "      <td>Misc</td>\n",
       "      <td>0.12</td>\n",
       "      <td>0.52</td>\n",
       "      <td>0.00</td>\n",
       "      <td>0.02</td>\n",
       "      <td>70.0</td>\n",
       "      <td>6</td>\n",
       "      <td>NaN</td>\n",
       "    </tr>\n",
       "    <tr>\n",
       "      <th>7783</th>\n",
       "      <td>101-in-1 Explosive Megamix</td>\n",
       "      <td>DS</td>\n",
       "      <td>2008.0</td>\n",
       "      <td>Puzzle</td>\n",
       "      <td>0.05</td>\n",
       "      <td>0.12</td>\n",
       "      <td>0.00</td>\n",
       "      <td>0.02</td>\n",
       "      <td>46.0</td>\n",
       "      <td>tbd</td>\n",
       "      <td>E</td>\n",
       "    </tr>\n",
       "    <tr>\n",
       "      <th>13736</th>\n",
       "      <td>12Riven: The Psi-Climinal of Integral</td>\n",
       "      <td>PS2</td>\n",
       "      <td>2008.0</td>\n",
       "      <td>Adventure</td>\n",
       "      <td>0.00</td>\n",
       "      <td>0.00</td>\n",
       "      <td>0.04</td>\n",
       "      <td>0.00</td>\n",
       "      <td>NaN</td>\n",
       "      <td>NaN</td>\n",
       "      <td>NaN</td>\n",
       "    </tr>\n",
       "    <tr>\n",
       "      <th>9599</th>\n",
       "      <td>428: Fuusa Sareta Shibuya de</td>\n",
       "      <td>Wii</td>\n",
       "      <td>2008.0</td>\n",
       "      <td>Adventure</td>\n",
       "      <td>0.00</td>\n",
       "      <td>0.00</td>\n",
       "      <td>0.13</td>\n",
       "      <td>0.00</td>\n",
       "      <td>NaN</td>\n",
       "      <td>NaN</td>\n",
       "      <td>NaN</td>\n",
       "    </tr>\n",
       "    <tr>\n",
       "      <th>13864</th>\n",
       "      <td>99 no Namida</td>\n",
       "      <td>DS</td>\n",
       "      <td>2008.0</td>\n",
       "      <td>Adventure</td>\n",
       "      <td>0.00</td>\n",
       "      <td>0.00</td>\n",
       "      <td>0.04</td>\n",
       "      <td>0.00</td>\n",
       "      <td>NaN</td>\n",
       "      <td>NaN</td>\n",
       "      <td>NaN</td>\n",
       "    </tr>\n",
       "    <tr>\n",
       "      <th>15978</th>\n",
       "      <td>A Vampyre Story</td>\n",
       "      <td>PC</td>\n",
       "      <td>2008.0</td>\n",
       "      <td>Adventure</td>\n",
       "      <td>0.00</td>\n",
       "      <td>0.01</td>\n",
       "      <td>0.00</td>\n",
       "      <td>0.00</td>\n",
       "      <td>75.0</td>\n",
       "      <td>8.5</td>\n",
       "      <td>T</td>\n",
       "    </tr>\n",
       "    <tr>\n",
       "      <th>8688</th>\n",
       "      <td>AC/DC LIVE: Rock Band Track Pack</td>\n",
       "      <td>PS2</td>\n",
       "      <td>2008.0</td>\n",
       "      <td>Misc</td>\n",
       "      <td>0.08</td>\n",
       "      <td>0.06</td>\n",
       "      <td>0.00</td>\n",
       "      <td>0.02</td>\n",
       "      <td>NaN</td>\n",
       "      <td>tbd</td>\n",
       "      <td>T</td>\n",
       "    </tr>\n",
       "    <tr>\n",
       "      <th>6402</th>\n",
       "      <td>AC/DC LIVE: Rock Band Track Pack</td>\n",
       "      <td>Wii</td>\n",
       "      <td>2008.0</td>\n",
       "      <td>Misc</td>\n",
       "      <td>0.24</td>\n",
       "      <td>0.00</td>\n",
       "      <td>0.00</td>\n",
       "      <td>0.02</td>\n",
       "      <td>NaN</td>\n",
       "      <td>7.2</td>\n",
       "      <td>T</td>\n",
       "    </tr>\n",
       "    <tr>\n",
       "      <th>6834</th>\n",
       "      <td>AC/DC LIVE: Rock Band Track Pack</td>\n",
       "      <td>PS3</td>\n",
       "      <td>2008.0</td>\n",
       "      <td>Misc</td>\n",
       "      <td>0.21</td>\n",
       "      <td>0.01</td>\n",
       "      <td>0.00</td>\n",
       "      <td>0.02</td>\n",
       "      <td>60.0</td>\n",
       "      <td>5.3</td>\n",
       "      <td>T</td>\n",
       "    </tr>\n",
       "    <tr>\n",
       "      <th>7099</th>\n",
       "      <td>AC/DC LIVE: Rock Band Track Pack</td>\n",
       "      <td>X360</td>\n",
       "      <td>2008.0</td>\n",
       "      <td>Misc</td>\n",
       "      <td>0.21</td>\n",
       "      <td>0.00</td>\n",
       "      <td>0.00</td>\n",
       "      <td>0.02</td>\n",
       "      <td>63.0</td>\n",
       "      <td>4.9</td>\n",
       "      <td>T</td>\n",
       "    </tr>\n",
       "    <tr>\n",
       "      <th>12058</th>\n",
       "      <td>AMF Bowling Pinbusters!</td>\n",
       "      <td>DS</td>\n",
       "      <td>2008.0</td>\n",
       "      <td>Sports</td>\n",
       "      <td>0.06</td>\n",
       "      <td>0.00</td>\n",
       "      <td>0.00</td>\n",
       "      <td>0.00</td>\n",
       "      <td>NaN</td>\n",
       "      <td>NaN</td>\n",
       "      <td>NaN</td>\n",
       "    </tr>\n",
       "    <tr>\n",
       "      <th>5272</th>\n",
       "      <td>AMF Bowling World Lanes</td>\n",
       "      <td>Wii</td>\n",
       "      <td>2008.0</td>\n",
       "      <td>Sports</td>\n",
       "      <td>0.33</td>\n",
       "      <td>0.00</td>\n",
       "      <td>0.00</td>\n",
       "      <td>0.03</td>\n",
       "      <td>NaN</td>\n",
       "      <td>1.1</td>\n",
       "      <td>E</td>\n",
       "    </tr>\n",
       "    <tr>\n",
       "      <th>1214</th>\n",
       "      <td>Active Life: Outdoor Challenge</td>\n",
       "      <td>Wii</td>\n",
       "      <td>2008.0</td>\n",
       "      <td>Sports</td>\n",
       "      <td>0.78</td>\n",
       "      <td>0.43</td>\n",
       "      <td>0.19</td>\n",
       "      <td>0.14</td>\n",
       "      <td>69.0</td>\n",
       "      <td>8.1</td>\n",
       "      <td>E</td>\n",
       "    </tr>\n",
       "    <tr>\n",
       "      <th>9390</th>\n",
       "      <td>Adventures to Go!</td>\n",
       "      <td>PSP</td>\n",
       "      <td>2008.0</td>\n",
       "      <td>Role-Playing</td>\n",
       "      <td>0.11</td>\n",
       "      <td>0.00</td>\n",
       "      <td>0.01</td>\n",
       "      <td>0.02</td>\n",
       "      <td>NaN</td>\n",
       "      <td>NaN</td>\n",
       "      <td>NaN</td>\n",
       "    </tr>\n",
       "    <tr>\n",
       "      <th>7286</th>\n",
       "      <td>Afrika</td>\n",
       "      <td>PS3</td>\n",
       "      <td>2008.0</td>\n",
       "      <td>Adventure</td>\n",
       "      <td>0.12</td>\n",
       "      <td>0.00</td>\n",
       "      <td>0.08</td>\n",
       "      <td>0.01</td>\n",
       "      <td>63.0</td>\n",
       "      <td>6.2</td>\n",
       "      <td>E10+</td>\n",
       "    </tr>\n",
       "    <tr>\n",
       "      <th>11787</th>\n",
       "      <td>Agatha Christie: And Then There Were None</td>\n",
       "      <td>Wii</td>\n",
       "      <td>2008.0</td>\n",
       "      <td>Adventure</td>\n",
       "      <td>0.06</td>\n",
       "      <td>0.01</td>\n",
       "      <td>0.00</td>\n",
       "      <td>0.01</td>\n",
       "      <td>50.0</td>\n",
       "      <td>6.2</td>\n",
       "      <td>T</td>\n",
       "    </tr>\n",
       "    <tr>\n",
       "      <th>15772</th>\n",
       "      <td>Agatha Christie: Death on the Nile</td>\n",
       "      <td>PC</td>\n",
       "      <td>2008.0</td>\n",
       "      <td>Adventure</td>\n",
       "      <td>0.00</td>\n",
       "      <td>0.01</td>\n",
       "      <td>0.00</td>\n",
       "      <td>0.00</td>\n",
       "      <td>NaN</td>\n",
       "      <td>tbd</td>\n",
       "      <td>T</td>\n",
       "    </tr>\n",
       "    <tr>\n",
       "      <th>11399</th>\n",
       "      <td>Agatha Christie: Evil Under the Sun</td>\n",
       "      <td>Wii</td>\n",
       "      <td>2008.0</td>\n",
       "      <td>Adventure</td>\n",
       "      <td>0.06</td>\n",
       "      <td>0.01</td>\n",
       "      <td>0.00</td>\n",
       "      <td>0.01</td>\n",
       "      <td>46.0</td>\n",
       "      <td>7.3</td>\n",
       "      <td>T</td>\n",
       "    </tr>\n",
       "    <tr>\n",
       "      <th>7411</th>\n",
       "      <td>Age of Empires: Mythologies</td>\n",
       "      <td>DS</td>\n",
       "      <td>2008.0</td>\n",
       "      <td>Strategy</td>\n",
       "      <td>0.16</td>\n",
       "      <td>0.03</td>\n",
       "      <td>0.00</td>\n",
       "      <td>0.02</td>\n",
       "      <td>78.0</td>\n",
       "      <td>6.9</td>\n",
       "      <td>E10+</td>\n",
       "    </tr>\n",
       "    <tr>\n",
       "      <th>12331</th>\n",
       "      <td>Akagawa Jirou Mystery: Yasoukyoku - Hon ni Man...</td>\n",
       "      <td>DS</td>\n",
       "      <td>2008.0</td>\n",
       "      <td>Adventure</td>\n",
       "      <td>0.00</td>\n",
       "      <td>0.00</td>\n",
       "      <td>0.06</td>\n",
       "      <td>0.00</td>\n",
       "      <td>NaN</td>\n",
       "      <td>NaN</td>\n",
       "      <td>NaN</td>\n",
       "    </tr>\n",
       "    <tr>\n",
       "      <th>15281</th>\n",
       "      <td>Akai Ito DS</td>\n",
       "      <td>DS</td>\n",
       "      <td>2008.0</td>\n",
       "      <td>Adventure</td>\n",
       "      <td>0.00</td>\n",
       "      <td>0.00</td>\n",
       "      <td>0.02</td>\n",
       "      <td>0.00</td>\n",
       "      <td>NaN</td>\n",
       "      <td>NaN</td>\n",
       "      <td>NaN</td>\n",
       "    </tr>\n",
       "    <tr>\n",
       "      <th>14779</th>\n",
       "      <td>Akane Iro ni Somaru Saka Parallel</td>\n",
       "      <td>PS2</td>\n",
       "      <td>2008.0</td>\n",
       "      <td>Adventure</td>\n",
       "      <td>0.00</td>\n",
       "      <td>0.00</td>\n",
       "      <td>0.03</td>\n",
       "      <td>0.00</td>\n",
       "      <td>NaN</td>\n",
       "      <td>NaN</td>\n",
       "      <td>NaN</td>\n",
       "    </tr>\n",
       "    <tr>\n",
       "      <th>6120</th>\n",
       "      <td>All Star Cheer Squad</td>\n",
       "      <td>DS</td>\n",
       "      <td>2008.0</td>\n",
       "      <td>Sports</td>\n",
       "      <td>0.26</td>\n",
       "      <td>0.00</td>\n",
       "      <td>0.00</td>\n",
       "      <td>0.02</td>\n",
       "      <td>NaN</td>\n",
       "      <td>tbd</td>\n",
       "      <td>E</td>\n",
       "    </tr>\n",
       "  </tbody>\n",
       "</table>\n",
       "</div>"
      ],
      "text/plain": [
       "                                                    name platform  \\\n",
       "1785                              007: Quantum of Solace      PS3   \n",
       "1285                              007: Quantum of Solace     X360   \n",
       "14658                             007: Quantum of Solace       PC   \n",
       "3120                              007: Quantum of Solace      Wii   \n",
       "4475                              007: Quantum of Solace      PS2   \n",
       "9507                              007: Quantum of Solace       DS   \n",
       "11273                                          1 vs. 100       DS   \n",
       "3054                                   100 Classic Books       DS   \n",
       "7783                          101-in-1 Explosive Megamix       DS   \n",
       "13736              12Riven: The Psi-Climinal of Integral      PS2   \n",
       "9599                        428: Fuusa Sareta Shibuya de      Wii   \n",
       "13864                                       99 no Namida       DS   \n",
       "15978                                    A Vampyre Story       PC   \n",
       "8688                    AC/DC LIVE: Rock Band Track Pack      PS2   \n",
       "6402                    AC/DC LIVE: Rock Band Track Pack      Wii   \n",
       "6834                    AC/DC LIVE: Rock Band Track Pack      PS3   \n",
       "7099                    AC/DC LIVE: Rock Band Track Pack     X360   \n",
       "12058                            AMF Bowling Pinbusters!       DS   \n",
       "5272                             AMF Bowling World Lanes      Wii   \n",
       "1214                      Active Life: Outdoor Challenge      Wii   \n",
       "9390                                   Adventures to Go!      PSP   \n",
       "7286                                              Afrika      PS3   \n",
       "11787          Agatha Christie: And Then There Were None      Wii   \n",
       "15772                 Agatha Christie: Death on the Nile       PC   \n",
       "11399                Agatha Christie: Evil Under the Sun      Wii   \n",
       "7411                         Age of Empires: Mythologies       DS   \n",
       "12331  Akagawa Jirou Mystery: Yasoukyoku - Hon ni Man...       DS   \n",
       "15281                                        Akai Ito DS       DS   \n",
       "14779                  Akane Iro ni Somaru Saka Parallel      PS2   \n",
       "6120                                All Star Cheer Squad       DS   \n",
       "\n",
       "       year_of_release         genre  na_sales  eu_sales  jp_sales  \\\n",
       "1785            2008.0        Action      0.43      0.51      0.02   \n",
       "1285            2008.0        Action      0.82      0.51      0.01   \n",
       "14658           2008.0        Action      0.01      0.01      0.00   \n",
       "3120            2008.0        Action      0.29      0.28      0.01   \n",
       "4475            2008.0        Action      0.17      0.00      0.00   \n",
       "9507            2008.0        Action      0.11      0.01      0.00   \n",
       "11273           2008.0          Misc      0.08      0.00      0.00   \n",
       "3054            2008.0          Misc      0.12      0.52      0.00   \n",
       "7783            2008.0        Puzzle      0.05      0.12      0.00   \n",
       "13736           2008.0     Adventure      0.00      0.00      0.04   \n",
       "9599            2008.0     Adventure      0.00      0.00      0.13   \n",
       "13864           2008.0     Adventure      0.00      0.00      0.04   \n",
       "15978           2008.0     Adventure      0.00      0.01      0.00   \n",
       "8688            2008.0          Misc      0.08      0.06      0.00   \n",
       "6402            2008.0          Misc      0.24      0.00      0.00   \n",
       "6834            2008.0          Misc      0.21      0.01      0.00   \n",
       "7099            2008.0          Misc      0.21      0.00      0.00   \n",
       "12058           2008.0        Sports      0.06      0.00      0.00   \n",
       "5272            2008.0        Sports      0.33      0.00      0.00   \n",
       "1214            2008.0        Sports      0.78      0.43      0.19   \n",
       "9390            2008.0  Role-Playing      0.11      0.00      0.01   \n",
       "7286            2008.0     Adventure      0.12      0.00      0.08   \n",
       "11787           2008.0     Adventure      0.06      0.01      0.00   \n",
       "15772           2008.0     Adventure      0.00      0.01      0.00   \n",
       "11399           2008.0     Adventure      0.06      0.01      0.00   \n",
       "7411            2008.0      Strategy      0.16      0.03      0.00   \n",
       "12331           2008.0     Adventure      0.00      0.00      0.06   \n",
       "15281           2008.0     Adventure      0.00      0.00      0.02   \n",
       "14779           2008.0     Adventure      0.00      0.00      0.03   \n",
       "6120            2008.0        Sports      0.26      0.00      0.00   \n",
       "\n",
       "       other_sales  critic_score user_score rating  \n",
       "1785          0.19          65.0        6.6      T  \n",
       "1285          0.14          65.0        7.1      T  \n",
       "14658         0.00          70.0        6.3      T  \n",
       "3120          0.07          54.0        7.5      T  \n",
       "4475          0.26           NaN        NaN    NaN  \n",
       "9507          0.01          65.0        tbd      T  \n",
       "11273         0.01          38.0        3.2      E  \n",
       "3054          0.02          70.0          6    NaN  \n",
       "7783          0.02          46.0        tbd      E  \n",
       "13736         0.00           NaN        NaN    NaN  \n",
       "9599          0.00           NaN        NaN    NaN  \n",
       "13864         0.00           NaN        NaN    NaN  \n",
       "15978         0.00          75.0        8.5      T  \n",
       "8688          0.02           NaN        tbd      T  \n",
       "6402          0.02           NaN        7.2      T  \n",
       "6834          0.02          60.0        5.3      T  \n",
       "7099          0.02          63.0        4.9      T  \n",
       "12058         0.00           NaN        NaN    NaN  \n",
       "5272          0.03           NaN        1.1      E  \n",
       "1214          0.14          69.0        8.1      E  \n",
       "9390          0.02           NaN        NaN    NaN  \n",
       "7286          0.01          63.0        6.2   E10+  \n",
       "11787         0.01          50.0        6.2      T  \n",
       "15772         0.00           NaN        tbd      T  \n",
       "11399         0.01          46.0        7.3      T  \n",
       "7411          0.02          78.0        6.9   E10+  \n",
       "12331         0.00           NaN        NaN    NaN  \n",
       "15281         0.00           NaN        NaN    NaN  \n",
       "14779         0.00           NaN        NaN    NaN  \n",
       "6120          0.02           NaN        tbd      E  "
      ]
     },
     "execution_count": 12,
     "metadata": {},
     "output_type": "execute_result"
    }
   ],
   "source": [
    "# попробуем посмотреть на игры с одним наименованием и их оценки\n",
    "# для понимания, можем ли мы заполнить пропуски оценками с других платформ\n",
    "games.query('year_of_release == 2008').sort_values(by = 'name').head(30)"
   ]
  },
  {
   "cell_type": "markdown",
   "id": "31abebba",
   "metadata": {},
   "source": [
    "Игры \"007: Quantum of Solace\" и \"AC/DC LIVE: Rock Band Track Pack\" в 2008 году, другие игры в выпущенные в другие периоды показывают, что у одной и той же игры на разных платформах могут быть разные оценки критиков и пользователей, а это означает, что нельзя заполнять пропуски оценками с другой платформы.\n",
    "\n",
    "Бросается в глаза, что оценки отсутствуют у игр с небольшими продажами. "
   ]
  },
  {
   "cell_type": "code",
   "execution_count": 13,
   "id": "773d8d64",
   "metadata": {
    "scrolled": true
   },
   "outputs": [
    {
     "data": {
      "text/plain": [
       "<AxesSubplot:>"
      ]
     },
     "execution_count": 13,
     "metadata": {},
     "output_type": "execute_result"
    },
    {
     "data": {
      "image/png": "[encoded data removed]",
      "text/plain": [
       "<Figure size 432x288 with 1 Axes>"
      ]
     },
     "metadata": {
      "needs_background": "light"
     },
     "output_type": "display_data"
    }
   ],
   "source": [
    "# посмотрим в какие года выпускали игры, у которых нет рейтинга\n",
    "games.query('critic_score.isna()')['year_of_release'].hist(bins = 25)"
   ]
  },
  {
   "cell_type": "code",
   "execution_count": 14,
   "id": "69bee0a2",
   "metadata": {
    "scrolled": true
   },
   "outputs": [
    {
     "data": {
      "text/html": [
       "<div>\n",
       "<style scoped>\n",
       "    .dataframe tbody tr th:only-of-type {\n",
       "        vertical-align: middle;\n",
       "    }\n",
       "\n",
       "    .dataframe tbody tr th {\n",
       "        vertical-align: top;\n",
       "    }\n",
       "\n",
       "    .dataframe thead th {\n",
       "        text-align: right;\n",
       "    }\n",
       "</style>\n",
       "<table border=\"1\" class=\"dataframe\">\n",
       "  <thead>\n",
       "    <tr style=\"text-align: right;\">\n",
       "      <th></th>\n",
       "      <th>name</th>\n",
       "      <th>platform</th>\n",
       "      <th>year_of_release</th>\n",
       "      <th>genre</th>\n",
       "      <th>na_sales</th>\n",
       "      <th>eu_sales</th>\n",
       "      <th>jp_sales</th>\n",
       "      <th>other_sales</th>\n",
       "      <th>critic_score</th>\n",
       "      <th>user_score</th>\n",
       "      <th>rating</th>\n",
       "      <th>total_sales</th>\n",
       "    </tr>\n",
       "  </thead>\n",
       "  <tbody>\n",
       "    <tr>\n",
       "      <th>1</th>\n",
       "      <td>Super Mario Bros.</td>\n",
       "      <td>NES</td>\n",
       "      <td>1985.0</td>\n",
       "      <td>Platform</td>\n",
       "      <td>29.08</td>\n",
       "      <td>3.58</td>\n",
       "      <td>6.81</td>\n",
       "      <td>0.77</td>\n",
       "      <td>NaN</td>\n",
       "      <td>NaN</td>\n",
       "      <td>NaN</td>\n",
       "      <td>40.24</td>\n",
       "    </tr>\n",
       "    <tr>\n",
       "      <th>4</th>\n",
       "      <td>Pokemon Red/Pokemon Blue</td>\n",
       "      <td>GB</td>\n",
       "      <td>1996.0</td>\n",
       "      <td>Role-Playing</td>\n",
       "      <td>11.27</td>\n",
       "      <td>8.89</td>\n",
       "      <td>10.22</td>\n",
       "      <td>1.00</td>\n",
       "      <td>NaN</td>\n",
       "      <td>NaN</td>\n",
       "      <td>NaN</td>\n",
       "      <td>31.38</td>\n",
       "    </tr>\n",
       "    <tr>\n",
       "      <th>5</th>\n",
       "      <td>Tetris</td>\n",
       "      <td>GB</td>\n",
       "      <td>1989.0</td>\n",
       "      <td>Puzzle</td>\n",
       "      <td>23.20</td>\n",
       "      <td>2.26</td>\n",
       "      <td>4.22</td>\n",
       "      <td>0.58</td>\n",
       "      <td>NaN</td>\n",
       "      <td>NaN</td>\n",
       "      <td>NaN</td>\n",
       "      <td>30.26</td>\n",
       "    </tr>\n",
       "    <tr>\n",
       "      <th>9</th>\n",
       "      <td>Duck Hunt</td>\n",
       "      <td>NES</td>\n",
       "      <td>1984.0</td>\n",
       "      <td>Shooter</td>\n",
       "      <td>26.93</td>\n",
       "      <td>0.63</td>\n",
       "      <td>0.28</td>\n",
       "      <td>0.47</td>\n",
       "      <td>NaN</td>\n",
       "      <td>NaN</td>\n",
       "      <td>NaN</td>\n",
       "      <td>28.31</td>\n",
       "    </tr>\n",
       "    <tr>\n",
       "      <th>10</th>\n",
       "      <td>Nintendogs</td>\n",
       "      <td>DS</td>\n",
       "      <td>2005.0</td>\n",
       "      <td>Simulation</td>\n",
       "      <td>9.05</td>\n",
       "      <td>10.95</td>\n",
       "      <td>1.93</td>\n",
       "      <td>2.74</td>\n",
       "      <td>NaN</td>\n",
       "      <td>NaN</td>\n",
       "      <td>NaN</td>\n",
       "      <td>24.67</td>\n",
       "    </tr>\n",
       "    <tr>\n",
       "      <th>12</th>\n",
       "      <td>Pokemon Gold/Pokemon Silver</td>\n",
       "      <td>GB</td>\n",
       "      <td>1999.0</td>\n",
       "      <td>Role-Playing</td>\n",
       "      <td>9.00</td>\n",
       "      <td>6.18</td>\n",
       "      <td>7.20</td>\n",
       "      <td>0.71</td>\n",
       "      <td>NaN</td>\n",
       "      <td>NaN</td>\n",
       "      <td>NaN</td>\n",
       "      <td>23.09</td>\n",
       "    </tr>\n",
       "    <tr>\n",
       "      <th>18</th>\n",
       "      <td>Super Mario World</td>\n",
       "      <td>SNES</td>\n",
       "      <td>1990.0</td>\n",
       "      <td>Platform</td>\n",
       "      <td>12.78</td>\n",
       "      <td>3.75</td>\n",
       "      <td>3.54</td>\n",
       "      <td>0.55</td>\n",
       "      <td>NaN</td>\n",
       "      <td>NaN</td>\n",
       "      <td>NaN</td>\n",
       "      <td>20.62</td>\n",
       "    </tr>\n",
       "    <tr>\n",
       "      <th>20</th>\n",
       "      <td>Pokemon Diamond/Pokemon Pearl</td>\n",
       "      <td>DS</td>\n",
       "      <td>2006.0</td>\n",
       "      <td>Role-Playing</td>\n",
       "      <td>6.38</td>\n",
       "      <td>4.46</td>\n",
       "      <td>6.04</td>\n",
       "      <td>1.36</td>\n",
       "      <td>NaN</td>\n",
       "      <td>NaN</td>\n",
       "      <td>NaN</td>\n",
       "      <td>18.24</td>\n",
       "    </tr>\n",
       "    <tr>\n",
       "      <th>21</th>\n",
       "      <td>Super Mario Land</td>\n",
       "      <td>GB</td>\n",
       "      <td>1989.0</td>\n",
       "      <td>Platform</td>\n",
       "      <td>10.83</td>\n",
       "      <td>2.71</td>\n",
       "      <td>4.18</td>\n",
       "      <td>0.42</td>\n",
       "      <td>NaN</td>\n",
       "      <td>NaN</td>\n",
       "      <td>NaN</td>\n",
       "      <td>18.14</td>\n",
       "    </tr>\n",
       "    <tr>\n",
       "      <th>22</th>\n",
       "      <td>Super Mario Bros. 3</td>\n",
       "      <td>NES</td>\n",
       "      <td>1988.0</td>\n",
       "      <td>Platform</td>\n",
       "      <td>9.54</td>\n",
       "      <td>3.44</td>\n",
       "      <td>3.84</td>\n",
       "      <td>0.46</td>\n",
       "      <td>NaN</td>\n",
       "      <td>NaN</td>\n",
       "      <td>NaN</td>\n",
       "      <td>17.28</td>\n",
       "    </tr>\n",
       "    <tr>\n",
       "      <th>25</th>\n",
       "      <td>Pokemon Ruby/Pokemon Sapphire</td>\n",
       "      <td>GBA</td>\n",
       "      <td>2002.0</td>\n",
       "      <td>Role-Playing</td>\n",
       "      <td>6.06</td>\n",
       "      <td>3.90</td>\n",
       "      <td>5.38</td>\n",
       "      <td>0.50</td>\n",
       "      <td>NaN</td>\n",
       "      <td>NaN</td>\n",
       "      <td>NaN</td>\n",
       "      <td>15.84</td>\n",
       "    </tr>\n",
       "    <tr>\n",
       "      <th>27</th>\n",
       "      <td>Pokemon Black/Pokemon White</td>\n",
       "      <td>DS</td>\n",
       "      <td>2010.0</td>\n",
       "      <td>Role-Playing</td>\n",
       "      <td>5.51</td>\n",
       "      <td>3.17</td>\n",
       "      <td>5.65</td>\n",
       "      <td>0.80</td>\n",
       "      <td>NaN</td>\n",
       "      <td>NaN</td>\n",
       "      <td>NaN</td>\n",
       "      <td>15.13</td>\n",
       "    </tr>\n",
       "    <tr>\n",
       "      <th>30</th>\n",
       "      <td>Pokémon Yellow: Special Pikachu Edition</td>\n",
       "      <td>GB</td>\n",
       "      <td>1998.0</td>\n",
       "      <td>Role-Playing</td>\n",
       "      <td>5.89</td>\n",
       "      <td>5.04</td>\n",
       "      <td>3.12</td>\n",
       "      <td>0.59</td>\n",
       "      <td>NaN</td>\n",
       "      <td>NaN</td>\n",
       "      <td>NaN</td>\n",
       "      <td>14.64</td>\n",
       "    </tr>\n",
       "    <tr>\n",
       "      <th>31</th>\n",
       "      <td>Call of Duty: Black Ops 3</td>\n",
       "      <td>PS4</td>\n",
       "      <td>2015.0</td>\n",
       "      <td>Shooter</td>\n",
       "      <td>6.03</td>\n",
       "      <td>5.86</td>\n",
       "      <td>0.36</td>\n",
       "      <td>2.38</td>\n",
       "      <td>NaN</td>\n",
       "      <td>NaN</td>\n",
       "      <td>NaN</td>\n",
       "      <td>14.63</td>\n",
       "    </tr>\n",
       "    <tr>\n",
       "      <th>33</th>\n",
       "      <td>Pokemon X/Pokemon Y</td>\n",
       "      <td>3DS</td>\n",
       "      <td>2013.0</td>\n",
       "      <td>Role-Playing</td>\n",
       "      <td>5.28</td>\n",
       "      <td>4.19</td>\n",
       "      <td>4.35</td>\n",
       "      <td>0.78</td>\n",
       "      <td>NaN</td>\n",
       "      <td>NaN</td>\n",
       "      <td>NaN</td>\n",
       "      <td>14.60</td>\n",
       "    </tr>\n",
       "  </tbody>\n",
       "</table>\n",
       "</div>"
      ],
      "text/plain": [
       "                                       name platform  year_of_release  \\\n",
       "1                         Super Mario Bros.      NES           1985.0   \n",
       "4                  Pokemon Red/Pokemon Blue       GB           1996.0   \n",
       "5                                    Tetris       GB           1989.0   \n",
       "9                                 Duck Hunt      NES           1984.0   \n",
       "10                               Nintendogs       DS           2005.0   \n",
       "12              Pokemon Gold/Pokemon Silver       GB           1999.0   \n",
       "18                        Super Mario World     SNES           1990.0   \n",
       "20            Pokemon Diamond/Pokemon Pearl       DS           2006.0   \n",
       "21                         Super Mario Land       GB           1989.0   \n",
       "22                      Super Mario Bros. 3      NES           1988.0   \n",
       "25            Pokemon Ruby/Pokemon Sapphire      GBA           2002.0   \n",
       "27              Pokemon Black/Pokemon White       DS           2010.0   \n",
       "30  Pokémon Yellow: Special Pikachu Edition       GB           1998.0   \n",
       "31                Call of Duty: Black Ops 3      PS4           2015.0   \n",
       "33                      Pokemon X/Pokemon Y      3DS           2013.0   \n",
       "\n",
       "           genre  na_sales  eu_sales  jp_sales  other_sales  critic_score  \\\n",
       "1       Platform     29.08      3.58      6.81         0.77           NaN   \n",
       "4   Role-Playing     11.27      8.89     10.22         1.00           NaN   \n",
       "5         Puzzle     23.20      2.26      4.22         0.58           NaN   \n",
       "9        Shooter     26.93      0.63      0.28         0.47           NaN   \n",
       "10    Simulation      9.05     10.95      1.93         2.74           NaN   \n",
       "12  Role-Playing      9.00      6.18      7.20         0.71           NaN   \n",
       "18      Platform     12.78      3.75      3.54         0.55           NaN   \n",
       "20  Role-Playing      6.38      4.46      6.04         1.36           NaN   \n",
       "21      Platform     10.83      2.71      4.18         0.42           NaN   \n",
       "22      Platform      9.54      3.44      3.84         0.46           NaN   \n",
       "25  Role-Playing      6.06      3.90      5.38         0.50           NaN   \n",
       "27  Role-Playing      5.51      3.17      5.65         0.80           NaN   \n",
       "30  Role-Playing      5.89      5.04      3.12         0.59           NaN   \n",
       "31       Shooter      6.03      5.86      0.36         2.38           NaN   \n",
       "33  Role-Playing      5.28      4.19      4.35         0.78           NaN   \n",
       "\n",
       "   user_score rating  total_sales  \n",
       "1         NaN    NaN        40.24  \n",
       "4         NaN    NaN        31.38  \n",
       "5         NaN    NaN        30.26  \n",
       "9         NaN    NaN        28.31  \n",
       "10        NaN    NaN        24.67  \n",
       "12        NaN    NaN        23.09  \n",
       "18        NaN    NaN        20.62  \n",
       "20        NaN    NaN        18.24  \n",
       "21        NaN    NaN        18.14  \n",
       "22        NaN    NaN        17.28  \n",
       "25        NaN    NaN        15.84  \n",
       "27        NaN    NaN        15.13  \n",
       "30        NaN    NaN        14.64  \n",
       "31        NaN    NaN        14.63  \n",
       "33        NaN    NaN        14.60  "
      ]
     },
     "execution_count": 14,
     "metadata": {},
     "output_type": "execute_result"
    }
   ],
   "source": [
    "# сформируем столбец общих продаж, что бы оценить их для игр без оценок\n",
    "games['total_sales'] = games['na_sales'] + games['eu_sales'] + games['jp_sales'] + games['other_sales']\n",
    "games.query('critic_score.isna()').sort_values(by = 'total_sales', ascending = False).head(15)"
   ]
  },
  {
   "cell_type": "markdown",
   "id": "0270877c",
   "metadata": {},
   "source": [
    "Видим, что \n",
    "- игры без оценок чаще всего встречаются в данных за 2010 год и более ранние года.\n",
    "- ТОП по продажам игр без оценок - это в основном старые игры, в 15-ти самых продаваемых только одна игра 2015 года, остальные более ранние\n",
    "- Также много игр без оценок в 15-16 годах, это может объясняться тем, что по свежим играм еще не сформированы оценки\n",
    "\n",
    "Исходя из этого, а тажке предыдущего вывода о невозможности заполнить рейтинг по аналогам, на данном этапе исследования оставлю эти пропуски со значением NaN.\n",
    "\n",
    "`Причинами появления пропусков в этих столбцах могут быть:`\n",
    "- так как данные брали из открытых источников, возможно этих данных нет в открытом доступе\n",
    "- такие сайты как  Метакритик или IGN , агрегирующие оценки критиков игр появились только в начале 2000-х годов\n",
    "- для современных игр возможная причина отсутствия оценок - недостаточное количество оценок игры. Так например на Metacritic у игры должно быть не менее 15 обзоров, что бы сформировалась оценка "
   ]
  },
  {
   "cell_type": "markdown",
   "id": "ebbd4e22",
   "metadata": {},
   "source": [
    "Аналогичный вывод и действие, точнее бездействие, на мой взгляд справедливо и для столбца \"user_score\", но он в данных о таблице имел тип object, что странно."
   ]
  },
  {
   "cell_type": "code",
   "execution_count": 15,
   "id": "1af6f810",
   "metadata": {
    "scrolled": true
   },
   "outputs": [
    {
     "data": {
      "text/plain": [
       "array(['8', nan, '8.3', '8.5', '6.6', '8.4', '8.6', '7.7', '6.3', '7.4',\n",
       "       '8.2', '9', '7.9', '8.1', '8.7', '7.1', '3.4', '5.3', '4.8', '3.2',\n",
       "       '8.9', '6.4', '7.8', '7.5', '2.6', '7.2', '9.2', '7', '7.3', '4.3',\n",
       "       '7.6', '5.7', '5', '9.1', '6.5', 'tbd', '8.8', '6.9', '9.4', '6.8',\n",
       "       '6.1', '6.7', '5.4', '4', '4.9', '4.5', '9.3', '6.2', '4.2', '6',\n",
       "       '3.7', '4.1', '5.8', '5.6', '5.5', '4.4', '4.6', '5.9', '3.9',\n",
       "       '3.1', '2.9', '5.2', '3.3', '4.7', '5.1', '3.5', '2.5', '1.9', '3',\n",
       "       '2.7', '2.2', '2', '9.5', '2.1', '3.6', '2.8', '1.8', '3.8', '0',\n",
       "       '1.6', '9.6', '2.4', '1.7', '1.1', '0.3', '1.5', '0.7', '1.2',\n",
       "       '2.3', '0.5', '1.3', '0.2', '0.6', '1.4', '0.9', '1', '9.7'],\n",
       "      dtype=object)"
      ]
     },
     "execution_count": 15,
     "metadata": {},
     "output_type": "execute_result"
    }
   ],
   "source": [
    "# посмотрим какие значения есть в этом столбце\n",
    "games['user_score'].unique()"
   ]
  },
  {
   "cell_type": "markdown",
   "id": "00287b9e",
   "metadata": {},
   "source": [
    "Видим значение tbd. Посмотрим, что это за строки и сколько их."
   ]
  },
  {
   "cell_type": "code",
   "execution_count": 16,
   "id": "de3b86b9",
   "metadata": {
    "scrolled": false
   },
   "outputs": [
    {
     "data": {
      "text/html": [
       "<div>\n",
       "<style scoped>\n",
       "    .dataframe tbody tr th:only-of-type {\n",
       "        vertical-align: middle;\n",
       "    }\n",
       "\n",
       "    .dataframe tbody tr th {\n",
       "        vertical-align: top;\n",
       "    }\n",
       "\n",
       "    .dataframe thead th {\n",
       "        text-align: right;\n",
       "    }\n",
       "</style>\n",
       "<table border=\"1\" class=\"dataframe\">\n",
       "  <thead>\n",
       "    <tr style=\"text-align: right;\">\n",
       "      <th></th>\n",
       "      <th>name</th>\n",
       "      <th>platform</th>\n",
       "      <th>year_of_release</th>\n",
       "      <th>genre</th>\n",
       "      <th>na_sales</th>\n",
       "      <th>eu_sales</th>\n",
       "      <th>jp_sales</th>\n",
       "      <th>other_sales</th>\n",
       "      <th>critic_score</th>\n",
       "      <th>user_score</th>\n",
       "      <th>rating</th>\n",
       "      <th>total_sales</th>\n",
       "    </tr>\n",
       "  </thead>\n",
       "  <tbody>\n",
       "    <tr>\n",
       "      <th>119</th>\n",
       "      <td>Zumba Fitness</td>\n",
       "      <td>Wii</td>\n",
       "      <td>2010.0</td>\n",
       "      <td>Sports</td>\n",
       "      <td>3.45</td>\n",
       "      <td>2.59</td>\n",
       "      <td>0.0</td>\n",
       "      <td>0.66</td>\n",
       "      <td>NaN</td>\n",
       "      <td>tbd</td>\n",
       "      <td>E</td>\n",
       "      <td>6.70</td>\n",
       "    </tr>\n",
       "    <tr>\n",
       "      <th>301</th>\n",
       "      <td>Namco Museum: 50th Anniversary</td>\n",
       "      <td>PS2</td>\n",
       "      <td>2005.0</td>\n",
       "      <td>Misc</td>\n",
       "      <td>2.08</td>\n",
       "      <td>1.35</td>\n",
       "      <td>0.0</td>\n",
       "      <td>0.54</td>\n",
       "      <td>61.0</td>\n",
       "      <td>tbd</td>\n",
       "      <td>E10+</td>\n",
       "      <td>3.97</td>\n",
       "    </tr>\n",
       "    <tr>\n",
       "      <th>520</th>\n",
       "      <td>Zumba Fitness 2</td>\n",
       "      <td>Wii</td>\n",
       "      <td>2011.0</td>\n",
       "      <td>Sports</td>\n",
       "      <td>1.51</td>\n",
       "      <td>1.03</td>\n",
       "      <td>0.0</td>\n",
       "      <td>0.27</td>\n",
       "      <td>NaN</td>\n",
       "      <td>tbd</td>\n",
       "      <td>T</td>\n",
       "      <td>2.81</td>\n",
       "    </tr>\n",
       "    <tr>\n",
       "      <th>645</th>\n",
       "      <td>uDraw Studio</td>\n",
       "      <td>Wii</td>\n",
       "      <td>2010.0</td>\n",
       "      <td>Misc</td>\n",
       "      <td>1.65</td>\n",
       "      <td>0.57</td>\n",
       "      <td>0.0</td>\n",
       "      <td>0.20</td>\n",
       "      <td>71.0</td>\n",
       "      <td>tbd</td>\n",
       "      <td>E</td>\n",
       "      <td>2.42</td>\n",
       "    </tr>\n",
       "    <tr>\n",
       "      <th>718</th>\n",
       "      <td>Just Dance Kids</td>\n",
       "      <td>Wii</td>\n",
       "      <td>2010.0</td>\n",
       "      <td>Misc</td>\n",
       "      <td>1.52</td>\n",
       "      <td>0.54</td>\n",
       "      <td>0.0</td>\n",
       "      <td>0.18</td>\n",
       "      <td>NaN</td>\n",
       "      <td>tbd</td>\n",
       "      <td>E</td>\n",
       "      <td>2.24</td>\n",
       "    </tr>\n",
       "    <tr>\n",
       "      <th>...</th>\n",
       "      <td>...</td>\n",
       "      <td>...</td>\n",
       "      <td>...</td>\n",
       "      <td>...</td>\n",
       "      <td>...</td>\n",
       "      <td>...</td>\n",
       "      <td>...</td>\n",
       "      <td>...</td>\n",
       "      <td>...</td>\n",
       "      <td>...</td>\n",
       "      <td>...</td>\n",
       "      <td>...</td>\n",
       "    </tr>\n",
       "    <tr>\n",
       "      <th>15983</th>\n",
       "      <td>Mission: Impossible - Operation Surma</td>\n",
       "      <td>GC</td>\n",
       "      <td>2004.0</td>\n",
       "      <td>Platform</td>\n",
       "      <td>0.01</td>\n",
       "      <td>0.00</td>\n",
       "      <td>0.0</td>\n",
       "      <td>0.00</td>\n",
       "      <td>64.0</td>\n",
       "      <td>tbd</td>\n",
       "      <td>T</td>\n",
       "      <td>0.01</td>\n",
       "    </tr>\n",
       "    <tr>\n",
       "      <th>15979</th>\n",
       "      <td>Monster Trux Offroad</td>\n",
       "      <td>Wii</td>\n",
       "      <td>2007.0</td>\n",
       "      <td>Racing</td>\n",
       "      <td>0.01</td>\n",
       "      <td>0.00</td>\n",
       "      <td>0.0</td>\n",
       "      <td>0.00</td>\n",
       "      <td>NaN</td>\n",
       "      <td>tbd</td>\n",
       "      <td>E</td>\n",
       "      <td>0.01</td>\n",
       "    </tr>\n",
       "    <tr>\n",
       "      <th>15975</th>\n",
       "      <td>Paranormal Pursuit: The Gifted One</td>\n",
       "      <td>PC</td>\n",
       "      <td>2015.0</td>\n",
       "      <td>Action</td>\n",
       "      <td>0.00</td>\n",
       "      <td>0.01</td>\n",
       "      <td>0.0</td>\n",
       "      <td>0.00</td>\n",
       "      <td>NaN</td>\n",
       "      <td>tbd</td>\n",
       "      <td>NaN</td>\n",
       "      <td>0.01</td>\n",
       "    </tr>\n",
       "    <tr>\n",
       "      <th>15963</th>\n",
       "      <td>Dead to Rights</td>\n",
       "      <td>GBA</td>\n",
       "      <td>2004.0</td>\n",
       "      <td>Shooter</td>\n",
       "      <td>0.01</td>\n",
       "      <td>0.00</td>\n",
       "      <td>0.0</td>\n",
       "      <td>0.00</td>\n",
       "      <td>40.0</td>\n",
       "      <td>tbd</td>\n",
       "      <td>T</td>\n",
       "      <td>0.01</td>\n",
       "    </tr>\n",
       "    <tr>\n",
       "      <th>16706</th>\n",
       "      <td>Men in Black II: Alien Escape</td>\n",
       "      <td>GC</td>\n",
       "      <td>2003.0</td>\n",
       "      <td>Shooter</td>\n",
       "      <td>0.01</td>\n",
       "      <td>0.00</td>\n",
       "      <td>0.0</td>\n",
       "      <td>0.00</td>\n",
       "      <td>NaN</td>\n",
       "      <td>tbd</td>\n",
       "      <td>T</td>\n",
       "      <td>0.01</td>\n",
       "    </tr>\n",
       "  </tbody>\n",
       "</table>\n",
       "<p>2376 rows × 12 columns</p>\n",
       "</div>"
      ],
      "text/plain": [
       "                                        name platform  year_of_release  \\\n",
       "119                            Zumba Fitness      Wii           2010.0   \n",
       "301           Namco Museum: 50th Anniversary      PS2           2005.0   \n",
       "520                          Zumba Fitness 2      Wii           2011.0   \n",
       "645                             uDraw Studio      Wii           2010.0   \n",
       "718                          Just Dance Kids      Wii           2010.0   \n",
       "...                                      ...      ...              ...   \n",
       "15983  Mission: Impossible - Operation Surma       GC           2004.0   \n",
       "15979                   Monster Trux Offroad      Wii           2007.0   \n",
       "15975     Paranormal Pursuit: The Gifted One       PC           2015.0   \n",
       "15963                         Dead to Rights      GBA           2004.0   \n",
       "16706          Men in Black II: Alien Escape       GC           2003.0   \n",
       "\n",
       "          genre  na_sales  eu_sales  jp_sales  other_sales  critic_score  \\\n",
       "119      Sports      3.45      2.59       0.0         0.66           NaN   \n",
       "301        Misc      2.08      1.35       0.0         0.54          61.0   \n",
       "520      Sports      1.51      1.03       0.0         0.27           NaN   \n",
       "645        Misc      1.65      0.57       0.0         0.20          71.0   \n",
       "718        Misc      1.52      0.54       0.0         0.18           NaN   \n",
       "...         ...       ...       ...       ...          ...           ...   \n",
       "15983  Platform      0.01      0.00       0.0         0.00          64.0   \n",
       "15979    Racing      0.01      0.00       0.0         0.00           NaN   \n",
       "15975    Action      0.00      0.01       0.0         0.00           NaN   \n",
       "15963   Shooter      0.01      0.00       0.0         0.00          40.0   \n",
       "16706   Shooter      0.01      0.00       0.0         0.00           NaN   \n",
       "\n",
       "      user_score rating  total_sales  \n",
       "119          tbd      E         6.70  \n",
       "301          tbd   E10+         3.97  \n",
       "520          tbd      T         2.81  \n",
       "645          tbd      E         2.42  \n",
       "718          tbd      E         2.24  \n",
       "...          ...    ...          ...  \n",
       "15983        tbd      T         0.01  \n",
       "15979        tbd      E         0.01  \n",
       "15975        tbd    NaN         0.01  \n",
       "15963        tbd      T         0.01  \n",
       "16706        tbd      T         0.01  \n",
       "\n",
       "[2376 rows x 12 columns]"
      ]
     },
     "execution_count": 16,
     "metadata": {},
     "output_type": "execute_result"
    }
   ],
   "source": [
    "games.query('user_score == \"tbd\"').sort_values(by = 'total_sales', ascending = False)"
   ]
  },
  {
   "cell_type": "markdown",
   "id": "5a6b344a",
   "metadata": {},
   "source": [
    "Аббревиатура tbd означает, что рейтинг еще не сформировался, и в данных мы видим, что это игры с небольшими продажами и достаточно старые, что и объясняет отсутствие рейтинга. \n",
    "\n",
    "Заменим это значение на NaN для дальнейшей обработки"
   ]
  },
  {
   "cell_type": "code",
   "execution_count": 17,
   "id": "b54e557f",
   "metadata": {},
   "outputs": [
    {
     "data": {
      "text/html": [
       "<div>\n",
       "<style scoped>\n",
       "    .dataframe tbody tr th:only-of-type {\n",
       "        vertical-align: middle;\n",
       "    }\n",
       "\n",
       "    .dataframe tbody tr th {\n",
       "        vertical-align: top;\n",
       "    }\n",
       "\n",
       "    .dataframe thead th {\n",
       "        text-align: right;\n",
       "    }\n",
       "</style>\n",
       "<table border=\"1\" class=\"dataframe\">\n",
       "  <thead>\n",
       "    <tr style=\"text-align: right;\">\n",
       "      <th></th>\n",
       "      <th>name</th>\n",
       "      <th>platform</th>\n",
       "      <th>year_of_release</th>\n",
       "      <th>genre</th>\n",
       "      <th>na_sales</th>\n",
       "      <th>eu_sales</th>\n",
       "      <th>jp_sales</th>\n",
       "      <th>other_sales</th>\n",
       "      <th>critic_score</th>\n",
       "      <th>user_score</th>\n",
       "      <th>rating</th>\n",
       "      <th>total_sales</th>\n",
       "    </tr>\n",
       "  </thead>\n",
       "  <tbody>\n",
       "  </tbody>\n",
       "</table>\n",
       "</div>"
      ],
      "text/plain": [
       "Empty DataFrame\n",
       "Columns: [name, platform, year_of_release, genre, na_sales, eu_sales, jp_sales, other_sales, critic_score, user_score, rating, total_sales]\n",
       "Index: []"
      ]
     },
     "execution_count": 17,
     "metadata": {},
     "output_type": "execute_result"
    }
   ],
   "source": [
    "# заменим значение tbd на Nan\n",
    "games['user_score'] = games['user_score'].replace('tbd', np.NaN)\n",
    "games.query('user_score == \"tbd\"')"
   ]
  },
  {
   "cell_type": "markdown",
   "id": "841eae70",
   "metadata": {},
   "source": [
    "И посмотрим на столбец рейтинга, где также было много пропусков."
   ]
  },
  {
   "cell_type": "code",
   "execution_count": 18,
   "id": "d5176f31",
   "metadata": {
    "scrolled": true
   },
   "outputs": [
    {
     "data": {
      "text/html": [
       "<div>\n",
       "<style scoped>\n",
       "    .dataframe tbody tr th:only-of-type {\n",
       "        vertical-align: middle;\n",
       "    }\n",
       "\n",
       "    .dataframe tbody tr th {\n",
       "        vertical-align: top;\n",
       "    }\n",
       "\n",
       "    .dataframe thead th {\n",
       "        text-align: right;\n",
       "    }\n",
       "</style>\n",
       "<table border=\"1\" class=\"dataframe\">\n",
       "  <thead>\n",
       "    <tr style=\"text-align: right;\">\n",
       "      <th></th>\n",
       "      <th>name</th>\n",
       "      <th>platform</th>\n",
       "      <th>year_of_release</th>\n",
       "      <th>genre</th>\n",
       "      <th>na_sales</th>\n",
       "      <th>eu_sales</th>\n",
       "      <th>jp_sales</th>\n",
       "      <th>other_sales</th>\n",
       "      <th>critic_score</th>\n",
       "      <th>user_score</th>\n",
       "      <th>rating</th>\n",
       "      <th>total_sales</th>\n",
       "    </tr>\n",
       "  </thead>\n",
       "  <tbody>\n",
       "    <tr>\n",
       "      <th>1</th>\n",
       "      <td>Super Mario Bros.</td>\n",
       "      <td>NES</td>\n",
       "      <td>1985.0</td>\n",
       "      <td>Platform</td>\n",
       "      <td>29.08</td>\n",
       "      <td>3.58</td>\n",
       "      <td>6.81</td>\n",
       "      <td>0.77</td>\n",
       "      <td>NaN</td>\n",
       "      <td>NaN</td>\n",
       "      <td>NaN</td>\n",
       "      <td>40.24</td>\n",
       "    </tr>\n",
       "    <tr>\n",
       "      <th>4</th>\n",
       "      <td>Pokemon Red/Pokemon Blue</td>\n",
       "      <td>GB</td>\n",
       "      <td>1996.0</td>\n",
       "      <td>Role-Playing</td>\n",
       "      <td>11.27</td>\n",
       "      <td>8.89</td>\n",
       "      <td>10.22</td>\n",
       "      <td>1.00</td>\n",
       "      <td>NaN</td>\n",
       "      <td>NaN</td>\n",
       "      <td>NaN</td>\n",
       "      <td>31.38</td>\n",
       "    </tr>\n",
       "    <tr>\n",
       "      <th>5</th>\n",
       "      <td>Tetris</td>\n",
       "      <td>GB</td>\n",
       "      <td>1989.0</td>\n",
       "      <td>Puzzle</td>\n",
       "      <td>23.20</td>\n",
       "      <td>2.26</td>\n",
       "      <td>4.22</td>\n",
       "      <td>0.58</td>\n",
       "      <td>NaN</td>\n",
       "      <td>NaN</td>\n",
       "      <td>NaN</td>\n",
       "      <td>30.26</td>\n",
       "    </tr>\n",
       "    <tr>\n",
       "      <th>9</th>\n",
       "      <td>Duck Hunt</td>\n",
       "      <td>NES</td>\n",
       "      <td>1984.0</td>\n",
       "      <td>Shooter</td>\n",
       "      <td>26.93</td>\n",
       "      <td>0.63</td>\n",
       "      <td>0.28</td>\n",
       "      <td>0.47</td>\n",
       "      <td>NaN</td>\n",
       "      <td>NaN</td>\n",
       "      <td>NaN</td>\n",
       "      <td>28.31</td>\n",
       "    </tr>\n",
       "    <tr>\n",
       "      <th>10</th>\n",
       "      <td>Nintendogs</td>\n",
       "      <td>DS</td>\n",
       "      <td>2005.0</td>\n",
       "      <td>Simulation</td>\n",
       "      <td>9.05</td>\n",
       "      <td>10.95</td>\n",
       "      <td>1.93</td>\n",
       "      <td>2.74</td>\n",
       "      <td>NaN</td>\n",
       "      <td>NaN</td>\n",
       "      <td>NaN</td>\n",
       "      <td>24.67</td>\n",
       "    </tr>\n",
       "    <tr>\n",
       "      <th>12</th>\n",
       "      <td>Pokemon Gold/Pokemon Silver</td>\n",
       "      <td>GB</td>\n",
       "      <td>1999.0</td>\n",
       "      <td>Role-Playing</td>\n",
       "      <td>9.00</td>\n",
       "      <td>6.18</td>\n",
       "      <td>7.20</td>\n",
       "      <td>0.71</td>\n",
       "      <td>NaN</td>\n",
       "      <td>NaN</td>\n",
       "      <td>NaN</td>\n",
       "      <td>23.09</td>\n",
       "    </tr>\n",
       "    <tr>\n",
       "      <th>18</th>\n",
       "      <td>Super Mario World</td>\n",
       "      <td>SNES</td>\n",
       "      <td>1990.0</td>\n",
       "      <td>Platform</td>\n",
       "      <td>12.78</td>\n",
       "      <td>3.75</td>\n",
       "      <td>3.54</td>\n",
       "      <td>0.55</td>\n",
       "      <td>NaN</td>\n",
       "      <td>NaN</td>\n",
       "      <td>NaN</td>\n",
       "      <td>20.62</td>\n",
       "    </tr>\n",
       "    <tr>\n",
       "      <th>20</th>\n",
       "      <td>Pokemon Diamond/Pokemon Pearl</td>\n",
       "      <td>DS</td>\n",
       "      <td>2006.0</td>\n",
       "      <td>Role-Playing</td>\n",
       "      <td>6.38</td>\n",
       "      <td>4.46</td>\n",
       "      <td>6.04</td>\n",
       "      <td>1.36</td>\n",
       "      <td>NaN</td>\n",
       "      <td>NaN</td>\n",
       "      <td>NaN</td>\n",
       "      <td>18.24</td>\n",
       "    </tr>\n",
       "    <tr>\n",
       "      <th>21</th>\n",
       "      <td>Super Mario Land</td>\n",
       "      <td>GB</td>\n",
       "      <td>1989.0</td>\n",
       "      <td>Platform</td>\n",
       "      <td>10.83</td>\n",
       "      <td>2.71</td>\n",
       "      <td>4.18</td>\n",
       "      <td>0.42</td>\n",
       "      <td>NaN</td>\n",
       "      <td>NaN</td>\n",
       "      <td>NaN</td>\n",
       "      <td>18.14</td>\n",
       "    </tr>\n",
       "    <tr>\n",
       "      <th>22</th>\n",
       "      <td>Super Mario Bros. 3</td>\n",
       "      <td>NES</td>\n",
       "      <td>1988.0</td>\n",
       "      <td>Platform</td>\n",
       "      <td>9.54</td>\n",
       "      <td>3.44</td>\n",
       "      <td>3.84</td>\n",
       "      <td>0.46</td>\n",
       "      <td>NaN</td>\n",
       "      <td>NaN</td>\n",
       "      <td>NaN</td>\n",
       "      <td>17.28</td>\n",
       "    </tr>\n",
       "    <tr>\n",
       "      <th>25</th>\n",
       "      <td>Pokemon Ruby/Pokemon Sapphire</td>\n",
       "      <td>GBA</td>\n",
       "      <td>2002.0</td>\n",
       "      <td>Role-Playing</td>\n",
       "      <td>6.06</td>\n",
       "      <td>3.90</td>\n",
       "      <td>5.38</td>\n",
       "      <td>0.50</td>\n",
       "      <td>NaN</td>\n",
       "      <td>NaN</td>\n",
       "      <td>NaN</td>\n",
       "      <td>15.84</td>\n",
       "    </tr>\n",
       "    <tr>\n",
       "      <th>27</th>\n",
       "      <td>Pokemon Black/Pokemon White</td>\n",
       "      <td>DS</td>\n",
       "      <td>2010.0</td>\n",
       "      <td>Role-Playing</td>\n",
       "      <td>5.51</td>\n",
       "      <td>3.17</td>\n",
       "      <td>5.65</td>\n",
       "      <td>0.80</td>\n",
       "      <td>NaN</td>\n",
       "      <td>NaN</td>\n",
       "      <td>NaN</td>\n",
       "      <td>15.13</td>\n",
       "    </tr>\n",
       "    <tr>\n",
       "      <th>30</th>\n",
       "      <td>Pokémon Yellow: Special Pikachu Edition</td>\n",
       "      <td>GB</td>\n",
       "      <td>1998.0</td>\n",
       "      <td>Role-Playing</td>\n",
       "      <td>5.89</td>\n",
       "      <td>5.04</td>\n",
       "      <td>3.12</td>\n",
       "      <td>0.59</td>\n",
       "      <td>NaN</td>\n",
       "      <td>NaN</td>\n",
       "      <td>NaN</td>\n",
       "      <td>14.64</td>\n",
       "    </tr>\n",
       "    <tr>\n",
       "      <th>31</th>\n",
       "      <td>Call of Duty: Black Ops 3</td>\n",
       "      <td>PS4</td>\n",
       "      <td>2015.0</td>\n",
       "      <td>Shooter</td>\n",
       "      <td>6.03</td>\n",
       "      <td>5.86</td>\n",
       "      <td>0.36</td>\n",
       "      <td>2.38</td>\n",
       "      <td>NaN</td>\n",
       "      <td>NaN</td>\n",
       "      <td>NaN</td>\n",
       "      <td>14.63</td>\n",
       "    </tr>\n",
       "    <tr>\n",
       "      <th>33</th>\n",
       "      <td>Pokemon X/Pokemon Y</td>\n",
       "      <td>3DS</td>\n",
       "      <td>2013.0</td>\n",
       "      <td>Role-Playing</td>\n",
       "      <td>5.28</td>\n",
       "      <td>4.19</td>\n",
       "      <td>4.35</td>\n",
       "      <td>0.78</td>\n",
       "      <td>NaN</td>\n",
       "      <td>NaN</td>\n",
       "      <td>NaN</td>\n",
       "      <td>14.60</td>\n",
       "    </tr>\n",
       "  </tbody>\n",
       "</table>\n",
       "</div>"
      ],
      "text/plain": [
       "                                       name platform  year_of_release  \\\n",
       "1                         Super Mario Bros.      NES           1985.0   \n",
       "4                  Pokemon Red/Pokemon Blue       GB           1996.0   \n",
       "5                                    Tetris       GB           1989.0   \n",
       "9                                 Duck Hunt      NES           1984.0   \n",
       "10                               Nintendogs       DS           2005.0   \n",
       "12              Pokemon Gold/Pokemon Silver       GB           1999.0   \n",
       "18                        Super Mario World     SNES           1990.0   \n",
       "20            Pokemon Diamond/Pokemon Pearl       DS           2006.0   \n",
       "21                         Super Mario Land       GB           1989.0   \n",
       "22                      Super Mario Bros. 3      NES           1988.0   \n",
       "25            Pokemon Ruby/Pokemon Sapphire      GBA           2002.0   \n",
       "27              Pokemon Black/Pokemon White       DS           2010.0   \n",
       "30  Pokémon Yellow: Special Pikachu Edition       GB           1998.0   \n",
       "31                Call of Duty: Black Ops 3      PS4           2015.0   \n",
       "33                      Pokemon X/Pokemon Y      3DS           2013.0   \n",
       "\n",
       "           genre  na_sales  eu_sales  jp_sales  other_sales  critic_score  \\\n",
       "1       Platform     29.08      3.58      6.81         0.77           NaN   \n",
       "4   Role-Playing     11.27      8.89     10.22         1.00           NaN   \n",
       "5         Puzzle     23.20      2.26      4.22         0.58           NaN   \n",
       "9        Shooter     26.93      0.63      0.28         0.47           NaN   \n",
       "10    Simulation      9.05     10.95      1.93         2.74           NaN   \n",
       "12  Role-Playing      9.00      6.18      7.20         0.71           NaN   \n",
       "18      Platform     12.78      3.75      3.54         0.55           NaN   \n",
       "20  Role-Playing      6.38      4.46      6.04         1.36           NaN   \n",
       "21      Platform     10.83      2.71      4.18         0.42           NaN   \n",
       "22      Platform      9.54      3.44      3.84         0.46           NaN   \n",
       "25  Role-Playing      6.06      3.90      5.38         0.50           NaN   \n",
       "27  Role-Playing      5.51      3.17      5.65         0.80           NaN   \n",
       "30  Role-Playing      5.89      5.04      3.12         0.59           NaN   \n",
       "31       Shooter      6.03      5.86      0.36         2.38           NaN   \n",
       "33  Role-Playing      5.28      4.19      4.35         0.78           NaN   \n",
       "\n",
       "   user_score rating  total_sales  \n",
       "1         NaN    NaN        40.24  \n",
       "4         NaN    NaN        31.38  \n",
       "5         NaN    NaN        30.26  \n",
       "9         NaN    NaN        28.31  \n",
       "10        NaN    NaN        24.67  \n",
       "12        NaN    NaN        23.09  \n",
       "18        NaN    NaN        20.62  \n",
       "20        NaN    NaN        18.24  \n",
       "21        NaN    NaN        18.14  \n",
       "22        NaN    NaN        17.28  \n",
       "25        NaN    NaN        15.84  \n",
       "27        NaN    NaN        15.13  \n",
       "30        NaN    NaN        14.64  \n",
       "31        NaN    NaN        14.63  \n",
       "33        NaN    NaN        14.60  "
      ]
     },
     "execution_count": 18,
     "metadata": {},
     "output_type": "execute_result"
    }
   ],
   "source": [
    "# выведем игры без рейтинга отсортированные по общим продажам\n",
    "games.query('rating.isna()').sort_values(by = 'total_sales', ascending = False).head(15)"
   ]
  },
  {
   "cell_type": "code",
   "execution_count": 19,
   "id": "48063412",
   "metadata": {
    "scrolled": true
   },
   "outputs": [
    {
     "data": {
      "text/html": [
       "<div>\n",
       "<style scoped>\n",
       "    .dataframe tbody tr th:only-of-type {\n",
       "        vertical-align: middle;\n",
       "    }\n",
       "\n",
       "    .dataframe tbody tr th {\n",
       "        vertical-align: top;\n",
       "    }\n",
       "\n",
       "    .dataframe thead th {\n",
       "        text-align: right;\n",
       "    }\n",
       "</style>\n",
       "<table border=\"1\" class=\"dataframe\">\n",
       "  <thead>\n",
       "    <tr style=\"text-align: right;\">\n",
       "      <th></th>\n",
       "      <th>name</th>\n",
       "      <th>platform</th>\n",
       "      <th>year_of_release</th>\n",
       "      <th>genre</th>\n",
       "      <th>na_sales</th>\n",
       "      <th>eu_sales</th>\n",
       "      <th>jp_sales</th>\n",
       "      <th>other_sales</th>\n",
       "      <th>critic_score</th>\n",
       "      <th>user_score</th>\n",
       "      <th>rating</th>\n",
       "      <th>total_sales</th>\n",
       "    </tr>\n",
       "  </thead>\n",
       "  <tbody>\n",
       "    <tr>\n",
       "      <th>31</th>\n",
       "      <td>Call of Duty: Black Ops 3</td>\n",
       "      <td>PS4</td>\n",
       "      <td>2015.0</td>\n",
       "      <td>Shooter</td>\n",
       "      <td>6.03</td>\n",
       "      <td>5.86</td>\n",
       "      <td>0.36</td>\n",
       "      <td>2.38</td>\n",
       "      <td>NaN</td>\n",
       "      <td>NaN</td>\n",
       "      <td>NaN</td>\n",
       "      <td>14.63</td>\n",
       "    </tr>\n",
       "    <tr>\n",
       "      <th>33</th>\n",
       "      <td>Pokemon X/Pokemon Y</td>\n",
       "      <td>3DS</td>\n",
       "      <td>2013.0</td>\n",
       "      <td>Role-Playing</td>\n",
       "      <td>5.28</td>\n",
       "      <td>4.19</td>\n",
       "      <td>4.35</td>\n",
       "      <td>0.78</td>\n",
       "      <td>NaN</td>\n",
       "      <td>NaN</td>\n",
       "      <td>NaN</td>\n",
       "      <td>14.60</td>\n",
       "    </tr>\n",
       "    <tr>\n",
       "      <th>47</th>\n",
       "      <td>Pokemon Omega Ruby/Pokemon Alpha Sapphire</td>\n",
       "      <td>3DS</td>\n",
       "      <td>2014.0</td>\n",
       "      <td>Role-Playing</td>\n",
       "      <td>4.35</td>\n",
       "      <td>3.49</td>\n",
       "      <td>3.10</td>\n",
       "      <td>0.74</td>\n",
       "      <td>NaN</td>\n",
       "      <td>NaN</td>\n",
       "      <td>NaN</td>\n",
       "      <td>11.68</td>\n",
       "    </tr>\n",
       "    <tr>\n",
       "      <th>72</th>\n",
       "      <td>Minecraft</td>\n",
       "      <td>X360</td>\n",
       "      <td>2013.0</td>\n",
       "      <td>Misc</td>\n",
       "      <td>5.70</td>\n",
       "      <td>2.65</td>\n",
       "      <td>0.02</td>\n",
       "      <td>0.81</td>\n",
       "      <td>NaN</td>\n",
       "      <td>NaN</td>\n",
       "      <td>NaN</td>\n",
       "      <td>9.18</td>\n",
       "    </tr>\n",
       "    <tr>\n",
       "      <th>87</th>\n",
       "      <td>Star Wars Battlefront (2015)</td>\n",
       "      <td>PS4</td>\n",
       "      <td>2015.0</td>\n",
       "      <td>Shooter</td>\n",
       "      <td>2.99</td>\n",
       "      <td>3.49</td>\n",
       "      <td>0.22</td>\n",
       "      <td>1.28</td>\n",
       "      <td>NaN</td>\n",
       "      <td>NaN</td>\n",
       "      <td>NaN</td>\n",
       "      <td>7.98</td>\n",
       "    </tr>\n",
       "    <tr>\n",
       "      <th>96</th>\n",
       "      <td>Super Smash Bros. for Wii U and 3DS</td>\n",
       "      <td>3DS</td>\n",
       "      <td>2014.0</td>\n",
       "      <td>Fighting</td>\n",
       "      <td>3.27</td>\n",
       "      <td>1.37</td>\n",
       "      <td>2.43</td>\n",
       "      <td>0.48</td>\n",
       "      <td>NaN</td>\n",
       "      <td>NaN</td>\n",
       "      <td>NaN</td>\n",
       "      <td>7.55</td>\n",
       "    </tr>\n",
       "    <tr>\n",
       "      <th>99</th>\n",
       "      <td>Call of Duty: Black Ops 3</td>\n",
       "      <td>XOne</td>\n",
       "      <td>2015.0</td>\n",
       "      <td>Shooter</td>\n",
       "      <td>4.59</td>\n",
       "      <td>2.11</td>\n",
       "      <td>0.01</td>\n",
       "      <td>0.68</td>\n",
       "      <td>NaN</td>\n",
       "      <td>NaN</td>\n",
       "      <td>NaN</td>\n",
       "      <td>7.39</td>\n",
       "    </tr>\n",
       "    <tr>\n",
       "      <th>108</th>\n",
       "      <td>Pokemon Sun/Moon</td>\n",
       "      <td>3DS</td>\n",
       "      <td>2016.0</td>\n",
       "      <td>Role-Playing</td>\n",
       "      <td>2.98</td>\n",
       "      <td>1.45</td>\n",
       "      <td>2.26</td>\n",
       "      <td>0.45</td>\n",
       "      <td>NaN</td>\n",
       "      <td>NaN</td>\n",
       "      <td>NaN</td>\n",
       "      <td>7.14</td>\n",
       "    </tr>\n",
       "    <tr>\n",
       "      <th>180</th>\n",
       "      <td>Minecraft</td>\n",
       "      <td>PS3</td>\n",
       "      <td>2014.0</td>\n",
       "      <td>Misc</td>\n",
       "      <td>2.03</td>\n",
       "      <td>2.37</td>\n",
       "      <td>0.00</td>\n",
       "      <td>0.87</td>\n",
       "      <td>NaN</td>\n",
       "      <td>NaN</td>\n",
       "      <td>NaN</td>\n",
       "      <td>5.27</td>\n",
       "    </tr>\n",
       "    <tr>\n",
       "      <th>184</th>\n",
       "      <td>Tomodachi Life</td>\n",
       "      <td>3DS</td>\n",
       "      <td>2013.0</td>\n",
       "      <td>Simulation</td>\n",
       "      <td>0.97</td>\n",
       "      <td>2.11</td>\n",
       "      <td>1.90</td>\n",
       "      <td>0.24</td>\n",
       "      <td>NaN</td>\n",
       "      <td>NaN</td>\n",
       "      <td>NaN</td>\n",
       "      <td>5.22</td>\n",
       "    </tr>\n",
       "    <tr>\n",
       "      <th>216</th>\n",
       "      <td>Super Smash Bros. for Wii U and 3DS</td>\n",
       "      <td>WiiU</td>\n",
       "      <td>2014.0</td>\n",
       "      <td>Fighting</td>\n",
       "      <td>2.60</td>\n",
       "      <td>1.08</td>\n",
       "      <td>0.81</td>\n",
       "      <td>0.38</td>\n",
       "      <td>NaN</td>\n",
       "      <td>NaN</td>\n",
       "      <td>NaN</td>\n",
       "      <td>4.87</td>\n",
       "    </tr>\n",
       "    <tr>\n",
       "      <th>225</th>\n",
       "      <td>The Last of Us</td>\n",
       "      <td>PS4</td>\n",
       "      <td>2014.0</td>\n",
       "      <td>Action</td>\n",
       "      <td>1.88</td>\n",
       "      <td>2.00</td>\n",
       "      <td>0.07</td>\n",
       "      <td>0.77</td>\n",
       "      <td>NaN</td>\n",
       "      <td>NaN</td>\n",
       "      <td>NaN</td>\n",
       "      <td>4.72</td>\n",
       "    </tr>\n",
       "    <tr>\n",
       "      <th>261</th>\n",
       "      <td>Minecraft</td>\n",
       "      <td>PS4</td>\n",
       "      <td>2014.0</td>\n",
       "      <td>Misc</td>\n",
       "      <td>1.48</td>\n",
       "      <td>2.02</td>\n",
       "      <td>0.14</td>\n",
       "      <td>0.68</td>\n",
       "      <td>NaN</td>\n",
       "      <td>NaN</td>\n",
       "      <td>NaN</td>\n",
       "      <td>4.32</td>\n",
       "    </tr>\n",
       "    <tr>\n",
       "      <th>342</th>\n",
       "      <td>Star Wars Battlefront (2015)</td>\n",
       "      <td>XOne</td>\n",
       "      <td>2015.0</td>\n",
       "      <td>Shooter</td>\n",
       "      <td>2.04</td>\n",
       "      <td>1.28</td>\n",
       "      <td>0.02</td>\n",
       "      <td>0.32</td>\n",
       "      <td>NaN</td>\n",
       "      <td>NaN</td>\n",
       "      <td>NaN</td>\n",
       "      <td>3.66</td>\n",
       "    </tr>\n",
       "    <tr>\n",
       "      <th>385</th>\n",
       "      <td>Monster Hunter 4</td>\n",
       "      <td>3DS</td>\n",
       "      <td>2013.0</td>\n",
       "      <td>Role-Playing</td>\n",
       "      <td>0.00</td>\n",
       "      <td>0.00</td>\n",
       "      <td>3.44</td>\n",
       "      <td>0.00</td>\n",
       "      <td>NaN</td>\n",
       "      <td>NaN</td>\n",
       "      <td>NaN</td>\n",
       "      <td>3.44</td>\n",
       "    </tr>\n",
       "  </tbody>\n",
       "</table>\n",
       "</div>"
      ],
      "text/plain": [
       "                                          name platform  year_of_release  \\\n",
       "31                   Call of Duty: Black Ops 3      PS4           2015.0   \n",
       "33                         Pokemon X/Pokemon Y      3DS           2013.0   \n",
       "47   Pokemon Omega Ruby/Pokemon Alpha Sapphire      3DS           2014.0   \n",
       "72                                   Minecraft     X360           2013.0   \n",
       "87                Star Wars Battlefront (2015)      PS4           2015.0   \n",
       "96         Super Smash Bros. for Wii U and 3DS      3DS           2014.0   \n",
       "99                   Call of Duty: Black Ops 3     XOne           2015.0   \n",
       "108                           Pokemon Sun/Moon      3DS           2016.0   \n",
       "180                                  Minecraft      PS3           2014.0   \n",
       "184                             Tomodachi Life      3DS           2013.0   \n",
       "216        Super Smash Bros. for Wii U and 3DS     WiiU           2014.0   \n",
       "225                             The Last of Us      PS4           2014.0   \n",
       "261                                  Minecraft      PS4           2014.0   \n",
       "342               Star Wars Battlefront (2015)     XOne           2015.0   \n",
       "385                           Monster Hunter 4      3DS           2013.0   \n",
       "\n",
       "            genre  na_sales  eu_sales  jp_sales  other_sales  critic_score  \\\n",
       "31        Shooter      6.03      5.86      0.36         2.38           NaN   \n",
       "33   Role-Playing      5.28      4.19      4.35         0.78           NaN   \n",
       "47   Role-Playing      4.35      3.49      3.10         0.74           NaN   \n",
       "72           Misc      5.70      2.65      0.02         0.81           NaN   \n",
       "87        Shooter      2.99      3.49      0.22         1.28           NaN   \n",
       "96       Fighting      3.27      1.37      2.43         0.48           NaN   \n",
       "99        Shooter      4.59      2.11      0.01         0.68           NaN   \n",
       "108  Role-Playing      2.98      1.45      2.26         0.45           NaN   \n",
       "180          Misc      2.03      2.37      0.00         0.87           NaN   \n",
       "184    Simulation      0.97      2.11      1.90         0.24           NaN   \n",
       "216      Fighting      2.60      1.08      0.81         0.38           NaN   \n",
       "225        Action      1.88      2.00      0.07         0.77           NaN   \n",
       "261          Misc      1.48      2.02      0.14         0.68           NaN   \n",
       "342       Shooter      2.04      1.28      0.02         0.32           NaN   \n",
       "385  Role-Playing      0.00      0.00      3.44         0.00           NaN   \n",
       "\n",
       "    user_score rating  total_sales  \n",
       "31         NaN    NaN        14.63  \n",
       "33         NaN    NaN        14.60  \n",
       "47         NaN    NaN        11.68  \n",
       "72         NaN    NaN         9.18  \n",
       "87         NaN    NaN         7.98  \n",
       "96         NaN    NaN         7.55  \n",
       "99         NaN    NaN         7.39  \n",
       "108        NaN    NaN         7.14  \n",
       "180        NaN    NaN         5.27  \n",
       "184        NaN    NaN         5.22  \n",
       "216        NaN    NaN         4.87  \n",
       "225        NaN    NaN         4.72  \n",
       "261        NaN    NaN         4.32  \n",
       "342        NaN    NaN         3.66  \n",
       "385        NaN    NaN         3.44  "
      ]
     },
     "execution_count": 19,
     "metadata": {},
     "output_type": "execute_result"
    }
   ],
   "source": [
    "# выведем тоже самое, но выпущенное после 2012 года\n",
    "games.query('rating.isna() and year_of_release > 2012').sort_values(by = 'total_sales', ascending = False).head(15)"
   ]
  },
  {
   "cell_type": "code",
   "execution_count": 20,
   "id": "a2767184",
   "metadata": {
    "scrolled": true
   },
   "outputs": [
    {
     "data": {
      "text/html": [
       "<div>\n",
       "<style scoped>\n",
       "    .dataframe tbody tr th:only-of-type {\n",
       "        vertical-align: middle;\n",
       "    }\n",
       "\n",
       "    .dataframe tbody tr th {\n",
       "        vertical-align: top;\n",
       "    }\n",
       "\n",
       "    .dataframe thead th {\n",
       "        text-align: right;\n",
       "    }\n",
       "</style>\n",
       "<table border=\"1\" class=\"dataframe\">\n",
       "  <thead>\n",
       "    <tr style=\"text-align: right;\">\n",
       "      <th></th>\n",
       "      <th>name</th>\n",
       "      <th>platform</th>\n",
       "      <th>year_of_release</th>\n",
       "      <th>genre</th>\n",
       "      <th>na_sales</th>\n",
       "      <th>eu_sales</th>\n",
       "      <th>jp_sales</th>\n",
       "      <th>other_sales</th>\n",
       "      <th>critic_score</th>\n",
       "      <th>user_score</th>\n",
       "      <th>rating</th>\n",
       "      <th>total_sales</th>\n",
       "    </tr>\n",
       "  </thead>\n",
       "  <tbody>\n",
       "    <tr>\n",
       "      <th>31</th>\n",
       "      <td>Call of Duty: Black Ops 3</td>\n",
       "      <td>PS4</td>\n",
       "      <td>2015.0</td>\n",
       "      <td>Shooter</td>\n",
       "      <td>6.03</td>\n",
       "      <td>5.86</td>\n",
       "      <td>0.36</td>\n",
       "      <td>2.38</td>\n",
       "      <td>NaN</td>\n",
       "      <td>NaN</td>\n",
       "      <td>NaN</td>\n",
       "      <td>14.63</td>\n",
       "    </tr>\n",
       "    <tr>\n",
       "      <th>99</th>\n",
       "      <td>Call of Duty: Black Ops 3</td>\n",
       "      <td>XOne</td>\n",
       "      <td>2015.0</td>\n",
       "      <td>Shooter</td>\n",
       "      <td>4.59</td>\n",
       "      <td>2.11</td>\n",
       "      <td>0.01</td>\n",
       "      <td>0.68</td>\n",
       "      <td>NaN</td>\n",
       "      <td>NaN</td>\n",
       "      <td>NaN</td>\n",
       "      <td>7.39</td>\n",
       "    </tr>\n",
       "    <tr>\n",
       "      <th>1049</th>\n",
       "      <td>Call of Duty: Black Ops 3</td>\n",
       "      <td>X360</td>\n",
       "      <td>2015.0</td>\n",
       "      <td>Shooter</td>\n",
       "      <td>1.14</td>\n",
       "      <td>0.40</td>\n",
       "      <td>0.00</td>\n",
       "      <td>0.16</td>\n",
       "      <td>NaN</td>\n",
       "      <td>NaN</td>\n",
       "      <td>NaN</td>\n",
       "      <td>1.70</td>\n",
       "    </tr>\n",
       "    <tr>\n",
       "      <th>1062</th>\n",
       "      <td>Call of Duty: Black Ops 3</td>\n",
       "      <td>PS3</td>\n",
       "      <td>2015.0</td>\n",
       "      <td>Shooter</td>\n",
       "      <td>0.49</td>\n",
       "      <td>0.87</td>\n",
       "      <td>0.07</td>\n",
       "      <td>0.26</td>\n",
       "      <td>NaN</td>\n",
       "      <td>NaN</td>\n",
       "      <td>NaN</td>\n",
       "      <td>1.69</td>\n",
       "    </tr>\n",
       "    <tr>\n",
       "      <th>6463</th>\n",
       "      <td>Call of Duty: Black Ops 3</td>\n",
       "      <td>PC</td>\n",
       "      <td>2015.0</td>\n",
       "      <td>Shooter</td>\n",
       "      <td>0.00</td>\n",
       "      <td>0.25</td>\n",
       "      <td>0.00</td>\n",
       "      <td>0.01</td>\n",
       "      <td>NaN</td>\n",
       "      <td>NaN</td>\n",
       "      <td>NaN</td>\n",
       "      <td>0.26</td>\n",
       "    </tr>\n",
       "  </tbody>\n",
       "</table>\n",
       "</div>"
      ],
      "text/plain": [
       "                           name platform  year_of_release    genre  na_sales  \\\n",
       "31    Call of Duty: Black Ops 3      PS4           2015.0  Shooter      6.03   \n",
       "99    Call of Duty: Black Ops 3     XOne           2015.0  Shooter      4.59   \n",
       "1049  Call of Duty: Black Ops 3     X360           2015.0  Shooter      1.14   \n",
       "1062  Call of Duty: Black Ops 3      PS3           2015.0  Shooter      0.49   \n",
       "6463  Call of Duty: Black Ops 3       PC           2015.0  Shooter      0.00   \n",
       "\n",
       "      eu_sales  jp_sales  other_sales  critic_score user_score rating  \\\n",
       "31        5.86      0.36         2.38           NaN        NaN    NaN   \n",
       "99        2.11      0.01         0.68           NaN        NaN    NaN   \n",
       "1049      0.40      0.00         0.16           NaN        NaN    NaN   \n",
       "1062      0.87      0.07         0.26           NaN        NaN    NaN   \n",
       "6463      0.25      0.00         0.01           NaN        NaN    NaN   \n",
       "\n",
       "      total_sales  \n",
       "31          14.63  \n",
       "99           7.39  \n",
       "1049         1.70  \n",
       "1062         1.69  \n",
       "6463         0.26  "
      ]
     },
     "execution_count": 20,
     "metadata": {},
     "output_type": "execute_result"
    }
   ],
   "source": [
    "# посмотрим на другие версии самой популярной игры\n",
    "games.query('name == \"Call of Duty: Black Ops 3\"')"
   ]
  },
  {
   "cell_type": "markdown",
   "id": "82ae0994",
   "metadata": {},
   "source": [
    "Один из выводов из данной таблицы - в общем датафрейме есть, или уже обработаны, данные таким образом, что мы видим продажи игры только в год ее релиза, в то время как наверняка игра могла продаваться и в течении нескольких следующих лет после выпуска.\n",
    "\n",
    "К сожалению и здесь прихожу к выводу, что корректной и логичной замены отстутствующим значениям нет. Заполнять эти данные медианой или средним - неверно. Как показывает пример Call of Duty заполнить данные по другим платформам тоже нет возможности.\n",
    "\n",
    "Однако так как рейтинг игре может быть присвоен и без продаж вообще, но по какой-то причине этих данных нет в таблице, то для данного столбца заполним пропуски значением 'no_rating' "
   ]
  },
  {
   "cell_type": "code",
   "execution_count": 21,
   "id": "2e1f6dc0",
   "metadata": {},
   "outputs": [],
   "source": [
    "games['rating'] = games['rating'].fillna('no_rating')\n",
    "# games.query('rating.isna()')"
   ]
  },
  {
   "cell_type": "code",
   "execution_count": 22,
   "id": "ac655f54",
   "metadata": {
    "scrolled": true
   },
   "outputs": [
    {
     "name": "stdout",
     "output_type": "stream",
     "text": [
      "<class 'pandas.core.frame.DataFrame'>\n",
      "Int64Index: 16444 entries, 0 to 16714\n",
      "Data columns (total 12 columns):\n",
      " #   Column           Non-Null Count  Dtype  \n",
      "---  ------           --------------  -----  \n",
      " 0   name             16444 non-null  object \n",
      " 1   platform         16444 non-null  object \n",
      " 2   year_of_release  16444 non-null  int64  \n",
      " 3   genre            16444 non-null  object \n",
      " 4   na_sales         16444 non-null  float64\n",
      " 5   eu_sales         16444 non-null  float64\n",
      " 6   jp_sales         16444 non-null  float64\n",
      " 7   other_sales      16444 non-null  float64\n",
      " 8   critic_score     7983 non-null   float64\n",
      " 9   user_score       7463 non-null   float64\n",
      " 10  rating           16444 non-null  object \n",
      " 11  total_sales      16444 non-null  float64\n",
      "dtypes: float64(7), int64(1), object(4)\n",
      "memory usage: 1.6+ MB\n"
     ]
    }
   ],
   "source": [
    "# и последнее на данном этапе преобразование - столбец года необходимо привести к целому\n",
    "games['year_of_release'] = games['year_of_release'].astype('int')\n",
    "games['user_score'] = games['user_score'].astype('float')\n",
    "games.info()"
   ]
  },
  {
   "cell_type": "code",
   "execution_count": 23,
   "id": "613ad5c3",
   "metadata": {},
   "outputs": [
    {
     "data": {
      "text/plain": [
       "0"
      ]
     },
     "execution_count": 23,
     "metadata": {},
     "output_type": "execute_result"
    }
   ],
   "source": [
    "# и проверим получившийся датасет на дупликаты\n",
    "games.duplicated().sum()"
   ]
  },
  {
   "cell_type": "markdown",
   "id": "8deb5320",
   "metadata": {},
   "source": [
    "Дупликатов в датасете нет.\n",
    "\n",
    "На этом предобработка данных завершена."
   ]
  },
  {
   "cell_type": "markdown",
   "id": "060ca208",
   "metadata": {},
   "source": [
    "## **Исследовательский анализ даных** <a id = 'ИАД'></a> "
   ]
  },
  {
   "cell_type": "markdown",
   "id": "e5bd1915",
   "metadata": {},
   "source": [
    "### Первая задача - посмотреть сколько игр выпускалось в разные годы , ответить на вопрос - важны ли данные за все периоды"
   ]
  },
  {
   "cell_type": "code",
   "execution_count": 24,
   "id": "ab6e3303",
   "metadata": {
    "scrolled": true
   },
   "outputs": [
    {
     "data": {
      "image/png": "[encoded data removed]",
      "text/plain": [
       "<Figure size 432x288 with 1 Axes>"
      ]
     },
     "metadata": {
      "needs_background": "light"
     },
     "output_type": "display_data"
    }
   ],
   "source": [
    "# для этого сгруппируем датасет по годам с подсчетом количества игр и построим график \n",
    "\n",
    "games.groupby('year_of_release')['total_sales'].count().plot()\n",
    "\n",
    "plt.title('Количество игр по годам')\n",
    "plt.xlabel('Годы')\n",
    "plt.ylabel('Количество выпущеных игр')\n",
    "plt.show()"
   ]
  },
  {
   "cell_type": "markdown",
   "id": "90444c9f",
   "metadata": {},
   "source": [
    "График показывает, что с 1980 по 1992 годы количество игр было небольшим и не росло. С 1993 года начался значительный рост и в 2008-2009 году количество игр достигло своего пика, после чего начался спад, продолжающийся до сих пор.\n",
    "\n",
    "В этом графике учтены одинаковые игры, выпускавшиеся для разных платформ. Посмотрим на аналогичное распределение уникальных игр."
   ]
  },
  {
   "cell_type": "code",
   "execution_count": 25,
   "id": "eb81c44e",
   "metadata": {
    "scrolled": true
   },
   "outputs": [
    {
     "data": {
      "image/png": "[encoded data removed]",
      "text/plain": [
       "<Figure size 432x288 with 1 Axes>"
      ]
     },
     "metadata": {
      "needs_background": "light"
     },
     "output_type": "display_data"
    }
   ],
   "source": [
    "# создадим временный датафрейм в котором сгруппируем игры по году и названию,\n",
    "# таким образом во временном датафрейме останутся только уникальные названия\n",
    "df = games.groupby(['year_of_release', 'name'])['total_sales'].count().reset_index()\n",
    "\n",
    "# и потом сгруппируем новый дф по году, подсчитав количество названий, получив таким образом количество уникальных игр в каждый год\n",
    "df.groupby('year_of_release')['name'].count().plot()\n",
    "\n",
    "plt.title('Количество игр по годам')\n",
    "plt.xlabel('Годы')\n",
    "plt.ylabel('Количество выпущеных игр')\n",
    "plt.show()"
   ]
  },
  {
   "cell_type": "markdown",
   "id": "3680c2d9",
   "metadata": {},
   "source": [
    "Даже с учетом только уникальных игр график их количества по годам выглядит аналогичным образом, только пик в районе 1000 игр в год, тогда как игры для всех платформ выпускались до 1400 в год на пике.\n",
    "\n",
    "**Основной вывод из этих графиков** - рассматривать все года не имеет смысла. Похоже что рынок игр достигнув пика в 2008-09 годах начал переживать падение, в котором и находится до сих пор. Для нашего исследования это означает, что мы можем рассматривать период с 2010 года по текущее время, так как поведение игр в этот период наиболее релевантно ближайшему будущему."
   ]
  },
  {
   "cell_type": "code",
   "execution_count": 26,
   "id": "52619fcd",
   "metadata": {
    "scrolled": false
   },
   "outputs": [
    {
     "data": {
      "image/png": "[encoded data removed]",
      "text/plain": [
       "<Figure size 432x288 with 1 Axes>"
      ]
     },
     "metadata": {
      "needs_background": "light"
     },
     "output_type": "display_data"
    }
   ],
   "source": [
    "# посмотрим на общие объемы продаж по годам\n",
    "\n",
    "games.groupby('year_of_release')['total_sales'].sum().plot()\n",
    "\n",
    "plt.title('Количество проданных экземпляров по годам')\n",
    "plt.xlabel('Годы')\n",
    "plt.ylabel('Количество проданных игр')\n",
    "plt.show()"
   ]
  },
  {
   "cell_type": "markdown",
   "id": "2e52ab48",
   "metadata": {},
   "source": [
    "У меня было предположение, что количество игр перешло в качестро и начали продавать больше копий меньшего количества игр, но это не так, количества проданных игр падают аналогично количеству выпускаемых. Для нас это также подтверждение, что есть смысл рассматривать только период с 2010 по текущее время."
   ]
  },
  {
   "cell_type": "markdown",
   "id": "be204f8a",
   "metadata": {},
   "source": [
    "### Следующая задача - посмотреть как менялись продажи по платформам"
   ]
  },
  {
   "cell_type": "markdown",
   "id": "4d6dcc0b",
   "metadata": {},
   "source": [
    "Необходимо выбрать платформы с наибольшими суммарными продажами и для них построить распределение по годам.\n"
   ]
  },
  {
   "cell_type": "code",
   "execution_count": 27,
   "id": "dfff362a",
   "metadata": {
    "scrolled": true
   },
   "outputs": [
    {
     "data": {
      "text/html": [
       "<div>\n",
       "<style scoped>\n",
       "    .dataframe tbody tr th:only-of-type {\n",
       "        vertical-align: middle;\n",
       "    }\n",
       "\n",
       "    .dataframe tbody tr th {\n",
       "        vertical-align: top;\n",
       "    }\n",
       "\n",
       "    .dataframe thead th {\n",
       "        text-align: right;\n",
       "    }\n",
       "</style>\n",
       "<table border=\"1\" class=\"dataframe\">\n",
       "  <thead>\n",
       "    <tr style=\"text-align: right;\">\n",
       "      <th></th>\n",
       "      <th>platform</th>\n",
       "      <th>total_sales</th>\n",
       "    </tr>\n",
       "  </thead>\n",
       "  <tbody>\n",
       "    <tr>\n",
       "      <th>16</th>\n",
       "      <td>PS2</td>\n",
       "      <td>1233.56</td>\n",
       "    </tr>\n",
       "    <tr>\n",
       "      <th>28</th>\n",
       "      <td>X360</td>\n",
       "      <td>961.24</td>\n",
       "    </tr>\n",
       "    <tr>\n",
       "      <th>17</th>\n",
       "      <td>PS3</td>\n",
       "      <td>931.34</td>\n",
       "    </tr>\n",
       "    <tr>\n",
       "      <th>26</th>\n",
       "      <td>Wii</td>\n",
       "      <td>891.18</td>\n",
       "    </tr>\n",
       "    <tr>\n",
       "      <th>4</th>\n",
       "      <td>DS</td>\n",
       "      <td>802.78</td>\n",
       "    </tr>\n",
       "    <tr>\n",
       "      <th>15</th>\n",
       "      <td>PS</td>\n",
       "      <td>727.58</td>\n",
       "    </tr>\n",
       "    <tr>\n",
       "      <th>18</th>\n",
       "      <td>PS4</td>\n",
       "      <td>314.14</td>\n",
       "    </tr>\n",
       "    <tr>\n",
       "      <th>6</th>\n",
       "      <td>GBA</td>\n",
       "      <td>312.88</td>\n",
       "    </tr>\n",
       "    <tr>\n",
       "      <th>19</th>\n",
       "      <td>PSP</td>\n",
       "      <td>289.53</td>\n",
       "    </tr>\n",
       "    <tr>\n",
       "      <th>2</th>\n",
       "      <td>3DS</td>\n",
       "      <td>257.81</td>\n",
       "    </tr>\n",
       "    <tr>\n",
       "      <th>13</th>\n",
       "      <td>PC</td>\n",
       "      <td>255.76</td>\n",
       "    </tr>\n",
       "    <tr>\n",
       "      <th>5</th>\n",
       "      <td>GB</td>\n",
       "      <td>254.43</td>\n",
       "    </tr>\n",
       "    <tr>\n",
       "      <th>29</th>\n",
       "      <td>XB</td>\n",
       "      <td>251.57</td>\n",
       "    </tr>\n",
       "    <tr>\n",
       "      <th>11</th>\n",
       "      <td>NES</td>\n",
       "      <td>251.05</td>\n",
       "    </tr>\n",
       "    <tr>\n",
       "      <th>10</th>\n",
       "      <td>N64</td>\n",
       "      <td>218.01</td>\n",
       "    </tr>\n",
       "    <tr>\n",
       "      <th>23</th>\n",
       "      <td>SNES</td>\n",
       "      <td>200.04</td>\n",
       "    </tr>\n",
       "    <tr>\n",
       "      <th>7</th>\n",
       "      <td>GC</td>\n",
       "      <td>196.73</td>\n",
       "    </tr>\n",
       "    <tr>\n",
       "      <th>30</th>\n",
       "      <td>XOne</td>\n",
       "      <td>159.32</td>\n",
       "    </tr>\n",
       "    <tr>\n",
       "      <th>0</th>\n",
       "      <td>2600</td>\n",
       "      <td>86.48</td>\n",
       "    </tr>\n",
       "    <tr>\n",
       "      <th>27</th>\n",
       "      <td>WiiU</td>\n",
       "      <td>82.19</td>\n",
       "    </tr>\n",
       "    <tr>\n",
       "      <th>20</th>\n",
       "      <td>PSV</td>\n",
       "      <td>53.81</td>\n",
       "    </tr>\n",
       "    <tr>\n",
       "      <th>21</th>\n",
       "      <td>SAT</td>\n",
       "      <td>33.59</td>\n",
       "    </tr>\n",
       "    <tr>\n",
       "      <th>8</th>\n",
       "      <td>GEN</td>\n",
       "      <td>28.35</td>\n",
       "    </tr>\n",
       "    <tr>\n",
       "      <th>3</th>\n",
       "      <td>DC</td>\n",
       "      <td>15.95</td>\n",
       "    </tr>\n",
       "    <tr>\n",
       "      <th>22</th>\n",
       "      <td>SCD</td>\n",
       "      <td>1.86</td>\n",
       "    </tr>\n",
       "    <tr>\n",
       "      <th>12</th>\n",
       "      <td>NG</td>\n",
       "      <td>1.44</td>\n",
       "    </tr>\n",
       "    <tr>\n",
       "      <th>25</th>\n",
       "      <td>WS</td>\n",
       "      <td>1.42</td>\n",
       "    </tr>\n",
       "    <tr>\n",
       "      <th>24</th>\n",
       "      <td>TG16</td>\n",
       "      <td>0.16</td>\n",
       "    </tr>\n",
       "    <tr>\n",
       "      <th>1</th>\n",
       "      <td>3DO</td>\n",
       "      <td>0.10</td>\n",
       "    </tr>\n",
       "    <tr>\n",
       "      <th>9</th>\n",
       "      <td>GG</td>\n",
       "      <td>0.04</td>\n",
       "    </tr>\n",
       "    <tr>\n",
       "      <th>14</th>\n",
       "      <td>PCFX</td>\n",
       "      <td>0.03</td>\n",
       "    </tr>\n",
       "  </tbody>\n",
       "</table>\n",
       "</div>"
      ],
      "text/plain": [
       "   platform  total_sales\n",
       "16      PS2      1233.56\n",
       "28     X360       961.24\n",
       "17      PS3       931.34\n",
       "26      Wii       891.18\n",
       "4        DS       802.78\n",
       "15       PS       727.58\n",
       "18      PS4       314.14\n",
       "6       GBA       312.88\n",
       "19      PSP       289.53\n",
       "2       3DS       257.81\n",
       "13       PC       255.76\n",
       "5        GB       254.43\n",
       "29       XB       251.57\n",
       "11      NES       251.05\n",
       "10      N64       218.01\n",
       "23     SNES       200.04\n",
       "7        GC       196.73\n",
       "30     XOne       159.32\n",
       "0      2600        86.48\n",
       "27     WiiU        82.19\n",
       "20      PSV        53.81\n",
       "21      SAT        33.59\n",
       "8       GEN        28.35\n",
       "3        DC        15.95\n",
       "22      SCD         1.86\n",
       "12       NG         1.44\n",
       "25       WS         1.42\n",
       "24     TG16         0.16\n",
       "1       3DO         0.10\n",
       "9        GG         0.04\n",
       "14     PCFX         0.03"
      ]
     },
     "metadata": {},
     "output_type": "display_data"
    },
    {
     "data": {
      "text/html": [
       "<div>\n",
       "<style scoped>\n",
       "    .dataframe tbody tr th:only-of-type {\n",
       "        vertical-align: middle;\n",
       "    }\n",
       "\n",
       "    .dataframe tbody tr th {\n",
       "        vertical-align: top;\n",
       "    }\n",
       "\n",
       "    .dataframe thead th {\n",
       "        text-align: right;\n",
       "    }\n",
       "</style>\n",
       "<table border=\"1\" class=\"dataframe\">\n",
       "  <thead>\n",
       "    <tr style=\"text-align: right;\">\n",
       "      <th></th>\n",
       "      <th>total_sales</th>\n",
       "    </tr>\n",
       "  </thead>\n",
       "  <tbody>\n",
       "    <tr>\n",
       "      <th>count</th>\n",
       "      <td>31.000000</td>\n",
       "    </tr>\n",
       "    <tr>\n",
       "      <th>mean</th>\n",
       "      <td>284.334516</td>\n",
       "    </tr>\n",
       "    <tr>\n",
       "      <th>std</th>\n",
       "      <td>343.954144</td>\n",
       "    </tr>\n",
       "    <tr>\n",
       "      <th>min</th>\n",
       "      <td>0.030000</td>\n",
       "    </tr>\n",
       "    <tr>\n",
       "      <th>25%</th>\n",
       "      <td>22.150000</td>\n",
       "    </tr>\n",
       "    <tr>\n",
       "      <th>50%</th>\n",
       "      <td>200.040000</td>\n",
       "    </tr>\n",
       "    <tr>\n",
       "      <th>75%</th>\n",
       "      <td>301.205000</td>\n",
       "    </tr>\n",
       "    <tr>\n",
       "      <th>max</th>\n",
       "      <td>1233.560000</td>\n",
       "    </tr>\n",
       "  </tbody>\n",
       "</table>\n",
       "</div>"
      ],
      "text/plain": [
       "       total_sales\n",
       "count    31.000000\n",
       "mean    284.334516\n",
       "std     343.954144\n",
       "min       0.030000\n",
       "25%      22.150000\n",
       "50%     200.040000\n",
       "75%     301.205000\n",
       "max    1233.560000"
      ]
     },
     "execution_count": 27,
     "metadata": {},
     "output_type": "execute_result"
    }
   ],
   "source": [
    "# для выбора платформ с наибольшими продажами применим функцию группировки по платформе с подсчетом количества проданных экз\n",
    "top_platform = games.groupby('platform')['total_sales'].sum().reset_index().sort_values(by = 'total_sales', \n",
    "                                                                                       ascending = False)\n",
    "#top_platform.columns = ['platform', 'sales']\n",
    "display(top_platform)\n",
    "top_platform.describe()"
   ]
  },
  {
   "cell_type": "markdown",
   "id": "19325c86",
   "metadata": {},
   "source": [
    "Для дальнейшего анализа возьмем платформы с продажами выше среднего в 284,3 млн экземпляров. В этот список попадет 9 самых популярных платформ"
   ]
  },
  {
   "cell_type": "code",
   "execution_count": 28,
   "id": "9a659f06",
   "metadata": {},
   "outputs": [
    {
     "data": {
      "text/html": [
       "<div>\n",
       "<style scoped>\n",
       "    .dataframe tbody tr th:only-of-type {\n",
       "        vertical-align: middle;\n",
       "    }\n",
       "\n",
       "    .dataframe tbody tr th {\n",
       "        vertical-align: top;\n",
       "    }\n",
       "\n",
       "    .dataframe thead th {\n",
       "        text-align: right;\n",
       "    }\n",
       "</style>\n",
       "<table border=\"1\" class=\"dataframe\">\n",
       "  <thead>\n",
       "    <tr style=\"text-align: right;\">\n",
       "      <th></th>\n",
       "      <th>name</th>\n",
       "      <th>platform</th>\n",
       "      <th>year_of_release</th>\n",
       "      <th>genre</th>\n",
       "      <th>na_sales</th>\n",
       "      <th>eu_sales</th>\n",
       "      <th>jp_sales</th>\n",
       "      <th>other_sales</th>\n",
       "      <th>critic_score</th>\n",
       "      <th>user_score</th>\n",
       "      <th>rating</th>\n",
       "      <th>total_sales</th>\n",
       "    </tr>\n",
       "  </thead>\n",
       "  <tbody>\n",
       "    <tr>\n",
       "      <th>0</th>\n",
       "      <td>Wii Sports</td>\n",
       "      <td>Wii</td>\n",
       "      <td>2006</td>\n",
       "      <td>Sports</td>\n",
       "      <td>41.36</td>\n",
       "      <td>28.96</td>\n",
       "      <td>3.77</td>\n",
       "      <td>8.45</td>\n",
       "      <td>76.0</td>\n",
       "      <td>8.0</td>\n",
       "      <td>E</td>\n",
       "      <td>82.54</td>\n",
       "    </tr>\n",
       "    <tr>\n",
       "      <th>2</th>\n",
       "      <td>Mario Kart Wii</td>\n",
       "      <td>Wii</td>\n",
       "      <td>2008</td>\n",
       "      <td>Racing</td>\n",
       "      <td>15.68</td>\n",
       "      <td>12.76</td>\n",
       "      <td>3.79</td>\n",
       "      <td>3.29</td>\n",
       "      <td>82.0</td>\n",
       "      <td>8.3</td>\n",
       "      <td>E</td>\n",
       "      <td>35.52</td>\n",
       "    </tr>\n",
       "    <tr>\n",
       "      <th>3</th>\n",
       "      <td>Wii Sports Resort</td>\n",
       "      <td>Wii</td>\n",
       "      <td>2009</td>\n",
       "      <td>Sports</td>\n",
       "      <td>15.61</td>\n",
       "      <td>10.93</td>\n",
       "      <td>3.28</td>\n",
       "      <td>2.95</td>\n",
       "      <td>80.0</td>\n",
       "      <td>8.0</td>\n",
       "      <td>E</td>\n",
       "      <td>32.77</td>\n",
       "    </tr>\n",
       "    <tr>\n",
       "      <th>6</th>\n",
       "      <td>New Super Mario Bros.</td>\n",
       "      <td>DS</td>\n",
       "      <td>2006</td>\n",
       "      <td>Platform</td>\n",
       "      <td>11.28</td>\n",
       "      <td>9.14</td>\n",
       "      <td>6.50</td>\n",
       "      <td>2.88</td>\n",
       "      <td>89.0</td>\n",
       "      <td>8.5</td>\n",
       "      <td>E</td>\n",
       "      <td>29.80</td>\n",
       "    </tr>\n",
       "    <tr>\n",
       "      <th>7</th>\n",
       "      <td>Wii Play</td>\n",
       "      <td>Wii</td>\n",
       "      <td>2006</td>\n",
       "      <td>Misc</td>\n",
       "      <td>13.96</td>\n",
       "      <td>9.18</td>\n",
       "      <td>2.93</td>\n",
       "      <td>2.84</td>\n",
       "      <td>58.0</td>\n",
       "      <td>6.6</td>\n",
       "      <td>E</td>\n",
       "      <td>28.91</td>\n",
       "    </tr>\n",
       "    <tr>\n",
       "      <th>...</th>\n",
       "      <td>...</td>\n",
       "      <td>...</td>\n",
       "      <td>...</td>\n",
       "      <td>...</td>\n",
       "      <td>...</td>\n",
       "      <td>...</td>\n",
       "      <td>...</td>\n",
       "      <td>...</td>\n",
       "      <td>...</td>\n",
       "      <td>...</td>\n",
       "      <td>...</td>\n",
       "      <td>...</td>\n",
       "    </tr>\n",
       "    <tr>\n",
       "      <th>16708</th>\n",
       "      <td>Woody Woodpecker in Crazy Castle 5</td>\n",
       "      <td>GBA</td>\n",
       "      <td>2002</td>\n",
       "      <td>Platform</td>\n",
       "      <td>0.01</td>\n",
       "      <td>0.00</td>\n",
       "      <td>0.00</td>\n",
       "      <td>0.00</td>\n",
       "      <td>NaN</td>\n",
       "      <td>NaN</td>\n",
       "      <td>no_rating</td>\n",
       "      <td>0.01</td>\n",
       "    </tr>\n",
       "    <tr>\n",
       "      <th>16709</th>\n",
       "      <td>SCORE International Baja 1000: The Official Game</td>\n",
       "      <td>PS2</td>\n",
       "      <td>2008</td>\n",
       "      <td>Racing</td>\n",
       "      <td>0.00</td>\n",
       "      <td>0.00</td>\n",
       "      <td>0.00</td>\n",
       "      <td>0.00</td>\n",
       "      <td>NaN</td>\n",
       "      <td>NaN</td>\n",
       "      <td>no_rating</td>\n",
       "      <td>0.00</td>\n",
       "    </tr>\n",
       "    <tr>\n",
       "      <th>16710</th>\n",
       "      <td>Samurai Warriors: Sanada Maru</td>\n",
       "      <td>PS3</td>\n",
       "      <td>2016</td>\n",
       "      <td>Action</td>\n",
       "      <td>0.00</td>\n",
       "      <td>0.00</td>\n",
       "      <td>0.01</td>\n",
       "      <td>0.00</td>\n",
       "      <td>NaN</td>\n",
       "      <td>NaN</td>\n",
       "      <td>no_rating</td>\n",
       "      <td>0.01</td>\n",
       "    </tr>\n",
       "    <tr>\n",
       "      <th>16711</th>\n",
       "      <td>LMA Manager 2007</td>\n",
       "      <td>X360</td>\n",
       "      <td>2006</td>\n",
       "      <td>Sports</td>\n",
       "      <td>0.00</td>\n",
       "      <td>0.01</td>\n",
       "      <td>0.00</td>\n",
       "      <td>0.00</td>\n",
       "      <td>NaN</td>\n",
       "      <td>NaN</td>\n",
       "      <td>no_rating</td>\n",
       "      <td>0.01</td>\n",
       "    </tr>\n",
       "    <tr>\n",
       "      <th>16713</th>\n",
       "      <td>Spirits &amp; Spells</td>\n",
       "      <td>GBA</td>\n",
       "      <td>2003</td>\n",
       "      <td>Platform</td>\n",
       "      <td>0.01</td>\n",
       "      <td>0.00</td>\n",
       "      <td>0.00</td>\n",
       "      <td>0.00</td>\n",
       "      <td>NaN</td>\n",
       "      <td>NaN</td>\n",
       "      <td>no_rating</td>\n",
       "      <td>0.01</td>\n",
       "    </tr>\n",
       "  </tbody>\n",
       "</table>\n",
       "<p>11658 rows × 12 columns</p>\n",
       "</div>"
      ],
      "text/plain": [
       "                                                   name platform  \\\n",
       "0                                            Wii Sports      Wii   \n",
       "2                                        Mario Kart Wii      Wii   \n",
       "3                                     Wii Sports Resort      Wii   \n",
       "6                                 New Super Mario Bros.       DS   \n",
       "7                                              Wii Play      Wii   \n",
       "...                                                 ...      ...   \n",
       "16708                Woody Woodpecker in Crazy Castle 5      GBA   \n",
       "16709  SCORE International Baja 1000: The Official Game      PS2   \n",
       "16710                     Samurai Warriors: Sanada Maru      PS3   \n",
       "16711                                  LMA Manager 2007     X360   \n",
       "16713                                  Spirits & Spells      GBA   \n",
       "\n",
       "       year_of_release     genre  na_sales  eu_sales  jp_sales  other_sales  \\\n",
       "0                 2006    Sports     41.36     28.96      3.77         8.45   \n",
       "2                 2008    Racing     15.68     12.76      3.79         3.29   \n",
       "3                 2009    Sports     15.61     10.93      3.28         2.95   \n",
       "6                 2006  Platform     11.28      9.14      6.50         2.88   \n",
       "7                 2006      Misc     13.96      9.18      2.93         2.84   \n",
       "...                ...       ...       ...       ...       ...          ...   \n",
       "16708             2002  Platform      0.01      0.00      0.00         0.00   \n",
       "16709             2008    Racing      0.00      0.00      0.00         0.00   \n",
       "16710             2016    Action      0.00      0.00      0.01         0.00   \n",
       "16711             2006    Sports      0.00      0.01      0.00         0.00   \n",
       "16713             2003  Platform      0.01      0.00      0.00         0.00   \n",
       "\n",
       "       critic_score  user_score     rating  total_sales  \n",
       "0              76.0         8.0          E        82.54  \n",
       "2              82.0         8.3          E        35.52  \n",
       "3              80.0         8.0          E        32.77  \n",
       "6              89.0         8.5          E        29.80  \n",
       "7              58.0         6.6          E        28.91  \n",
       "...             ...         ...        ...          ...  \n",
       "16708           NaN         NaN  no_rating         0.01  \n",
       "16709           NaN         NaN  no_rating         0.00  \n",
       "16710           NaN         NaN  no_rating         0.01  \n",
       "16711           NaN         NaN  no_rating         0.01  \n",
       "16713           NaN         NaN  no_rating         0.01  \n",
       "\n",
       "[11658 rows x 12 columns]"
      ]
     },
     "metadata": {},
     "output_type": "display_data"
    }
   ],
   "source": [
    "# оставим в переменной top_platform только платформы с общими продажами более 284 млн экз\n",
    "top_platform = top_platform.query('total_sales > 284')\n",
    "# и из общих данных оставим только данные по продажам ТОП платформ\n",
    "top_patform_data = games.query(\"platform in @top_platform['platform'].unique()\")\n",
    "display(top_patform_data)"
   ]
  },
  {
   "cell_type": "code",
   "execution_count": 29,
   "id": "2749550f",
   "metadata": {},
   "outputs": [
    {
     "data": {
      "text/html": [
       "<div>\n",
       "<style scoped>\n",
       "    .dataframe tbody tr th:only-of-type {\n",
       "        vertical-align: middle;\n",
       "    }\n",
       "\n",
       "    .dataframe tbody tr th {\n",
       "        vertical-align: top;\n",
       "    }\n",
       "\n",
       "    .dataframe thead th {\n",
       "        text-align: right;\n",
       "    }\n",
       "</style>\n",
       "<table border=\"1\" class=\"dataframe\">\n",
       "  <thead>\n",
       "    <tr style=\"text-align: right;\">\n",
       "      <th>platform</th>\n",
       "      <th>year_of_release</th>\n",
       "      <th>DS</th>\n",
       "      <th>GBA</th>\n",
       "      <th>PS</th>\n",
       "      <th>PS2</th>\n",
       "      <th>PS3</th>\n",
       "      <th>PS4</th>\n",
       "      <th>PSP</th>\n",
       "      <th>Wii</th>\n",
       "      <th>X360</th>\n",
       "    </tr>\n",
       "  </thead>\n",
       "  <tbody>\n",
       "    <tr>\n",
       "      <th>0</th>\n",
       "      <td>1985</td>\n",
       "      <td>0.02</td>\n",
       "      <td>0.00</td>\n",
       "      <td>0.00</td>\n",
       "      <td>0.00</td>\n",
       "      <td>0.00</td>\n",
       "      <td>0.00</td>\n",
       "      <td>0.00</td>\n",
       "      <td>0.00</td>\n",
       "      <td>0.00</td>\n",
       "    </tr>\n",
       "    <tr>\n",
       "      <th>1</th>\n",
       "      <td>1994</td>\n",
       "      <td>0.00</td>\n",
       "      <td>0.00</td>\n",
       "      <td>6.03</td>\n",
       "      <td>0.00</td>\n",
       "      <td>0.00</td>\n",
       "      <td>0.00</td>\n",
       "      <td>0.00</td>\n",
       "      <td>0.00</td>\n",
       "      <td>0.00</td>\n",
       "    </tr>\n",
       "    <tr>\n",
       "      <th>2</th>\n",
       "      <td>1995</td>\n",
       "      <td>0.00</td>\n",
       "      <td>0.00</td>\n",
       "      <td>35.96</td>\n",
       "      <td>0.00</td>\n",
       "      <td>0.00</td>\n",
       "      <td>0.00</td>\n",
       "      <td>0.00</td>\n",
       "      <td>0.00</td>\n",
       "      <td>0.00</td>\n",
       "    </tr>\n",
       "    <tr>\n",
       "      <th>3</th>\n",
       "      <td>1996</td>\n",
       "      <td>0.00</td>\n",
       "      <td>0.00</td>\n",
       "      <td>94.70</td>\n",
       "      <td>0.00</td>\n",
       "      <td>0.00</td>\n",
       "      <td>0.00</td>\n",
       "      <td>0.00</td>\n",
       "      <td>0.00</td>\n",
       "      <td>0.00</td>\n",
       "    </tr>\n",
       "    <tr>\n",
       "      <th>4</th>\n",
       "      <td>1997</td>\n",
       "      <td>0.00</td>\n",
       "      <td>0.00</td>\n",
       "      <td>136.17</td>\n",
       "      <td>0.00</td>\n",
       "      <td>0.00</td>\n",
       "      <td>0.00</td>\n",
       "      <td>0.00</td>\n",
       "      <td>0.00</td>\n",
       "      <td>0.00</td>\n",
       "    </tr>\n",
       "    <tr>\n",
       "      <th>5</th>\n",
       "      <td>1998</td>\n",
       "      <td>0.00</td>\n",
       "      <td>0.00</td>\n",
       "      <td>169.49</td>\n",
       "      <td>0.00</td>\n",
       "      <td>0.00</td>\n",
       "      <td>0.00</td>\n",
       "      <td>0.00</td>\n",
       "      <td>0.00</td>\n",
       "      <td>0.00</td>\n",
       "    </tr>\n",
       "    <tr>\n",
       "      <th>6</th>\n",
       "      <td>1999</td>\n",
       "      <td>0.00</td>\n",
       "      <td>0.00</td>\n",
       "      <td>144.53</td>\n",
       "      <td>0.00</td>\n",
       "      <td>0.00</td>\n",
       "      <td>0.00</td>\n",
       "      <td>0.00</td>\n",
       "      <td>0.00</td>\n",
       "      <td>0.00</td>\n",
       "    </tr>\n",
       "    <tr>\n",
       "      <th>7</th>\n",
       "      <td>2000</td>\n",
       "      <td>0.00</td>\n",
       "      <td>0.07</td>\n",
       "      <td>96.37</td>\n",
       "      <td>39.17</td>\n",
       "      <td>0.00</td>\n",
       "      <td>0.00</td>\n",
       "      <td>0.00</td>\n",
       "      <td>0.00</td>\n",
       "      <td>0.00</td>\n",
       "    </tr>\n",
       "    <tr>\n",
       "      <th>8</th>\n",
       "      <td>2001</td>\n",
       "      <td>0.00</td>\n",
       "      <td>61.53</td>\n",
       "      <td>35.59</td>\n",
       "      <td>166.43</td>\n",
       "      <td>0.00</td>\n",
       "      <td>0.00</td>\n",
       "      <td>0.00</td>\n",
       "      <td>0.00</td>\n",
       "      <td>0.00</td>\n",
       "    </tr>\n",
       "    <tr>\n",
       "      <th>9</th>\n",
       "      <td>2002</td>\n",
       "      <td>0.00</td>\n",
       "      <td>74.16</td>\n",
       "      <td>6.67</td>\n",
       "      <td>205.38</td>\n",
       "      <td>0.00</td>\n",
       "      <td>0.00</td>\n",
       "      <td>0.00</td>\n",
       "      <td>0.00</td>\n",
       "      <td>0.00</td>\n",
       "    </tr>\n",
       "    <tr>\n",
       "      <th>10</th>\n",
       "      <td>2003</td>\n",
       "      <td>0.00</td>\n",
       "      <td>56.67</td>\n",
       "      <td>2.07</td>\n",
       "      <td>184.31</td>\n",
       "      <td>0.00</td>\n",
       "      <td>0.00</td>\n",
       "      <td>0.00</td>\n",
       "      <td>0.00</td>\n",
       "      <td>0.00</td>\n",
       "    </tr>\n",
       "    <tr>\n",
       "      <th>11</th>\n",
       "      <td>2004</td>\n",
       "      <td>17.27</td>\n",
       "      <td>77.91</td>\n",
       "      <td>0.00</td>\n",
       "      <td>211.81</td>\n",
       "      <td>0.00</td>\n",
       "      <td>0.00</td>\n",
       "      <td>7.06</td>\n",
       "      <td>0.00</td>\n",
       "      <td>0.00</td>\n",
       "    </tr>\n",
       "    <tr>\n",
       "      <th>12</th>\n",
       "      <td>2005</td>\n",
       "      <td>130.14</td>\n",
       "      <td>33.86</td>\n",
       "      <td>0.00</td>\n",
       "      <td>160.66</td>\n",
       "      <td>0.00</td>\n",
       "      <td>0.00</td>\n",
       "      <td>43.84</td>\n",
       "      <td>0.00</td>\n",
       "      <td>8.25</td>\n",
       "    </tr>\n",
       "    <tr>\n",
       "      <th>13</th>\n",
       "      <td>2006</td>\n",
       "      <td>119.81</td>\n",
       "      <td>5.28</td>\n",
       "      <td>0.00</td>\n",
       "      <td>103.42</td>\n",
       "      <td>20.96</td>\n",
       "      <td>0.00</td>\n",
       "      <td>55.32</td>\n",
       "      <td>137.15</td>\n",
       "      <td>51.62</td>\n",
       "    </tr>\n",
       "    <tr>\n",
       "      <th>14</th>\n",
       "      <td>2007</td>\n",
       "      <td>146.94</td>\n",
       "      <td>3.40</td>\n",
       "      <td>0.00</td>\n",
       "      <td>75.99</td>\n",
       "      <td>73.19</td>\n",
       "      <td>0.00</td>\n",
       "      <td>46.93</td>\n",
       "      <td>152.77</td>\n",
       "      <td>95.41</td>\n",
       "    </tr>\n",
       "    <tr>\n",
       "      <th>15</th>\n",
       "      <td>2008</td>\n",
       "      <td>145.31</td>\n",
       "      <td>0.00</td>\n",
       "      <td>0.00</td>\n",
       "      <td>53.90</td>\n",
       "      <td>118.52</td>\n",
       "      <td>0.00</td>\n",
       "      <td>34.55</td>\n",
       "      <td>171.32</td>\n",
       "      <td>135.26</td>\n",
       "    </tr>\n",
       "    <tr>\n",
       "      <th>16</th>\n",
       "      <td>2009</td>\n",
       "      <td>119.54</td>\n",
       "      <td>0.00</td>\n",
       "      <td>0.00</td>\n",
       "      <td>26.40</td>\n",
       "      <td>130.93</td>\n",
       "      <td>0.00</td>\n",
       "      <td>37.78</td>\n",
       "      <td>206.97</td>\n",
       "      <td>120.29</td>\n",
       "    </tr>\n",
       "    <tr>\n",
       "      <th>17</th>\n",
       "      <td>2010</td>\n",
       "      <td>85.02</td>\n",
       "      <td>0.00</td>\n",
       "      <td>0.00</td>\n",
       "      <td>5.64</td>\n",
       "      <td>142.17</td>\n",
       "      <td>0.00</td>\n",
       "      <td>35.04</td>\n",
       "      <td>127.95</td>\n",
       "      <td>170.03</td>\n",
       "    </tr>\n",
       "    <tr>\n",
       "      <th>18</th>\n",
       "      <td>2011</td>\n",
       "      <td>26.18</td>\n",
       "      <td>0.00</td>\n",
       "      <td>0.00</td>\n",
       "      <td>0.45</td>\n",
       "      <td>156.78</td>\n",
       "      <td>0.00</td>\n",
       "      <td>17.82</td>\n",
       "      <td>59.65</td>\n",
       "      <td>143.84</td>\n",
       "    </tr>\n",
       "    <tr>\n",
       "      <th>19</th>\n",
       "      <td>2012</td>\n",
       "      <td>11.01</td>\n",
       "      <td>0.00</td>\n",
       "      <td>0.00</td>\n",
       "      <td>0.00</td>\n",
       "      <td>107.36</td>\n",
       "      <td>0.00</td>\n",
       "      <td>7.69</td>\n",
       "      <td>21.71</td>\n",
       "      <td>99.74</td>\n",
       "    </tr>\n",
       "    <tr>\n",
       "      <th>20</th>\n",
       "      <td>2013</td>\n",
       "      <td>1.54</td>\n",
       "      <td>0.00</td>\n",
       "      <td>0.00</td>\n",
       "      <td>0.00</td>\n",
       "      <td>113.25</td>\n",
       "      <td>25.99</td>\n",
       "      <td>3.14</td>\n",
       "      <td>8.59</td>\n",
       "      <td>88.58</td>\n",
       "    </tr>\n",
       "    <tr>\n",
       "      <th>21</th>\n",
       "      <td>2014</td>\n",
       "      <td>0.00</td>\n",
       "      <td>0.00</td>\n",
       "      <td>0.00</td>\n",
       "      <td>0.00</td>\n",
       "      <td>47.76</td>\n",
       "      <td>100.00</td>\n",
       "      <td>0.24</td>\n",
       "      <td>3.75</td>\n",
       "      <td>34.74</td>\n",
       "    </tr>\n",
       "    <tr>\n",
       "      <th>22</th>\n",
       "      <td>2015</td>\n",
       "      <td>0.00</td>\n",
       "      <td>0.00</td>\n",
       "      <td>0.00</td>\n",
       "      <td>0.00</td>\n",
       "      <td>16.82</td>\n",
       "      <td>118.90</td>\n",
       "      <td>0.12</td>\n",
       "      <td>1.14</td>\n",
       "      <td>11.96</td>\n",
       "    </tr>\n",
       "    <tr>\n",
       "      <th>23</th>\n",
       "      <td>2016</td>\n",
       "      <td>0.00</td>\n",
       "      <td>0.00</td>\n",
       "      <td>0.00</td>\n",
       "      <td>0.00</td>\n",
       "      <td>3.60</td>\n",
       "      <td>69.25</td>\n",
       "      <td>0.00</td>\n",
       "      <td>0.18</td>\n",
       "      <td>1.52</td>\n",
       "    </tr>\n",
       "  </tbody>\n",
       "</table>\n",
       "</div>"
      ],
      "text/plain": [
       "platform  year_of_release      DS    GBA      PS     PS2     PS3     PS4  \\\n",
       "0                    1985    0.02   0.00    0.00    0.00    0.00    0.00   \n",
       "1                    1994    0.00   0.00    6.03    0.00    0.00    0.00   \n",
       "2                    1995    0.00   0.00   35.96    0.00    0.00    0.00   \n",
       "3                    1996    0.00   0.00   94.70    0.00    0.00    0.00   \n",
       "4                    1997    0.00   0.00  136.17    0.00    0.00    0.00   \n",
       "5                    1998    0.00   0.00  169.49    0.00    0.00    0.00   \n",
       "6                    1999    0.00   0.00  144.53    0.00    0.00    0.00   \n",
       "7                    2000    0.00   0.07   96.37   39.17    0.00    0.00   \n",
       "8                    2001    0.00  61.53   35.59  166.43    0.00    0.00   \n",
       "9                    2002    0.00  74.16    6.67  205.38    0.00    0.00   \n",
       "10                   2003    0.00  56.67    2.07  184.31    0.00    0.00   \n",
       "11                   2004   17.27  77.91    0.00  211.81    0.00    0.00   \n",
       "12                   2005  130.14  33.86    0.00  160.66    0.00    0.00   \n",
       "13                   2006  119.81   5.28    0.00  103.42   20.96    0.00   \n",
       "14                   2007  146.94   3.40    0.00   75.99   73.19    0.00   \n",
       "15                   2008  145.31   0.00    0.00   53.90  118.52    0.00   \n",
       "16                   2009  119.54   0.00    0.00   26.40  130.93    0.00   \n",
       "17                   2010   85.02   0.00    0.00    5.64  142.17    0.00   \n",
       "18                   2011   26.18   0.00    0.00    0.45  156.78    0.00   \n",
       "19                   2012   11.01   0.00    0.00    0.00  107.36    0.00   \n",
       "20                   2013    1.54   0.00    0.00    0.00  113.25   25.99   \n",
       "21                   2014    0.00   0.00    0.00    0.00   47.76  100.00   \n",
       "22                   2015    0.00   0.00    0.00    0.00   16.82  118.90   \n",
       "23                   2016    0.00   0.00    0.00    0.00    3.60   69.25   \n",
       "\n",
       "platform    PSP     Wii    X360  \n",
       "0          0.00    0.00    0.00  \n",
       "1          0.00    0.00    0.00  \n",
       "2          0.00    0.00    0.00  \n",
       "3          0.00    0.00    0.00  \n",
       "4          0.00    0.00    0.00  \n",
       "5          0.00    0.00    0.00  \n",
       "6          0.00    0.00    0.00  \n",
       "7          0.00    0.00    0.00  \n",
       "8          0.00    0.00    0.00  \n",
       "9          0.00    0.00    0.00  \n",
       "10         0.00    0.00    0.00  \n",
       "11         7.06    0.00    0.00  \n",
       "12        43.84    0.00    8.25  \n",
       "13        55.32  137.15   51.62  \n",
       "14        46.93  152.77   95.41  \n",
       "15        34.55  171.32  135.26  \n",
       "16        37.78  206.97  120.29  \n",
       "17        35.04  127.95  170.03  \n",
       "18        17.82   59.65  143.84  \n",
       "19         7.69   21.71   99.74  \n",
       "20         3.14    8.59   88.58  \n",
       "21         0.24    3.75   34.74  \n",
       "22         0.12    1.14   11.96  \n",
       "23         0.00    0.18    1.52  "
      ]
     },
     "metadata": {},
     "output_type": "display_data"
    }
   ],
   "source": [
    "# сформируем таблицу с продажами по годам и платформам по годам, колонки - платформы, суммируя общие продажи\n",
    "\n",
    "sales_by_platform = top_patform_data.pivot_table(index = ['year_of_release'], columns = 'platform', \n",
    "                                     values = 'total_sales', aggfunc = 'sum' ).reset_index()\n",
    "# заполним пропуски нулями\n",
    "sales_by_platform = sales_by_platform.fillna(0)\n",
    "\n",
    "display(sales_by_platform)"
   ]
  },
  {
   "cell_type": "markdown",
   "id": "b7bacf20",
   "metadata": {},
   "source": [
    "Список сформирован, теперь мы знаем какие продажи были у каждой платформы по годам. Теперь необходимо графически отобразить эти продажи, что бы можно было ответить на вопрос - \"За какой характерный срок появляются новые и исчезают старые платформы?\""
   ]
  },
  {
   "cell_type": "code",
   "execution_count": 30,
   "id": "17237d2f",
   "metadata": {
    "scrolled": true
   },
   "outputs": [
    {
     "data": {
      "text/plain": [
       "<function matplotlib.pyplot.show(close=None, block=None)>"
      ]
     },
     "execution_count": 30,
     "metadata": {},
     "output_type": "execute_result"
    },
    {
     "data": {
      "image/png": "[encoded data removed]",
      "text/plain": [
       "<Figure size 1080x360 with 1 Axes>"
      ]
     },
     "metadata": {
      "needs_background": "light"
     },
     "output_type": "display_data"
    }
   ],
   "source": [
    "# зададим размер нашего графика\n",
    "plt.figure(figsize=(15, 5))\n",
    "\n",
    "# для построения графиков осью Х выберем года\n",
    "x = sales_by_platform['year_of_release']\n",
    "\n",
    "# в качестве Y нам нужны продажи по платформам\n",
    "# так как платформ несколько, напишем цикл перебора ТОП платформ \n",
    "for y in top_platform['platform'].unique():\n",
    "    plt.plot(x, sales_by_platform[y], label = y)\n",
    "\n",
    "plt.title('График популярности платформ')  # подпись графика\n",
    "plt.xlabel('Год')  # ось Х\n",
    "plt.ylabel('Кол-во проданных игр')   # ось Н \n",
    "plt.legend()  # вывод подписей линий графика\n",
    "plt.grid()  # выведем решетку\n",
    "\n",
    "plt.show"
   ]
  },
  {
   "cell_type": "markdown",
   "id": "dc6bc77c",
   "metadata": {},
   "source": [
    "**Выводы из графиков продаж по платформам**\n",
    "- до 1994 года не было игровых платформ  с большими продажами игр к ним\n",
    "- после появления платформы продажи игр к ней растут 3-4 года, 4-5 года эти пики популярности, после этого продажи начинают снижаться\n",
    "- средний срок существования игровой платформы - около 8 лет"
   ]
  },
  {
   "cell_type": "markdown",
   "id": "6aded628",
   "metadata": {},
   "source": [
    "### Следующий шаг в исследовании - определение актуального периода для дальнейшего анализа\n",
    "Сейчас мы находимся в конце 2016 года, и цель исследования - определение стратегии на 2017 год. \n",
    "\n",
    "С учетом выводов из первого блока исследования, в котором говорилось, что с 2010 года общие продажи игр падают, а также с учетом того, что платформы существуют около 8 лет, из которых первая половина это рост продаж, а вторая - падение, считаю что для дальнейшего ислледования можно оставить только продажи после 2010 года. Таким образом в исследование попадут продажи, соответствующие текущему поведению рынка игр, и платформы, находящиеся еще в активной фазе существования"
   ]
  },
  {
   "cell_type": "code",
   "execution_count": 31,
   "id": "21d5082e",
   "metadata": {
    "scrolled": true
   },
   "outputs": [
    {
     "data": {
      "text/html": [
       "<div>\n",
       "<style scoped>\n",
       "    .dataframe tbody tr th:only-of-type {\n",
       "        vertical-align: middle;\n",
       "    }\n",
       "\n",
       "    .dataframe tbody tr th {\n",
       "        vertical-align: top;\n",
       "    }\n",
       "\n",
       "    .dataframe thead th {\n",
       "        text-align: right;\n",
       "    }\n",
       "</style>\n",
       "<table border=\"1\" class=\"dataframe\">\n",
       "  <thead>\n",
       "    <tr style=\"text-align: right;\">\n",
       "      <th></th>\n",
       "      <th>name</th>\n",
       "      <th>platform</th>\n",
       "      <th>year_of_release</th>\n",
       "      <th>genre</th>\n",
       "      <th>na_sales</th>\n",
       "      <th>eu_sales</th>\n",
       "      <th>jp_sales</th>\n",
       "      <th>other_sales</th>\n",
       "      <th>critic_score</th>\n",
       "      <th>user_score</th>\n",
       "      <th>rating</th>\n",
       "      <th>total_sales</th>\n",
       "    </tr>\n",
       "  </thead>\n",
       "  <tbody>\n",
       "    <tr>\n",
       "      <th>16</th>\n",
       "      <td>Grand Theft Auto V</td>\n",
       "      <td>PS3</td>\n",
       "      <td>2013</td>\n",
       "      <td>Action</td>\n",
       "      <td>7.02</td>\n",
       "      <td>9.09</td>\n",
       "      <td>0.98</td>\n",
       "      <td>3.96</td>\n",
       "      <td>97.0</td>\n",
       "      <td>8.2</td>\n",
       "      <td>M</td>\n",
       "      <td>21.05</td>\n",
       "    </tr>\n",
       "    <tr>\n",
       "      <th>23</th>\n",
       "      <td>Grand Theft Auto V</td>\n",
       "      <td>X360</td>\n",
       "      <td>2013</td>\n",
       "      <td>Action</td>\n",
       "      <td>9.66</td>\n",
       "      <td>5.14</td>\n",
       "      <td>0.06</td>\n",
       "      <td>1.41</td>\n",
       "      <td>97.0</td>\n",
       "      <td>8.1</td>\n",
       "      <td>M</td>\n",
       "      <td>16.27</td>\n",
       "    </tr>\n",
       "    <tr>\n",
       "      <th>31</th>\n",
       "      <td>Call of Duty: Black Ops 3</td>\n",
       "      <td>PS4</td>\n",
       "      <td>2015</td>\n",
       "      <td>Shooter</td>\n",
       "      <td>6.03</td>\n",
       "      <td>5.86</td>\n",
       "      <td>0.36</td>\n",
       "      <td>2.38</td>\n",
       "      <td>NaN</td>\n",
       "      <td>NaN</td>\n",
       "      <td>no_rating</td>\n",
       "      <td>14.63</td>\n",
       "    </tr>\n",
       "    <tr>\n",
       "      <th>33</th>\n",
       "      <td>Pokemon X/Pokemon Y</td>\n",
       "      <td>3DS</td>\n",
       "      <td>2013</td>\n",
       "      <td>Role-Playing</td>\n",
       "      <td>5.28</td>\n",
       "      <td>4.19</td>\n",
       "      <td>4.35</td>\n",
       "      <td>0.78</td>\n",
       "      <td>NaN</td>\n",
       "      <td>NaN</td>\n",
       "      <td>no_rating</td>\n",
       "      <td>14.60</td>\n",
       "    </tr>\n",
       "    <tr>\n",
       "      <th>42</th>\n",
       "      <td>Grand Theft Auto V</td>\n",
       "      <td>PS4</td>\n",
       "      <td>2014</td>\n",
       "      <td>Action</td>\n",
       "      <td>3.96</td>\n",
       "      <td>6.31</td>\n",
       "      <td>0.38</td>\n",
       "      <td>1.97</td>\n",
       "      <td>97.0</td>\n",
       "      <td>8.3</td>\n",
       "      <td>M</td>\n",
       "      <td>12.62</td>\n",
       "    </tr>\n",
       "  </tbody>\n",
       "</table>\n",
       "</div>"
      ],
      "text/plain": [
       "                         name platform  year_of_release         genre  \\\n",
       "16         Grand Theft Auto V      PS3             2013        Action   \n",
       "23         Grand Theft Auto V     X360             2013        Action   \n",
       "31  Call of Duty: Black Ops 3      PS4             2015       Shooter   \n",
       "33        Pokemon X/Pokemon Y      3DS             2013  Role-Playing   \n",
       "42         Grand Theft Auto V      PS4             2014        Action   \n",
       "\n",
       "    na_sales  eu_sales  jp_sales  other_sales  critic_score  user_score  \\\n",
       "16      7.02      9.09      0.98         3.96          97.0         8.2   \n",
       "23      9.66      5.14      0.06         1.41          97.0         8.1   \n",
       "31      6.03      5.86      0.36         2.38           NaN         NaN   \n",
       "33      5.28      4.19      4.35         0.78           NaN         NaN   \n",
       "42      3.96      6.31      0.38         1.97          97.0         8.3   \n",
       "\n",
       "       rating  total_sales  \n",
       "16          M        21.05  \n",
       "23          M        16.27  \n",
       "31  no_rating        14.63  \n",
       "33  no_rating        14.60  \n",
       "42          M        12.62  "
      ]
     },
     "execution_count": 31,
     "metadata": {},
     "output_type": "execute_result"
    }
   ],
   "source": [
    "# из общего датафрейма выделим те игры, которые продавались после 2010 года включительно\n",
    "actual_platform = games.query('year_of_release > 2012')  # ранее было > 2009 года\n",
    "actual_platform.head()"
   ]
  },
  {
   "cell_type": "markdown",
   "id": "d0384b0f",
   "metadata": {},
   "source": [
    "В рассматриваемом периоде определим лидера продаж, а также тенденцию"
   ]
  },
  {
   "cell_type": "code",
   "execution_count": 32,
   "id": "35a41d90",
   "metadata": {
    "scrolled": true
   },
   "outputs": [
    {
     "data": {
      "text/html": [
       "<div>\n",
       "<style scoped>\n",
       "    .dataframe tbody tr th:only-of-type {\n",
       "        vertical-align: middle;\n",
       "    }\n",
       "\n",
       "    .dataframe tbody tr th {\n",
       "        vertical-align: top;\n",
       "    }\n",
       "\n",
       "    .dataframe thead th {\n",
       "        text-align: right;\n",
       "    }\n",
       "</style>\n",
       "<table border=\"1\" class=\"dataframe\">\n",
       "  <thead>\n",
       "    <tr style=\"text-align: right;\">\n",
       "      <th></th>\n",
       "      <th>platform</th>\n",
       "      <th>total_sales</th>\n",
       "    </tr>\n",
       "  </thead>\n",
       "  <tbody>\n",
       "    <tr>\n",
       "      <th>4</th>\n",
       "      <td>PS4</td>\n",
       "      <td>314.14</td>\n",
       "    </tr>\n",
       "    <tr>\n",
       "      <th>3</th>\n",
       "      <td>PS3</td>\n",
       "      <td>181.43</td>\n",
       "    </tr>\n",
       "    <tr>\n",
       "      <th>10</th>\n",
       "      <td>XOne</td>\n",
       "      <td>159.32</td>\n",
       "    </tr>\n",
       "    <tr>\n",
       "      <th>0</th>\n",
       "      <td>3DS</td>\n",
       "      <td>143.25</td>\n",
       "    </tr>\n",
       "    <tr>\n",
       "      <th>9</th>\n",
       "      <td>X360</td>\n",
       "      <td>136.80</td>\n",
       "    </tr>\n",
       "    <tr>\n",
       "      <th>8</th>\n",
       "      <td>WiiU</td>\n",
       "      <td>64.63</td>\n",
       "    </tr>\n",
       "    <tr>\n",
       "      <th>2</th>\n",
       "      <td>PC</td>\n",
       "      <td>39.43</td>\n",
       "    </tr>\n",
       "    <tr>\n",
       "      <th>6</th>\n",
       "      <td>PSV</td>\n",
       "      <td>32.99</td>\n",
       "    </tr>\n",
       "    <tr>\n",
       "      <th>7</th>\n",
       "      <td>Wii</td>\n",
       "      <td>13.66</td>\n",
       "    </tr>\n",
       "    <tr>\n",
       "      <th>5</th>\n",
       "      <td>PSP</td>\n",
       "      <td>3.50</td>\n",
       "    </tr>\n",
       "  </tbody>\n",
       "</table>\n",
       "</div>"
      ],
      "text/plain": [
       "   platform  total_sales\n",
       "4       PS4       314.14\n",
       "3       PS3       181.43\n",
       "10     XOne       159.32\n",
       "0       3DS       143.25\n",
       "9      X360       136.80\n",
       "8      WiiU        64.63\n",
       "2        PC        39.43\n",
       "6       PSV        32.99\n",
       "7       Wii        13.66\n",
       "5       PSP         3.50"
      ]
     },
     "execution_count": 32,
     "metadata": {},
     "output_type": "execute_result"
    }
   ],
   "source": [
    "# сгруппируем продажи по платформам и отсортируем по убыванию продаж\n",
    "actual_top_platform = actual_platform.groupby('platform')['total_sales'].sum().reset_index().sort_values(by = 'total_sales', \n",
    "                                                                                       ascending = False)\n",
    "actual_top_platform.head(10)"
   ]
  },
  {
   "cell_type": "markdown",
   "id": "861a0d65",
   "metadata": {},
   "source": [
    "Видим, каки платформы наиболее популярны за последине **АПДЕЙТ 4  года**, но для понимания какие из них продолжают расти, а какие падают в продажах сформируем сводную таблицу по продажам и построим график только для этих платформ"
   ]
  },
  {
   "cell_type": "code",
   "execution_count": 33,
   "id": "3d2fb4b3",
   "metadata": {},
   "outputs": [
    {
     "data": {
      "text/html": [
       "<div>\n",
       "<style scoped>\n",
       "    .dataframe tbody tr th:only-of-type {\n",
       "        vertical-align: middle;\n",
       "    }\n",
       "\n",
       "    .dataframe tbody tr th {\n",
       "        vertical-align: top;\n",
       "    }\n",
       "\n",
       "    .dataframe thead th {\n",
       "        text-align: right;\n",
       "    }\n",
       "</style>\n",
       "<table border=\"1\" class=\"dataframe\">\n",
       "  <thead>\n",
       "    <tr style=\"text-align: right;\">\n",
       "      <th>platform</th>\n",
       "      <th>year_of_release</th>\n",
       "      <th>3DS</th>\n",
       "      <th>DS</th>\n",
       "      <th>PC</th>\n",
       "      <th>PS3</th>\n",
       "      <th>PS4</th>\n",
       "      <th>PSP</th>\n",
       "      <th>PSV</th>\n",
       "      <th>Wii</th>\n",
       "      <th>WiiU</th>\n",
       "      <th>X360</th>\n",
       "      <th>XOne</th>\n",
       "    </tr>\n",
       "  </thead>\n",
       "  <tbody>\n",
       "    <tr>\n",
       "      <th>0</th>\n",
       "      <td>2013</td>\n",
       "      <td>56.57</td>\n",
       "      <td>1.54</td>\n",
       "      <td>12.38</td>\n",
       "      <td>113.25</td>\n",
       "      <td>25.99</td>\n",
       "      <td>3.14</td>\n",
       "      <td>10.59</td>\n",
       "      <td>8.59</td>\n",
       "      <td>21.65</td>\n",
       "      <td>88.58</td>\n",
       "      <td>18.96</td>\n",
       "    </tr>\n",
       "    <tr>\n",
       "      <th>1</th>\n",
       "      <td>2014</td>\n",
       "      <td>43.76</td>\n",
       "      <td>NaN</td>\n",
       "      <td>13.28</td>\n",
       "      <td>47.76</td>\n",
       "      <td>100.00</td>\n",
       "      <td>0.24</td>\n",
       "      <td>11.90</td>\n",
       "      <td>3.75</td>\n",
       "      <td>22.03</td>\n",
       "      <td>34.74</td>\n",
       "      <td>54.07</td>\n",
       "    </tr>\n",
       "    <tr>\n",
       "      <th>2</th>\n",
       "      <td>2015</td>\n",
       "      <td>27.78</td>\n",
       "      <td>NaN</td>\n",
       "      <td>8.52</td>\n",
       "      <td>16.82</td>\n",
       "      <td>118.90</td>\n",
       "      <td>0.12</td>\n",
       "      <td>6.25</td>\n",
       "      <td>1.14</td>\n",
       "      <td>16.35</td>\n",
       "      <td>11.96</td>\n",
       "      <td>60.14</td>\n",
       "    </tr>\n",
       "    <tr>\n",
       "      <th>3</th>\n",
       "      <td>2016</td>\n",
       "      <td>15.14</td>\n",
       "      <td>NaN</td>\n",
       "      <td>5.25</td>\n",
       "      <td>3.60</td>\n",
       "      <td>69.25</td>\n",
       "      <td>NaN</td>\n",
       "      <td>4.25</td>\n",
       "      <td>0.18</td>\n",
       "      <td>4.60</td>\n",
       "      <td>1.52</td>\n",
       "      <td>26.15</td>\n",
       "    </tr>\n",
       "  </tbody>\n",
       "</table>\n",
       "</div>"
      ],
      "text/plain": [
       "platform  year_of_release    3DS    DS     PC     PS3     PS4   PSP    PSV  \\\n",
       "0                    2013  56.57  1.54  12.38  113.25   25.99  3.14  10.59   \n",
       "1                    2014  43.76   NaN  13.28   47.76  100.00  0.24  11.90   \n",
       "2                    2015  27.78   NaN   8.52   16.82  118.90  0.12   6.25   \n",
       "3                    2016  15.14   NaN   5.25    3.60   69.25   NaN   4.25   \n",
       "\n",
       "platform   Wii   WiiU   X360   XOne  \n",
       "0         8.59  21.65  88.58  18.96  \n",
       "1         3.75  22.03  34.74  54.07  \n",
       "2         1.14  16.35  11.96  60.14  \n",
       "3         0.18   4.60   1.52  26.15  "
      ]
     },
     "execution_count": 33,
     "metadata": {},
     "output_type": "execute_result"
    }
   ],
   "source": [
    "# сформируем сводную таблицу общих продаж по годам и платформам из данных по продажам с 2010 года\n",
    "actual_platform_pivot = actual_platform.pivot_table(index = ['year_of_release'], columns = 'platform', \n",
    "                                     values = 'total_sales', aggfunc = 'sum' ).reset_index()\n",
    "actual_platform_pivot.head(10)"
   ]
  },
  {
   "cell_type": "code",
   "execution_count": 34,
   "id": "e678a56e",
   "metadata": {
    "scrolled": true
   },
   "outputs": [
    {
     "data": {
      "text/plain": [
       "<function matplotlib.pyplot.show(close=None, block=None)>"
      ]
     },
     "execution_count": 34,
     "metadata": {},
     "output_type": "execute_result"
    },
    {
     "data": {
      "image/png": "[encoded data removed]",
      "text/plain": [
       "<Figure size 1080x720 with 1 Axes>"
      ]
     },
     "metadata": {
      "needs_background": "light"
     },
     "output_type": "display_data"
    }
   ],
   "source": [
    "# зададим размер нашего графика\n",
    "plt.figure(figsize=(15, 10))\n",
    "\n",
    "# для построения графиков осью Х выберем года\n",
    "x = actual_platform_pivot['year_of_release']\n",
    "\n",
    "# в качестве Y нам нужны продажи по платформам\n",
    "# так как платформ несколько, напишем цикл перебора ТОП платформ \n",
    "for y in actual_top_platform['platform'].unique():\n",
    "    plt.plot(x, actual_platform_pivot[y], label = y)\n",
    "\n",
    "plt.title('График популярности актуальных платформ')  # подпись графика\n",
    "plt.xlabel('Год')  # ось Х\n",
    "plt.ylabel('Кол-во проданных игр')   # ось Н \n",
    "plt.legend()  # вывод подписей линий графика\n",
    "plt.grid()  # выведем решетку\n",
    "\n",
    "plt.show"
   ]
  },
  {
   "cell_type": "markdown",
   "id": "56186607",
   "metadata": {},
   "source": [
    "Из графиков продаж по актуальным платформам мы видим, что самые популярные из них - это PS4 и XOne, остальные платформы находятся на последних стадиях существования. Графики показывают снижение их продаж, но  мы смотрим на них в конце 2016 года, а значит данные за этот год наверняка неполные. Зная, что платформы \"живут\" около 8 лет, и пик популярности приходится на 4-5-й года платформы, можем сделать вывод, что 2016 должен стать одним из лучших для PS4 и XOne,  в 2017 году следует уделить внимание продаже игр именно для этих консолей, а также возможно ожидать появления нового поколения консолей."
   ]
  },
  {
   "cell_type": "markdown",
   "id": "2dba7c7e",
   "metadata": {},
   "source": [
    "Построим \"ящик с усами\" для самых популярных платформ."
   ]
  },
  {
   "cell_type": "code",
   "execution_count": 35,
   "id": "398ec6bc",
   "metadata": {},
   "outputs": [
    {
     "data": {
      "text/plain": [
       "(0.0, 17.0)"
      ]
     },
     "execution_count": 35,
     "metadata": {},
     "output_type": "execute_result"
    },
    {
     "data": {
      "image/png": "[encoded data removed]",
      "text/plain": [
       "<Figure size 1440x720 with 1 Axes>"
      ]
     },
     "metadata": {},
     "output_type": "display_data"
    }
   ],
   "source": [
    "# установим размеры графика\n",
    "sns.set(rc={'figure.figsize':(20,10)})\n",
    "# и выведем график разброса для каждой платформы по общим продажам\n",
    "sns.boxplot(x = actual_platform['total_sales'], y = actual_platform['platform']).set_xlim(0, 17)"
   ]
  },
  {
   "cell_type": "markdown",
   "id": "4d6db257",
   "metadata": {},
   "source": [
    "Для всех платформ, игры для которых продавались после 2009 года характерно большое количество выбросов на графике разброса и невысокое относительно этих выбросов медианное значение. Это означает, что для всех платформ выходит большое количество игр с очень небольшими продажами, менее 0,2-0,3 млн экземпляров, но большую часть продаж делают отдельные игры-хиты."
   ]
  },
  {
   "cell_type": "code",
   "execution_count": 36,
   "id": "82ab3467",
   "metadata": {},
   "outputs": [
    {
     "data": {
      "text/plain": [
       "(0.0, 17.0)"
      ]
     },
     "execution_count": 36,
     "metadata": {},
     "output_type": "execute_result"
    },
    {
     "data": {
      "image/png": "[encoded data removed]",
      "text/plain": [
       "<Figure size 720x360 with 1 Axes>"
      ]
     },
     "metadata": {},
     "output_type": "display_data"
    }
   ],
   "source": [
    "# для чуть более глубокого анализа посмотрим на график разброса для одной из платформ по годам\n",
    "XB360 = actual_platform.query('platform == \"X360\"')\n",
    "# установим размеры графика\n",
    "sns.set(rc={'figure.figsize':(10,5)})\n",
    "# и выведем график разброса для каждой платформы по общим продажам\n",
    "sns.boxplot(x = XB360['total_sales'], y = XB360['platform'], hue = actual_platform['year_of_release']).set_xlim(0, 17)"
   ]
  },
  {
   "cell_type": "markdown",
   "id": "73f3bbd4",
   "metadata": {},
   "source": [
    "В целом мы видим аналогичное распределение - в каждый год выпускаются игры, которые имеют минимальные продажи, и при этом в каждый год есть какое-то количество хитов. И, как мы видели на общем распределении продаж, после 2013 года и общий объем продаж и количество хитов - снижаются."
   ]
  },
  {
   "cell_type": "markdown",
   "id": "a1abbd4a",
   "metadata": {},
   "source": [
    "Посмотрим, как влияют на продажи отзывы пользователей и критиков. Для анализа возьмем платформу PS4, как современную платформу с высокими продажами."
   ]
  },
  {
   "cell_type": "code",
   "execution_count": 37,
   "id": "37282cbf",
   "metadata": {
    "scrolled": true
   },
   "outputs": [
    {
     "data": {
      "text/html": [
       "<div>\n",
       "<style scoped>\n",
       "    .dataframe tbody tr th:only-of-type {\n",
       "        vertical-align: middle;\n",
       "    }\n",
       "\n",
       "    .dataframe tbody tr th {\n",
       "        vertical-align: top;\n",
       "    }\n",
       "\n",
       "    .dataframe thead th {\n",
       "        text-align: right;\n",
       "    }\n",
       "</style>\n",
       "<table border=\"1\" class=\"dataframe\">\n",
       "  <thead>\n",
       "    <tr style=\"text-align: right;\">\n",
       "      <th></th>\n",
       "      <th>name</th>\n",
       "      <th>platform</th>\n",
       "      <th>year_of_release</th>\n",
       "      <th>genre</th>\n",
       "      <th>na_sales</th>\n",
       "      <th>eu_sales</th>\n",
       "      <th>jp_sales</th>\n",
       "      <th>other_sales</th>\n",
       "      <th>critic_score</th>\n",
       "      <th>user_score</th>\n",
       "      <th>rating</th>\n",
       "      <th>total_sales</th>\n",
       "    </tr>\n",
       "  </thead>\n",
       "  <tbody>\n",
       "    <tr>\n",
       "      <th>31</th>\n",
       "      <td>Call of Duty: Black Ops 3</td>\n",
       "      <td>PS4</td>\n",
       "      <td>2015</td>\n",
       "      <td>Shooter</td>\n",
       "      <td>6.03</td>\n",
       "      <td>5.86</td>\n",
       "      <td>0.36</td>\n",
       "      <td>2.38</td>\n",
       "      <td>NaN</td>\n",
       "      <td>NaN</td>\n",
       "      <td>no_rating</td>\n",
       "      <td>14.63</td>\n",
       "    </tr>\n",
       "    <tr>\n",
       "      <th>42</th>\n",
       "      <td>Grand Theft Auto V</td>\n",
       "      <td>PS4</td>\n",
       "      <td>2014</td>\n",
       "      <td>Action</td>\n",
       "      <td>3.96</td>\n",
       "      <td>6.31</td>\n",
       "      <td>0.38</td>\n",
       "      <td>1.97</td>\n",
       "      <td>97.0</td>\n",
       "      <td>8.3</td>\n",
       "      <td>M</td>\n",
       "      <td>12.62</td>\n",
       "    </tr>\n",
       "    <tr>\n",
       "      <th>77</th>\n",
       "      <td>FIFA 16</td>\n",
       "      <td>PS4</td>\n",
       "      <td>2015</td>\n",
       "      <td>Sports</td>\n",
       "      <td>1.12</td>\n",
       "      <td>6.12</td>\n",
       "      <td>0.06</td>\n",
       "      <td>1.28</td>\n",
       "      <td>82.0</td>\n",
       "      <td>4.3</td>\n",
       "      <td>E</td>\n",
       "      <td>8.58</td>\n",
       "    </tr>\n",
       "    <tr>\n",
       "      <th>87</th>\n",
       "      <td>Star Wars Battlefront (2015)</td>\n",
       "      <td>PS4</td>\n",
       "      <td>2015</td>\n",
       "      <td>Shooter</td>\n",
       "      <td>2.99</td>\n",
       "      <td>3.49</td>\n",
       "      <td>0.22</td>\n",
       "      <td>1.28</td>\n",
       "      <td>NaN</td>\n",
       "      <td>NaN</td>\n",
       "      <td>no_rating</td>\n",
       "      <td>7.98</td>\n",
       "    </tr>\n",
       "    <tr>\n",
       "      <th>92</th>\n",
       "      <td>Call of Duty: Advanced Warfare</td>\n",
       "      <td>PS4</td>\n",
       "      <td>2014</td>\n",
       "      <td>Shooter</td>\n",
       "      <td>2.81</td>\n",
       "      <td>3.48</td>\n",
       "      <td>0.14</td>\n",
       "      <td>1.23</td>\n",
       "      <td>83.0</td>\n",
       "      <td>5.7</td>\n",
       "      <td>M</td>\n",
       "      <td>7.66</td>\n",
       "    </tr>\n",
       "  </tbody>\n",
       "</table>\n",
       "</div>"
      ],
      "text/plain": [
       "                              name platform  year_of_release    genre  \\\n",
       "31       Call of Duty: Black Ops 3      PS4             2015  Shooter   \n",
       "42              Grand Theft Auto V      PS4             2014   Action   \n",
       "77                         FIFA 16      PS4             2015   Sports   \n",
       "87    Star Wars Battlefront (2015)      PS4             2015  Shooter   \n",
       "92  Call of Duty: Advanced Warfare      PS4             2014  Shooter   \n",
       "\n",
       "    na_sales  eu_sales  jp_sales  other_sales  critic_score  user_score  \\\n",
       "31      6.03      5.86      0.36         2.38           NaN         NaN   \n",
       "42      3.96      6.31      0.38         1.97          97.0         8.3   \n",
       "77      1.12      6.12      0.06         1.28          82.0         4.3   \n",
       "87      2.99      3.49      0.22         1.28           NaN         NaN   \n",
       "92      2.81      3.48      0.14         1.23          83.0         5.7   \n",
       "\n",
       "       rating  total_sales  \n",
       "31  no_rating        14.63  \n",
       "42          M        12.62  \n",
       "77          E         8.58  \n",
       "87  no_rating         7.98  \n",
       "92          M         7.66  "
      ]
     },
     "execution_count": 37,
     "metadata": {},
     "output_type": "execute_result"
    }
   ],
   "source": [
    "# сформируем датафрейм с играми для PS4\n",
    "ps4_sales = actual_platform.query('platform == \"PS4\"')\n",
    "ps4_sales.head()"
   ]
  },
  {
   "cell_type": "code",
   "execution_count": 38,
   "id": "6380e85c",
   "metadata": {
    "scrolled": true
   },
   "outputs": [
    {
     "data": {
      "image/png": "[encoded data removed]",
      "text/plain": [
       "<Figure size 1382.4x432 with 4 Axes>"
      ]
     },
     "metadata": {},
     "output_type": "display_data"
    }
   ],
   "source": [
    "# построим диаграмму рассеивания для отображения зависимости продаж от оценок критиков и пользователей\n",
    "# методом seaborn, по оси х будет оценка критиков, по оси У - общие продажи игры\n",
    "# и разделим графики на отдельные года, так как мы знаем, что в последние годы продажи падают\n",
    "sns.relplot(x='critic_score', y='total_sales', col = 'year_of_release',  data=ps4_sales, height = 6, aspect = 0.8);"
   ]
  },
  {
   "cell_type": "markdown",
   "id": "12b3fb72",
   "metadata": {},
   "source": [
    "Выводы по зависимости продаж от оценок критиков:\n",
    "- какой-то единой зависимости не прослеживается\n",
    "- что бы иметь шанс быть проданной более 2 миллионнами копий игра должна иметь оценку критиков не менее 70\n",
    "- но есть большое количество игр с оценками более 70, вплоть до 90, с продажами менее 200 тыс экземпляров (но мы помним, что речь идет только про продажи в год релиза)\n",
    "- оценка критиков в 90 и более почти всегда гарантирует продажи от 1 до 4 млн копий, но есть исключения\n",
    "- хитами, с продажами более 4 млн копий имеют шанс стать игры с оценками 80 и выше.\n",
    "\n",
    "Итого, если надо выбирать игры для будущих продаж, оценка критиков должна быть не менее 80"
   ]
  },
  {
   "cell_type": "code",
   "execution_count": 39,
   "id": "2481ea99",
   "metadata": {},
   "outputs": [
    {
     "data": {
      "image/png": "[encoded data removed]",
      "text/plain": [
       "<Figure size 1382.4x432 with 4 Axes>"
      ]
     },
     "metadata": {},
     "output_type": "display_data"
    }
   ],
   "source": [
    "# построим аналогичные диаграммы для оценок пользователей\n",
    "sns.relplot(x='user_score', y='total_sales', col = 'year_of_release',  data=ps4_sales, height = 6, aspect = 0.8);"
   ]
  },
  {
   "cell_type": "markdown",
   "id": "ab38bf6d",
   "metadata": {},
   "source": [
    "Выводы по зависимости продаж от оценок пользователей:\n",
    "- также не видно какой-то единой однозначной зависимости\n",
    "- более того, разброс значений выше, чем у критиков. Так например игры с 2 млн проданных копий могут иметь более широкий разброс оценок от пользователей, начиная от 5, что соответствует 50 у критиков, тогда как у критиков минимум 70 должно быть для преодоления этого порога\n",
    "- даже у игр, проданных более 4 и вплоть до 8 млн копий, могуть быть низкие оценки\n",
    "- высокие, выше 8 оценки, не гарантируют высоких продаж игры\n",
    "\n",
    "Проверим эти выводы из графиков на коэффициенте корреляции."
   ]
  },
  {
   "cell_type": "code",
   "execution_count": 40,
   "id": "06f56334",
   "metadata": {
    "scrolled": false
   },
   "outputs": [
    {
     "data": {
      "text/plain": [
       "'К-т корреляции между оценками критиков и продажами ='"
      ]
     },
     "metadata": {},
     "output_type": "display_data"
    },
    {
     "data": {
      "text/plain": [
       "0.4065679020617816"
      ]
     },
     "metadata": {},
     "output_type": "display_data"
    },
    {
     "data": {
      "text/plain": [
       "'К-т корреляции между оценками пользователей и продажами ='"
      ]
     },
     "metadata": {},
     "output_type": "display_data"
    },
    {
     "data": {
      "text/plain": [
       "-0.031957110204556424"
      ]
     },
     "metadata": {},
     "output_type": "display_data"
    }
   ],
   "source": [
    "# посчитаем корреляцию для платформы PS4 для критиков и пользователей\n",
    "display('К-т корреляции между оценками критиков и продажами =', ps4_sales['critic_score'].corr(ps4_sales['total_sales']))\n",
    "display('К-т корреляции между оценками пользователей и продажами =',ps4_sales['user_score'].corr(ps4_sales['total_sales']))"
   ]
  },
  {
   "cell_type": "code",
   "execution_count": 41,
   "id": "058a632f",
   "metadata": {},
   "outputs": [
    {
     "data": {
      "text/plain": [
       "'К-т корреляции между оценками критиков и продажами ='"
      ]
     },
     "metadata": {},
     "output_type": "display_data"
    },
    {
     "data": {
      "text/plain": [
       "0.31369951510273675"
      ]
     },
     "metadata": {},
     "output_type": "display_data"
    },
    {
     "data": {
      "text/plain": [
       "'К-т корреляции между оценками пользователей и продажами ='"
      ]
     },
     "metadata": {},
     "output_type": "display_data"
    },
    {
     "data": {
      "text/plain": [
       "-0.002607813354598264"
      ]
     },
     "metadata": {},
     "output_type": "display_data"
    }
   ],
   "source": [
    "# посмотрим на к-т корреляции для всех актуальных платформ\n",
    "display('К-т корреляции между оценками критиков и продажами =', actual_platform['critic_score'].corr(actual_platform['total_sales']))\n",
    "display('К-т корреляции между оценками пользователей и продажами =',actual_platform['user_score'].corr(actual_platform['total_sales']))"
   ]
  },
  {
   "cell_type": "raw",
   "id": "8b3a4169",
   "metadata": {},
   "source": [
    "В цифрах мы видим, что между оценками критиков и продажами есть положительная корреляция, хотя и не ярко выраженная. А для оценок пользователей корреляция близка к нулю, то есть практически отстутствует.\n",
    "\n",
    "Таким образом прогнозируя продажи игр на оценку пользователей можно не смотреть, либо надо искать более глубокие закономерности в их оценках, например как они оценивают разные поколения игр. А на оценку критиков можно с осторожностью положиться."
   ]
  },
  {
   "cell_type": "code",
   "execution_count": 42,
   "id": "23e93197",
   "metadata": {
    "scrolled": true
   },
   "outputs": [
    {
     "data": {
      "text/html": [
       "<div>\n",
       "<style scoped>\n",
       "    .dataframe tbody tr th:only-of-type {\n",
       "        vertical-align: middle;\n",
       "    }\n",
       "\n",
       "    .dataframe tbody tr th {\n",
       "        vertical-align: top;\n",
       "    }\n",
       "\n",
       "    .dataframe thead th {\n",
       "        text-align: right;\n",
       "    }\n",
       "</style>\n",
       "<table border=\"1\" class=\"dataframe\">\n",
       "  <thead>\n",
       "    <tr style=\"text-align: right;\">\n",
       "      <th></th>\n",
       "      <th>name</th>\n",
       "      <th>platform</th>\n",
       "      <th>year_of_release</th>\n",
       "      <th>genre</th>\n",
       "      <th>na_sales</th>\n",
       "      <th>eu_sales</th>\n",
       "      <th>jp_sales</th>\n",
       "      <th>other_sales</th>\n",
       "      <th>critic_score</th>\n",
       "      <th>user_score</th>\n",
       "      <th>rating</th>\n",
       "      <th>total_sales</th>\n",
       "    </tr>\n",
       "  </thead>\n",
       "  <tbody>\n",
       "    <tr>\n",
       "      <th>16</th>\n",
       "      <td>Grand Theft Auto V</td>\n",
       "      <td>PS3</td>\n",
       "      <td>2013</td>\n",
       "      <td>Action</td>\n",
       "      <td>7.02</td>\n",
       "      <td>9.09</td>\n",
       "      <td>0.98</td>\n",
       "      <td>3.96</td>\n",
       "      <td>97.0</td>\n",
       "      <td>8.2</td>\n",
       "      <td>M</td>\n",
       "      <td>21.05</td>\n",
       "    </tr>\n",
       "    <tr>\n",
       "      <th>23</th>\n",
       "      <td>Grand Theft Auto V</td>\n",
       "      <td>X360</td>\n",
       "      <td>2013</td>\n",
       "      <td>Action</td>\n",
       "      <td>9.66</td>\n",
       "      <td>5.14</td>\n",
       "      <td>0.06</td>\n",
       "      <td>1.41</td>\n",
       "      <td>97.0</td>\n",
       "      <td>8.1</td>\n",
       "      <td>M</td>\n",
       "      <td>16.27</td>\n",
       "    </tr>\n",
       "    <tr>\n",
       "      <th>33</th>\n",
       "      <td>Pokemon X/Pokemon Y</td>\n",
       "      <td>3DS</td>\n",
       "      <td>2013</td>\n",
       "      <td>Role-Playing</td>\n",
       "      <td>5.28</td>\n",
       "      <td>4.19</td>\n",
       "      <td>4.35</td>\n",
       "      <td>0.78</td>\n",
       "      <td>NaN</td>\n",
       "      <td>NaN</td>\n",
       "      <td>no_rating</td>\n",
       "      <td>14.60</td>\n",
       "    </tr>\n",
       "    <tr>\n",
       "      <th>47</th>\n",
       "      <td>Pokemon Omega Ruby/Pokemon Alpha Sapphire</td>\n",
       "      <td>3DS</td>\n",
       "      <td>2014</td>\n",
       "      <td>Role-Playing</td>\n",
       "      <td>4.35</td>\n",
       "      <td>3.49</td>\n",
       "      <td>3.10</td>\n",
       "      <td>0.74</td>\n",
       "      <td>NaN</td>\n",
       "      <td>NaN</td>\n",
       "      <td>no_rating</td>\n",
       "      <td>11.68</td>\n",
       "    </tr>\n",
       "    <tr>\n",
       "      <th>60</th>\n",
       "      <td>Call of Duty: Ghosts</td>\n",
       "      <td>X360</td>\n",
       "      <td>2013</td>\n",
       "      <td>Shooter</td>\n",
       "      <td>6.73</td>\n",
       "      <td>2.56</td>\n",
       "      <td>0.04</td>\n",
       "      <td>0.91</td>\n",
       "      <td>73.0</td>\n",
       "      <td>2.6</td>\n",
       "      <td>M</td>\n",
       "      <td>10.24</td>\n",
       "    </tr>\n",
       "  </tbody>\n",
       "</table>\n",
       "</div>"
      ],
      "text/plain": [
       "                                         name platform  year_of_release  \\\n",
       "16                         Grand Theft Auto V      PS3             2013   \n",
       "23                         Grand Theft Auto V     X360             2013   \n",
       "33                        Pokemon X/Pokemon Y      3DS             2013   \n",
       "47  Pokemon Omega Ruby/Pokemon Alpha Sapphire      3DS             2014   \n",
       "60                       Call of Duty: Ghosts     X360             2013   \n",
       "\n",
       "           genre  na_sales  eu_sales  jp_sales  other_sales  critic_score  \\\n",
       "16        Action      7.02      9.09      0.98         3.96          97.0   \n",
       "23        Action      9.66      5.14      0.06         1.41          97.0   \n",
       "33  Role-Playing      5.28      4.19      4.35         0.78           NaN   \n",
       "47  Role-Playing      4.35      3.49      3.10         0.74           NaN   \n",
       "60       Shooter      6.73      2.56      0.04         0.91          73.0   \n",
       "\n",
       "    user_score     rating  total_sales  \n",
       "16         8.2          M        21.05  \n",
       "23         8.1          M        16.27  \n",
       "33         NaN  no_rating        14.60  \n",
       "47         NaN  no_rating        11.68  \n",
       "60         2.6          M        10.24  "
      ]
     },
     "execution_count": 42,
     "metadata": {},
     "output_type": "execute_result"
    }
   ],
   "source": [
    "# для сравнения влияния оценок с другими платформами сформируем датафрейм из ТОП-5 платформ, но без PS4\n",
    "non_ps4_sales = actual_platform.query('platform in [\"XOne\", \"PS3\", \"3DS\", \"X360\", \"WiiU\"]')\n",
    "non_ps4_sales.head()\n"
   ]
  },
  {
   "cell_type": "code",
   "execution_count": 43,
   "id": "daa7169b",
   "metadata": {},
   "outputs": [
    {
     "data": {
      "image/png": "[encoded data removed]",
      "text/plain": [
       "<Figure size 1382.4x432 with 4 Axes>"
      ]
     },
     "metadata": {},
     "output_type": "display_data"
    }
   ],
   "source": [
    "# построим диаграмму рассеивания для отображения зависимости продаж от оценок критиков и пользователей\n",
    "# методом seaborn, по оси х будет оценка критиков, по оси У - общие продажи игры\n",
    "# и разделим графики на отдельные года, так как мы знаем, что в последние годы продажи падают\n",
    "sns.relplot(x='critic_score', y='total_sales', col = 'year_of_release',  data=non_ps4_sales, height = 6, aspect = 0.8);"
   ]
  },
  {
   "cell_type": "code",
   "execution_count": 44,
   "id": "91ca2a27",
   "metadata": {},
   "outputs": [
    {
     "data": {
      "image/png": "[encoded data removed]",
      "text/plain": [
       "<Figure size 1382.4x432 with 4 Axes>"
      ]
     },
     "metadata": {},
     "output_type": "display_data"
    }
   ],
   "source": [
    "# построим аналогичные диаграммы для оценок пользователей\n",
    "sns.relplot(x='user_score', y='total_sales', col = 'year_of_release',  data=non_ps4_sales, height = 6, aspect = 0.8);"
   ]
  },
  {
   "cell_type": "code",
   "execution_count": 45,
   "id": "3b64f35f",
   "metadata": {},
   "outputs": [
    {
     "data": {
      "text/plain": [
       "'К-т корреляции между оценками критиков и продажами ='"
      ]
     },
     "metadata": {},
     "output_type": "display_data"
    },
    {
     "data": {
      "text/plain": [
       "0.3376881440455177"
      ]
     },
     "metadata": {},
     "output_type": "display_data"
    },
    {
     "data": {
      "text/plain": [
       "'К-т корреляции между оценками пользователей и продажами ='"
      ]
     },
     "metadata": {},
     "output_type": "display_data"
    },
    {
     "data": {
      "text/plain": [
       "0.023683937683561276"
      ]
     },
     "metadata": {},
     "output_type": "display_data"
    }
   ],
   "source": [
    "# посчитаем корреляцию для других популярных платформ для критиков и пользователей\n",
    "display('К-т корреляции между оценками критиков и продажами =', non_ps4_sales['critic_score'].corr(non_ps4_sales['total_sales']))\n",
    "display('К-т корреляции между оценками пользователей и продажами =',non_ps4_sales['user_score'].corr(non_ps4_sales['total_sales']))"
   ]
  },
  {
   "cell_type": "markdown",
   "id": "73076711",
   "metadata": {},
   "source": [
    "**Выводы по соотношению влияния оценок критиков и пользователей на другие платформы в сравнении с PS4**\n",
    "И графики и к-ты корреляции показывают, что картина принципиально идентична для PS4 и для других популярных платформ. К-т корреляции с оценками критиков у платформ кроме PS4 ниже, чем у PS4, предположу это из-за меньшей популярности самих платформ, и соответственно некоторого количества игр с высокими оценками критиков и низкими продажами в силу низких продаж всех игр для платформы. Но в целом можно сказать, что оценка критиков выше 80 почти всегда означает высокие продажи игры.\n",
    "\n",
    "Оценки пользователей как для PS4, так и для других платформ не влияют на продажи. Игры с высокими продажами могут быть как высоко, так и низко быть оцененными пользователями."
   ]
  },
  {
   "cell_type": "markdown",
   "id": "a7285285",
   "metadata": {},
   "source": [
    "И нам осталось посмотреть на распределение игр по жанрам, выявить самые прибыльные жанры. Для этого из датафрейма актуальных платформ сгруппируем"
   ]
  },
  {
   "cell_type": "code",
   "execution_count": 46,
   "id": "e653d4b7",
   "metadata": {},
   "outputs": [
    {
     "data": {
      "text/html": [
       "<div>\n",
       "<style scoped>\n",
       "    .dataframe tbody tr th:only-of-type {\n",
       "        vertical-align: middle;\n",
       "    }\n",
       "\n",
       "    .dataframe tbody tr th {\n",
       "        vertical-align: top;\n",
       "    }\n",
       "\n",
       "    .dataframe thead th {\n",
       "        text-align: right;\n",
       "    }\n",
       "</style>\n",
       "<table border=\"1\" class=\"dataframe\">\n",
       "  <thead>\n",
       "    <tr style=\"text-align: right;\">\n",
       "      <th></th>\n",
       "      <th>genre</th>\n",
       "      <th>total_sales</th>\n",
       "    </tr>\n",
       "  </thead>\n",
       "  <tbody>\n",
       "    <tr>\n",
       "      <th>0</th>\n",
       "      <td>Action</td>\n",
       "      <td>321.87</td>\n",
       "    </tr>\n",
       "    <tr>\n",
       "      <th>8</th>\n",
       "      <td>Shooter</td>\n",
       "      <td>232.98</td>\n",
       "    </tr>\n",
       "    <tr>\n",
       "      <th>10</th>\n",
       "      <td>Sports</td>\n",
       "      <td>150.65</td>\n",
       "    </tr>\n",
       "    <tr>\n",
       "      <th>7</th>\n",
       "      <td>Role-Playing</td>\n",
       "      <td>145.89</td>\n",
       "    </tr>\n",
       "    <tr>\n",
       "      <th>3</th>\n",
       "      <td>Misc</td>\n",
       "      <td>62.82</td>\n",
       "    </tr>\n",
       "    <tr>\n",
       "      <th>4</th>\n",
       "      <td>Platform</td>\n",
       "      <td>42.63</td>\n",
       "    </tr>\n",
       "    <tr>\n",
       "      <th>6</th>\n",
       "      <td>Racing</td>\n",
       "      <td>39.89</td>\n",
       "    </tr>\n",
       "    <tr>\n",
       "      <th>2</th>\n",
       "      <td>Fighting</td>\n",
       "      <td>35.31</td>\n",
       "    </tr>\n",
       "    <tr>\n",
       "      <th>1</th>\n",
       "      <td>Adventure</td>\n",
       "      <td>23.64</td>\n",
       "    </tr>\n",
       "    <tr>\n",
       "      <th>9</th>\n",
       "      <td>Simulation</td>\n",
       "      <td>21.76</td>\n",
       "    </tr>\n",
       "    <tr>\n",
       "      <th>11</th>\n",
       "      <td>Strategy</td>\n",
       "      <td>10.08</td>\n",
       "    </tr>\n",
       "    <tr>\n",
       "      <th>5</th>\n",
       "      <td>Puzzle</td>\n",
       "      <td>3.17</td>\n",
       "    </tr>\n",
       "  </tbody>\n",
       "</table>\n",
       "</div>"
      ],
      "text/plain": [
       "           genre  total_sales\n",
       "0         Action       321.87\n",
       "8        Shooter       232.98\n",
       "10        Sports       150.65\n",
       "7   Role-Playing       145.89\n",
       "3           Misc        62.82\n",
       "4       Platform        42.63\n",
       "6         Racing        39.89\n",
       "2       Fighting        35.31\n",
       "1      Adventure        23.64\n",
       "9     Simulation        21.76\n",
       "11      Strategy        10.08\n",
       "5         Puzzle         3.17"
      ]
     },
     "execution_count": 46,
     "metadata": {},
     "output_type": "execute_result"
    }
   ],
   "source": [
    "# для этого сгруппируем игры из актуального периода (после 2009 года) по жанрам, просуммируем общий\n",
    "# объем продаж и отсортируем по объему\n",
    "actual_platform.groupby('genre')['total_sales'].sum().reset_index().sort_values(by = 'total_sales', \n",
    "                                                                                       ascending = False)"
   ]
  },
  {
   "cell_type": "markdown",
   "id": "23280d85",
   "metadata": {},
   "source": [
    "Самыми популярными в рассматриваемом периоде являются игры жанра Action, опережая следующую по популярности категорию Shooter на 40%. Шутеры в свою очередь на примерно 40% опережают игры категорий Спорт и Role-Playing. В целом мы видим существенную разницу между разными категориями игр, что можно использовать при определении стратегий продвижения в будущем.\n",
    "\n",
    "Также посмотрим на диаграммы для различных категорий, что бы увидеть графическое представление данных."
   ]
  },
  {
   "cell_type": "code",
   "execution_count": 47,
   "id": "7350a41a",
   "metadata": {
    "scrolled": false
   },
   "outputs": [
    {
     "data": {
      "image/png": "[encoded data removed]",
      "text/plain": [
       "<Figure size 720x360 with 1 Axes>"
      ]
     },
     "metadata": {},
     "output_type": "display_data"
    }
   ],
   "source": [
    "sns.catplot(x='genre', y='total_sales',  data=actual_platform, height = 5, aspect = 2);"
   ]
  },
  {
   "cell_type": "markdown",
   "id": "5707d501",
   "metadata": {},
   "source": [
    "На диаграмме мы можем видеть в каких жанрах бывают и как часто встречаются супер хитовые игры. Так например видно, что лучшая игра по продажам принадлежит жанру Misc. В жанре Action, который лидирует по общему числу игр, были три супер хита, проданные более чем 12 млн экземпляров, а остальная масса игр продается менее 8 млн. А жанр Shooter не имеет супер хитов с продажами более 15 млн, зато сразу 8 игр были проданы от 10 до 15 млн копий."
   ]
  },
  {
   "cell_type": "markdown",
   "id": "2caf9f21",
   "metadata": {},
   "source": [
    "## **Составление портрета пользователя** <a id = 'пользователь'></a> "
   ]
  },
  {
   "cell_type": "markdown",
   "id": "c614f7a2",
   "metadata": {},
   "source": [
    "Необходимо определить для каждого региона (NA, EU, JP):\n",
    "- самые популярные платформы (ТОП-5)\n",
    "- самые популярные жанры (ТОП-5)\n",
    "\n",
    "А также выяснить, влияет ли рейтинг игры ESRB  на продажи игры в регионе."
   ]
  },
  {
   "cell_type": "code",
   "execution_count": 48,
   "id": "30340181",
   "metadata": {
    "scrolled": false
   },
   "outputs": [
    {
     "data": {
      "text/html": [
       "<div>\n",
       "<style scoped>\n",
       "    .dataframe tbody tr th:only-of-type {\n",
       "        vertical-align: middle;\n",
       "    }\n",
       "\n",
       "    .dataframe tbody tr th {\n",
       "        vertical-align: top;\n",
       "    }\n",
       "\n",
       "    .dataframe thead th {\n",
       "        text-align: right;\n",
       "    }\n",
       "</style>\n",
       "<table border=\"1\" class=\"dataframe\">\n",
       "  <thead>\n",
       "    <tr style=\"text-align: right;\">\n",
       "      <th></th>\n",
       "      <th>platform</th>\n",
       "      <th>na_sales</th>\n",
       "    </tr>\n",
       "  </thead>\n",
       "  <tbody>\n",
       "    <tr>\n",
       "      <th>4</th>\n",
       "      <td>PS4</td>\n",
       "      <td>108.74</td>\n",
       "    </tr>\n",
       "    <tr>\n",
       "      <th>10</th>\n",
       "      <td>XOne</td>\n",
       "      <td>93.12</td>\n",
       "    </tr>\n",
       "    <tr>\n",
       "      <th>9</th>\n",
       "      <td>X360</td>\n",
       "      <td>81.66</td>\n",
       "    </tr>\n",
       "    <tr>\n",
       "      <th>3</th>\n",
       "      <td>PS3</td>\n",
       "      <td>63.50</td>\n",
       "    </tr>\n",
       "    <tr>\n",
       "      <th>0</th>\n",
       "      <td>3DS</td>\n",
       "      <td>38.20</td>\n",
       "    </tr>\n",
       "  </tbody>\n",
       "</table>\n",
       "</div>"
      ],
      "text/plain": [
       "   platform  na_sales\n",
       "4       PS4    108.74\n",
       "10     XOne     93.12\n",
       "9      X360     81.66\n",
       "3       PS3     63.50\n",
       "0       3DS     38.20"
      ]
     },
     "metadata": {},
     "output_type": "display_data"
    },
    {
     "data": {
      "text/html": [
       "<div>\n",
       "<style scoped>\n",
       "    .dataframe tbody tr th:only-of-type {\n",
       "        vertical-align: middle;\n",
       "    }\n",
       "\n",
       "    .dataframe tbody tr th {\n",
       "        vertical-align: top;\n",
       "    }\n",
       "\n",
       "    .dataframe thead th {\n",
       "        text-align: right;\n",
       "    }\n",
       "</style>\n",
       "<table border=\"1\" class=\"dataframe\">\n",
       "  <thead>\n",
       "    <tr style=\"text-align: right;\">\n",
       "      <th></th>\n",
       "      <th>platform</th>\n",
       "      <th>eu_sales</th>\n",
       "    </tr>\n",
       "  </thead>\n",
       "  <tbody>\n",
       "    <tr>\n",
       "      <th>4</th>\n",
       "      <td>PS4</td>\n",
       "      <td>141.09</td>\n",
       "    </tr>\n",
       "    <tr>\n",
       "      <th>3</th>\n",
       "      <td>PS3</td>\n",
       "      <td>67.81</td>\n",
       "    </tr>\n",
       "    <tr>\n",
       "      <th>10</th>\n",
       "      <td>XOne</td>\n",
       "      <td>51.59</td>\n",
       "    </tr>\n",
       "    <tr>\n",
       "      <th>9</th>\n",
       "      <td>X360</td>\n",
       "      <td>42.52</td>\n",
       "    </tr>\n",
       "    <tr>\n",
       "      <th>0</th>\n",
       "      <td>3DS</td>\n",
       "      <td>30.96</td>\n",
       "    </tr>\n",
       "  </tbody>\n",
       "</table>\n",
       "</div>"
      ],
      "text/plain": [
       "   platform  eu_sales\n",
       "4       PS4    141.09\n",
       "3       PS3     67.81\n",
       "10     XOne     51.59\n",
       "9      X360     42.52\n",
       "0       3DS     30.96"
      ]
     },
     "metadata": {},
     "output_type": "display_data"
    },
    {
     "data": {
      "text/html": [
       "<div>\n",
       "<style scoped>\n",
       "    .dataframe tbody tr th:only-of-type {\n",
       "        vertical-align: middle;\n",
       "    }\n",
       "\n",
       "    .dataframe tbody tr th {\n",
       "        vertical-align: top;\n",
       "    }\n",
       "\n",
       "    .dataframe thead th {\n",
       "        text-align: right;\n",
       "    }\n",
       "</style>\n",
       "<table border=\"1\" class=\"dataframe\">\n",
       "  <thead>\n",
       "    <tr style=\"text-align: right;\">\n",
       "      <th></th>\n",
       "      <th>platform</th>\n",
       "      <th>jp_sales</th>\n",
       "    </tr>\n",
       "  </thead>\n",
       "  <tbody>\n",
       "    <tr>\n",
       "      <th>0</th>\n",
       "      <td>3DS</td>\n",
       "      <td>67.81</td>\n",
       "    </tr>\n",
       "    <tr>\n",
       "      <th>3</th>\n",
       "      <td>PS3</td>\n",
       "      <td>23.35</td>\n",
       "    </tr>\n",
       "    <tr>\n",
       "      <th>6</th>\n",
       "      <td>PSV</td>\n",
       "      <td>18.59</td>\n",
       "    </tr>\n",
       "    <tr>\n",
       "      <th>4</th>\n",
       "      <td>PS4</td>\n",
       "      <td>15.96</td>\n",
       "    </tr>\n",
       "    <tr>\n",
       "      <th>8</th>\n",
       "      <td>WiiU</td>\n",
       "      <td>10.88</td>\n",
       "    </tr>\n",
       "  </tbody>\n",
       "</table>\n",
       "</div>"
      ],
      "text/plain": [
       "  platform  jp_sales\n",
       "0      3DS     67.81\n",
       "3      PS3     23.35\n",
       "6      PSV     18.59\n",
       "4      PS4     15.96\n",
       "8     WiiU     10.88"
      ]
     },
     "metadata": {},
     "output_type": "display_data"
    }
   ],
   "source": [
    "# сгруппируем датафрейм actual_platform по продажам в разных регионах\n",
    "for a in ['na_sales', 'eu_sales', 'jp_sales']:\n",
    "    display(actual_platform.groupby('platform')[a].sum().reset_index().sort_values(by = a, \n",
    "                                                                               ascending = False).head())"
   ]
  },
  {
   "cell_type": "markdown",
   "id": "338ee1c8",
   "metadata": {},
   "source": [
    "Видны существенные различия на разных рынках:\n",
    "- на рынке северной америки лидирует c существенным отрывом X360, на втором месте PS3, новые платформы PS4 и XOne уже вошли в ТОП5\n",
    "- на рынке европы лидеры американского рынка меняются между собой местами, в ТОП5 есть игры для PC, чего не было в америке, XOne не вошел в ТОП5\n",
    "- Рынок японии значительно отличается от американского и европейского рынков. Главное - четыре из пяти платформ это мобильные платформы, и только PS3 присутствует из стационарных платформ. По этой причине в ТОП5 не вошли игры для обоих поколений XBox, не вошли игры для Wii и PS4,  присутствующие в двух других топах"
   ]
  },
  {
   "cell_type": "markdown",
   "id": "6e9152ab",
   "metadata": {},
   "source": [
    "Сделаем аналогичный срез по жанрам"
   ]
  },
  {
   "cell_type": "code",
   "execution_count": 49,
   "id": "c4bb39ac",
   "metadata": {
    "scrolled": true
   },
   "outputs": [
    {
     "data": {
      "text/html": [
       "<div>\n",
       "<style scoped>\n",
       "    .dataframe tbody tr th:only-of-type {\n",
       "        vertical-align: middle;\n",
       "    }\n",
       "\n",
       "    .dataframe tbody tr th {\n",
       "        vertical-align: top;\n",
       "    }\n",
       "\n",
       "    .dataframe thead th {\n",
       "        text-align: right;\n",
       "    }\n",
       "</style>\n",
       "<table border=\"1\" class=\"dataframe\">\n",
       "  <thead>\n",
       "    <tr style=\"text-align: right;\">\n",
       "      <th></th>\n",
       "      <th>genre</th>\n",
       "      <th>na_sales</th>\n",
       "    </tr>\n",
       "  </thead>\n",
       "  <tbody>\n",
       "    <tr>\n",
       "      <th>0</th>\n",
       "      <td>Action</td>\n",
       "      <td>126.05</td>\n",
       "    </tr>\n",
       "    <tr>\n",
       "      <th>8</th>\n",
       "      <td>Shooter</td>\n",
       "      <td>109.74</td>\n",
       "    </tr>\n",
       "    <tr>\n",
       "      <th>10</th>\n",
       "      <td>Sports</td>\n",
       "      <td>65.27</td>\n",
       "    </tr>\n",
       "    <tr>\n",
       "      <th>7</th>\n",
       "      <td>Role-Playing</td>\n",
       "      <td>46.40</td>\n",
       "    </tr>\n",
       "    <tr>\n",
       "      <th>3</th>\n",
       "      <td>Misc</td>\n",
       "      <td>27.49</td>\n",
       "    </tr>\n",
       "  </tbody>\n",
       "</table>\n",
       "</div>"
      ],
      "text/plain": [
       "           genre  na_sales\n",
       "0         Action    126.05\n",
       "8        Shooter    109.74\n",
       "10        Sports     65.27\n",
       "7   Role-Playing     46.40\n",
       "3           Misc     27.49"
      ]
     },
     "metadata": {},
     "output_type": "display_data"
    },
    {
     "data": {
      "text/html": [
       "<div>\n",
       "<style scoped>\n",
       "    .dataframe tbody tr th:only-of-type {\n",
       "        vertical-align: middle;\n",
       "    }\n",
       "\n",
       "    .dataframe tbody tr th {\n",
       "        vertical-align: top;\n",
       "    }\n",
       "\n",
       "    .dataframe thead th {\n",
       "        text-align: right;\n",
       "    }\n",
       "</style>\n",
       "<table border=\"1\" class=\"dataframe\">\n",
       "  <thead>\n",
       "    <tr style=\"text-align: right;\">\n",
       "      <th></th>\n",
       "      <th>genre</th>\n",
       "      <th>eu_sales</th>\n",
       "    </tr>\n",
       "  </thead>\n",
       "  <tbody>\n",
       "    <tr>\n",
       "      <th>0</th>\n",
       "      <td>Action</td>\n",
       "      <td>118.13</td>\n",
       "    </tr>\n",
       "    <tr>\n",
       "      <th>8</th>\n",
       "      <td>Shooter</td>\n",
       "      <td>87.86</td>\n",
       "    </tr>\n",
       "    <tr>\n",
       "      <th>10</th>\n",
       "      <td>Sports</td>\n",
       "      <td>60.52</td>\n",
       "    </tr>\n",
       "    <tr>\n",
       "      <th>7</th>\n",
       "      <td>Role-Playing</td>\n",
       "      <td>36.97</td>\n",
       "    </tr>\n",
       "    <tr>\n",
       "      <th>6</th>\n",
       "      <td>Racing</td>\n",
       "      <td>20.19</td>\n",
       "    </tr>\n",
       "  </tbody>\n",
       "</table>\n",
       "</div>"
      ],
      "text/plain": [
       "           genre  eu_sales\n",
       "0         Action    118.13\n",
       "8        Shooter     87.86\n",
       "10        Sports     60.52\n",
       "7   Role-Playing     36.97\n",
       "6         Racing     20.19"
      ]
     },
     "metadata": {},
     "output_type": "display_data"
    },
    {
     "data": {
      "text/html": [
       "<div>\n",
       "<style scoped>\n",
       "    .dataframe tbody tr th:only-of-type {\n",
       "        vertical-align: middle;\n",
       "    }\n",
       "\n",
       "    .dataframe tbody tr th {\n",
       "        vertical-align: top;\n",
       "    }\n",
       "\n",
       "    .dataframe thead th {\n",
       "        text-align: right;\n",
       "    }\n",
       "</style>\n",
       "<table border=\"1\" class=\"dataframe\">\n",
       "  <thead>\n",
       "    <tr style=\"text-align: right;\">\n",
       "      <th></th>\n",
       "      <th>genre</th>\n",
       "      <th>jp_sales</th>\n",
       "    </tr>\n",
       "  </thead>\n",
       "  <tbody>\n",
       "    <tr>\n",
       "      <th>7</th>\n",
       "      <td>Role-Playing</td>\n",
       "      <td>51.04</td>\n",
       "    </tr>\n",
       "    <tr>\n",
       "      <th>0</th>\n",
       "      <td>Action</td>\n",
       "      <td>40.49</td>\n",
       "    </tr>\n",
       "    <tr>\n",
       "      <th>3</th>\n",
       "      <td>Misc</td>\n",
       "      <td>9.20</td>\n",
       "    </tr>\n",
       "    <tr>\n",
       "      <th>2</th>\n",
       "      <td>Fighting</td>\n",
       "      <td>7.65</td>\n",
       "    </tr>\n",
       "    <tr>\n",
       "      <th>8</th>\n",
       "      <td>Shooter</td>\n",
       "      <td>6.61</td>\n",
       "    </tr>\n",
       "  </tbody>\n",
       "</table>\n",
       "</div>"
      ],
      "text/plain": [
       "          genre  jp_sales\n",
       "7  Role-Playing     51.04\n",
       "0        Action     40.49\n",
       "3          Misc      9.20\n",
       "2      Fighting      7.65\n",
       "8       Shooter      6.61"
      ]
     },
     "metadata": {},
     "output_type": "display_data"
    }
   ],
   "source": [
    "# сгруппируем датафрейм actual_platform по продажам в разных регионах\n",
    "for a in ['na_sales', 'eu_sales', 'jp_sales']:\n",
    "    display(actual_platform.groupby('genre')[a].sum().reset_index().sort_values(by = a, \n",
    "                                                                               ascending = False).head())"
   ]
  },
  {
   "cell_type": "markdown",
   "id": "ee48192b",
   "metadata": {},
   "source": [
    "По жанрам предпочтения на рынках следующие:\n",
    "~~- на американском и европейском рынках предпочитают одни и те же жанры. ТОП3 полностью аналогичен на обоих рынках, 4 и 5 места распределены по другому, но сами жанры аналогичны и разрыв между ними небольшой\n",
    "~- японский рынок отличается от них. В ТОПе нет игр-шутеров, а лидером является Role-Playing, которые в америке и европе был на 4-5 местах. Также в Японии популярны игры в жанрах Platform  и Adventure, которые не входят в ТОПы америки и европы~~\n",
    "\n",
    "**Апдейт выводов после обновления актуального периода**\n",
    "- ТОП 4 жанров в северной америке и европе совпадает, геймеры играют в одни и теже игры. Отличие есть для 5-го места, в америке играют в игры Platform, а в Европе Racing. Но понятно, на чем нужно сосредотачивать усилия маркетологов на обоих рынках.\n",
    "- в Японии распределение иное. Самый популярный жанр также Action, но Shooter только на третьем месте по популярности с трехкратным отставанием от первого места. Role-Playing который на других рынках сильно отстает по продажам от лидеров, в Японии на втором месте. Маркетинговая политика для рынка Японии должна быть иная, относительно европейского и американского рынков.\n",
    "\n",
    "Проверим, влияет ли рейтинг ESRB на продажи в отдельном регионе."
   ]
  },
  {
   "cell_type": "markdown",
   "id": "f64575be",
   "metadata": {},
   "source": [
    "Опишем рейтинги и их значение:\n",
    "- «EC» («Early childhood») — «Для детей младшего возраста»\n",
    "- «E» («Everyone») — «Для всех»\n",
    "- «E10+» («Everyone 10 and older») — «Для всех от 10 лет и старше»\n",
    "- «T» («Teen») — «Подросткам»\n",
    "- «M» («Mature») — «Для взрослых»\n",
    "- «AO» («Adults Only 18+») — «Только для взрослых»"
   ]
  },
  {
   "cell_type": "code",
   "execution_count": 50,
   "id": "3f51e30c",
   "metadata": {},
   "outputs": [
    {
     "data": {
      "text/html": [
       "<div>\n",
       "<style scoped>\n",
       "    .dataframe tbody tr th:only-of-type {\n",
       "        vertical-align: middle;\n",
       "    }\n",
       "\n",
       "    .dataframe tbody tr th {\n",
       "        vertical-align: top;\n",
       "    }\n",
       "\n",
       "    .dataframe thead th {\n",
       "        text-align: right;\n",
       "    }\n",
       "</style>\n",
       "<table border=\"1\" class=\"dataframe\">\n",
       "  <thead>\n",
       "    <tr style=\"text-align: right;\">\n",
       "      <th></th>\n",
       "      <th>rating</th>\n",
       "      <th>na_sales</th>\n",
       "    </tr>\n",
       "  </thead>\n",
       "  <tbody>\n",
       "    <tr>\n",
       "      <th>2</th>\n",
       "      <td>M</td>\n",
       "      <td>165.21</td>\n",
       "    </tr>\n",
       "    <tr>\n",
       "      <th>4</th>\n",
       "      <td>no_rating</td>\n",
       "      <td>89.42</td>\n",
       "    </tr>\n",
       "    <tr>\n",
       "      <th>0</th>\n",
       "      <td>E</td>\n",
       "      <td>79.05</td>\n",
       "    </tr>\n",
       "    <tr>\n",
       "      <th>1</th>\n",
       "      <td>E10+</td>\n",
       "      <td>54.24</td>\n",
       "    </tr>\n",
       "    <tr>\n",
       "      <th>3</th>\n",
       "      <td>T</td>\n",
       "      <td>49.79</td>\n",
       "    </tr>\n",
       "  </tbody>\n",
       "</table>\n",
       "</div>"
      ],
      "text/plain": [
       "      rating  na_sales\n",
       "2          M    165.21\n",
       "4  no_rating     89.42\n",
       "0          E     79.05\n",
       "1       E10+     54.24\n",
       "3          T     49.79"
      ]
     },
     "metadata": {},
     "output_type": "display_data"
    },
    {
     "data": {
      "text/html": [
       "<div>\n",
       "<style scoped>\n",
       "    .dataframe tbody tr th:only-of-type {\n",
       "        vertical-align: middle;\n",
       "    }\n",
       "\n",
       "    .dataframe tbody tr th {\n",
       "        vertical-align: top;\n",
       "    }\n",
       "\n",
       "    .dataframe thead th {\n",
       "        text-align: right;\n",
       "    }\n",
       "</style>\n",
       "<table border=\"1\" class=\"dataframe\">\n",
       "  <thead>\n",
       "    <tr style=\"text-align: right;\">\n",
       "      <th></th>\n",
       "      <th>rating</th>\n",
       "      <th>eu_sales</th>\n",
       "    </tr>\n",
       "  </thead>\n",
       "  <tbody>\n",
       "    <tr>\n",
       "      <th>2</th>\n",
       "      <td>M</td>\n",
       "      <td>145.32</td>\n",
       "    </tr>\n",
       "    <tr>\n",
       "      <th>0</th>\n",
       "      <td>E</td>\n",
       "      <td>83.36</td>\n",
       "    </tr>\n",
       "    <tr>\n",
       "      <th>4</th>\n",
       "      <td>no_rating</td>\n",
       "      <td>78.91</td>\n",
       "    </tr>\n",
       "    <tr>\n",
       "      <th>1</th>\n",
       "      <td>E10+</td>\n",
       "      <td>42.69</td>\n",
       "    </tr>\n",
       "    <tr>\n",
       "      <th>3</th>\n",
       "      <td>T</td>\n",
       "      <td>41.95</td>\n",
       "    </tr>\n",
       "  </tbody>\n",
       "</table>\n",
       "</div>"
      ],
      "text/plain": [
       "      rating  eu_sales\n",
       "2          M    145.32\n",
       "0          E     83.36\n",
       "4  no_rating     78.91\n",
       "1       E10+     42.69\n",
       "3          T     41.95"
      ]
     },
     "metadata": {},
     "output_type": "display_data"
    },
    {
     "data": {
      "text/html": [
       "<div>\n",
       "<style scoped>\n",
       "    .dataframe tbody tr th:only-of-type {\n",
       "        vertical-align: middle;\n",
       "    }\n",
       "\n",
       "    .dataframe tbody tr th {\n",
       "        vertical-align: top;\n",
       "    }\n",
       "\n",
       "    .dataframe thead th {\n",
       "        text-align: right;\n",
       "    }\n",
       "</style>\n",
       "<table border=\"1\" class=\"dataframe\">\n",
       "  <thead>\n",
       "    <tr style=\"text-align: right;\">\n",
       "      <th></th>\n",
       "      <th>rating</th>\n",
       "      <th>jp_sales</th>\n",
       "    </tr>\n",
       "  </thead>\n",
       "  <tbody>\n",
       "    <tr>\n",
       "      <th>4</th>\n",
       "      <td>no_rating</td>\n",
       "      <td>85.05</td>\n",
       "    </tr>\n",
       "    <tr>\n",
       "      <th>3</th>\n",
       "      <td>T</td>\n",
       "      <td>20.59</td>\n",
       "    </tr>\n",
       "    <tr>\n",
       "      <th>0</th>\n",
       "      <td>E</td>\n",
       "      <td>15.14</td>\n",
       "    </tr>\n",
       "    <tr>\n",
       "      <th>2</th>\n",
       "      <td>M</td>\n",
       "      <td>14.11</td>\n",
       "    </tr>\n",
       "    <tr>\n",
       "      <th>1</th>\n",
       "      <td>E10+</td>\n",
       "      <td>5.89</td>\n",
       "    </tr>\n",
       "  </tbody>\n",
       "</table>\n",
       "</div>"
      ],
      "text/plain": [
       "      rating  jp_sales\n",
       "4  no_rating     85.05\n",
       "3          T     20.59\n",
       "0          E     15.14\n",
       "2          M     14.11\n",
       "1       E10+      5.89"
      ]
     },
     "metadata": {},
     "output_type": "display_data"
    }
   ],
   "source": [
    "# сгруппируем датафрейм actual_platform по продажам в разных регионах\n",
    "# пройдем в цикле по продажам каждого региона\n",
    "for a in ['na_sales', 'eu_sales', 'jp_sales']:\n",
    "    display(actual_platform.groupby('rating')[a].sum().reset_index().sort_values(by = a, \n",
    "                                                                               ascending = False).head())"
   ]
  },
  {
   "cell_type": "code",
   "execution_count": 51,
   "id": "b0c57e9b",
   "metadata": {
    "scrolled": false
   },
   "outputs": [
    {
     "data": {
      "image/png": "[encoded data removed]",
      "text/plain": [
       "<Figure size 576x288 with 1 Axes>"
      ]
     },
     "metadata": {},
     "output_type": "display_data"
    },
    {
     "data": {
      "image/png": "[encoded data removed]",
      "text/plain": [
       "<Figure size 576x288 with 1 Axes>"
      ]
     },
     "metadata": {},
     "output_type": "display_data"
    },
    {
     "data": {
      "image/png": "[encoded data removed]",
      "text/plain": [
       "<Figure size 576x288 with 1 Axes>"
      ]
     },
     "metadata": {},
     "output_type": "display_data"
    }
   ],
   "source": [
    "# и посмотрим на графическое представление этого распределения\n",
    "for a in ['na_sales', 'eu_sales', 'jp_sales']:\n",
    "    sns.catplot(x='rating', y=a,  data=actual_platform, height = 4, aspect = 2)"
   ]
  },
  {
   "cell_type": "markdown",
   "id": "8b20da9b",
   "metadata": {},
   "source": [
    "Выводы по влиянию рейтинга на продажи:\n",
    "- на американском и европейском рынках больше всего игр продается в категориях Для всех и Для взрослых\n",
    "- также в обоих этих ТОПах присутствуют игры для подростков и детей старше 10 лет\n",
    "- в целом рынки америки и европы можно назвать похожими\n",
    "- в обоих рейтингах присутствуют игры Без рейтинга. Мы заполняли этим значением значения tbd. Это выглядит несколько странно, что игры, попадающие в ТОП 5 по продажам не имеют рейтинга. \n",
    "- на японском рынке игры без рейтинга занимают первое место в ТОПе, при этом в Японии существует собственная рейтинговая организация CERO, оценок которой в датасете нет."
   ]
  },
  {
   "cell_type": "markdown",
   "id": "ee331c76",
   "metadata": {},
   "source": [
    "## **Проверка гипотез** <a id = 'гипотезы'></a> "
   ]
  },
  {
   "cell_type": "markdown",
   "id": "3ba33cbc",
   "metadata": {},
   "source": [
    "Необходимо проверить две гипотезы:\n",
    "•\tСредние пользовательские рейтинги платформ Xbox One и PC одинаковые;\n",
    "•\tСредние пользовательские рейтинги жанров Action (англ. «действие», экшен-игры) и Sports (англ. «спортивные соревнования») разные.\n",
    "\n",
    "\n",
    "Сформулируем нулевую гипотезу для первого утверждения: \"Средние пользовательские рейтинги платформ Xbox One и PC одинаковые\". Тогда альтернативная гипотеза будет звучать так: \"Средние пользовательские рейтинги платформ Xbox One и PC отличаются друг от друга\""
   ]
  },
  {
   "cell_type": "code",
   "execution_count": 52,
   "id": "61aed4be",
   "metadata": {
    "scrolled": true
   },
   "outputs": [
    {
     "name": "stdout",
     "output_type": "stream",
     "text": [
      "p-значение: 0.14759594013430463\n",
      "Не получилось отвергнуть нулевую гипотезу, средние пользовательские рейтинги платформ Xbox One и PC одинаковые\n"
     ]
    }
   ],
   "source": [
    "# перед работой с проверкой гипотез уберем из датафрейма строки, где нет значений\n",
    "# даже на данном этапе ислледования я не придумал как корректно заполнить отсутствующие данные\n",
    "actual_platform = actual_platform.dropna(subset = ['user_score'])\n",
    "\n",
    "# установим критический уровень статистической значимости на уровне 0.5\n",
    "alpha = 0.05\n",
    "# если p-value окажется меньше него - отвергнем гипотезу\n",
    "\n",
    "# применим медот проверки равенства двух средних\n",
    "# указав параметр equal_var = False, так как мы знаем, что выборки разного размера (Игр для Хбокс больше чем для РС)\n",
    "results = st.ttest_ind(actual_platform.query('platform == \"XOne\"')['user_score'], \n",
    "                       actual_platform.query('platform == \"PC\"')['user_score'],\n",
    "                      equal_var = False)\n",
    "\n",
    "print('p-значение:', results.pvalue)\n",
    "\n",
    "if results.pvalue < alpha:\n",
    "    print(\"Отвергаем нулевую гипотезу, средние пользовательские рейтинги платформ Xbox One и PC отличаются друг от друга\")\n",
    "else:\n",
    "    print(\"Не получилось отвергнуть нулевую гипотезу, средние пользовательские рейтинги платформ Xbox One и PC одинаковые\")\n",
    "\n"
   ]
  },
  {
   "cell_type": "markdown",
   "id": "2840a621",
   "metadata": {},
   "source": [
    "Мы не смогли отвергнуть нулевую гипотезу, данные говорят о том, если и есть отличие в рейтингах - вероятность получить такое отличие случайно - очень высока."
   ]
  },
  {
   "cell_type": "markdown",
   "id": "c1a70857",
   "metadata": {},
   "source": [
    "Сформулируем нулевую гипотезу для второго утрвеждения: \"Средние пользовательские рейтинги жанров Action и Sports - одинаковые\". Тогда альтернативная гипотеза будет звучать так: \"Средние пользовательские рейтинги жанров Action и Sports - разные\""
   ]
  },
  {
   "cell_type": "code",
   "execution_count": 53,
   "id": "0cb4540e",
   "metadata": {
    "scrolled": true
   },
   "outputs": [
    {
     "name": "stdout",
     "output_type": "stream",
     "text": [
      "p-значение: 1.4460039700704315e-20\n",
      "Отвергаем нулевую гипотезу, средние пользовательские рейтинги жанров Action и Sports отличаются друг от друга\n"
     ]
    }
   ],
   "source": [
    "# установим критический уровень статистической значимости на уровне 0.5\n",
    "alpha = 0.05\n",
    "# если p-value окажется меньше него - отвергнем гипотезу\n",
    "\n",
    "# применим медот проверки равенства двух средних\n",
    "# указав параметр equal_var = False, так как мы знаем, что выборки разного размера (игр Экшен больше чем Спорт)\n",
    "results = st.ttest_ind(actual_platform.query('genre == \"Action\"')['user_score'], \n",
    "                       actual_platform.query('genre == \"Sports\"')['user_score'],\n",
    "                      equal_var = False)\n",
    "\n",
    "print('p-значение:', results.pvalue)\n",
    "\n",
    "if results.pvalue < alpha:\n",
    "    print(\"Отвергаем нулевую гипотезу, средние пользовательские рейтинги жанров Action и Sports отличаются друг от друга\")\n",
    "else:\n",
    "    print(\"Не получилось отвергнуть нулевую гипотезу, средние пользовательские рейтинги жанров Action и Sports одинаковые\")"
   ]
  },
  {
   "cell_type": "markdown",
   "id": "9bdc221f",
   "metadata": {},
   "source": [
    "И в этом случае мы не смогли отвергнуть нулевую гипотезу, что означает что данные говорят о том, что если и есть отличие в рейтингах - вероятность получить такое отличие случайно - очень высока."
   ]
  },
  {
   "cell_type": "markdown",
   "id": "16650937",
   "metadata": {},
   "source": [
    "## **Общий вывод исследования** <a id = 'выводы'></a> "
   ]
  },
  {
   "cell_type": "markdown",
   "id": "a68ac54d",
   "metadata": {},
   "source": [
    "**Главный вопрос исследования - определение потенциально популярного продукта для формирования рекламных кампаний на следующий год.**\n",
    "По итогам исследования стоит обратить внимание на следующие факторы:\n",
    "- две актуальные в данный момент платформы - PS4 и XOne. Остальные платформы находятся на спаде продаж. Возможно в следующем году появится новая платформа, которая должна будет активно расти\n",
    "- игры для PC не добираются до популярности игр для игровых платформ, но при этом и не падают так стремительно после устаревания платформы\n",
    "- для рынков северной америки и европы должна быть отдельная стратегия продвижения игр относительно Японии\n",
    "- в северной америке и европе стоит делать упор на игры жанров Action, Shooter и Sport\n",
    "- в Японии это жанры Role-Playing, Action,Misc\n",
    "- рейтинг пользователей не является определяющим фактором, который может показать будет игра успешной или нет, фактически на него можно не обращать внимания\n",
    "- рейтинг критиков стоит принимать во внимание, а именно ориентироваться на минимальный рейтинг 80 - такая  планка часто сопровождается высокими продажами игр. Рейтинг 90 почти всегда гарантирует высокие продажи игры\n",
    "- больше всего на рынках европы и северной америки продаются игры с возрастными рейтингами \"Для всех\" и \"Для взрослых\". \n",
    "- в Японии по текущим данным больше всего игр без рейтинга, в этой стране следует ориентироваться на локальные рейтинги\n",
    "\n",
    "- гипотезы о том, что средние рейтинги платформ РС и ХВох одинаковые, а также о том, что средние пользовательские рейтинги жанров Action и Sports одинаковые -  нашли подтверждение в данных.\n",
    "\n",
    "- в исходных данных было много отстутствующей важной информации по рейтингам критиков и пользователей. Чем заполнить эти пропуски я так и не придумал, возможно если бы данные были полными какие-то выводы могли бы быть другими\n"
   ]
  }
 ],
 "metadata": {
  "ExecuteTimeLog": [
   {
    "duration": 1325,
    "start_time": "2022-05-24T13:35:40.810Z"
   },
   {
    "duration": 472,
    "start_time": "2022-05-24T13:35:42.136Z"
   },
   {
    "duration": 4,
    "start_time": "2022-05-24T13:35:42.611Z"
   },
   {
    "duration": 18,
    "start_time": "2022-05-24T13:35:42.617Z"
   },
   {
    "duration": 7,
    "start_time": "2022-05-24T13:35:42.637Z"
   },
   {
    "duration": 24,
    "start_time": "2022-05-24T13:35:42.646Z"
   },
   {
    "duration": 41,
    "start_time": "2022-05-24T13:35:42.671Z"
   },
   {
    "duration": 14,
    "start_time": "2022-05-24T13:35:42.714Z"
   },
   {
    "duration": 12,
    "start_time": "2022-05-24T13:35:42.730Z"
   },
   {
    "duration": 22,
    "start_time": "2022-05-24T13:35:42.744Z"
   },
   {
    "duration": 29,
    "start_time": "2022-05-24T13:35:42.768Z"
   },
   {
    "duration": 28,
    "start_time": "2022-05-24T13:35:42.799Z"
   },
   {
    "duration": 268,
    "start_time": "2022-05-24T13:35:42.828Z"
   },
   {
    "duration": 27,
    "start_time": "2022-05-24T13:35:43.099Z"
   },
   {
    "duration": 5,
    "start_time": "2022-05-24T13:35:43.128Z"
   },
   {
    "duration": 27,
    "start_time": "2022-05-24T13:35:43.134Z"
   },
   {
    "duration": 37,
    "start_time": "2022-05-24T13:35:43.162Z"
   },
   {
    "duration": 24,
    "start_time": "2022-05-24T13:35:43.201Z"
   },
   {
    "duration": 24,
    "start_time": "2022-05-24T13:35:43.227Z"
   },
   {
    "duration": 16,
    "start_time": "2022-05-24T13:35:43.252Z"
   },
   {
    "duration": 27,
    "start_time": "2022-05-24T13:35:43.269Z"
   },
   {
    "duration": 17,
    "start_time": "2022-05-24T13:35:43.298Z"
   },
   {
    "duration": 15,
    "start_time": "2022-05-24T13:35:43.318Z"
   },
   {
    "duration": 167,
    "start_time": "2022-05-24T13:35:43.334Z"
   },
   {
    "duration": 155,
    "start_time": "2022-05-24T13:35:43.503Z"
   },
   {
    "duration": 154,
    "start_time": "2022-05-24T13:35:43.660Z"
   },
   {
    "duration": 22,
    "start_time": "2022-05-24T13:35:43.816Z"
   },
   {
    "duration": 159,
    "start_time": "2022-05-24T13:35:43.840Z"
   },
   {
    "duration": 32,
    "start_time": "2022-05-24T13:35:44.001Z"
   },
   {
    "duration": 306,
    "start_time": "2022-05-24T13:35:44.035Z"
   },
   {
    "duration": 21,
    "start_time": "2022-05-24T13:35:44.343Z"
   },
   {
    "duration": 11,
    "start_time": "2022-05-24T13:35:44.366Z"
   },
   {
    "duration": 28,
    "start_time": "2022-05-24T13:35:44.379Z"
   },
   {
    "duration": 316,
    "start_time": "2022-05-24T13:35:44.409Z"
   },
   {
    "duration": 381,
    "start_time": "2022-05-24T13:35:44.727Z"
   },
   {
    "duration": 373,
    "start_time": "2022-05-24T13:35:45.110Z"
   },
   {
    "duration": 23,
    "start_time": "2022-05-24T13:35:45.485Z"
   },
   {
    "duration": 1168,
    "start_time": "2022-05-24T13:35:45.510Z"
   },
   {
    "duration": 1096,
    "start_time": "2022-05-24T13:35:46.679Z"
   },
   {
    "duration": 19,
    "start_time": "2022-05-24T13:35:47.776Z"
   },
   {
    "duration": 13,
    "start_time": "2022-05-24T13:35:47.799Z"
   },
   {
    "duration": 40,
    "start_time": "2022-05-24T13:35:47.814Z"
   },
   {
    "duration": 473,
    "start_time": "2022-05-24T13:35:47.855Z"
   },
   {
    "duration": 25,
    "start_time": "2022-05-24T13:35:48.330Z"
   },
   {
    "duration": 43,
    "start_time": "2022-05-24T13:35:48.356Z"
   },
   {
    "duration": 22,
    "start_time": "2022-05-24T13:35:48.401Z"
   },
   {
    "duration": 1203,
    "start_time": "2022-05-24T13:35:48.425Z"
   },
   {
    "duration": 12,
    "start_time": "2022-05-24T13:35:49.629Z"
   },
   {
    "duration": 21,
    "start_time": "2022-05-24T13:35:49.643Z"
   },
   {
    "duration": 1472,
    "start_time": "2022-05-24T18:24:30.681Z"
   },
   {
    "duration": 124,
    "start_time": "2022-05-24T18:24:32.155Z"
   },
   {
    "duration": 4,
    "start_time": "2022-05-24T18:24:32.281Z"
   },
   {
    "duration": 20,
    "start_time": "2022-05-24T18:24:32.287Z"
   },
   {
    "duration": 7,
    "start_time": "2022-05-24T18:24:32.309Z"
   },
   {
    "duration": 45,
    "start_time": "2022-05-24T18:24:32.318Z"
   },
   {
    "duration": 19,
    "start_time": "2022-05-24T18:24:32.365Z"
   },
   {
    "duration": 19,
    "start_time": "2022-05-24T18:24:32.385Z"
   },
   {
    "duration": 15,
    "start_time": "2022-05-24T18:24:32.405Z"
   },
   {
    "duration": 34,
    "start_time": "2022-05-24T18:24:32.423Z"
   },
   {
    "duration": 10,
    "start_time": "2022-05-24T18:24:32.459Z"
   },
   {
    "duration": 33,
    "start_time": "2022-05-24T18:24:32.471Z"
   },
   {
    "duration": 304,
    "start_time": "2022-05-24T18:24:32.506Z"
   },
   {
    "duration": 42,
    "start_time": "2022-05-24T18:24:32.812Z"
   },
   {
    "duration": 5,
    "start_time": "2022-05-24T18:24:32.855Z"
   },
   {
    "duration": 39,
    "start_time": "2022-05-24T18:24:32.861Z"
   },
   {
    "duration": 13,
    "start_time": "2022-05-24T18:24:32.901Z"
   },
   {
    "duration": 42,
    "start_time": "2022-05-24T18:24:32.916Z"
   },
   {
    "duration": 24,
    "start_time": "2022-05-24T18:24:32.960Z"
   },
   {
    "duration": 18,
    "start_time": "2022-05-24T18:24:32.986Z"
   },
   {
    "duration": 12,
    "start_time": "2022-05-24T18:24:33.006Z"
   },
   {
    "duration": 37,
    "start_time": "2022-05-24T18:24:33.020Z"
   },
   {
    "duration": 15,
    "start_time": "2022-05-24T18:24:33.059Z"
   },
   {
    "duration": 176,
    "start_time": "2022-05-24T18:24:33.075Z"
   },
   {
    "duration": 162,
    "start_time": "2022-05-24T18:24:33.253Z"
   },
   {
    "duration": 162,
    "start_time": "2022-05-24T18:24:33.417Z"
   },
   {
    "duration": 22,
    "start_time": "2022-05-24T18:24:33.581Z"
   },
   {
    "duration": 160,
    "start_time": "2022-05-24T18:24:33.606Z"
   },
   {
    "duration": 35,
    "start_time": "2022-05-24T18:24:33.768Z"
   },
   {
    "duration": 287,
    "start_time": "2022-05-24T18:24:33.805Z"
   },
   {
    "duration": 19,
    "start_time": "2022-05-24T18:24:50.046Z"
   },
   {
    "duration": 12,
    "start_time": "2022-05-24T18:25:00.759Z"
   },
   {
    "duration": 23,
    "start_time": "2022-05-24T18:27:06.052Z"
   },
   {
    "duration": 311,
    "start_time": "2022-05-24T18:27:10.102Z"
   },
   {
    "duration": 19,
    "start_time": "2022-05-24T18:33:07.701Z"
   },
   {
    "duration": 759,
    "start_time": "2022-05-24T18:34:01.652Z"
   },
   {
    "duration": 297,
    "start_time": "2022-05-24T18:39:36.990Z"
   },
   {
    "duration": 638,
    "start_time": "2022-05-24T18:40:03.151Z"
   },
   {
    "duration": 11,
    "start_time": "2022-05-24T18:40:31.793Z"
   },
   {
    "duration": 1347,
    "start_time": "2022-05-24T18:45:22.410Z"
   },
   {
    "duration": 75,
    "start_time": "2022-05-24T18:45:23.759Z"
   },
   {
    "duration": 4,
    "start_time": "2022-05-24T18:45:23.836Z"
   },
   {
    "duration": 25,
    "start_time": "2022-05-24T18:45:23.842Z"
   },
   {
    "duration": 7,
    "start_time": "2022-05-24T18:45:23.868Z"
   },
   {
    "duration": 22,
    "start_time": "2022-05-24T18:45:23.876Z"
   },
   {
    "duration": 18,
    "start_time": "2022-05-24T18:45:23.900Z"
   },
   {
    "duration": 7,
    "start_time": "2022-05-24T18:45:23.919Z"
   },
   {
    "duration": 29,
    "start_time": "2022-05-24T18:45:23.927Z"
   },
   {
    "duration": 20,
    "start_time": "2022-05-24T18:45:23.958Z"
   },
   {
    "duration": 9,
    "start_time": "2022-05-24T18:45:23.980Z"
   },
   {
    "duration": 29,
    "start_time": "2022-05-24T18:45:23.990Z"
   },
   {
    "duration": 269,
    "start_time": "2022-05-24T18:45:24.021Z"
   },
   {
    "duration": 26,
    "start_time": "2022-05-24T18:45:24.292Z"
   },
   {
    "duration": 4,
    "start_time": "2022-05-24T18:45:24.320Z"
   },
   {
    "duration": 45,
    "start_time": "2022-05-24T18:45:24.325Z"
   },
   {
    "duration": 13,
    "start_time": "2022-05-24T18:45:24.372Z"
   },
   {
    "duration": 24,
    "start_time": "2022-05-24T18:45:24.387Z"
   },
   {
    "duration": 43,
    "start_time": "2022-05-24T18:45:24.413Z"
   },
   {
    "duration": 15,
    "start_time": "2022-05-24T18:45:24.457Z"
   },
   {
    "duration": 7,
    "start_time": "2022-05-24T18:45:24.474Z"
   },
   {
    "duration": 32,
    "start_time": "2022-05-24T18:45:24.482Z"
   },
   {
    "duration": 15,
    "start_time": "2022-05-24T18:45:24.516Z"
   },
   {
    "duration": 167,
    "start_time": "2022-05-24T18:45:24.533Z"
   },
   {
    "duration": 156,
    "start_time": "2022-05-24T18:45:24.702Z"
   },
   {
    "duration": 144,
    "start_time": "2022-05-24T18:45:24.860Z"
   },
   {
    "duration": 20,
    "start_time": "2022-05-24T18:45:25.005Z"
   },
   {
    "duration": 155,
    "start_time": "2022-05-24T18:45:25.029Z"
   },
   {
    "duration": 48,
    "start_time": "2022-05-24T18:45:25.186Z"
   },
   {
    "duration": 320,
    "start_time": "2022-05-24T18:45:25.236Z"
   },
   {
    "duration": 17,
    "start_time": "2022-05-24T18:45:25.557Z"
   },
   {
    "duration": 11,
    "start_time": "2022-05-24T18:45:25.575Z"
   },
   {
    "duration": 24,
    "start_time": "2022-05-24T18:45:25.588Z"
   },
   {
    "duration": 314,
    "start_time": "2022-05-24T18:45:25.614Z"
   },
   {
    "duration": 355,
    "start_time": "2022-05-24T18:45:25.930Z"
   },
   {
    "duration": 249,
    "start_time": "2022-05-24T18:45:26.287Z"
   },
   {
    "duration": 16,
    "start_time": "2022-05-24T18:45:26.538Z"
   },
   {
    "duration": 1022,
    "start_time": "2022-05-24T18:45:26.556Z"
   },
   {
    "duration": 1097,
    "start_time": "2022-05-24T18:45:27.580Z"
   },
   {
    "duration": 9,
    "start_time": "2022-05-24T18:45:28.679Z"
   },
   {
    "duration": 9,
    "start_time": "2022-05-24T18:45:28.689Z"
   },
   {
    "duration": 21,
    "start_time": "2022-05-24T18:45:28.699Z"
   },
   {
    "duration": 921,
    "start_time": "2022-05-24T18:45:28.721Z"
   },
   {
    "duration": 1026,
    "start_time": "2022-05-24T18:45:29.644Z"
   },
   {
    "duration": 11,
    "start_time": "2022-05-24T18:45:30.672Z"
   },
   {
    "duration": 456,
    "start_time": "2022-05-24T18:45:30.685Z"
   },
   {
    "duration": 28,
    "start_time": "2022-05-24T18:45:31.143Z"
   },
   {
    "duration": 26,
    "start_time": "2022-05-24T18:45:31.173Z"
   },
   {
    "duration": 59,
    "start_time": "2022-05-24T18:45:31.201Z"
   },
   {
    "duration": 946,
    "start_time": "2022-05-24T18:45:31.262Z"
   },
   {
    "duration": 14,
    "start_time": "2022-05-24T18:45:32.210Z"
   },
   {
    "duration": 45,
    "start_time": "2022-05-24T18:45:32.226Z"
   },
   {
    "duration": 963,
    "start_time": "2022-05-24T18:51:24.897Z"
   },
   {
    "duration": 26,
    "start_time": "2022-05-24T18:56:49.088Z"
   },
   {
    "duration": 16,
    "start_time": "2022-05-24T18:57:05.507Z"
   },
   {
    "duration": 1001,
    "start_time": "2022-05-24T18:57:33.706Z"
   },
   {
    "duration": 876,
    "start_time": "2022-05-24T18:57:41.514Z"
   },
   {
    "duration": 10,
    "start_time": "2022-05-24T18:59:30.943Z"
   },
   {
    "duration": 25,
    "start_time": "2022-05-24T19:08:17.319Z"
   },
   {
    "duration": 24,
    "start_time": "2022-05-24T19:13:19.449Z"
   },
   {
    "duration": 23,
    "start_time": "2022-05-24T19:14:23.969Z"
   },
   {
    "duration": 1162,
    "start_time": "2022-05-24T19:18:39.330Z"
   },
   {
    "duration": 79,
    "start_time": "2022-05-24T19:18:40.494Z"
   },
   {
    "duration": 5,
    "start_time": "2022-05-24T19:18:40.574Z"
   },
   {
    "duration": 19,
    "start_time": "2022-05-24T19:18:40.581Z"
   },
   {
    "duration": 9,
    "start_time": "2022-05-24T19:18:40.602Z"
   },
   {
    "duration": 40,
    "start_time": "2022-05-24T19:18:40.612Z"
   },
   {
    "duration": 21,
    "start_time": "2022-05-24T19:18:40.653Z"
   },
   {
    "duration": 6,
    "start_time": "2022-05-24T19:18:40.675Z"
   },
   {
    "duration": 11,
    "start_time": "2022-05-24T19:18:40.682Z"
   },
   {
    "duration": 28,
    "start_time": "2022-05-24T19:18:40.695Z"
   },
   {
    "duration": 32,
    "start_time": "2022-05-24T19:18:40.725Z"
   },
   {
    "duration": 26,
    "start_time": "2022-05-24T19:18:40.759Z"
   },
   {
    "duration": 266,
    "start_time": "2022-05-24T19:18:40.786Z"
   },
   {
    "duration": 30,
    "start_time": "2022-05-24T19:18:41.053Z"
   },
   {
    "duration": 4,
    "start_time": "2022-05-24T19:18:41.084Z"
   },
   {
    "duration": 25,
    "start_time": "2022-05-24T19:18:41.090Z"
   },
   {
    "duration": 11,
    "start_time": "2022-05-24T19:18:41.116Z"
   },
   {
    "duration": 23,
    "start_time": "2022-05-24T19:18:41.152Z"
   },
   {
    "duration": 22,
    "start_time": "2022-05-24T19:18:41.176Z"
   },
   {
    "duration": 16,
    "start_time": "2022-05-24T19:18:41.199Z"
   },
   {
    "duration": 6,
    "start_time": "2022-05-24T19:18:41.217Z"
   },
   {
    "duration": 41,
    "start_time": "2022-05-24T19:18:41.225Z"
   },
   {
    "duration": 15,
    "start_time": "2022-05-24T19:18:41.268Z"
   },
   {
    "duration": 163,
    "start_time": "2022-05-24T19:18:41.284Z"
   },
   {
    "duration": 153,
    "start_time": "2022-05-24T19:18:41.449Z"
   },
   {
    "duration": 150,
    "start_time": "2022-05-24T19:18:41.604Z"
   },
   {
    "duration": 19,
    "start_time": "2022-05-24T19:18:41.756Z"
   },
   {
    "duration": 159,
    "start_time": "2022-05-24T19:18:41.778Z"
   },
   {
    "duration": 38,
    "start_time": "2022-05-24T19:18:41.939Z"
   },
   {
    "duration": 285,
    "start_time": "2022-05-24T19:18:41.979Z"
   },
   {
    "duration": 20,
    "start_time": "2022-05-24T19:18:42.265Z"
   },
   {
    "duration": 11,
    "start_time": "2022-05-24T19:18:42.286Z"
   },
   {
    "duration": 23,
    "start_time": "2022-05-24T19:18:42.299Z"
   },
   {
    "duration": 334,
    "start_time": "2022-05-24T19:18:42.324Z"
   },
   {
    "duration": 342,
    "start_time": "2022-05-24T19:18:42.661Z"
   },
   {
    "duration": 274,
    "start_time": "2022-05-24T19:18:43.004Z"
   },
   {
    "duration": 16,
    "start_time": "2022-05-24T19:18:43.280Z"
   },
   {
    "duration": 1006,
    "start_time": "2022-05-24T19:18:43.297Z"
   },
   {
    "duration": 1121,
    "start_time": "2022-05-24T19:18:44.305Z"
   },
   {
    "duration": 12,
    "start_time": "2022-05-24T19:18:45.427Z"
   },
   {
    "duration": 25,
    "start_time": "2022-05-24T19:18:45.441Z"
   },
   {
    "duration": 28,
    "start_time": "2022-05-24T19:18:45.468Z"
   },
   {
    "duration": 887,
    "start_time": "2022-05-24T19:18:45.498Z"
   },
   {
    "duration": 901,
    "start_time": "2022-05-24T19:18:46.387Z"
   },
   {
    "duration": 9,
    "start_time": "2022-05-24T19:18:47.290Z"
   },
   {
    "duration": 11,
    "start_time": "2022-05-24T19:18:47.300Z"
   },
   {
    "duration": 451,
    "start_time": "2022-05-24T19:18:47.313Z"
   },
   {
    "duration": 25,
    "start_time": "2022-05-24T19:18:47.767Z"
   },
   {
    "duration": 24,
    "start_time": "2022-05-24T19:18:47.794Z"
   },
   {
    "duration": 51,
    "start_time": "2022-05-24T19:18:47.819Z"
   },
   {
    "duration": 1021,
    "start_time": "2022-05-24T19:18:47.871Z"
   },
   {
    "duration": 12,
    "start_time": "2022-05-24T19:18:48.894Z"
   },
   {
    "duration": 21,
    "start_time": "2022-05-24T19:18:48.907Z"
   },
   {
    "duration": 1343,
    "start_time": "2022-05-25T13:37:09.244Z"
   },
   {
    "duration": 648,
    "start_time": "2022-05-25T13:37:10.589Z"
   },
   {
    "duration": 7,
    "start_time": "2022-05-25T13:37:11.238Z"
   },
   {
    "duration": 35,
    "start_time": "2022-05-25T13:37:11.247Z"
   },
   {
    "duration": 11,
    "start_time": "2022-05-25T13:37:11.285Z"
   },
   {
    "duration": 22,
    "start_time": "2022-05-25T13:37:11.297Z"
   },
   {
    "duration": 21,
    "start_time": "2022-05-25T13:37:11.321Z"
   },
   {
    "duration": 21,
    "start_time": "2022-05-25T13:37:11.344Z"
   },
   {
    "duration": 34,
    "start_time": "2022-05-25T13:37:11.367Z"
   },
   {
    "duration": 23,
    "start_time": "2022-05-25T13:37:11.404Z"
   },
   {
    "duration": 14,
    "start_time": "2022-05-25T13:37:11.428Z"
   },
   {
    "duration": 40,
    "start_time": "2022-05-25T13:37:11.444Z"
   },
   {
    "duration": 235,
    "start_time": "2022-05-25T13:37:11.487Z"
   },
   {
    "duration": 42,
    "start_time": "2022-05-25T13:37:11.724Z"
   },
   {
    "duration": 18,
    "start_time": "2022-05-25T13:37:11.768Z"
   },
   {
    "duration": 55,
    "start_time": "2022-05-25T13:37:11.788Z"
   },
   {
    "duration": 22,
    "start_time": "2022-05-25T13:37:11.845Z"
   },
   {
    "duration": 91,
    "start_time": "2022-05-25T13:37:11.880Z"
   },
   {
    "duration": 31,
    "start_time": "2022-05-25T13:37:11.973Z"
   },
   {
    "duration": 25,
    "start_time": "2022-05-25T13:37:12.006Z"
   },
   {
    "duration": 14,
    "start_time": "2022-05-25T13:37:12.033Z"
   },
   {
    "duration": 29,
    "start_time": "2022-05-25T13:37:12.049Z"
   },
   {
    "duration": 32,
    "start_time": "2022-05-25T13:37:12.080Z"
   },
   {
    "duration": 203,
    "start_time": "2022-05-25T13:37:12.114Z"
   },
   {
    "duration": 157,
    "start_time": "2022-05-25T13:37:12.318Z"
   },
   {
    "duration": 153,
    "start_time": "2022-05-25T13:37:12.480Z"
   },
   {
    "duration": 38,
    "start_time": "2022-05-25T13:37:12.635Z"
   },
   {
    "duration": 139,
    "start_time": "2022-05-25T13:37:12.677Z"
   },
   {
    "duration": 56,
    "start_time": "2022-05-25T13:37:12.817Z"
   },
   {
    "duration": 295,
    "start_time": "2022-05-25T13:37:12.881Z"
   },
   {
    "duration": 23,
    "start_time": "2022-05-25T13:37:13.177Z"
   },
   {
    "duration": 11,
    "start_time": "2022-05-25T13:37:13.202Z"
   },
   {
    "duration": 43,
    "start_time": "2022-05-25T13:37:13.215Z"
   },
   {
    "duration": 338,
    "start_time": "2022-05-25T13:37:13.262Z"
   },
   {
    "duration": 441,
    "start_time": "2022-05-25T13:37:13.602Z"
   },
   {
    "duration": 278,
    "start_time": "2022-05-25T13:37:14.045Z"
   },
   {
    "duration": 19,
    "start_time": "2022-05-25T13:37:14.324Z"
   },
   {
    "duration": 1204,
    "start_time": "2022-05-25T13:37:14.345Z"
   },
   {
    "duration": 1081,
    "start_time": "2022-05-25T13:37:15.551Z"
   },
   {
    "duration": 30,
    "start_time": "2022-05-25T13:37:16.634Z"
   },
   {
    "duration": 13,
    "start_time": "2022-05-25T13:37:16.669Z"
   },
   {
    "duration": 25,
    "start_time": "2022-05-25T13:37:16.684Z"
   },
   {
    "duration": 890,
    "start_time": "2022-05-25T13:37:16.711Z"
   },
   {
    "duration": 1137,
    "start_time": "2022-05-25T13:37:17.603Z"
   },
   {
    "duration": 21,
    "start_time": "2022-05-25T13:37:18.742Z"
   },
   {
    "duration": 23,
    "start_time": "2022-05-25T13:37:18.770Z"
   },
   {
    "duration": 422,
    "start_time": "2022-05-25T13:37:18.795Z"
   },
   {
    "duration": 41,
    "start_time": "2022-05-25T13:37:19.219Z"
   },
   {
    "duration": 28,
    "start_time": "2022-05-25T13:37:19.262Z"
   },
   {
    "duration": 22,
    "start_time": "2022-05-25T13:37:19.292Z"
   },
   {
    "duration": 1017,
    "start_time": "2022-05-25T13:37:19.316Z"
   },
   {
    "duration": 13,
    "start_time": "2022-05-25T13:37:20.334Z"
   },
   {
    "duration": 44,
    "start_time": "2022-05-25T13:37:20.348Z"
   },
   {
    "duration": 1443,
    "start_time": "2022-05-25T13:48:08.504Z"
   },
   {
    "duration": 155,
    "start_time": "2022-05-25T13:48:09.954Z"
   },
   {
    "duration": 11,
    "start_time": "2022-05-25T13:48:10.111Z"
   },
   {
    "duration": 28,
    "start_time": "2022-05-25T13:48:10.124Z"
   },
   {
    "duration": 8,
    "start_time": "2022-05-25T13:48:10.161Z"
   },
   {
    "duration": 67,
    "start_time": "2022-05-25T13:48:10.171Z"
   },
   {
    "duration": 30,
    "start_time": "2022-05-25T13:48:10.239Z"
   },
   {
    "duration": 11,
    "start_time": "2022-05-25T13:48:10.273Z"
   },
   {
    "duration": 42,
    "start_time": "2022-05-25T13:48:10.297Z"
   },
   {
    "duration": 42,
    "start_time": "2022-05-25T13:48:10.341Z"
   },
   {
    "duration": 25,
    "start_time": "2022-05-25T13:48:10.392Z"
   },
   {
    "duration": 55,
    "start_time": "2022-05-25T13:48:10.429Z"
   },
   {
    "duration": 424,
    "start_time": "2022-05-25T13:48:10.492Z"
   },
   {
    "duration": 50,
    "start_time": "2022-05-25T13:48:10.924Z"
   },
   {
    "duration": 17,
    "start_time": "2022-05-25T13:48:10.976Z"
   },
   {
    "duration": 89,
    "start_time": "2022-05-25T13:48:10.996Z"
   },
   {
    "duration": 20,
    "start_time": "2022-05-25T13:48:11.091Z"
   },
   {
    "duration": 38,
    "start_time": "2022-05-25T13:48:11.113Z"
   },
   {
    "duration": 28,
    "start_time": "2022-05-25T13:48:11.153Z"
   },
   {
    "duration": 26,
    "start_time": "2022-05-25T13:48:11.183Z"
   },
   {
    "duration": 26,
    "start_time": "2022-05-25T13:48:11.211Z"
   },
   {
    "duration": 27,
    "start_time": "2022-05-25T13:48:11.240Z"
   },
   {
    "duration": 25,
    "start_time": "2022-05-25T13:48:11.276Z"
   },
   {
    "duration": 175,
    "start_time": "2022-05-25T13:48:11.305Z"
   },
   {
    "duration": 213,
    "start_time": "2022-05-25T13:48:11.486Z"
   },
   {
    "duration": 214,
    "start_time": "2022-05-25T13:48:11.705Z"
   },
   {
    "duration": 41,
    "start_time": "2022-05-25T13:48:11.925Z"
   },
   {
    "duration": 210,
    "start_time": "2022-05-25T13:48:11.972Z"
   },
   {
    "duration": 48,
    "start_time": "2022-05-25T13:48:12.187Z"
   },
   {
    "duration": 396,
    "start_time": "2022-05-25T13:48:12.237Z"
   },
   {
    "duration": 27,
    "start_time": "2022-05-25T13:48:12.636Z"
   },
   {
    "duration": 60,
    "start_time": "2022-05-25T13:48:12.665Z"
   },
   {
    "duration": 40,
    "start_time": "2022-05-25T13:48:12.728Z"
   },
   {
    "duration": 470,
    "start_time": "2022-05-25T13:48:12.771Z"
   },
   {
    "duration": 571,
    "start_time": "2022-05-25T13:48:13.243Z"
   },
   {
    "duration": 429,
    "start_time": "2022-05-25T13:48:13.817Z"
   },
   {
    "duration": 25,
    "start_time": "2022-05-25T13:48:14.249Z"
   },
   {
    "duration": 1320,
    "start_time": "2022-05-25T13:48:14.277Z"
   },
   {
    "duration": 1198,
    "start_time": "2022-05-25T13:48:15.610Z"
   },
   {
    "duration": 11,
    "start_time": "2022-05-25T13:48:16.812Z"
   },
   {
    "duration": 33,
    "start_time": "2022-05-25T13:48:16.828Z"
   },
   {
    "duration": 49,
    "start_time": "2022-05-25T13:48:16.863Z"
   },
   {
    "duration": 1402,
    "start_time": "2022-05-25T13:48:16.914Z"
   },
   {
    "duration": 1210,
    "start_time": "2022-05-25T13:48:18.318Z"
   },
   {
    "duration": 12,
    "start_time": "2022-05-25T13:48:19.530Z"
   },
   {
    "duration": 24,
    "start_time": "2022-05-25T13:48:19.544Z"
   },
   {
    "duration": 580,
    "start_time": "2022-05-25T13:48:19.570Z"
   },
   {
    "duration": 33,
    "start_time": "2022-05-25T13:48:20.156Z"
   },
   {
    "duration": 59,
    "start_time": "2022-05-25T13:48:20.194Z"
   },
   {
    "duration": 36,
    "start_time": "2022-05-25T13:48:20.255Z"
   },
   {
    "duration": 1196,
    "start_time": "2022-05-25T13:48:20.293Z"
   },
   {
    "duration": 19,
    "start_time": "2022-05-25T13:48:21.496Z"
   },
   {
    "duration": 41,
    "start_time": "2022-05-25T13:48:21.516Z"
   }
  ],
  "celltoolbar": "Отсутствует",
  "kernelspec": {
   "display_name": "Python 3 (ipykernel)",
   "language": "python",
   "name": "python3"
  },
  "language_info": {
   "codemirror_mode": {
    "name": "ipython",
    "version": 3
   },
   "file_extension": ".py",
   "mimetype": "text/x-python",
   "name": "python",
   "nbconvert_exporter": "python",
   "pygments_lexer": "ipython3",
   "version": "3.10.7"
  },
  "toc": {
   "base_numbering": 1,
   "nav_menu": {},
   "number_sections": true,
   "sideBar": true,
   "skip_h1_title": true,
   "title_cell": "Table of Contents",
   "title_sidebar": "Contents",
   "toc_cell": false,
   "toc_position": {},
   "toc_section_display": true,
   "toc_window_display": false
  },
  "varInspector": {
   "cols": {
    "lenName": 16,
    "lenType": 16,
    "lenVar": 40
   },
   "kernels_config": {
    "python": {
     "delete_cmd_postfix": "",
     "delete_cmd_prefix": "del ",
     "library": "var_list.py",
     "varRefreshCmd": "print(var_dic_list())"
    },
    "r": {
     "delete_cmd_postfix": ") ",
     "delete_cmd_prefix": "rm(",
     "library": "var_list.r",
     "varRefreshCmd": "cat(var_dic_list()) "
    }
   },
   "types_to_exclude": [
    "module",
    "function",
    "builtin_function_or_method",
    "instance",
    "_Feature"
   ],
   "window_display": false
  }
 },
 "nbformat": 4,
 "nbformat_minor": 5
}
