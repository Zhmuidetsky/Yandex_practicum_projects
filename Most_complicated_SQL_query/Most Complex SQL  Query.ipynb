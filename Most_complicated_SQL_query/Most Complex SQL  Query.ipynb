{
 "cells": [
  {
   "cell_type": "markdown",
   "id": "ae0b48f9",
   "metadata": {},
   "source": [
    "**Определение автора с самой высокой оценкой книг (из книг с 50 и более оценками)**"
   ]
  },
  {
   "cell_type": "code",
   "execution_count": null,
   "id": "27debef1",
   "metadata": {},
   "outputs": [],
   "source": [
    "# формирование запроса в SQL\n",
    "query = '''        \n",
    "SELECT a.author AS author,\n",
    "       c.title AS title,\n",
    "       p.count AS reviews,\n",
    "       p.avg AS rating\n",
    "FROM\n",
    "    (SELECT book_id,   -- выберем id книги\n",
    "     COUNT(rating),    -- посчитаем количество оценок\n",
    "     AVG(rating)       -- и средний рейтинг книги\n",
    "     FROM ratings      -- из таблицы рейтингов\n",
    "     GROUP BY book_id            -- сгруппируем по id книги\n",
    "     HAVING COUNT(rating) > 50   -- оставим только те книги, у которых больше 50 оценок\n",
    "     ORDER BY AVG(rating) DESC   -- отсортируем по убыванию рейтинга\n",
    "     LIMIT 1) AS p               -- оставляем только одну лучшу книгу\n",
    "LEFT OUTER JOIN                 -- к получившейся информации присоединяем \n",
    "    (SELECT book_id,            -- id книги и\n",
    "            title,\n",
    "            author_id           -- id автора\n",
    "    FROM books) AS c ON p.book_id = c.book_id\n",
    "LEFT OUTER JOIN                 -- к получившейся информации присоединяем \n",
    "    (SELECT *\n",
    "     FROM authors) AS a ON c.author_id = a.author_id ;\n",
    "'''\n",
    "\n",
    "# выполнение запроса в pandas \n",
    "pd.io.sql.read_sql(query, con = engine"
   ]
  },
  {
   "cell_type": "markdown",
   "id": "2f75c1cb",
   "metadata": {},
   "source": [
    "**Подсчет среднего количества обзоров от пользователей, поставивших более 50 оценок**"
   ]
  },
  {
   "cell_type": "code",
   "execution_count": null,
   "id": "98c86ac8",
   "metadata": {},
   "outputs": [],
   "source": [
    "# формирование запроса в SQL\n",
    "query = '''        \n",
    "SELECT AVG(c.reviews_count)       -- считаем среднее количество обзоров\n",
    "FROM\n",
    "    (SELECT username,            -- выбираем имена пользователей \n",
    "     COUNT(rating)  AS ratings_count    -- считаем сколько они раз ставили оценки\n",
    "     FROM ratings                       -- из таблицы оценок\n",
    "     GROUP BY username                  -- группируем по имени пользователя \n",
    "     HAVING COUNT(rating) > 50) AS p    -- оставляем только тех, кто оставил больше 50 оценок\n",
    "LEFT OUTER JOIN                 -- к получившейся информации присоединяем \n",
    "    (SELECT username,           -- информацию о пользователях\n",
    "       COUNT (DISTINCT text) AS reviews_count    -- и том, сколько отзывов они оставили\n",
    "FROM reviews\n",
    "GROUP BY username) AS c ON p.username = c.username ;\n",
    "'''\n",
    "\n",
    "# выполнение запроса в pandas \n",
    "pd.io.sql.read_sql(query, con = engine)"
   ]
  },
  {
   "cell_type": "markdown",
   "id": "8e603dd6",
   "metadata": {},
   "source": [
    "**Поиск интервала между регистрацией и временем создания первого поста.**"
   ]
  },
  {
   "cell_type": "code",
   "execution_count": null,
   "id": "6158dfb4",
   "metadata": {},
   "outputs": [],
   "source": [
    "# формирование запроса в SQL\n",
    "query = '''        \n",
    "WITH rd AS (                             -- создадим временную таблицу\n",
    "    SELECT id, creation_date             -- выберем id и дату регистрации пользователя\n",
    "    FROM stackoverflow.users),\n",
    "    \n",
    "posts AS (\n",
    "    SELECT user_id, creation_date,       -- выберем id пользователя и дату создания поста\n",
    "    ROW_NUMBER () OVER (PARTITION BY user_id ORDER BY creation_date) AS post_number  -- пронумеруем посты пользователя\n",
    "    FROM stackoverflow.posts)\n",
    "    \n",
    "SELECT user_id,                           -- выберем id пользователя\n",
    "p.creation_date - r.creation_date         -- разницу между датой поста и датой регистрации \n",
    "FROM posts AS p JOIN rd AS r ON p.user_id = r.id     -- присоединив к постам дату регистрации\n",
    "WHERE post_number = 1;                               -- выбрав разницу только для первого поста\n",
    "'''\n",
    "\n",
    "# выполнение запроса в pandas \n",
    "pd.io.sql.read_sql(query, con = engine)"
   ]
  }
 ],
 "metadata": {
  "kernelspec": {
   "display_name": "Python 3 (ipykernel)",
   "language": "python",
   "name": "python3"
  },
  "language_info": {
   "codemirror_mode": {
    "name": "ipython",
    "version": 3
   },
   "file_extension": ".py",
   "mimetype": "text/x-python",
   "name": "python",
   "nbconvert_exporter": "python",
   "pygments_lexer": "ipython3",
   "version": "3.10.7"
  },
  "toc": {
   "base_numbering": 1,
   "nav_menu": {},
   "number_sections": true,
   "sideBar": true,
   "skip_h1_title": false,
   "title_cell": "Table of Contents",
   "title_sidebar": "Contents",
   "toc_cell": false,
   "toc_position": {},
   "toc_section_display": true,
   "toc_window_display": false
  },
  "varInspector": {
   "cols": {
    "lenName": 16,
    "lenType": 16,
    "lenVar": 40
   },
   "kernels_config": {
    "python": {
     "delete_cmd_postfix": "",
     "delete_cmd_prefix": "del ",
     "library": "var_list.py",
     "varRefreshCmd": "print(var_dic_list())"
    },
    "r": {
     "delete_cmd_postfix": ") ",
     "delete_cmd_prefix": "rm(",
     "library": "var_list.r",
     "varRefreshCmd": "cat(var_dic_list()) "
    }
   },
   "types_to_exclude": [
    "module",
    "function",
    "builtin_function_or_method",
    "instance",
    "_Feature"
   ],
   "window_display": false
  }
 },
 "nbformat": 4,
 "nbformat_minor": 5
}
