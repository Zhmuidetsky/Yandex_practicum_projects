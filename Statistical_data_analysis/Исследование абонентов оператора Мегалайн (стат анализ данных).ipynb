{
 "cells": [
  {
   "cell_type": "markdown",
   "id": "505af540",
   "metadata": {},
   "source": [
    "# **Проект исследования абонентов компании Мегалайн**"
   ]
  },
  {
   "cell_type": "markdown",
   "id": "c337ee5a",
   "metadata": {},
   "source": [
    "## **Вводная часть**\n",
    "\n",
    "Целью исследования является анализ двух тарифов оператора, по случайной выборке абонентов в размере 500 человек. \n",
    "\n",
    "Задача - выбрать, какой тариф лучше с точки зрения денег, приносимых компании."
   ]
  },
  {
   "cell_type": "markdown",
   "id": "59f7400c",
   "metadata": {},
   "source": [
    "**Описание тарифов**\n",
    "\n",
    "Тариф «Смарт»\n",
    "- Ежемесячная плата: 550 рублей\n",
    "- Включено 500 минут разговора, 50 сообщений и 15 Гб интернет-трафика\n",
    "- Стоимость услуг сверх тарифного пакета:\n",
    "- минута разговора: 3 рубля\n",
    "- сообщение: 3 рубля\n",
    "- 1 Гб интернет-трафика: 200 рублей\n",
    "\n",
    "Тариф «Ультра»\n",
    "- Ежемесячная плата: 1950 рублей\n",
    "- Включено 3000 минут разговора, 1000 сообщений и 30 Гб интернет-трафика\n",
    "- Стоимость услуг сверх тарифного пакета:\n",
    "- минута разговора: 1 рубль\n",
    "- сообщение: 1 рубль\n",
    "- 1 Гб интернет-трафика: 150 рублей\n",
    "\n",
    "Примечание:\n",
    "«Мегалайн» всегда округляет секунды до минут, а мегабайты — до гигабайт. Каждый звонок округляется отдельно: даже если он длился всего 1 секунду, будет засчитан как 1 минута.\n",
    "Для веб-трафика отдельные сессии не считаются. Вместо этого общая сумма за месяц округляется в бо́льшую сторону. Если абонент использует 1025 мегабайт в этом месяце, с него возьмут плату за 2 гигабайта."
   ]
  },
  {
   "cell_type": "markdown",
   "id": "869520d9",
   "metadata": {},
   "source": [
    "**План исследования с оглавлением**\n",
    "\n",
    "Работать с данными будем в следующем порядке:\n",
    " - [подготовка данных](#предобработка)\n",
    " - [исследовательский анализ данных, графики, локальные выводы](#ИАД)\n",
    " - [проверка гипотез](#гипотезы)\n",
    " - [общий вывод исследования](#выводы)\n",
    " - [данные о датасетах](#данные)"
   ]
  },
  {
   "cell_type": "markdown",
   "id": "cf8a6d16",
   "metadata": {},
   "source": [
    "## **Подготовка данных**  <a id = 'предобработка'></a> \n",
    "\n"
   ]
  },
  {
   "cell_type": "markdown",
   "id": "4856b7cb",
   "metadata": {},
   "source": [
    "У нас в наличии есть следующие файлы:\n",
    "\n",
    "- /datasets/calls.csv.  - информация о совершенных звонках\n",
    "- /datasets/internet.csv. - информация об использованном трафике интернет\n",
    "- /datasets/messages.csv.  - информация о сообщениях\n",
    "- /datasets/tariffs.csv. - информация о тарифах\n",
    "- /datasets/users.csv.  - информаци о пользователях"
   ]
  },
  {
   "cell_type": "markdown",
   "id": "eb93dd62",
   "metadata": {},
   "source": [
    "Пойдем следующим путем: будем по одному открывать датасеты, проверять их на наличие пропусков , дубликатов, обрабатывать. Начнем с иформации о пользователях, и затем будем к этой информации добавлять обработанные данные из датасетов по интернету, звонкам и так далее"
   ]
  },
  {
   "cell_type": "code",
   "execution_count": 1,
   "id": "6e3bf58a",
   "metadata": {},
   "outputs": [],
   "source": [
    "# импортируем небходимые для работы библиотеки\n",
    "import pandas as pd\n",
    "\n",
    "import math\n",
    "\n",
    "import numpy as np\n",
    "\n",
    "from matplotlib import pyplot as plt\n",
    "\n",
    "from scipy import stats as st"
   ]
  },
  {
   "cell_type": "code",
   "execution_count": 2,
   "id": "50689677",
   "metadata": {
    "scrolled": true
   },
   "outputs": [
    {
     "data": {
      "text/html": [
       "<div>\n",
       "<style scoped>\n",
       "    .dataframe tbody tr th:only-of-type {\n",
       "        vertical-align: middle;\n",
       "    }\n",
       "\n",
       "    .dataframe tbody tr th {\n",
       "        vertical-align: top;\n",
       "    }\n",
       "\n",
       "    .dataframe thead th {\n",
       "        text-align: right;\n",
       "    }\n",
       "</style>\n",
       "<table border=\"1\" class=\"dataframe\">\n",
       "  <thead>\n",
       "    <tr style=\"text-align: right;\">\n",
       "      <th></th>\n",
       "      <th>user_id</th>\n",
       "      <th>age</th>\n",
       "      <th>churn_date</th>\n",
       "      <th>city</th>\n",
       "      <th>first_name</th>\n",
       "      <th>last_name</th>\n",
       "      <th>reg_date</th>\n",
       "      <th>tariff</th>\n",
       "    </tr>\n",
       "  </thead>\n",
       "  <tbody>\n",
       "    <tr>\n",
       "      <th>0</th>\n",
       "      <td>1000</td>\n",
       "      <td>52</td>\n",
       "      <td>NaN</td>\n",
       "      <td>Краснодар</td>\n",
       "      <td>Рафаил</td>\n",
       "      <td>Верещагин</td>\n",
       "      <td>2018-05-25</td>\n",
       "      <td>ultra</td>\n",
       "    </tr>\n",
       "    <tr>\n",
       "      <th>1</th>\n",
       "      <td>1001</td>\n",
       "      <td>41</td>\n",
       "      <td>NaN</td>\n",
       "      <td>Москва</td>\n",
       "      <td>Иван</td>\n",
       "      <td>Ежов</td>\n",
       "      <td>2018-11-01</td>\n",
       "      <td>smart</td>\n",
       "    </tr>\n",
       "    <tr>\n",
       "      <th>2</th>\n",
       "      <td>1002</td>\n",
       "      <td>59</td>\n",
       "      <td>NaN</td>\n",
       "      <td>Стерлитамак</td>\n",
       "      <td>Евгений</td>\n",
       "      <td>Абрамович</td>\n",
       "      <td>2018-06-17</td>\n",
       "      <td>smart</td>\n",
       "    </tr>\n",
       "    <tr>\n",
       "      <th>3</th>\n",
       "      <td>1003</td>\n",
       "      <td>23</td>\n",
       "      <td>NaN</td>\n",
       "      <td>Москва</td>\n",
       "      <td>Белла</td>\n",
       "      <td>Белякова</td>\n",
       "      <td>2018-08-17</td>\n",
       "      <td>ultra</td>\n",
       "    </tr>\n",
       "    <tr>\n",
       "      <th>4</th>\n",
       "      <td>1004</td>\n",
       "      <td>68</td>\n",
       "      <td>NaN</td>\n",
       "      <td>Новокузнецк</td>\n",
       "      <td>Татьяна</td>\n",
       "      <td>Авдеенко</td>\n",
       "      <td>2018-05-14</td>\n",
       "      <td>ultra</td>\n",
       "    </tr>\n",
       "    <tr>\n",
       "      <th>5</th>\n",
       "      <td>1005</td>\n",
       "      <td>67</td>\n",
       "      <td>NaN</td>\n",
       "      <td>Набережные Челны</td>\n",
       "      <td>Афанасий</td>\n",
       "      <td>Горлов</td>\n",
       "      <td>2018-01-25</td>\n",
       "      <td>smart</td>\n",
       "    </tr>\n",
       "    <tr>\n",
       "      <th>6</th>\n",
       "      <td>1006</td>\n",
       "      <td>21</td>\n",
       "      <td>NaN</td>\n",
       "      <td>Ульяновск</td>\n",
       "      <td>Леонид</td>\n",
       "      <td>Ермолаев</td>\n",
       "      <td>2018-02-26</td>\n",
       "      <td>smart</td>\n",
       "    </tr>\n",
       "    <tr>\n",
       "      <th>7</th>\n",
       "      <td>1007</td>\n",
       "      <td>65</td>\n",
       "      <td>NaN</td>\n",
       "      <td>Москва</td>\n",
       "      <td>Юна</td>\n",
       "      <td>Березина</td>\n",
       "      <td>2018-04-19</td>\n",
       "      <td>smart</td>\n",
       "    </tr>\n",
       "    <tr>\n",
       "      <th>8</th>\n",
       "      <td>1008</td>\n",
       "      <td>63</td>\n",
       "      <td>NaN</td>\n",
       "      <td>Челябинск</td>\n",
       "      <td>Рустэм</td>\n",
       "      <td>Пономарёв</td>\n",
       "      <td>2018-12-19</td>\n",
       "      <td>smart</td>\n",
       "    </tr>\n",
       "    <tr>\n",
       "      <th>9</th>\n",
       "      <td>1009</td>\n",
       "      <td>24</td>\n",
       "      <td>NaN</td>\n",
       "      <td>Пермь</td>\n",
       "      <td>Василиса</td>\n",
       "      <td>Блинова</td>\n",
       "      <td>2018-03-22</td>\n",
       "      <td>smart</td>\n",
       "    </tr>\n",
       "  </tbody>\n",
       "</table>\n",
       "</div>"
      ],
      "text/plain": [
       "   user_id  age churn_date              city first_name  last_name  \\\n",
       "0     1000   52        NaN         Краснодар     Рафаил  Верещагин   \n",
       "1     1001   41        NaN            Москва       Иван       Ежов   \n",
       "2     1002   59        NaN       Стерлитамак    Евгений  Абрамович   \n",
       "3     1003   23        NaN            Москва      Белла   Белякова   \n",
       "4     1004   68        NaN       Новокузнецк    Татьяна   Авдеенко   \n",
       "5     1005   67        NaN  Набережные Челны   Афанасий     Горлов   \n",
       "6     1006   21        NaN         Ульяновск     Леонид   Ермолаев   \n",
       "7     1007   65        NaN            Москва        Юна   Березина   \n",
       "8     1008   63        NaN         Челябинск     Рустэм  Пономарёв   \n",
       "9     1009   24        NaN             Пермь   Василиса    Блинова   \n",
       "\n",
       "     reg_date tariff  \n",
       "0  2018-05-25  ultra  \n",
       "1  2018-11-01  smart  \n",
       "2  2018-06-17  smart  \n",
       "3  2018-08-17  ultra  \n",
       "4  2018-05-14  ultra  \n",
       "5  2018-01-25  smart  \n",
       "6  2018-02-26  smart  \n",
       "7  2018-04-19  smart  \n",
       "8  2018-12-19  smart  \n",
       "9  2018-03-22  smart  "
      ]
     },
     "execution_count": 2,
     "metadata": {},
     "output_type": "execute_result"
    }
   ],
   "source": [
    "# откроем датасет с информацией о пользователях\n",
    "# используем конструкцию try / except для возможности открыть локально или с сервера\n",
    "try:\n",
    "    users = pd.read_csv(r'C:\\Users\\rosto\\OneDrive\\Документы\\Learning_is_the_light\\Projects_and_data\\Мегалайн\\users.csv')\n",
    "except:\n",
    "    users = pd.read_csv('/datasets/users.csv')\n",
    "\n",
    "users.head(10)"
   ]
  },
  {
   "cell_type": "code",
   "execution_count": 3,
   "id": "b164a166",
   "metadata": {
    "scrolled": true
   },
   "outputs": [
    {
     "name": "stdout",
     "output_type": "stream",
     "text": [
      "<class 'pandas.core.frame.DataFrame'>\n",
      "RangeIndex: 500 entries, 0 to 499\n",
      "Data columns (total 8 columns):\n",
      " #   Column      Non-Null Count  Dtype \n",
      "---  ------      --------------  ----- \n",
      " 0   user_id     500 non-null    int64 \n",
      " 1   age         500 non-null    int64 \n",
      " 2   churn_date  38 non-null     object\n",
      " 3   city        500 non-null    object\n",
      " 4   first_name  500 non-null    object\n",
      " 5   last_name   500 non-null    object\n",
      " 6   reg_date    500 non-null    object\n",
      " 7   tariff      500 non-null    object\n",
      "dtypes: int64(2), object(6)\n",
      "memory usage: 31.4+ KB\n"
     ]
    }
   ],
   "source": [
    "users.info()"
   ]
  },
  {
   "cell_type": "markdown",
   "id": "ae9269d1",
   "metadata": {},
   "source": [
    "В дата сете, как и должно быть, есть данные о 500 абонентах. 38 из них прекратили пользование тарифом на момент выгрузки."
   ]
  },
  {
   "cell_type": "code",
   "execution_count": 4,
   "id": "583bd5ca",
   "metadata": {
    "scrolled": true
   },
   "outputs": [
    {
     "data": {
      "text/plain": [
       "<AxesSubplot:>"
      ]
     },
     "execution_count": 4,
     "metadata": {},
     "output_type": "execute_result"
    },
    {
     "data": {
      "image/png": "[encoded data removed]",
      "text/plain": [
       "<Figure size 432x288 with 1 Axes>"
      ]
     },
     "metadata": {
      "needs_background": "light"
     },
     "output_type": "display_data"
    }
   ],
   "source": [
    "# посмортим с помощью гистограммы на данные по возрасту пользователей\n",
    "users['age'].hist(bins = 50)"
   ]
  },
  {
   "cell_type": "markdown",
   "id": "45851ffd",
   "metadata": {},
   "source": [
    "слишком молодых или слишком пожилых абонентов не обнаружено, несколько неравномерное распределение по возрастам, есть пики, есть провалы, выдимо особенность выборки"
   ]
  },
  {
   "cell_type": "code",
   "execution_count": 5,
   "id": "2ec5b214",
   "metadata": {
    "scrolled": true
   },
   "outputs": [
    {
     "data": {
      "text/html": [
       "<div>\n",
       "<style scoped>\n",
       "    .dataframe tbody tr th:only-of-type {\n",
       "        vertical-align: middle;\n",
       "    }\n",
       "\n",
       "    .dataframe tbody tr th {\n",
       "        vertical-align: top;\n",
       "    }\n",
       "\n",
       "    .dataframe thead th {\n",
       "        text-align: right;\n",
       "    }\n",
       "</style>\n",
       "<table border=\"1\" class=\"dataframe\">\n",
       "  <thead>\n",
       "    <tr style=\"text-align: right;\">\n",
       "      <th></th>\n",
       "      <th>user_id</th>\n",
       "      <th>age</th>\n",
       "      <th>churn_date</th>\n",
       "      <th>city</th>\n",
       "      <th>first_name</th>\n",
       "      <th>last_name</th>\n",
       "      <th>reg_date</th>\n",
       "      <th>tariff</th>\n",
       "    </tr>\n",
       "  </thead>\n",
       "  <tbody>\n",
       "    <tr>\n",
       "      <th>19</th>\n",
       "      <td>1019</td>\n",
       "      <td>63</td>\n",
       "      <td>2018-10-05</td>\n",
       "      <td>Томск</td>\n",
       "      <td>Игнатий</td>\n",
       "      <td>Круглов</td>\n",
       "      <td>2018-05-16</td>\n",
       "      <td>ultra</td>\n",
       "    </tr>\n",
       "    <tr>\n",
       "      <th>20</th>\n",
       "      <td>1020</td>\n",
       "      <td>59</td>\n",
       "      <td>2018-12-18</td>\n",
       "      <td>Чита</td>\n",
       "      <td>Тала</td>\n",
       "      <td>Костина</td>\n",
       "      <td>2018-10-22</td>\n",
       "      <td>smart</td>\n",
       "    </tr>\n",
       "    <tr>\n",
       "      <th>34</th>\n",
       "      <td>1034</td>\n",
       "      <td>66</td>\n",
       "      <td>2018-11-21</td>\n",
       "      <td>Вологда</td>\n",
       "      <td>Святослав</td>\n",
       "      <td>Бондарев</td>\n",
       "      <td>2018-08-26</td>\n",
       "      <td>smart</td>\n",
       "    </tr>\n",
       "    <tr>\n",
       "      <th>50</th>\n",
       "      <td>1050</td>\n",
       "      <td>44</td>\n",
       "      <td>2018-10-03</td>\n",
       "      <td>Тюмень</td>\n",
       "      <td>Рузана</td>\n",
       "      <td>Аничкина</td>\n",
       "      <td>2018-06-16</td>\n",
       "      <td>ultra</td>\n",
       "    </tr>\n",
       "    <tr>\n",
       "      <th>51</th>\n",
       "      <td>1051</td>\n",
       "      <td>37</td>\n",
       "      <td>2018-10-14</td>\n",
       "      <td>Москва</td>\n",
       "      <td>Кристина</td>\n",
       "      <td>Сомова</td>\n",
       "      <td>2018-05-28</td>\n",
       "      <td>smart</td>\n",
       "    </tr>\n",
       "    <tr>\n",
       "      <th>56</th>\n",
       "      <td>1056</td>\n",
       "      <td>73</td>\n",
       "      <td>2018-10-14</td>\n",
       "      <td>Иркутск</td>\n",
       "      <td>Радислав</td>\n",
       "      <td>Артемьев</td>\n",
       "      <td>2018-04-13</td>\n",
       "      <td>smart</td>\n",
       "    </tr>\n",
       "    <tr>\n",
       "      <th>62</th>\n",
       "      <td>1062</td>\n",
       "      <td>24</td>\n",
       "      <td>2018-12-09</td>\n",
       "      <td>Москва</td>\n",
       "      <td>Александр</td>\n",
       "      <td>Коршунов</td>\n",
       "      <td>2018-11-16</td>\n",
       "      <td>smart</td>\n",
       "    </tr>\n",
       "    <tr>\n",
       "      <th>63</th>\n",
       "      <td>1063</td>\n",
       "      <td>45</td>\n",
       "      <td>2018-12-11</td>\n",
       "      <td>Тула</td>\n",
       "      <td>Таира</td>\n",
       "      <td>Климова</td>\n",
       "      <td>2018-04-12</td>\n",
       "      <td>ultra</td>\n",
       "    </tr>\n",
       "    <tr>\n",
       "      <th>64</th>\n",
       "      <td>1064</td>\n",
       "      <td>55</td>\n",
       "      <td>2018-12-26</td>\n",
       "      <td>Якутск</td>\n",
       "      <td>Динара</td>\n",
       "      <td>Алфеева</td>\n",
       "      <td>2018-03-17</td>\n",
       "      <td>smart</td>\n",
       "    </tr>\n",
       "    <tr>\n",
       "      <th>65</th>\n",
       "      <td>1065</td>\n",
       "      <td>53</td>\n",
       "      <td>2018-12-09</td>\n",
       "      <td>Москва</td>\n",
       "      <td>Роза</td>\n",
       "      <td>Игнатова</td>\n",
       "      <td>2018-03-08</td>\n",
       "      <td>smart</td>\n",
       "    </tr>\n",
       "    <tr>\n",
       "      <th>71</th>\n",
       "      <td>1071</td>\n",
       "      <td>20</td>\n",
       "      <td>2018-08-31</td>\n",
       "      <td>Омск</td>\n",
       "      <td>Гектор</td>\n",
       "      <td>Чумаков</td>\n",
       "      <td>2018-01-09</td>\n",
       "      <td>smart</td>\n",
       "    </tr>\n",
       "    <tr>\n",
       "      <th>90</th>\n",
       "      <td>1090</td>\n",
       "      <td>54</td>\n",
       "      <td>2018-12-03</td>\n",
       "      <td>Череповец</td>\n",
       "      <td>Екатерина</td>\n",
       "      <td>Астафьева</td>\n",
       "      <td>2018-10-11</td>\n",
       "      <td>ultra</td>\n",
       "    </tr>\n",
       "    <tr>\n",
       "      <th>128</th>\n",
       "      <td>1128</td>\n",
       "      <td>51</td>\n",
       "      <td>2018-12-23</td>\n",
       "      <td>Волжский</td>\n",
       "      <td>Ксения</td>\n",
       "      <td>Агаева</td>\n",
       "      <td>2018-12-15</td>\n",
       "      <td>ultra</td>\n",
       "    </tr>\n",
       "    <tr>\n",
       "      <th>161</th>\n",
       "      <td>1161</td>\n",
       "      <td>65</td>\n",
       "      <td>2018-11-07</td>\n",
       "      <td>Набережные Челны</td>\n",
       "      <td>Татьяна</td>\n",
       "      <td>Голованова</td>\n",
       "      <td>2018-07-03</td>\n",
       "      <td>smart</td>\n",
       "    </tr>\n",
       "    <tr>\n",
       "      <th>163</th>\n",
       "      <td>1163</td>\n",
       "      <td>21</td>\n",
       "      <td>2018-12-16</td>\n",
       "      <td>Москва</td>\n",
       "      <td>Лев</td>\n",
       "      <td>Вишневский</td>\n",
       "      <td>2018-11-03</td>\n",
       "      <td>smart</td>\n",
       "    </tr>\n",
       "    <tr>\n",
       "      <th>191</th>\n",
       "      <td>1191</td>\n",
       "      <td>64</td>\n",
       "      <td>2018-10-03</td>\n",
       "      <td>Набережные Челны</td>\n",
       "      <td>Александр</td>\n",
       "      <td>Акиндинов</td>\n",
       "      <td>2018-06-30</td>\n",
       "      <td>smart</td>\n",
       "    </tr>\n",
       "    <tr>\n",
       "      <th>201</th>\n",
       "      <td>1201</td>\n",
       "      <td>32</td>\n",
       "      <td>2018-12-03</td>\n",
       "      <td>Москва</td>\n",
       "      <td>Геннадий</td>\n",
       "      <td>Веселов</td>\n",
       "      <td>2018-08-06</td>\n",
       "      <td>ultra</td>\n",
       "    </tr>\n",
       "    <tr>\n",
       "      <th>206</th>\n",
       "      <td>1206</td>\n",
       "      <td>35</td>\n",
       "      <td>2018-12-20</td>\n",
       "      <td>Москва</td>\n",
       "      <td>Елена</td>\n",
       "      <td>Шарапова</td>\n",
       "      <td>2018-11-03</td>\n",
       "      <td>smart</td>\n",
       "    </tr>\n",
       "    <tr>\n",
       "      <th>232</th>\n",
       "      <td>1232</td>\n",
       "      <td>60</td>\n",
       "      <td>2018-11-30</td>\n",
       "      <td>Томск</td>\n",
       "      <td>Виктория</td>\n",
       "      <td>Ларина</td>\n",
       "      <td>2018-10-07</td>\n",
       "      <td>smart</td>\n",
       "    </tr>\n",
       "    <tr>\n",
       "      <th>242</th>\n",
       "      <td>1242</td>\n",
       "      <td>39</td>\n",
       "      <td>2018-12-21</td>\n",
       "      <td>Хабаровск</td>\n",
       "      <td>Радим</td>\n",
       "      <td>Федосеев</td>\n",
       "      <td>2018-11-18</td>\n",
       "      <td>smart</td>\n",
       "    </tr>\n",
       "    <tr>\n",
       "      <th>254</th>\n",
       "      <td>1254</td>\n",
       "      <td>75</td>\n",
       "      <td>2018-08-17</td>\n",
       "      <td>Москва</td>\n",
       "      <td>Александра</td>\n",
       "      <td>Сухарева</td>\n",
       "      <td>2018-01-04</td>\n",
       "      <td>ultra</td>\n",
       "    </tr>\n",
       "    <tr>\n",
       "      <th>255</th>\n",
       "      <td>1255</td>\n",
       "      <td>40</td>\n",
       "      <td>2018-09-02</td>\n",
       "      <td>Саранск</td>\n",
       "      <td>Серафима</td>\n",
       "      <td>Пономарева</td>\n",
       "      <td>2018-02-19</td>\n",
       "      <td>ultra</td>\n",
       "    </tr>\n",
       "    <tr>\n",
       "      <th>265</th>\n",
       "      <td>1265</td>\n",
       "      <td>24</td>\n",
       "      <td>2018-10-04</td>\n",
       "      <td>Омск</td>\n",
       "      <td>Радим</td>\n",
       "      <td>Адамов</td>\n",
       "      <td>2018-06-24</td>\n",
       "      <td>ultra</td>\n",
       "    </tr>\n",
       "    <tr>\n",
       "      <th>271</th>\n",
       "      <td>1271</td>\n",
       "      <td>69</td>\n",
       "      <td>2018-11-13</td>\n",
       "      <td>Челябинск</td>\n",
       "      <td>Аурелия</td>\n",
       "      <td>Чижова</td>\n",
       "      <td>2018-07-14</td>\n",
       "      <td>ultra</td>\n",
       "    </tr>\n",
       "    <tr>\n",
       "      <th>293</th>\n",
       "      <td>1293</td>\n",
       "      <td>39</td>\n",
       "      <td>2018-11-22</td>\n",
       "      <td>Санкт-Петербург</td>\n",
       "      <td>Эдита</td>\n",
       "      <td>Дубинина</td>\n",
       "      <td>2018-09-05</td>\n",
       "      <td>smart</td>\n",
       "    </tr>\n",
       "    <tr>\n",
       "      <th>343</th>\n",
       "      <td>1343</td>\n",
       "      <td>30</td>\n",
       "      <td>2018-10-28</td>\n",
       "      <td>Кострома</td>\n",
       "      <td>Анита</td>\n",
       "      <td>Верещагина</td>\n",
       "      <td>2018-08-15</td>\n",
       "      <td>ultra</td>\n",
       "    </tr>\n",
       "    <tr>\n",
       "      <th>353</th>\n",
       "      <td>1353</td>\n",
       "      <td>57</td>\n",
       "      <td>2018-11-26</td>\n",
       "      <td>Санкт-Петербург</td>\n",
       "      <td>Доминика</td>\n",
       "      <td>Анищенко</td>\n",
       "      <td>2018-04-22</td>\n",
       "      <td>smart</td>\n",
       "    </tr>\n",
       "    <tr>\n",
       "      <th>355</th>\n",
       "      <td>1355</td>\n",
       "      <td>33</td>\n",
       "      <td>2018-11-27</td>\n",
       "      <td>Киров</td>\n",
       "      <td>Сара</td>\n",
       "      <td>Абрикосова</td>\n",
       "      <td>2018-07-21</td>\n",
       "      <td>smart</td>\n",
       "    </tr>\n",
       "    <tr>\n",
       "      <th>367</th>\n",
       "      <td>1367</td>\n",
       "      <td>43</td>\n",
       "      <td>2018-11-16</td>\n",
       "      <td>Москва</td>\n",
       "      <td>Всеволод</td>\n",
       "      <td>Антоненко</td>\n",
       "      <td>2018-09-14</td>\n",
       "      <td>ultra</td>\n",
       "    </tr>\n",
       "    <tr>\n",
       "      <th>370</th>\n",
       "      <td>1370</td>\n",
       "      <td>48</td>\n",
       "      <td>2018-10-27</td>\n",
       "      <td>Новороссийск</td>\n",
       "      <td>Гектор</td>\n",
       "      <td>Сысоев</td>\n",
       "      <td>2018-02-06</td>\n",
       "      <td>smart</td>\n",
       "    </tr>\n",
       "    <tr>\n",
       "      <th>371</th>\n",
       "      <td>1371</td>\n",
       "      <td>50</td>\n",
       "      <td>2018-12-30</td>\n",
       "      <td>Омск</td>\n",
       "      <td>Ириней</td>\n",
       "      <td>Трофимов</td>\n",
       "      <td>2018-12-25</td>\n",
       "      <td>smart</td>\n",
       "    </tr>\n",
       "    <tr>\n",
       "      <th>392</th>\n",
       "      <td>1392</td>\n",
       "      <td>54</td>\n",
       "      <td>2018-09-27</td>\n",
       "      <td>Челябинск</td>\n",
       "      <td>Алла</td>\n",
       "      <td>Беликова</td>\n",
       "      <td>2018-02-27</td>\n",
       "      <td>ultra</td>\n",
       "    </tr>\n",
       "    <tr>\n",
       "      <th>399</th>\n",
       "      <td>1399</td>\n",
       "      <td>31</td>\n",
       "      <td>2018-12-25</td>\n",
       "      <td>Уфа</td>\n",
       "      <td>Алиса</td>\n",
       "      <td>Абрашина</td>\n",
       "      <td>2018-11-06</td>\n",
       "      <td>ultra</td>\n",
       "    </tr>\n",
       "    <tr>\n",
       "      <th>416</th>\n",
       "      <td>1416</td>\n",
       "      <td>50</td>\n",
       "      <td>2018-12-14</td>\n",
       "      <td>Санкт-Петербург</td>\n",
       "      <td>Валерия</td>\n",
       "      <td>Ёлчина</td>\n",
       "      <td>2018-07-16</td>\n",
       "      <td>ultra</td>\n",
       "    </tr>\n",
       "    <tr>\n",
       "      <th>422</th>\n",
       "      <td>1422</td>\n",
       "      <td>60</td>\n",
       "      <td>2018-12-21</td>\n",
       "      <td>Москва</td>\n",
       "      <td>Клара</td>\n",
       "      <td>Устинова</td>\n",
       "      <td>2018-10-12</td>\n",
       "      <td>smart</td>\n",
       "    </tr>\n",
       "    <tr>\n",
       "      <th>438</th>\n",
       "      <td>1438</td>\n",
       "      <td>24</td>\n",
       "      <td>2018-12-24</td>\n",
       "      <td>Екатеринбург</td>\n",
       "      <td>Нателла</td>\n",
       "      <td>Бородина</td>\n",
       "      <td>2018-10-05</td>\n",
       "      <td>smart</td>\n",
       "    </tr>\n",
       "    <tr>\n",
       "      <th>480</th>\n",
       "      <td>1480</td>\n",
       "      <td>29</td>\n",
       "      <td>2018-09-26</td>\n",
       "      <td>Новокузнецк</td>\n",
       "      <td>Гелена</td>\n",
       "      <td>Емельянова</td>\n",
       "      <td>2018-02-14</td>\n",
       "      <td>smart</td>\n",
       "    </tr>\n",
       "    <tr>\n",
       "      <th>498</th>\n",
       "      <td>1498</td>\n",
       "      <td>68</td>\n",
       "      <td>2018-10-25</td>\n",
       "      <td>Владикавказ</td>\n",
       "      <td>Всеволод</td>\n",
       "      <td>Акимчин</td>\n",
       "      <td>2018-07-19</td>\n",
       "      <td>smart</td>\n",
       "    </tr>\n",
       "  </tbody>\n",
       "</table>\n",
       "</div>"
      ],
      "text/plain": [
       "     user_id  age  churn_date              city  first_name   last_name  \\\n",
       "19      1019   63  2018-10-05             Томск     Игнатий     Круглов   \n",
       "20      1020   59  2018-12-18              Чита        Тала     Костина   \n",
       "34      1034   66  2018-11-21           Вологда   Святослав    Бондарев   \n",
       "50      1050   44  2018-10-03            Тюмень      Рузана    Аничкина   \n",
       "51      1051   37  2018-10-14            Москва    Кристина      Сомова   \n",
       "56      1056   73  2018-10-14           Иркутск    Радислав    Артемьев   \n",
       "62      1062   24  2018-12-09            Москва   Александр    Коршунов   \n",
       "63      1063   45  2018-12-11              Тула       Таира     Климова   \n",
       "64      1064   55  2018-12-26            Якутск      Динара     Алфеева   \n",
       "65      1065   53  2018-12-09            Москва        Роза    Игнатова   \n",
       "71      1071   20  2018-08-31              Омск      Гектор     Чумаков   \n",
       "90      1090   54  2018-12-03         Череповец   Екатерина   Астафьева   \n",
       "128     1128   51  2018-12-23          Волжский      Ксения      Агаева   \n",
       "161     1161   65  2018-11-07  Набережные Челны     Татьяна  Голованова   \n",
       "163     1163   21  2018-12-16            Москва         Лев  Вишневский   \n",
       "191     1191   64  2018-10-03  Набережные Челны   Александр   Акиндинов   \n",
       "201     1201   32  2018-12-03            Москва    Геннадий     Веселов   \n",
       "206     1206   35  2018-12-20            Москва       Елена    Шарапова   \n",
       "232     1232   60  2018-11-30             Томск    Виктория      Ларина   \n",
       "242     1242   39  2018-12-21         Хабаровск       Радим    Федосеев   \n",
       "254     1254   75  2018-08-17            Москва  Александра    Сухарева   \n",
       "255     1255   40  2018-09-02           Саранск    Серафима  Пономарева   \n",
       "265     1265   24  2018-10-04              Омск       Радим      Адамов   \n",
       "271     1271   69  2018-11-13         Челябинск     Аурелия      Чижова   \n",
       "293     1293   39  2018-11-22   Санкт-Петербург       Эдита    Дубинина   \n",
       "343     1343   30  2018-10-28          Кострома       Анита  Верещагина   \n",
       "353     1353   57  2018-11-26   Санкт-Петербург    Доминика    Анищенко   \n",
       "355     1355   33  2018-11-27             Киров        Сара  Абрикосова   \n",
       "367     1367   43  2018-11-16            Москва    Всеволод   Антоненко   \n",
       "370     1370   48  2018-10-27      Новороссийск      Гектор      Сысоев   \n",
       "371     1371   50  2018-12-30              Омск      Ириней    Трофимов   \n",
       "392     1392   54  2018-09-27         Челябинск        Алла    Беликова   \n",
       "399     1399   31  2018-12-25               Уфа       Алиса    Абрашина   \n",
       "416     1416   50  2018-12-14   Санкт-Петербург     Валерия      Ёлчина   \n",
       "422     1422   60  2018-12-21            Москва       Клара    Устинова   \n",
       "438     1438   24  2018-12-24      Екатеринбург     Нателла    Бородина   \n",
       "480     1480   29  2018-09-26       Новокузнецк      Гелена  Емельянова   \n",
       "498     1498   68  2018-10-25       Владикавказ    Всеволод     Акимчин   \n",
       "\n",
       "       reg_date tariff  \n",
       "19   2018-05-16  ultra  \n",
       "20   2018-10-22  smart  \n",
       "34   2018-08-26  smart  \n",
       "50   2018-06-16  ultra  \n",
       "51   2018-05-28  smart  \n",
       "56   2018-04-13  smart  \n",
       "62   2018-11-16  smart  \n",
       "63   2018-04-12  ultra  \n",
       "64   2018-03-17  smart  \n",
       "65   2018-03-08  smart  \n",
       "71   2018-01-09  smart  \n",
       "90   2018-10-11  ultra  \n",
       "128  2018-12-15  ultra  \n",
       "161  2018-07-03  smart  \n",
       "163  2018-11-03  smart  \n",
       "191  2018-06-30  smart  \n",
       "201  2018-08-06  ultra  \n",
       "206  2018-11-03  smart  \n",
       "232  2018-10-07  smart  \n",
       "242  2018-11-18  smart  \n",
       "254  2018-01-04  ultra  \n",
       "255  2018-02-19  ultra  \n",
       "265  2018-06-24  ultra  \n",
       "271  2018-07-14  ultra  \n",
       "293  2018-09-05  smart  \n",
       "343  2018-08-15  ultra  \n",
       "353  2018-04-22  smart  \n",
       "355  2018-07-21  smart  \n",
       "367  2018-09-14  ultra  \n",
       "370  2018-02-06  smart  \n",
       "371  2018-12-25  smart  \n",
       "392  2018-02-27  ultra  \n",
       "399  2018-11-06  ultra  \n",
       "416  2018-07-16  ultra  \n",
       "422  2018-10-12  smart  \n",
       "438  2018-10-05  smart  \n",
       "480  2018-02-14  smart  \n",
       "498  2018-07-19  smart  "
      ]
     },
     "execution_count": 5,
     "metadata": {},
     "output_type": "execute_result"
    }
   ],
   "source": [
    "# посмотрим на обонентов, у которых закончился тариф\n",
    "users.query('not(churn_date.isna())')"
   ]
  },
  {
   "cell_type": "markdown",
   "id": "6d9c4b50",
   "metadata": {},
   "source": [
    "Все они какое-то время пользовались одним или вторым тарифом, исключать их из выборки не будем"
   ]
  },
  {
   "cell_type": "code",
   "execution_count": 6,
   "id": "35551d1d",
   "metadata": {
    "scrolled": true
   },
   "outputs": [
    {
     "data": {
      "text/plain": [
       "array(['Краснодар', 'Москва', 'Стерлитамак', 'Новокузнецк',\n",
       "       'Набережные Челны', 'Ульяновск', 'Челябинск', 'Пермь', 'Тюмень',\n",
       "       'Самара', 'Санкт-Петербург', 'Иваново', 'Чебоксары', 'Омск', 'Уфа',\n",
       "       'Томск', 'Чита', 'Мурманск', 'Петрозаводск', 'Тверь',\n",
       "       'Екатеринбург', 'Махачкала', 'Вологда', 'Череповец', 'Ярославль',\n",
       "       'Сочи', 'Хабаровск', 'Ставрополь', 'Рязань', 'Улан-Удэ', 'Тула',\n",
       "       'Саратов', 'Ростов-на-Дону', 'Казань', 'Иркутск', 'Курск',\n",
       "       'Калуга', 'Якутск', 'Астрахань', 'Химки', 'Владикавказ',\n",
       "       'Волгоград', 'Саранск', 'Ижевск', 'Новосибирск', 'Брянск',\n",
       "       'Тольятти', 'Нижний Тагил', 'Орёл', 'Белгород', 'Воронеж',\n",
       "       'Волжский', 'Курган', 'Барнаул', 'Красноярск', 'Архангельск',\n",
       "       'Липецк', 'Кемерово', 'Киров', 'Сургут', 'Пенза', 'Магнитогорск',\n",
       "       'Нижний Новгород', 'Кострома', 'Владивосток', 'Тамбов', 'Балашиха',\n",
       "       'Севастополь', 'Калининград', 'Оренбург', 'Смоленск',\n",
       "       'Нижневартовск', 'Владимир', 'Новороссийск', 'Грозный', 'Подольск'],\n",
       "      dtype=object)"
      ]
     },
     "execution_count": 6,
     "metadata": {},
     "output_type": "execute_result"
    }
   ],
   "source": [
    "# посмотрим на уникальные значения в названиях городов, проверим их на неявные дубликаты\n",
    "users['city'].unique()"
   ]
  },
  {
   "cell_type": "markdown",
   "id": "a65f6b42",
   "metadata": {},
   "source": [
    "Визуально дубликатов не видно"
   ]
  },
  {
   "cell_type": "markdown",
   "id": "24cebf86",
   "metadata": {},
   "source": [
    "Имена и фамилии нас не интересуют, но и убирать их из датафрейма не будем."
   ]
  },
  {
   "cell_type": "code",
   "execution_count": 7,
   "id": "0964072c",
   "metadata": {},
   "outputs": [],
   "source": [
    "# приведем столбец даты подключения к формату даты\n",
    "users['reg_date'] = pd.to_datetime(users['reg_date'], format = '%Y-%m-%d')"
   ]
  },
  {
   "cell_type": "code",
   "execution_count": 8,
   "id": "9b3fcd86",
   "metadata": {},
   "outputs": [
    {
     "data": {
      "text/plain": [
       "<AxesSubplot:>"
      ]
     },
     "execution_count": 8,
     "metadata": {},
     "output_type": "execute_result"
    },
    {
     "data": {
      "image/png": "[encoded data removed]",
      "text/plain": [
       "<Figure size 432x288 with 1 Axes>"
      ]
     },
     "metadata": {
      "needs_background": "light"
     },
     "output_type": "display_data"
    }
   ],
   "source": [
    "# визуально проверим дату регистрации абонента\n",
    "users['reg_date'].hist(bins = 12)\n",
    "# видим, что все абоненты зарегистрировались в 2018 году"
   ]
  },
  {
   "cell_type": "code",
   "execution_count": 9,
   "id": "ecbc6906",
   "metadata": {
    "scrolled": false
   },
   "outputs": [
    {
     "data": {
      "text/plain": [
       "smart    351\n",
       "ultra    149\n",
       "Name: tariff, dtype: int64"
      ]
     },
     "execution_count": 9,
     "metadata": {},
     "output_type": "execute_result"
    }
   ],
   "source": [
    "# и проверим, нет ли лишних тарифов в таблице\n",
    "users['tariff'].value_counts()"
   ]
  },
  {
   "cell_type": "markdown",
   "id": "9df3a669",
   "metadata": {},
   "source": [
    "Пользователей тарифа Смарт больше, что логично, так как у него меньше абонентская плата. Никаких лишних тарифов в данных нет."
   ]
  },
  {
   "cell_type": "code",
   "execution_count": 10,
   "id": "d1b147da",
   "metadata": {},
   "outputs": [
    {
     "data": {
      "text/plain": [
       "0"
      ]
     },
     "execution_count": 10,
     "metadata": {},
     "output_type": "execute_result"
    }
   ],
   "source": [
    "# и проверим датасет на наличие дубликатов\n",
    "users.duplicated().sum()"
   ]
  },
  {
   "cell_type": "markdown",
   "id": "7f5f0697",
   "metadata": {},
   "source": [
    "Отлично, дупликатов нет!\n",
    "\n",
    "Рассмотрим датасет с информацией о звонках"
   ]
  },
  {
   "cell_type": "code",
   "execution_count": 11,
   "id": "dba84bd5",
   "metadata": {
    "scrolled": true
   },
   "outputs": [
    {
     "data": {
      "text/html": [
       "<div>\n",
       "<style scoped>\n",
       "    .dataframe tbody tr th:only-of-type {\n",
       "        vertical-align: middle;\n",
       "    }\n",
       "\n",
       "    .dataframe tbody tr th {\n",
       "        vertical-align: top;\n",
       "    }\n",
       "\n",
       "    .dataframe thead th {\n",
       "        text-align: right;\n",
       "    }\n",
       "</style>\n",
       "<table border=\"1\" class=\"dataframe\">\n",
       "  <thead>\n",
       "    <tr style=\"text-align: right;\">\n",
       "      <th></th>\n",
       "      <th>id</th>\n",
       "      <th>call_date</th>\n",
       "      <th>duration</th>\n",
       "      <th>user_id</th>\n",
       "    </tr>\n",
       "  </thead>\n",
       "  <tbody>\n",
       "    <tr>\n",
       "      <th>0</th>\n",
       "      <td>1000_0</td>\n",
       "      <td>2018-07-25</td>\n",
       "      <td>0.00</td>\n",
       "      <td>1000</td>\n",
       "    </tr>\n",
       "    <tr>\n",
       "      <th>1</th>\n",
       "      <td>1000_1</td>\n",
       "      <td>2018-08-17</td>\n",
       "      <td>0.00</td>\n",
       "      <td>1000</td>\n",
       "    </tr>\n",
       "    <tr>\n",
       "      <th>2</th>\n",
       "      <td>1000_2</td>\n",
       "      <td>2018-06-11</td>\n",
       "      <td>2.85</td>\n",
       "      <td>1000</td>\n",
       "    </tr>\n",
       "    <tr>\n",
       "      <th>3</th>\n",
       "      <td>1000_3</td>\n",
       "      <td>2018-09-21</td>\n",
       "      <td>13.80</td>\n",
       "      <td>1000</td>\n",
       "    </tr>\n",
       "    <tr>\n",
       "      <th>4</th>\n",
       "      <td>1000_4</td>\n",
       "      <td>2018-12-15</td>\n",
       "      <td>5.18</td>\n",
       "      <td>1000</td>\n",
       "    </tr>\n",
       "    <tr>\n",
       "      <th>5</th>\n",
       "      <td>1000_5</td>\n",
       "      <td>2018-11-02</td>\n",
       "      <td>0.00</td>\n",
       "      <td>1000</td>\n",
       "    </tr>\n",
       "    <tr>\n",
       "      <th>6</th>\n",
       "      <td>1000_6</td>\n",
       "      <td>2018-10-18</td>\n",
       "      <td>0.00</td>\n",
       "      <td>1000</td>\n",
       "    </tr>\n",
       "    <tr>\n",
       "      <th>7</th>\n",
       "      <td>1000_7</td>\n",
       "      <td>2018-08-22</td>\n",
       "      <td>18.31</td>\n",
       "      <td>1000</td>\n",
       "    </tr>\n",
       "    <tr>\n",
       "      <th>8</th>\n",
       "      <td>1000_8</td>\n",
       "      <td>2018-09-15</td>\n",
       "      <td>18.44</td>\n",
       "      <td>1000</td>\n",
       "    </tr>\n",
       "    <tr>\n",
       "      <th>9</th>\n",
       "      <td>1000_9</td>\n",
       "      <td>2018-08-15</td>\n",
       "      <td>0.00</td>\n",
       "      <td>1000</td>\n",
       "    </tr>\n",
       "  </tbody>\n",
       "</table>\n",
       "</div>"
      ],
      "text/plain": [
       "       id   call_date  duration  user_id\n",
       "0  1000_0  2018-07-25      0.00     1000\n",
       "1  1000_1  2018-08-17      0.00     1000\n",
       "2  1000_2  2018-06-11      2.85     1000\n",
       "3  1000_3  2018-09-21     13.80     1000\n",
       "4  1000_4  2018-12-15      5.18     1000\n",
       "5  1000_5  2018-11-02      0.00     1000\n",
       "6  1000_6  2018-10-18      0.00     1000\n",
       "7  1000_7  2018-08-22     18.31     1000\n",
       "8  1000_8  2018-09-15     18.44     1000\n",
       "9  1000_9  2018-08-15      0.00     1000"
      ]
     },
     "metadata": {},
     "output_type": "display_data"
    },
    {
     "name": "stdout",
     "output_type": "stream",
     "text": [
      "<class 'pandas.core.frame.DataFrame'>\n",
      "RangeIndex: 202607 entries, 0 to 202606\n",
      "Data columns (total 4 columns):\n",
      " #   Column     Non-Null Count   Dtype  \n",
      "---  ------     --------------   -----  \n",
      " 0   id         202607 non-null  object \n",
      " 1   call_date  202607 non-null  object \n",
      " 2   duration   202607 non-null  float64\n",
      " 3   user_id    202607 non-null  int64  \n",
      "dtypes: float64(1), int64(1), object(2)\n",
      "memory usage: 6.2+ MB\n"
     ]
    }
   ],
   "source": [
    "try:\n",
    "    calls = pd.read_csv(r'C:\\Users\\rosto\\OneDrive\\Документы\\Learning_is_the_light\\Projects_and_data\\Мегалайн\\calls.csv')\n",
    "except:\n",
    "    calls = pd.read_csv('/datasets/calls.csv')\n",
    "\n",
    "display(calls.head(10))\n",
    "calls.info()"
   ]
  },
  {
   "cell_type": "markdown",
   "id": "0c107ecc",
   "metadata": {},
   "source": [
    "всего абоненты совершили 202607 звонков. Для дальнейшей обработки необходимо:\n",
    "- привести столбец call_date в формат даты\n",
    "- внести дополнительный столбец с информацией о месяце совершения звонка\n",
    "- округлить значение длительности звонка в большую сторону, так как по правилам оператора каждый звонок округляется до минуты в большую сторону\n",
    "\n",
    "После этого можно будет сформировать сводную таблицу с информацией о количестве и длительности звонков абонентов"
   ]
  },
  {
   "cell_type": "code",
   "execution_count": 12,
   "id": "c847630f",
   "metadata": {
    "scrolled": false
   },
   "outputs": [
    {
     "data": {
      "text/html": [
       "<div>\n",
       "<style scoped>\n",
       "    .dataframe tbody tr th:only-of-type {\n",
       "        vertical-align: middle;\n",
       "    }\n",
       "\n",
       "    .dataframe tbody tr th {\n",
       "        vertical-align: top;\n",
       "    }\n",
       "\n",
       "    .dataframe thead th {\n",
       "        text-align: right;\n",
       "    }\n",
       "</style>\n",
       "<table border=\"1\" class=\"dataframe\">\n",
       "  <thead>\n",
       "    <tr style=\"text-align: right;\">\n",
       "      <th></th>\n",
       "      <th>id</th>\n",
       "      <th>call_date</th>\n",
       "      <th>duration</th>\n",
       "      <th>user_id</th>\n",
       "      <th>call_month</th>\n",
       "    </tr>\n",
       "  </thead>\n",
       "  <tbody>\n",
       "    <tr>\n",
       "      <th>0</th>\n",
       "      <td>1000_0</td>\n",
       "      <td>2018-07-25</td>\n",
       "      <td>0</td>\n",
       "      <td>1000</td>\n",
       "      <td>7</td>\n",
       "    </tr>\n",
       "    <tr>\n",
       "      <th>1</th>\n",
       "      <td>1000_1</td>\n",
       "      <td>2018-08-17</td>\n",
       "      <td>0</td>\n",
       "      <td>1000</td>\n",
       "      <td>8</td>\n",
       "    </tr>\n",
       "    <tr>\n",
       "      <th>2</th>\n",
       "      <td>1000_2</td>\n",
       "      <td>2018-06-11</td>\n",
       "      <td>3</td>\n",
       "      <td>1000</td>\n",
       "      <td>6</td>\n",
       "    </tr>\n",
       "    <tr>\n",
       "      <th>3</th>\n",
       "      <td>1000_3</td>\n",
       "      <td>2018-09-21</td>\n",
       "      <td>14</td>\n",
       "      <td>1000</td>\n",
       "      <td>9</td>\n",
       "    </tr>\n",
       "    <tr>\n",
       "      <th>4</th>\n",
       "      <td>1000_4</td>\n",
       "      <td>2018-12-15</td>\n",
       "      <td>6</td>\n",
       "      <td>1000</td>\n",
       "      <td>12</td>\n",
       "    </tr>\n",
       "  </tbody>\n",
       "</table>\n",
       "</div>"
      ],
      "text/plain": [
       "       id  call_date  duration  user_id  call_month\n",
       "0  1000_0 2018-07-25         0     1000           7\n",
       "1  1000_1 2018-08-17         0     1000           8\n",
       "2  1000_2 2018-06-11         3     1000           6\n",
       "3  1000_3 2018-09-21        14     1000           9\n",
       "4  1000_4 2018-12-15         6     1000          12"
      ]
     },
     "metadata": {},
     "output_type": "display_data"
    },
    {
     "name": "stdout",
     "output_type": "stream",
     "text": [
      "<class 'pandas.core.frame.DataFrame'>\n",
      "RangeIndex: 202607 entries, 0 to 202606\n",
      "Data columns (total 5 columns):\n",
      " #   Column      Non-Null Count   Dtype         \n",
      "---  ------      --------------   -----         \n",
      " 0   id          202607 non-null  object        \n",
      " 1   call_date   202607 non-null  datetime64[ns]\n",
      " 2   duration    202607 non-null  int64         \n",
      " 3   user_id     202607 non-null  int64         \n",
      " 4   call_month  202607 non-null  int64         \n",
      "dtypes: datetime64[ns](1), int64(3), object(1)\n",
      "memory usage: 7.7+ MB\n"
     ]
    },
    {
     "data": {
      "text/plain": [
       "<AxesSubplot:>"
      ]
     },
     "execution_count": 12,
     "metadata": {},
     "output_type": "execute_result"
    },
    {
     "data": {
      "image/png": "[encoded data removed]",
      "text/plain": [
       "<Figure size 432x288 with 1 Axes>"
      ]
     },
     "metadata": {
      "needs_background": "light"
     },
     "output_type": "display_data"
    }
   ],
   "source": [
    "# приведем столбец даты звонка в формат даты\n",
    "calls['call_date'] = pd.to_datetime(calls['call_date'], format = '%Y-%m-%d')\n",
    "\n",
    "# и дополним датафрейм столбцом о месяце совершения звонка\n",
    "calls['call_month'] = pd.DatetimeIndex(calls['call_date']).month\n",
    "\n",
    "# округлим длительность звонка до минуты в большую сторону и приведем к целому\n",
    "calls['duration'] = np.ceil(calls['duration']).astype('int')\n",
    "\n",
    "display(calls.head())\n",
    "calls.info()\n",
    "calls['call_date'].hist(bins = 50)"
   ]
  },
  {
   "cell_type": "markdown",
   "id": "52252238",
   "metadata": {},
   "source": [
    "График количества звонков от начала года к концу идет постоянно по нарастающей, что логично, так как обоненты в выборке подключались к тарифам в течении года, и только у 38 из 500 тариф прекратил свое действие. \n",
    "\n",
    "Можно предположить, что отдельные выбросы вверх являются следствием каких-то рекламных кампаний по привлечению новых клиентов."
   ]
  },
  {
   "cell_type": "markdown",
   "id": "9c9f6438",
   "metadata": {},
   "source": [
    "Сделаем сводную таблицу по абонентам, с подсчетом количества и длительности звонков, с разбивкой по месяцам"
   ]
  },
  {
   "cell_type": "code",
   "execution_count": 13,
   "id": "5e26c7ad",
   "metadata": {
    "scrolled": true
   },
   "outputs": [
    {
     "data": {
      "text/html": [
       "<div>\n",
       "<style scoped>\n",
       "    .dataframe tbody tr th:only-of-type {\n",
       "        vertical-align: middle;\n",
       "    }\n",
       "\n",
       "    .dataframe tbody tr th {\n",
       "        vertical-align: top;\n",
       "    }\n",
       "\n",
       "    .dataframe thead th {\n",
       "        text-align: right;\n",
       "    }\n",
       "</style>\n",
       "<table border=\"1\" class=\"dataframe\">\n",
       "  <thead>\n",
       "    <tr style=\"text-align: right;\">\n",
       "      <th></th>\n",
       "      <th>user_id</th>\n",
       "      <th>month</th>\n",
       "      <th>calls_count</th>\n",
       "      <th>calls_sum</th>\n",
       "    </tr>\n",
       "  </thead>\n",
       "  <tbody>\n",
       "    <tr>\n",
       "      <th>0</th>\n",
       "      <td>1000</td>\n",
       "      <td>5</td>\n",
       "      <td>22</td>\n",
       "      <td>159</td>\n",
       "    </tr>\n",
       "    <tr>\n",
       "      <th>1</th>\n",
       "      <td>1000</td>\n",
       "      <td>6</td>\n",
       "      <td>43</td>\n",
       "      <td>172</td>\n",
       "    </tr>\n",
       "    <tr>\n",
       "      <th>2</th>\n",
       "      <td>1000</td>\n",
       "      <td>7</td>\n",
       "      <td>47</td>\n",
       "      <td>340</td>\n",
       "    </tr>\n",
       "    <tr>\n",
       "      <th>3</th>\n",
       "      <td>1000</td>\n",
       "      <td>8</td>\n",
       "      <td>52</td>\n",
       "      <td>408</td>\n",
       "    </tr>\n",
       "    <tr>\n",
       "      <th>4</th>\n",
       "      <td>1000</td>\n",
       "      <td>9</td>\n",
       "      <td>58</td>\n",
       "      <td>466</td>\n",
       "    </tr>\n",
       "    <tr>\n",
       "      <th>5</th>\n",
       "      <td>1000</td>\n",
       "      <td>10</td>\n",
       "      <td>57</td>\n",
       "      <td>350</td>\n",
       "    </tr>\n",
       "    <tr>\n",
       "      <th>6</th>\n",
       "      <td>1000</td>\n",
       "      <td>11</td>\n",
       "      <td>43</td>\n",
       "      <td>338</td>\n",
       "    </tr>\n",
       "    <tr>\n",
       "      <th>7</th>\n",
       "      <td>1000</td>\n",
       "      <td>12</td>\n",
       "      <td>46</td>\n",
       "      <td>333</td>\n",
       "    </tr>\n",
       "    <tr>\n",
       "      <th>8</th>\n",
       "      <td>1001</td>\n",
       "      <td>11</td>\n",
       "      <td>59</td>\n",
       "      <td>430</td>\n",
       "    </tr>\n",
       "    <tr>\n",
       "      <th>9</th>\n",
       "      <td>1001</td>\n",
       "      <td>12</td>\n",
       "      <td>63</td>\n",
       "      <td>414</td>\n",
       "    </tr>\n",
       "  </tbody>\n",
       "</table>\n",
       "</div>"
      ],
      "text/plain": [
       "   user_id  month  calls_count  calls_sum\n",
       "0     1000      5           22        159\n",
       "1     1000      6           43        172\n",
       "2     1000      7           47        340\n",
       "3     1000      8           52        408\n",
       "4     1000      9           58        466\n",
       "5     1000     10           57        350\n",
       "6     1000     11           43        338\n",
       "7     1000     12           46        333\n",
       "8     1001     11           59        430\n",
       "9     1001     12           63        414"
      ]
     },
     "execution_count": 13,
     "metadata": {},
     "output_type": "execute_result"
    }
   ],
   "source": [
    "calls_pivot_month = calls.pivot_table(index = ['user_id', 'call_month'], \n",
    "                                          values = 'duration', aggfunc = ('sum', 'count'), fill_value=0).reset_index()\n",
    "\n",
    "calls_pivot_month.columns = ['user_id', 'month', 'calls_count', 'calls_sum']\n",
    "calls_pivot_month.head(10)"
   ]
  },
  {
   "cell_type": "code",
   "execution_count": 14,
   "id": "1bc23f14",
   "metadata": {
    "scrolled": false
   },
   "outputs": [
    {
     "name": "stdout",
     "output_type": "stream",
     "text": [
      "<class 'pandas.core.frame.DataFrame'>\n",
      "RangeIndex: 3174 entries, 0 to 3173\n",
      "Data columns (total 4 columns):\n",
      " #   Column       Non-Null Count  Dtype\n",
      "---  ------       --------------  -----\n",
      " 0   user_id      3174 non-null   int64\n",
      " 1   month        3174 non-null   int64\n",
      " 2   calls_count  3174 non-null   int64\n",
      " 3   calls_sum    3174 non-null   int64\n",
      "dtypes: int64(4)\n",
      "memory usage: 99.3 KB\n"
     ]
    }
   ],
   "source": [
    "calls_pivot_month.info()"
   ]
  },
  {
   "cell_type": "code",
   "execution_count": 15,
   "id": "aacc1482",
   "metadata": {},
   "outputs": [],
   "source": [
    "# эту часть кода написал для себя, что бы проверить, что через groupby можно получить тот же результат\n",
    "# что и через сводную таблицу\n",
    "#calls_grouped_month = calls.groupby(['user_id','call_month'])['duration'].sum().reset_index()\n",
    "#calls_grouped_month.head()"
   ]
  },
  {
   "cell_type": "markdown",
   "id": "a44a7b71",
   "metadata": {},
   "source": [
    "Итак у нас есть данные, сколько каждый абонент раз и какой длительности вел разговоры в каждый из месяцев.\n"
   ]
  },
  {
   "cell_type": "markdown",
   "id": "3bdde47f",
   "metadata": {},
   "source": [
    "Посмотрим, какое количество сообщений отправляют абоненты в каждый из месяцев"
   ]
  },
  {
   "cell_type": "code",
   "execution_count": 16,
   "id": "3d1a3608",
   "metadata": {
    "scrolled": true
   },
   "outputs": [
    {
     "data": {
      "text/html": [
       "<div>\n",
       "<style scoped>\n",
       "    .dataframe tbody tr th:only-of-type {\n",
       "        vertical-align: middle;\n",
       "    }\n",
       "\n",
       "    .dataframe tbody tr th {\n",
       "        vertical-align: top;\n",
       "    }\n",
       "\n",
       "    .dataframe thead th {\n",
       "        text-align: right;\n",
       "    }\n",
       "</style>\n",
       "<table border=\"1\" class=\"dataframe\">\n",
       "  <thead>\n",
       "    <tr style=\"text-align: right;\">\n",
       "      <th></th>\n",
       "      <th>id</th>\n",
       "      <th>message_date</th>\n",
       "      <th>user_id</th>\n",
       "    </tr>\n",
       "  </thead>\n",
       "  <tbody>\n",
       "    <tr>\n",
       "      <th>0</th>\n",
       "      <td>1000_0</td>\n",
       "      <td>2018-06-27</td>\n",
       "      <td>1000</td>\n",
       "    </tr>\n",
       "    <tr>\n",
       "      <th>1</th>\n",
       "      <td>1000_1</td>\n",
       "      <td>2018-10-08</td>\n",
       "      <td>1000</td>\n",
       "    </tr>\n",
       "    <tr>\n",
       "      <th>2</th>\n",
       "      <td>1000_2</td>\n",
       "      <td>2018-08-04</td>\n",
       "      <td>1000</td>\n",
       "    </tr>\n",
       "    <tr>\n",
       "      <th>3</th>\n",
       "      <td>1000_3</td>\n",
       "      <td>2018-06-16</td>\n",
       "      <td>1000</td>\n",
       "    </tr>\n",
       "    <tr>\n",
       "      <th>4</th>\n",
       "      <td>1000_4</td>\n",
       "      <td>2018-12-05</td>\n",
       "      <td>1000</td>\n",
       "    </tr>\n",
       "    <tr>\n",
       "      <th>5</th>\n",
       "      <td>1000_5</td>\n",
       "      <td>2018-06-20</td>\n",
       "      <td>1000</td>\n",
       "    </tr>\n",
       "    <tr>\n",
       "      <th>6</th>\n",
       "      <td>1000_6</td>\n",
       "      <td>2018-11-19</td>\n",
       "      <td>1000</td>\n",
       "    </tr>\n",
       "    <tr>\n",
       "      <th>7</th>\n",
       "      <td>1000_7</td>\n",
       "      <td>2018-10-29</td>\n",
       "      <td>1000</td>\n",
       "    </tr>\n",
       "    <tr>\n",
       "      <th>8</th>\n",
       "      <td>1000_8</td>\n",
       "      <td>2018-06-25</td>\n",
       "      <td>1000</td>\n",
       "    </tr>\n",
       "    <tr>\n",
       "      <th>9</th>\n",
       "      <td>1000_9</td>\n",
       "      <td>2018-12-18</td>\n",
       "      <td>1000</td>\n",
       "    </tr>\n",
       "  </tbody>\n",
       "</table>\n",
       "</div>"
      ],
      "text/plain": [
       "       id message_date  user_id\n",
       "0  1000_0   2018-06-27     1000\n",
       "1  1000_1   2018-10-08     1000\n",
       "2  1000_2   2018-08-04     1000\n",
       "3  1000_3   2018-06-16     1000\n",
       "4  1000_4   2018-12-05     1000\n",
       "5  1000_5   2018-06-20     1000\n",
       "6  1000_6   2018-11-19     1000\n",
       "7  1000_7   2018-10-29     1000\n",
       "8  1000_8   2018-06-25     1000\n",
       "9  1000_9   2018-12-18     1000"
      ]
     },
     "metadata": {},
     "output_type": "display_data"
    },
    {
     "name": "stdout",
     "output_type": "stream",
     "text": [
      "<class 'pandas.core.frame.DataFrame'>\n",
      "RangeIndex: 123036 entries, 0 to 123035\n",
      "Data columns (total 3 columns):\n",
      " #   Column        Non-Null Count   Dtype \n",
      "---  ------        --------------   ----- \n",
      " 0   id            123036 non-null  object\n",
      " 1   message_date  123036 non-null  object\n",
      " 2   user_id       123036 non-null  int64 \n",
      "dtypes: int64(1), object(2)\n",
      "memory usage: 2.8+ MB\n"
     ]
    }
   ],
   "source": [
    "try:\n",
    "    messages = pd.read_csv(r'C:\\Users\\rosto\\OneDrive\\Документы\\Learning_is_the_light\\Projects_and_data\\Мегалайн\\messages.csv')\n",
    "except:\n",
    "    messages = pd.read_csv('/datasets/messages.csv')\n",
    "\n",
    "display(messages.head(10))\n",
    "messages.info()"
   ]
  },
  {
   "cell_type": "code",
   "execution_count": 17,
   "id": "338a5fe4",
   "metadata": {
    "scrolled": true
   },
   "outputs": [
    {
     "name": "stdout",
     "output_type": "stream",
     "text": [
      "<class 'pandas.core.frame.DataFrame'>\n",
      "RangeIndex: 123036 entries, 0 to 123035\n",
      "Data columns (total 4 columns):\n",
      " #   Column         Non-Null Count   Dtype         \n",
      "---  ------         --------------   -----         \n",
      " 0   id             123036 non-null  object        \n",
      " 1   message_date   123036 non-null  datetime64[ns]\n",
      " 2   user_id        123036 non-null  int64         \n",
      " 3   message_month  123036 non-null  int64         \n",
      "dtypes: datetime64[ns](1), int64(2), object(1)\n",
      "memory usage: 3.8+ MB\n"
     ]
    }
   ],
   "source": [
    "# приведем колонку даты сообщения к формату даты\n",
    "messages['message_date'] = pd.to_datetime(messages['message_date'], format = '%Y-%m-%d')\n",
    "\n",
    "# и дополним датафрейм столбцом о месяце совершения звонка\n",
    "messages['message_month'] = pd.DatetimeIndex(messages['message_date']).month\n",
    "messages.info()"
   ]
  },
  {
   "cell_type": "code",
   "execution_count": 18,
   "id": "2e0abcb6",
   "metadata": {},
   "outputs": [
    {
     "data": {
      "text/plain": [
       "<AxesSubplot:>"
      ]
     },
     "execution_count": 18,
     "metadata": {},
     "output_type": "execute_result"
    },
    {
     "data": {
      "image/png": "[encoded data removed]",
      "text/plain": [
       "<Figure size 432x288 with 1 Axes>"
      ]
     },
     "metadata": {
      "needs_background": "light"
     },
     "output_type": "display_data"
    }
   ],
   "source": [
    "# посмотрим на гистограмму по месяцам\n",
    "messages['message_month'].hist()"
   ]
  },
  {
   "cell_type": "markdown",
   "id": "015bb8cd",
   "metadata": {},
   "source": [
    "Как и следовало ожидать, вместе с ростом количества абонентов росло и количество СМС в месяц, достигнув пика в декабре, с большим отрывом от предыдущих месяцев, что вероятно объясняется прадником НГ."
   ]
  },
  {
   "cell_type": "code",
   "execution_count": 19,
   "id": "4890bb75",
   "metadata": {
    "scrolled": false
   },
   "outputs": [
    {
     "data": {
      "text/html": [
       "<div>\n",
       "<style scoped>\n",
       "    .dataframe tbody tr th:only-of-type {\n",
       "        vertical-align: middle;\n",
       "    }\n",
       "\n",
       "    .dataframe tbody tr th {\n",
       "        vertical-align: top;\n",
       "    }\n",
       "\n",
       "    .dataframe thead th {\n",
       "        text-align: right;\n",
       "    }\n",
       "</style>\n",
       "<table border=\"1\" class=\"dataframe\">\n",
       "  <thead>\n",
       "    <tr style=\"text-align: right;\">\n",
       "      <th></th>\n",
       "      <th>user_id</th>\n",
       "      <th>month</th>\n",
       "      <th>message_count</th>\n",
       "    </tr>\n",
       "  </thead>\n",
       "  <tbody>\n",
       "    <tr>\n",
       "      <th>0</th>\n",
       "      <td>1000</td>\n",
       "      <td>5</td>\n",
       "      <td>22</td>\n",
       "    </tr>\n",
       "    <tr>\n",
       "      <th>1</th>\n",
       "      <td>1000</td>\n",
       "      <td>6</td>\n",
       "      <td>60</td>\n",
       "    </tr>\n",
       "    <tr>\n",
       "      <th>2</th>\n",
       "      <td>1000</td>\n",
       "      <td>7</td>\n",
       "      <td>75</td>\n",
       "    </tr>\n",
       "    <tr>\n",
       "      <th>3</th>\n",
       "      <td>1000</td>\n",
       "      <td>8</td>\n",
       "      <td>81</td>\n",
       "    </tr>\n",
       "    <tr>\n",
       "      <th>4</th>\n",
       "      <td>1000</td>\n",
       "      <td>9</td>\n",
       "      <td>57</td>\n",
       "    </tr>\n",
       "  </tbody>\n",
       "</table>\n",
       "</div>"
      ],
      "text/plain": [
       "   user_id  month  message_count\n",
       "0     1000      5             22\n",
       "1     1000      6             60\n",
       "2     1000      7             75\n",
       "3     1000      8             81\n",
       "4     1000      9             57"
      ]
     },
     "execution_count": 19,
     "metadata": {},
     "output_type": "execute_result"
    }
   ],
   "source": [
    "# сформируем таблицу по абонентам в разрезе месяцев\n",
    "messages_pivot_month = messages.pivot_table(index = ['user_id', 'message_month'], values = 'id',\n",
    "                                             aggfunc = 'count', fill_value=0).reset_index()\n",
    "\n",
    "messages_pivot_month.columns = ['user_id', 'month', 'message_count']\n",
    "messages_pivot_month.head()\n",
    "#messages_pivot_month.info()"
   ]
  },
  {
   "cell_type": "markdown",
   "id": "85b701fd",
   "metadata": {},
   "source": [
    "Исследуем данные по ежемесячному трафику, используемым абонентами"
   ]
  },
  {
   "cell_type": "code",
   "execution_count": 20,
   "id": "0b5fb09e",
   "metadata": {
    "scrolled": false
   },
   "outputs": [
    {
     "data": {
      "text/html": [
       "<div>\n",
       "<style scoped>\n",
       "    .dataframe tbody tr th:only-of-type {\n",
       "        vertical-align: middle;\n",
       "    }\n",
       "\n",
       "    .dataframe tbody tr th {\n",
       "        vertical-align: top;\n",
       "    }\n",
       "\n",
       "    .dataframe thead th {\n",
       "        text-align: right;\n",
       "    }\n",
       "</style>\n",
       "<table border=\"1\" class=\"dataframe\">\n",
       "  <thead>\n",
       "    <tr style=\"text-align: right;\">\n",
       "      <th></th>\n",
       "      <th>Unnamed: 0</th>\n",
       "      <th>id</th>\n",
       "      <th>mb_used</th>\n",
       "      <th>session_date</th>\n",
       "      <th>user_id</th>\n",
       "    </tr>\n",
       "  </thead>\n",
       "  <tbody>\n",
       "    <tr>\n",
       "      <th>0</th>\n",
       "      <td>0</td>\n",
       "      <td>1000_0</td>\n",
       "      <td>112.95</td>\n",
       "      <td>2018-11-25</td>\n",
       "      <td>1000</td>\n",
       "    </tr>\n",
       "    <tr>\n",
       "      <th>1</th>\n",
       "      <td>1</td>\n",
       "      <td>1000_1</td>\n",
       "      <td>1052.81</td>\n",
       "      <td>2018-09-07</td>\n",
       "      <td>1000</td>\n",
       "    </tr>\n",
       "    <tr>\n",
       "      <th>2</th>\n",
       "      <td>2</td>\n",
       "      <td>1000_2</td>\n",
       "      <td>1197.26</td>\n",
       "      <td>2018-06-25</td>\n",
       "      <td>1000</td>\n",
       "    </tr>\n",
       "    <tr>\n",
       "      <th>3</th>\n",
       "      <td>3</td>\n",
       "      <td>1000_3</td>\n",
       "      <td>550.27</td>\n",
       "      <td>2018-08-22</td>\n",
       "      <td>1000</td>\n",
       "    </tr>\n",
       "    <tr>\n",
       "      <th>4</th>\n",
       "      <td>4</td>\n",
       "      <td>1000_4</td>\n",
       "      <td>302.56</td>\n",
       "      <td>2018-09-24</td>\n",
       "      <td>1000</td>\n",
       "    </tr>\n",
       "    <tr>\n",
       "      <th>5</th>\n",
       "      <td>5</td>\n",
       "      <td>1000_5</td>\n",
       "      <td>399.97</td>\n",
       "      <td>2018-10-02</td>\n",
       "      <td>1000</td>\n",
       "    </tr>\n",
       "    <tr>\n",
       "      <th>6</th>\n",
       "      <td>6</td>\n",
       "      <td>1000_6</td>\n",
       "      <td>540.08</td>\n",
       "      <td>2018-09-07</td>\n",
       "      <td>1000</td>\n",
       "    </tr>\n",
       "    <tr>\n",
       "      <th>7</th>\n",
       "      <td>7</td>\n",
       "      <td>1000_7</td>\n",
       "      <td>415.70</td>\n",
       "      <td>2018-07-11</td>\n",
       "      <td>1000</td>\n",
       "    </tr>\n",
       "    <tr>\n",
       "      <th>8</th>\n",
       "      <td>8</td>\n",
       "      <td>1000_8</td>\n",
       "      <td>505.40</td>\n",
       "      <td>2018-10-08</td>\n",
       "      <td>1000</td>\n",
       "    </tr>\n",
       "    <tr>\n",
       "      <th>9</th>\n",
       "      <td>9</td>\n",
       "      <td>1000_9</td>\n",
       "      <td>345.54</td>\n",
       "      <td>2018-09-03</td>\n",
       "      <td>1000</td>\n",
       "    </tr>\n",
       "  </tbody>\n",
       "</table>\n",
       "</div>"
      ],
      "text/plain": [
       "   Unnamed: 0      id  mb_used session_date  user_id\n",
       "0           0  1000_0   112.95   2018-11-25     1000\n",
       "1           1  1000_1  1052.81   2018-09-07     1000\n",
       "2           2  1000_2  1197.26   2018-06-25     1000\n",
       "3           3  1000_3   550.27   2018-08-22     1000\n",
       "4           4  1000_4   302.56   2018-09-24     1000\n",
       "5           5  1000_5   399.97   2018-10-02     1000\n",
       "6           6  1000_6   540.08   2018-09-07     1000\n",
       "7           7  1000_7   415.70   2018-07-11     1000\n",
       "8           8  1000_8   505.40   2018-10-08     1000\n",
       "9           9  1000_9   345.54   2018-09-03     1000"
      ]
     },
     "metadata": {},
     "output_type": "display_data"
    },
    {
     "name": "stdout",
     "output_type": "stream",
     "text": [
      "<class 'pandas.core.frame.DataFrame'>\n",
      "RangeIndex: 149396 entries, 0 to 149395\n",
      "Data columns (total 5 columns):\n",
      " #   Column        Non-Null Count   Dtype  \n",
      "---  ------        --------------   -----  \n",
      " 0   Unnamed: 0    149396 non-null  int64  \n",
      " 1   id            149396 non-null  object \n",
      " 2   mb_used       149396 non-null  float64\n",
      " 3   session_date  149396 non-null  object \n",
      " 4   user_id       149396 non-null  int64  \n",
      "dtypes: float64(1), int64(2), object(2)\n",
      "memory usage: 5.7+ MB\n"
     ]
    }
   ],
   "source": [
    "try:\n",
    "    internet = pd.read_csv(r'C:\\Users\\rosto\\OneDrive\\Документы\\Learning_is_the_light\\Projects_and_data\\Мегалайн\\internet.csv')\n",
    "except:\n",
    "    internet = pd.read_csv('/datasets/internet.csv')\n",
    "\n",
    "display(internet.head(10))\n",
    "internet.info()"
   ]
  },
  {
   "cell_type": "markdown",
   "id": "b20bbbbe",
   "metadata": {},
   "source": [
    "Как и ранее, приведем стобец даты сессии к формату даты и создадим дополнительный столбец месяца"
   ]
  },
  {
   "cell_type": "code",
   "execution_count": 21,
   "id": "0343088d",
   "metadata": {
    "scrolled": true
   },
   "outputs": [
    {
     "name": "stdout",
     "output_type": "stream",
     "text": [
      "<class 'pandas.core.frame.DataFrame'>\n",
      "RangeIndex: 149396 entries, 0 to 149395\n",
      "Data columns (total 6 columns):\n",
      " #   Column         Non-Null Count   Dtype         \n",
      "---  ------         --------------   -----         \n",
      " 0   Unnamed: 0     149396 non-null  int64         \n",
      " 1   id             149396 non-null  object        \n",
      " 2   mb_used        149396 non-null  float64       \n",
      " 3   session_date   149396 non-null  datetime64[ns]\n",
      " 4   user_id        149396 non-null  int64         \n",
      " 5   session_month  149396 non-null  int64         \n",
      "dtypes: datetime64[ns](1), float64(1), int64(3), object(1)\n",
      "memory usage: 6.8+ MB\n"
     ]
    }
   ],
   "source": [
    "# приведем колонку даты сообщения к формату даты\n",
    "internet['session_date'] = pd.to_datetime(internet['session_date'], format = '%Y-%m-%d')\n",
    "\n",
    "# и дополним датафрейм столбцом о месяце совершения звонка\n",
    "internet['session_month'] = pd.DatetimeIndex(internet['session_date']).month\n",
    "internet.info()"
   ]
  },
  {
   "cell_type": "code",
   "execution_count": 22,
   "id": "b66ede12",
   "metadata": {
    "scrolled": false
   },
   "outputs": [
    {
     "data": {
      "text/html": [
       "<div>\n",
       "<style scoped>\n",
       "    .dataframe tbody tr th:only-of-type {\n",
       "        vertical-align: middle;\n",
       "    }\n",
       "\n",
       "    .dataframe tbody tr th {\n",
       "        vertical-align: top;\n",
       "    }\n",
       "\n",
       "    .dataframe thead th {\n",
       "        text-align: right;\n",
       "    }\n",
       "</style>\n",
       "<table border=\"1\" class=\"dataframe\">\n",
       "  <thead>\n",
       "    <tr style=\"text-align: right;\">\n",
       "      <th></th>\n",
       "      <th>user_id</th>\n",
       "      <th>session_month</th>\n",
       "      <th>mb_used</th>\n",
       "    </tr>\n",
       "  </thead>\n",
       "  <tbody>\n",
       "    <tr>\n",
       "      <th>0</th>\n",
       "      <td>1000</td>\n",
       "      <td>5</td>\n",
       "      <td>2253.49</td>\n",
       "    </tr>\n",
       "    <tr>\n",
       "      <th>1</th>\n",
       "      <td>1000</td>\n",
       "      <td>6</td>\n",
       "      <td>23233.77</td>\n",
       "    </tr>\n",
       "    <tr>\n",
       "      <th>2</th>\n",
       "      <td>1000</td>\n",
       "      <td>7</td>\n",
       "      <td>14003.64</td>\n",
       "    </tr>\n",
       "    <tr>\n",
       "      <th>3</th>\n",
       "      <td>1000</td>\n",
       "      <td>8</td>\n",
       "      <td>14055.93</td>\n",
       "    </tr>\n",
       "    <tr>\n",
       "      <th>4</th>\n",
       "      <td>1000</td>\n",
       "      <td>9</td>\n",
       "      <td>14568.91</td>\n",
       "    </tr>\n",
       "  </tbody>\n",
       "</table>\n",
       "</div>"
      ],
      "text/plain": [
       "   user_id  session_month   mb_used\n",
       "0     1000              5   2253.49\n",
       "1     1000              6  23233.77\n",
       "2     1000              7  14003.64\n",
       "3     1000              8  14055.93\n",
       "4     1000              9  14568.91"
      ]
     },
     "execution_count": 22,
     "metadata": {},
     "output_type": "execute_result"
    }
   ],
   "source": [
    "# сформируем таблицу по абонентам в разрезе месяцев\n",
    "internet_pivot_month = internet.pivot_table(index = ['user_id', 'session_month'], values = 'mb_used',\n",
    "                                             aggfunc = 'sum', fill_value=0).reset_index()\n",
    "\n",
    "internet_pivot_month.head()"
   ]
  },
  {
   "cell_type": "code",
   "execution_count": 23,
   "id": "cad73ec9",
   "metadata": {
    "scrolled": true
   },
   "outputs": [
    {
     "data": {
      "text/html": [
       "<div>\n",
       "<style scoped>\n",
       "    .dataframe tbody tr th:only-of-type {\n",
       "        vertical-align: middle;\n",
       "    }\n",
       "\n",
       "    .dataframe tbody tr th {\n",
       "        vertical-align: top;\n",
       "    }\n",
       "\n",
       "    .dataframe thead th {\n",
       "        text-align: right;\n",
       "    }\n",
       "</style>\n",
       "<table border=\"1\" class=\"dataframe\">\n",
       "  <thead>\n",
       "    <tr style=\"text-align: right;\">\n",
       "      <th></th>\n",
       "      <th>user_id</th>\n",
       "      <th>month</th>\n",
       "      <th>mb_used</th>\n",
       "      <th>gb_used</th>\n",
       "    </tr>\n",
       "  </thead>\n",
       "  <tbody>\n",
       "    <tr>\n",
       "      <th>0</th>\n",
       "      <td>1000</td>\n",
       "      <td>5</td>\n",
       "      <td>2253.49</td>\n",
       "      <td>3</td>\n",
       "    </tr>\n",
       "    <tr>\n",
       "      <th>1</th>\n",
       "      <td>1000</td>\n",
       "      <td>6</td>\n",
       "      <td>23233.77</td>\n",
       "      <td>23</td>\n",
       "    </tr>\n",
       "    <tr>\n",
       "      <th>2</th>\n",
       "      <td>1000</td>\n",
       "      <td>7</td>\n",
       "      <td>14003.64</td>\n",
       "      <td>14</td>\n",
       "    </tr>\n",
       "    <tr>\n",
       "      <th>3</th>\n",
       "      <td>1000</td>\n",
       "      <td>8</td>\n",
       "      <td>14055.93</td>\n",
       "      <td>14</td>\n",
       "    </tr>\n",
       "    <tr>\n",
       "      <th>4</th>\n",
       "      <td>1000</td>\n",
       "      <td>9</td>\n",
       "      <td>14568.91</td>\n",
       "      <td>15</td>\n",
       "    </tr>\n",
       "  </tbody>\n",
       "</table>\n",
       "</div>"
      ],
      "text/plain": [
       "   user_id  month   mb_used  gb_used\n",
       "0     1000      5   2253.49        3\n",
       "1     1000      6  23233.77       23\n",
       "2     1000      7  14003.64       14\n",
       "3     1000      8  14055.93       14\n",
       "4     1000      9  14568.91       15"
      ]
     },
     "execution_count": 23,
     "metadata": {},
     "output_type": "execute_result"
    }
   ],
   "source": [
    "# так как по правилам оператора мегабайты округляются в гигабайты по итогам месяца причем в большую сторону\n",
    "# посчитаем сразу сколько гигабайт использовал абонент в каждом из месяцев\n",
    "internet_pivot_month['gb_used'] = np.ceil(internet_pivot_month['mb_used'] / 1024).astype('int')\n",
    "\n",
    "\n",
    "internet_pivot_month.columns = ['user_id', 'month', 'mb_used', 'gb_used']\n",
    "internet_pivot_month.head()"
   ]
  },
  {
   "cell_type": "markdown",
   "id": "23546b61",
   "metadata": {},
   "source": [
    "Теперь, имея все данные в отдельных таблицах необходимо их объединить, что бы иметь в одном месте данные по звонкам, сообщениям и использованному трафику."
   ]
  },
  {
   "cell_type": "code",
   "execution_count": 24,
   "id": "eff92d93",
   "metadata": {},
   "outputs": [
    {
     "data": {
      "text/html": [
       "<div>\n",
       "<style scoped>\n",
       "    .dataframe tbody tr th:only-of-type {\n",
       "        vertical-align: middle;\n",
       "    }\n",
       "\n",
       "    .dataframe tbody tr th {\n",
       "        vertical-align: top;\n",
       "    }\n",
       "\n",
       "    .dataframe thead th {\n",
       "        text-align: right;\n",
       "    }\n",
       "</style>\n",
       "<table border=\"1\" class=\"dataframe\">\n",
       "  <thead>\n",
       "    <tr style=\"text-align: right;\">\n",
       "      <th></th>\n",
       "      <th>user_id</th>\n",
       "      <th>month</th>\n",
       "      <th>calls_count</th>\n",
       "      <th>calls_sum</th>\n",
       "      <th>message_count</th>\n",
       "      <th>mb_used</th>\n",
       "      <th>gb_used</th>\n",
       "    </tr>\n",
       "  </thead>\n",
       "  <tbody>\n",
       "    <tr>\n",
       "      <th>0</th>\n",
       "      <td>1000</td>\n",
       "      <td>5</td>\n",
       "      <td>22.0</td>\n",
       "      <td>159.0</td>\n",
       "      <td>22.0</td>\n",
       "      <td>2253.49</td>\n",
       "      <td>3.0</td>\n",
       "    </tr>\n",
       "    <tr>\n",
       "      <th>1</th>\n",
       "      <td>1000</td>\n",
       "      <td>6</td>\n",
       "      <td>43.0</td>\n",
       "      <td>172.0</td>\n",
       "      <td>60.0</td>\n",
       "      <td>23233.77</td>\n",
       "      <td>23.0</td>\n",
       "    </tr>\n",
       "    <tr>\n",
       "      <th>2</th>\n",
       "      <td>1000</td>\n",
       "      <td>7</td>\n",
       "      <td>47.0</td>\n",
       "      <td>340.0</td>\n",
       "      <td>75.0</td>\n",
       "      <td>14003.64</td>\n",
       "      <td>14.0</td>\n",
       "    </tr>\n",
       "    <tr>\n",
       "      <th>3</th>\n",
       "      <td>1000</td>\n",
       "      <td>8</td>\n",
       "      <td>52.0</td>\n",
       "      <td>408.0</td>\n",
       "      <td>81.0</td>\n",
       "      <td>14055.93</td>\n",
       "      <td>14.0</td>\n",
       "    </tr>\n",
       "    <tr>\n",
       "      <th>4</th>\n",
       "      <td>1000</td>\n",
       "      <td>9</td>\n",
       "      <td>58.0</td>\n",
       "      <td>466.0</td>\n",
       "      <td>57.0</td>\n",
       "      <td>14568.91</td>\n",
       "      <td>15.0</td>\n",
       "    </tr>\n",
       "  </tbody>\n",
       "</table>\n",
       "</div>"
      ],
      "text/plain": [
       "   user_id  month  calls_count  calls_sum  message_count   mb_used  gb_used\n",
       "0     1000      5         22.0      159.0           22.0   2253.49      3.0\n",
       "1     1000      6         43.0      172.0           60.0  23233.77     23.0\n",
       "2     1000      7         47.0      340.0           75.0  14003.64     14.0\n",
       "3     1000      8         52.0      408.0           81.0  14055.93     14.0\n",
       "4     1000      9         58.0      466.0           57.0  14568.91     15.0"
      ]
     },
     "execution_count": 24,
     "metadata": {},
     "output_type": "execute_result"
    }
   ],
   "source": [
    "# для этого последовательно объединим данные базируясь на таблице звонков\n",
    "# к таблице звонков присоединяем сообщения по столбцам user_id и month, метод outer - \n",
    "# что бы все значения обоих таблиц были в новом датафрейме\n",
    "# так как могут быть абоненты, не совершавшие звонки, но использовавшие сообщения\n",
    "users_data = calls_pivot_month.merge(messages_pivot_month, on = ['user_id', 'month'], how = 'outer')\n",
    "\n",
    "# к образованному датафрейму добавим использованные гигабайты\n",
    "users_data = users_data.merge(internet_pivot_month, on = ['user_id', 'month'], how = 'outer')\n",
    "users_data.head()"
   ]
  },
  {
   "cell_type": "markdown",
   "id": "435a20d7",
   "metadata": {},
   "source": [
    "Итак у нас есть таблица, содержащая данные по ежемесячным звонкам, сообщениям и использованному трафику каждого абонента\n",
    "\n",
    "Теперь добавим данные о тарифе для каждого абонента"
   ]
  },
  {
   "cell_type": "code",
   "execution_count": 25,
   "id": "95f23ca4",
   "metadata": {
    "scrolled": true
   },
   "outputs": [
    {
     "name": "stdout",
     "output_type": "stream",
     "text": [
      "<class 'pandas.core.frame.DataFrame'>\n",
      "Int64Index: 3214 entries, 0 to 3213\n",
      "Data columns (total 8 columns):\n",
      " #   Column         Non-Null Count  Dtype  \n",
      "---  ------         --------------  -----  \n",
      " 0   user_id        3214 non-null   int64  \n",
      " 1   month          3214 non-null   int64  \n",
      " 2   calls_count    3174 non-null   float64\n",
      " 3   calls_sum      3174 non-null   float64\n",
      " 4   message_count  2717 non-null   float64\n",
      " 5   mb_used        3203 non-null   float64\n",
      " 6   gb_used        3203 non-null   float64\n",
      " 7   tariff         3214 non-null   object \n",
      "dtypes: float64(5), int64(2), object(1)\n",
      "memory usage: 226.0+ KB\n"
     ]
    }
   ],
   "source": [
    "users_data = users_data.merge(users[['user_id', 'tariff']], on = 'user_id')\n",
    "users_data.info()"
   ]
  },
  {
   "cell_type": "markdown",
   "id": "daa6cee7",
   "metadata": {},
   "source": [
    "Мы видим, что в итоговой сводной таблице 3214 строк, из которых звонками заполнены 3174, сообщениями 2717, данными по использованному трафику 3203. \n",
    "Предположу, как и ранее, что в отдельные месяцы абоненты могли не пользоваться тем или иным видом связи, поэтому данные пропуски удалять не буду."
   ]
  },
  {
   "cell_type": "code",
   "execution_count": 26,
   "id": "5a0d72e7",
   "metadata": {
    "scrolled": false
   },
   "outputs": [
    {
     "data": {
      "text/html": [
       "<div>\n",
       "<style scoped>\n",
       "    .dataframe tbody tr th:only-of-type {\n",
       "        vertical-align: middle;\n",
       "    }\n",
       "\n",
       "    .dataframe tbody tr th {\n",
       "        vertical-align: top;\n",
       "    }\n",
       "\n",
       "    .dataframe thead th {\n",
       "        text-align: right;\n",
       "    }\n",
       "</style>\n",
       "<table border=\"1\" class=\"dataframe\">\n",
       "  <thead>\n",
       "    <tr style=\"text-align: right;\">\n",
       "      <th></th>\n",
       "      <th>user_id</th>\n",
       "      <th>month</th>\n",
       "      <th>calls_count</th>\n",
       "      <th>calls_sum</th>\n",
       "      <th>message_count</th>\n",
       "      <th>mb_used</th>\n",
       "      <th>gb_used</th>\n",
       "      <th>tariff</th>\n",
       "    </tr>\n",
       "  </thead>\n",
       "  <tbody>\n",
       "    <tr>\n",
       "      <th>8</th>\n",
       "      <td>1001</td>\n",
       "      <td>11</td>\n",
       "      <td>59.0</td>\n",
       "      <td>430.0</td>\n",
       "      <td>NaN</td>\n",
       "      <td>18429.34</td>\n",
       "      <td>18.0</td>\n",
       "      <td>smart</td>\n",
       "    </tr>\n",
       "    <tr>\n",
       "      <th>9</th>\n",
       "      <td>1001</td>\n",
       "      <td>12</td>\n",
       "      <td>63.0</td>\n",
       "      <td>414.0</td>\n",
       "      <td>NaN</td>\n",
       "      <td>14036.66</td>\n",
       "      <td>14.0</td>\n",
       "      <td>smart</td>\n",
       "    </tr>\n",
       "    <tr>\n",
       "      <th>42</th>\n",
       "      <td>1006</td>\n",
       "      <td>2</td>\n",
       "      <td>3.0</td>\n",
       "      <td>42.0</td>\n",
       "      <td>NaN</td>\n",
       "      <td>1392.15</td>\n",
       "      <td>2.0</td>\n",
       "      <td>smart</td>\n",
       "    </tr>\n",
       "    <tr>\n",
       "      <th>43</th>\n",
       "      <td>1006</td>\n",
       "      <td>3</td>\n",
       "      <td>46.0</td>\n",
       "      <td>286.0</td>\n",
       "      <td>NaN</td>\n",
       "      <td>17287.93</td>\n",
       "      <td>17.0</td>\n",
       "      <td>smart</td>\n",
       "    </tr>\n",
       "    <tr>\n",
       "      <th>44</th>\n",
       "      <td>1006</td>\n",
       "      <td>4</td>\n",
       "      <td>47.0</td>\n",
       "      <td>356.0</td>\n",
       "      <td>NaN</td>\n",
       "      <td>13936.70</td>\n",
       "      <td>14.0</td>\n",
       "      <td>smart</td>\n",
       "    </tr>\n",
       "    <tr>\n",
       "      <th>...</th>\n",
       "      <td>...</td>\n",
       "      <td>...</td>\n",
       "      <td>...</td>\n",
       "      <td>...</td>\n",
       "      <td>...</td>\n",
       "      <td>...</td>\n",
       "      <td>...</td>\n",
       "      <td>...</td>\n",
       "    </tr>\n",
       "    <tr>\n",
       "      <th>3143</th>\n",
       "      <td>1494</td>\n",
       "      <td>8</td>\n",
       "      <td>32.0</td>\n",
       "      <td>262.0</td>\n",
       "      <td>NaN</td>\n",
       "      <td>6590.75</td>\n",
       "      <td>7.0</td>\n",
       "      <td>smart</td>\n",
       "    </tr>\n",
       "    <tr>\n",
       "      <th>3144</th>\n",
       "      <td>1494</td>\n",
       "      <td>9</td>\n",
       "      <td>66.0</td>\n",
       "      <td>501.0</td>\n",
       "      <td>NaN</td>\n",
       "      <td>16962.51</td>\n",
       "      <td>17.0</td>\n",
       "      <td>smart</td>\n",
       "    </tr>\n",
       "    <tr>\n",
       "      <th>3145</th>\n",
       "      <td>1494</td>\n",
       "      <td>10</td>\n",
       "      <td>52.0</td>\n",
       "      <td>354.0</td>\n",
       "      <td>NaN</td>\n",
       "      <td>17767.24</td>\n",
       "      <td>18.0</td>\n",
       "      <td>smart</td>\n",
       "    </tr>\n",
       "    <tr>\n",
       "      <th>3146</th>\n",
       "      <td>1494</td>\n",
       "      <td>11</td>\n",
       "      <td>63.0</td>\n",
       "      <td>411.0</td>\n",
       "      <td>NaN</td>\n",
       "      <td>18052.45</td>\n",
       "      <td>18.0</td>\n",
       "      <td>smart</td>\n",
       "    </tr>\n",
       "    <tr>\n",
       "      <th>3147</th>\n",
       "      <td>1494</td>\n",
       "      <td>12</td>\n",
       "      <td>62.0</td>\n",
       "      <td>418.0</td>\n",
       "      <td>NaN</td>\n",
       "      <td>17621.21</td>\n",
       "      <td>18.0</td>\n",
       "      <td>smart</td>\n",
       "    </tr>\n",
       "  </tbody>\n",
       "</table>\n",
       "<p>497 rows × 8 columns</p>\n",
       "</div>"
      ],
      "text/plain": [
       "      user_id  month  calls_count  calls_sum  message_count   mb_used  \\\n",
       "8        1001     11         59.0      430.0            NaN  18429.34   \n",
       "9        1001     12         63.0      414.0            NaN  14036.66   \n",
       "42       1006      2          3.0       42.0            NaN   1392.15   \n",
       "43       1006      3         46.0      286.0            NaN  17287.93   \n",
       "44       1006      4         47.0      356.0            NaN  13936.70   \n",
       "...       ...    ...          ...        ...            ...       ...   \n",
       "3143     1494      8         32.0      262.0            NaN   6590.75   \n",
       "3144     1494      9         66.0      501.0            NaN  16962.51   \n",
       "3145     1494     10         52.0      354.0            NaN  17767.24   \n",
       "3146     1494     11         63.0      411.0            NaN  18052.45   \n",
       "3147     1494     12         62.0      418.0            NaN  17621.21   \n",
       "\n",
       "      gb_used tariff  \n",
       "8        18.0  smart  \n",
       "9        14.0  smart  \n",
       "42        2.0  smart  \n",
       "43       17.0  smart  \n",
       "44       14.0  smart  \n",
       "...       ...    ...  \n",
       "3143      7.0  smart  \n",
       "3144     17.0  smart  \n",
       "3145     18.0  smart  \n",
       "3146     18.0  smart  \n",
       "3147     18.0  smart  \n",
       "\n",
       "[497 rows x 8 columns]"
      ]
     },
     "execution_count": 26,
     "metadata": {},
     "output_type": "execute_result"
    }
   ],
   "source": [
    "# посмотрим например на часть абонентов, у которых не было отправлено ни одного сообщения\n",
    "users_data.query('message_count.isna()')"
   ]
  },
  {
   "cell_type": "markdown",
   "id": "e772a773",
   "metadata": {},
   "source": [
    "Мы видим, что эти абоненты пользовались звонками и интернетом, то есть это живые абоненты, но не пользующиеся сообщениями."
   ]
  },
  {
   "cell_type": "code",
   "execution_count": 27,
   "id": "e53ab4ae",
   "metadata": {},
   "outputs": [],
   "source": [
    "# для дальнейших расчетов заменю значения NaN на нули\n",
    "users_data = users_data.fillna(0)"
   ]
  },
  {
   "cell_type": "markdown",
   "id": "b0fe330a",
   "metadata": {},
   "source": [
    "Теперь добавим в датафрейм данные по тратам абонентов в каждый месяц в зависимости от их тарифа."
   ]
  },
  {
   "cell_type": "code",
   "execution_count": 28,
   "id": "71e97df2",
   "metadata": {
    "scrolled": true
   },
   "outputs": [
    {
     "data": {
      "text/html": [
       "<div>\n",
       "<style scoped>\n",
       "    .dataframe tbody tr th:only-of-type {\n",
       "        vertical-align: middle;\n",
       "    }\n",
       "\n",
       "    .dataframe tbody tr th {\n",
       "        vertical-align: top;\n",
       "    }\n",
       "\n",
       "    .dataframe thead th {\n",
       "        text-align: right;\n",
       "    }\n",
       "</style>\n",
       "<table border=\"1\" class=\"dataframe\">\n",
       "  <thead>\n",
       "    <tr style=\"text-align: right;\">\n",
       "      <th></th>\n",
       "      <th>messages_included</th>\n",
       "      <th>mb_per_month_included</th>\n",
       "      <th>minutes_included</th>\n",
       "      <th>rub_monthly_fee</th>\n",
       "      <th>rub_per_gb</th>\n",
       "      <th>rub_per_message</th>\n",
       "      <th>rub_per_minute</th>\n",
       "      <th>tariff_name</th>\n",
       "    </tr>\n",
       "  </thead>\n",
       "  <tbody>\n",
       "    <tr>\n",
       "      <th>0</th>\n",
       "      <td>50</td>\n",
       "      <td>15360</td>\n",
       "      <td>500</td>\n",
       "      <td>550</td>\n",
       "      <td>200</td>\n",
       "      <td>3</td>\n",
       "      <td>3</td>\n",
       "      <td>smart</td>\n",
       "    </tr>\n",
       "    <tr>\n",
       "      <th>1</th>\n",
       "      <td>1000</td>\n",
       "      <td>30720</td>\n",
       "      <td>3000</td>\n",
       "      <td>1950</td>\n",
       "      <td>150</td>\n",
       "      <td>1</td>\n",
       "      <td>1</td>\n",
       "      <td>ultra</td>\n",
       "    </tr>\n",
       "  </tbody>\n",
       "</table>\n",
       "</div>"
      ],
      "text/plain": [
       "   messages_included  mb_per_month_included  minutes_included  \\\n",
       "0                 50                  15360               500   \n",
       "1               1000                  30720              3000   \n",
       "\n",
       "   rub_monthly_fee  rub_per_gb  rub_per_message  rub_per_minute tariff_name  \n",
       "0              550         200                3               3       smart  \n",
       "1             1950         150                1               1       ultra  "
      ]
     },
     "metadata": {},
     "output_type": "display_data"
    }
   ],
   "source": [
    "# откроем и посмотрим на данные о тарифах\n",
    "\n",
    "try:\n",
    "    tariffs = pd.read_csv(r'C:\\Users\\rosto\\OneDrive\\Документы\\Learning_is_the_light\\Projects_and_data\\Мегалайн\\tariffs.csv')\n",
    "except:\n",
    "    tariffs = pd.read_csv('/datasets/tariffs.csv')\n",
    "\n",
    "display(tariffs.head(10))\n",
    "# tariffs.info()"
   ]
  },
  {
   "cell_type": "code",
   "execution_count": 29,
   "id": "ac21421f",
   "metadata": {},
   "outputs": [
    {
     "data": {
      "text/html": [
       "<div>\n",
       "<style scoped>\n",
       "    .dataframe tbody tr th:only-of-type {\n",
       "        vertical-align: middle;\n",
       "    }\n",
       "\n",
       "    .dataframe tbody tr th {\n",
       "        vertical-align: top;\n",
       "    }\n",
       "\n",
       "    .dataframe thead th {\n",
       "        text-align: right;\n",
       "    }\n",
       "</style>\n",
       "<table border=\"1\" class=\"dataframe\">\n",
       "  <thead>\n",
       "    <tr style=\"text-align: right;\">\n",
       "      <th></th>\n",
       "      <th>user_id</th>\n",
       "      <th>month</th>\n",
       "      <th>calls_count</th>\n",
       "      <th>calls_sum</th>\n",
       "      <th>message_count</th>\n",
       "      <th>mb_used</th>\n",
       "      <th>gb_used</th>\n",
       "      <th>tariff</th>\n",
       "      <th>messages_included</th>\n",
       "      <th>mb_per_month_included</th>\n",
       "      <th>minutes_included</th>\n",
       "      <th>rub_monthly_fee</th>\n",
       "      <th>rub_per_gb</th>\n",
       "      <th>rub_per_message</th>\n",
       "      <th>rub_per_minute</th>\n",
       "      <th>tariff_name</th>\n",
       "    </tr>\n",
       "  </thead>\n",
       "  <tbody>\n",
       "    <tr>\n",
       "      <th>2776</th>\n",
       "      <td>1408</td>\n",
       "      <td>7</td>\n",
       "      <td>82.0</td>\n",
       "      <td>525.0</td>\n",
       "      <td>1.0</td>\n",
       "      <td>12437.43</td>\n",
       "      <td>13.0</td>\n",
       "      <td>smart</td>\n",
       "      <td>50</td>\n",
       "      <td>15360</td>\n",
       "      <td>500</td>\n",
       "      <td>550</td>\n",
       "      <td>200</td>\n",
       "      <td>3</td>\n",
       "      <td>3</td>\n",
       "      <td>smart</td>\n",
       "    </tr>\n",
       "    <tr>\n",
       "      <th>1985</th>\n",
       "      <td>1215</td>\n",
       "      <td>11</td>\n",
       "      <td>55.0</td>\n",
       "      <td>356.0</td>\n",
       "      <td>16.0</td>\n",
       "      <td>20124.82</td>\n",
       "      <td>20.0</td>\n",
       "      <td>smart</td>\n",
       "      <td>50</td>\n",
       "      <td>15360</td>\n",
       "      <td>500</td>\n",
       "      <td>550</td>\n",
       "      <td>200</td>\n",
       "      <td>3</td>\n",
       "      <td>3</td>\n",
       "      <td>smart</td>\n",
       "    </tr>\n",
       "    <tr>\n",
       "      <th>629</th>\n",
       "      <td>1356</td>\n",
       "      <td>6</td>\n",
       "      <td>105.0</td>\n",
       "      <td>741.0</td>\n",
       "      <td>158.0</td>\n",
       "      <td>39930.00</td>\n",
       "      <td>39.0</td>\n",
       "      <td>ultra</td>\n",
       "      <td>1000</td>\n",
       "      <td>30720</td>\n",
       "      <td>3000</td>\n",
       "      <td>1950</td>\n",
       "      <td>150</td>\n",
       "      <td>1</td>\n",
       "      <td>1</td>\n",
       "      <td>ultra</td>\n",
       "    </tr>\n",
       "    <tr>\n",
       "      <th>2138</th>\n",
       "      <td>1249</td>\n",
       "      <td>8</td>\n",
       "      <td>22.0</td>\n",
       "      <td>127.0</td>\n",
       "      <td>16.0</td>\n",
       "      <td>9039.50</td>\n",
       "      <td>9.0</td>\n",
       "      <td>smart</td>\n",
       "      <td>50</td>\n",
       "      <td>15360</td>\n",
       "      <td>500</td>\n",
       "      <td>550</td>\n",
       "      <td>200</td>\n",
       "      <td>3</td>\n",
       "      <td>3</td>\n",
       "      <td>smart</td>\n",
       "    </tr>\n",
       "    <tr>\n",
       "      <th>2430</th>\n",
       "      <td>1316</td>\n",
       "      <td>11</td>\n",
       "      <td>9.0</td>\n",
       "      <td>60.0</td>\n",
       "      <td>2.0</td>\n",
       "      <td>671.95</td>\n",
       "      <td>1.0</td>\n",
       "      <td>smart</td>\n",
       "      <td>50</td>\n",
       "      <td>15360</td>\n",
       "      <td>500</td>\n",
       "      <td>550</td>\n",
       "      <td>200</td>\n",
       "      <td>3</td>\n",
       "      <td>3</td>\n",
       "      <td>smart</td>\n",
       "    </tr>\n",
       "    <tr>\n",
       "      <th>3114</th>\n",
       "      <td>1480</td>\n",
       "      <td>5</td>\n",
       "      <td>66.0</td>\n",
       "      <td>494.0</td>\n",
       "      <td>26.0</td>\n",
       "      <td>15355.84</td>\n",
       "      <td>15.0</td>\n",
       "      <td>smart</td>\n",
       "      <td>50</td>\n",
       "      <td>15360</td>\n",
       "      <td>500</td>\n",
       "      <td>550</td>\n",
       "      <td>200</td>\n",
       "      <td>3</td>\n",
       "      <td>3</td>\n",
       "      <td>smart</td>\n",
       "    </tr>\n",
       "    <tr>\n",
       "      <th>1393</th>\n",
       "      <td>1086</td>\n",
       "      <td>12</td>\n",
       "      <td>68.0</td>\n",
       "      <td>510.0</td>\n",
       "      <td>29.0</td>\n",
       "      <td>20021.64</td>\n",
       "      <td>20.0</td>\n",
       "      <td>smart</td>\n",
       "      <td>50</td>\n",
       "      <td>15360</td>\n",
       "      <td>500</td>\n",
       "      <td>550</td>\n",
       "      <td>200</td>\n",
       "      <td>3</td>\n",
       "      <td>3</td>\n",
       "      <td>smart</td>\n",
       "    </tr>\n",
       "    <tr>\n",
       "      <th>322</th>\n",
       "      <td>1200</td>\n",
       "      <td>4</td>\n",
       "      <td>8.0</td>\n",
       "      <td>50.0</td>\n",
       "      <td>4.0</td>\n",
       "      <td>4333.20</td>\n",
       "      <td>5.0</td>\n",
       "      <td>ultra</td>\n",
       "      <td>1000</td>\n",
       "      <td>30720</td>\n",
       "      <td>3000</td>\n",
       "      <td>1950</td>\n",
       "      <td>150</td>\n",
       "      <td>1</td>\n",
       "      <td>1</td>\n",
       "      <td>ultra</td>\n",
       "    </tr>\n",
       "    <tr>\n",
       "      <th>2096</th>\n",
       "      <td>1239</td>\n",
       "      <td>9</td>\n",
       "      <td>71.0</td>\n",
       "      <td>463.0</td>\n",
       "      <td>29.0</td>\n",
       "      <td>11986.24</td>\n",
       "      <td>12.0</td>\n",
       "      <td>smart</td>\n",
       "      <td>50</td>\n",
       "      <td>15360</td>\n",
       "      <td>500</td>\n",
       "      <td>550</td>\n",
       "      <td>200</td>\n",
       "      <td>3</td>\n",
       "      <td>3</td>\n",
       "      <td>smart</td>\n",
       "    </tr>\n",
       "    <tr>\n",
       "      <th>1299</th>\n",
       "      <td>1066</td>\n",
       "      <td>6</td>\n",
       "      <td>24.0</td>\n",
       "      <td>184.0</td>\n",
       "      <td>14.0</td>\n",
       "      <td>4674.47</td>\n",
       "      <td>5.0</td>\n",
       "      <td>smart</td>\n",
       "      <td>50</td>\n",
       "      <td>15360</td>\n",
       "      <td>500</td>\n",
       "      <td>550</td>\n",
       "      <td>200</td>\n",
       "      <td>3</td>\n",
       "      <td>3</td>\n",
       "      <td>smart</td>\n",
       "    </tr>\n",
       "  </tbody>\n",
       "</table>\n",
       "</div>"
      ],
      "text/plain": [
       "      user_id  month  calls_count  calls_sum  message_count   mb_used  \\\n",
       "2776     1408      7         82.0      525.0            1.0  12437.43   \n",
       "1985     1215     11         55.0      356.0           16.0  20124.82   \n",
       "629      1356      6        105.0      741.0          158.0  39930.00   \n",
       "2138     1249      8         22.0      127.0           16.0   9039.50   \n",
       "2430     1316     11          9.0       60.0            2.0    671.95   \n",
       "3114     1480      5         66.0      494.0           26.0  15355.84   \n",
       "1393     1086     12         68.0      510.0           29.0  20021.64   \n",
       "322      1200      4          8.0       50.0            4.0   4333.20   \n",
       "2096     1239      9         71.0      463.0           29.0  11986.24   \n",
       "1299     1066      6         24.0      184.0           14.0   4674.47   \n",
       "\n",
       "      gb_used tariff  messages_included  mb_per_month_included  \\\n",
       "2776     13.0  smart                 50                  15360   \n",
       "1985     20.0  smart                 50                  15360   \n",
       "629      39.0  ultra               1000                  30720   \n",
       "2138      9.0  smart                 50                  15360   \n",
       "2430      1.0  smart                 50                  15360   \n",
       "3114     15.0  smart                 50                  15360   \n",
       "1393     20.0  smart                 50                  15360   \n",
       "322       5.0  ultra               1000                  30720   \n",
       "2096     12.0  smart                 50                  15360   \n",
       "1299      5.0  smart                 50                  15360   \n",
       "\n",
       "      minutes_included  rub_monthly_fee  rub_per_gb  rub_per_message  \\\n",
       "2776               500              550         200                3   \n",
       "1985               500              550         200                3   \n",
       "629               3000             1950         150                1   \n",
       "2138               500              550         200                3   \n",
       "2430               500              550         200                3   \n",
       "3114               500              550         200                3   \n",
       "1393               500              550         200                3   \n",
       "322               3000             1950         150                1   \n",
       "2096               500              550         200                3   \n",
       "1299               500              550         200                3   \n",
       "\n",
       "      rub_per_minute tariff_name  \n",
       "2776               3       smart  \n",
       "1985               3       smart  \n",
       "629                1       ultra  \n",
       "2138               3       smart  \n",
       "2430               3       smart  \n",
       "3114               3       smart  \n",
       "1393               3       smart  \n",
       "322                1       ultra  \n",
       "2096               3       smart  \n",
       "1299               3       smart  "
      ]
     },
     "execution_count": 29,
     "metadata": {},
     "output_type": "execute_result"
    }
   ],
   "source": [
    "# и добавим информацию по тарифам к данным по звонкам и так далее\n",
    "users_data = users_data.merge(tariffs, left_on = 'tariff', right_on = 'tariff_name')\n",
    "users_data.sample(10)"
   ]
  },
  {
   "cell_type": "markdown",
   "id": "6673beaf",
   "metadata": {},
   "source": [
    "Напишем функцию, которую будем применять ко всем строкам, а на выходе будет выдавать сумму трат, которую будем добавлять в новый столбец"
   ]
  },
  {
   "cell_type": "code",
   "execution_count": 30,
   "id": "f91a953c",
   "metadata": {},
   "outputs": [],
   "source": [
    "def monthly_cost(row):\n",
    "    cost = row['rub_monthly_fee']           # переменной cost присваиваем значение ежемесячной абонентской платы за месяц\n",
    "    if row['calls_sum'] > row['minutes_included']:          # если общая длительность звонков больше включенной в аб плату\n",
    "        cost = cost + (row['calls_sum'] - row['minutes_included']) * row['rub_per_minute']          #то увеличиваем кост на стоимость каждой минуты сверх тарифа\n",
    "            \n",
    "    if row['message_count'] > row['messages_included']:         #   если кол-во отправленных сообщений больше вкл в тариф\n",
    "        cost = cost + (row['message_count'] - row['messages_included']) * row['rub_per_message']         # то увел кост на стоимость одного сообщения сверх\n",
    "        \n",
    "    if row['gb_used'] > row['mb_per_month_included']/1024:          #   если использовали больше гигабайт, чем включено в тариф\n",
    "        cost = cost + (row['gb_used'] - row['mb_per_month_included']/1024)* row['rub_per_gb']         # то увеличиваем кост на стоимость одного гигабойта\n",
    "        \n",
    "    return cost    "
   ]
  },
  {
   "cell_type": "code",
   "execution_count": 31,
   "id": "b9a096fd",
   "metadata": {},
   "outputs": [
    {
     "data": {
      "text/html": [
       "<div>\n",
       "<style scoped>\n",
       "    .dataframe tbody tr th:only-of-type {\n",
       "        vertical-align: middle;\n",
       "    }\n",
       "\n",
       "    .dataframe tbody tr th {\n",
       "        vertical-align: top;\n",
       "    }\n",
       "\n",
       "    .dataframe thead th {\n",
       "        text-align: right;\n",
       "    }\n",
       "</style>\n",
       "<table border=\"1\" class=\"dataframe\">\n",
       "  <thead>\n",
       "    <tr style=\"text-align: right;\">\n",
       "      <th></th>\n",
       "      <th>user_id</th>\n",
       "      <th>month</th>\n",
       "      <th>calls_count</th>\n",
       "      <th>calls_sum</th>\n",
       "      <th>message_count</th>\n",
       "      <th>mb_used</th>\n",
       "      <th>gb_used</th>\n",
       "      <th>tariff</th>\n",
       "      <th>cost_per_month</th>\n",
       "    </tr>\n",
       "  </thead>\n",
       "  <tbody>\n",
       "    <tr>\n",
       "      <th>2274</th>\n",
       "      <td>1283</td>\n",
       "      <td>11</td>\n",
       "      <td>40.0</td>\n",
       "      <td>264.0</td>\n",
       "      <td>19.0</td>\n",
       "      <td>18842.55</td>\n",
       "      <td>19.0</td>\n",
       "      <td>smart</td>\n",
       "      <td>1350.0</td>\n",
       "    </tr>\n",
       "    <tr>\n",
       "      <th>349</th>\n",
       "      <td>1208</td>\n",
       "      <td>6</td>\n",
       "      <td>77.0</td>\n",
       "      <td>569.0</td>\n",
       "      <td>0.0</td>\n",
       "      <td>23130.53</td>\n",
       "      <td>23.0</td>\n",
       "      <td>ultra</td>\n",
       "      <td>1950.0</td>\n",
       "    </tr>\n",
       "    <tr>\n",
       "      <th>2417</th>\n",
       "      <td>1314</td>\n",
       "      <td>6</td>\n",
       "      <td>48.0</td>\n",
       "      <td>370.0</td>\n",
       "      <td>30.0</td>\n",
       "      <td>22371.69</td>\n",
       "      <td>22.0</td>\n",
       "      <td>smart</td>\n",
       "      <td>1950.0</td>\n",
       "    </tr>\n",
       "    <tr>\n",
       "      <th>695</th>\n",
       "      <td>1377</td>\n",
       "      <td>12</td>\n",
       "      <td>185.0</td>\n",
       "      <td>1259.0</td>\n",
       "      <td>17.0</td>\n",
       "      <td>1444.81</td>\n",
       "      <td>2.0</td>\n",
       "      <td>ultra</td>\n",
       "      <td>1950.0</td>\n",
       "    </tr>\n",
       "    <tr>\n",
       "      <th>1414</th>\n",
       "      <td>1093</td>\n",
       "      <td>9</td>\n",
       "      <td>106.0</td>\n",
       "      <td>825.0</td>\n",
       "      <td>72.0</td>\n",
       "      <td>12970.57</td>\n",
       "      <td>13.0</td>\n",
       "      <td>smart</td>\n",
       "      <td>1591.0</td>\n",
       "    </tr>\n",
       "    <tr>\n",
       "      <th>156</th>\n",
       "      <td>1094</td>\n",
       "      <td>10</td>\n",
       "      <td>117.0</td>\n",
       "      <td>868.0</td>\n",
       "      <td>28.0</td>\n",
       "      <td>17736.30</td>\n",
       "      <td>18.0</td>\n",
       "      <td>ultra</td>\n",
       "      <td>1950.0</td>\n",
       "    </tr>\n",
       "    <tr>\n",
       "      <th>2938</th>\n",
       "      <td>1435</td>\n",
       "      <td>10</td>\n",
       "      <td>40.0</td>\n",
       "      <td>318.0</td>\n",
       "      <td>0.0</td>\n",
       "      <td>18837.98</td>\n",
       "      <td>19.0</td>\n",
       "      <td>smart</td>\n",
       "      <td>1350.0</td>\n",
       "    </tr>\n",
       "    <tr>\n",
       "      <th>735</th>\n",
       "      <td>1385</td>\n",
       "      <td>5</td>\n",
       "      <td>48.0</td>\n",
       "      <td>343.0</td>\n",
       "      <td>127.0</td>\n",
       "      <td>29585.49</td>\n",
       "      <td>29.0</td>\n",
       "      <td>ultra</td>\n",
       "      <td>1950.0</td>\n",
       "    </tr>\n",
       "    <tr>\n",
       "      <th>1237</th>\n",
       "      <td>1054</td>\n",
       "      <td>10</td>\n",
       "      <td>87.0</td>\n",
       "      <td>708.0</td>\n",
       "      <td>65.0</td>\n",
       "      <td>20087.87</td>\n",
       "      <td>20.0</td>\n",
       "      <td>smart</td>\n",
       "      <td>2219.0</td>\n",
       "    </tr>\n",
       "    <tr>\n",
       "      <th>180</th>\n",
       "      <td>1099</td>\n",
       "      <td>8</td>\n",
       "      <td>97.0</td>\n",
       "      <td>724.0</td>\n",
       "      <td>47.0</td>\n",
       "      <td>14407.83</td>\n",
       "      <td>15.0</td>\n",
       "      <td>ultra</td>\n",
       "      <td>1950.0</td>\n",
       "    </tr>\n",
       "    <tr>\n",
       "      <th>3033</th>\n",
       "      <td>1464</td>\n",
       "      <td>3</td>\n",
       "      <td>74.0</td>\n",
       "      <td>529.0</td>\n",
       "      <td>22.0</td>\n",
       "      <td>20412.58</td>\n",
       "      <td>20.0</td>\n",
       "      <td>smart</td>\n",
       "      <td>1637.0</td>\n",
       "    </tr>\n",
       "    <tr>\n",
       "      <th>893</th>\n",
       "      <td>1463</td>\n",
       "      <td>12</td>\n",
       "      <td>93.0</td>\n",
       "      <td>715.0</td>\n",
       "      <td>31.0</td>\n",
       "      <td>25950.26</td>\n",
       "      <td>26.0</td>\n",
       "      <td>ultra</td>\n",
       "      <td>1950.0</td>\n",
       "    </tr>\n",
       "    <tr>\n",
       "      <th>2907</th>\n",
       "      <td>1431</td>\n",
       "      <td>8</td>\n",
       "      <td>29.0</td>\n",
       "      <td>196.0</td>\n",
       "      <td>91.0</td>\n",
       "      <td>14062.72</td>\n",
       "      <td>14.0</td>\n",
       "      <td>smart</td>\n",
       "      <td>673.0</td>\n",
       "    </tr>\n",
       "    <tr>\n",
       "      <th>1950</th>\n",
       "      <td>1209</td>\n",
       "      <td>7</td>\n",
       "      <td>54.0</td>\n",
       "      <td>409.0</td>\n",
       "      <td>73.0</td>\n",
       "      <td>18425.68</td>\n",
       "      <td>18.0</td>\n",
       "      <td>smart</td>\n",
       "      <td>1219.0</td>\n",
       "    </tr>\n",
       "    <tr>\n",
       "      <th>1591</th>\n",
       "      <td>1134</td>\n",
       "      <td>5</td>\n",
       "      <td>66.0</td>\n",
       "      <td>385.0</td>\n",
       "      <td>68.0</td>\n",
       "      <td>14103.05</td>\n",
       "      <td>14.0</td>\n",
       "      <td>smart</td>\n",
       "      <td>604.0</td>\n",
       "    </tr>\n",
       "    <tr>\n",
       "      <th>1017</th>\n",
       "      <td>1007</td>\n",
       "      <td>4</td>\n",
       "      <td>25.0</td>\n",
       "      <td>198.0</td>\n",
       "      <td>11.0</td>\n",
       "      <td>8022.76</td>\n",
       "      <td>8.0</td>\n",
       "      <td>smart</td>\n",
       "      <td>550.0</td>\n",
       "    </tr>\n",
       "    <tr>\n",
       "      <th>2550</th>\n",
       "      <td>1345</td>\n",
       "      <td>11</td>\n",
       "      <td>26.0</td>\n",
       "      <td>170.0</td>\n",
       "      <td>4.0</td>\n",
       "      <td>16870.19</td>\n",
       "      <td>17.0</td>\n",
       "      <td>smart</td>\n",
       "      <td>950.0</td>\n",
       "    </tr>\n",
       "    <tr>\n",
       "      <th>2712</th>\n",
       "      <td>1393</td>\n",
       "      <td>8</td>\n",
       "      <td>85.0</td>\n",
       "      <td>554.0</td>\n",
       "      <td>60.0</td>\n",
       "      <td>13879.99</td>\n",
       "      <td>14.0</td>\n",
       "      <td>smart</td>\n",
       "      <td>742.0</td>\n",
       "    </tr>\n",
       "    <tr>\n",
       "      <th>1820</th>\n",
       "      <td>1178</td>\n",
       "      <td>8</td>\n",
       "      <td>58.0</td>\n",
       "      <td>404.0</td>\n",
       "      <td>30.0</td>\n",
       "      <td>18080.19</td>\n",
       "      <td>18.0</td>\n",
       "      <td>smart</td>\n",
       "      <td>1150.0</td>\n",
       "    </tr>\n",
       "    <tr>\n",
       "      <th>1523</th>\n",
       "      <td>1118</td>\n",
       "      <td>7</td>\n",
       "      <td>99.0</td>\n",
       "      <td>839.0</td>\n",
       "      <td>0.0</td>\n",
       "      <td>14379.09</td>\n",
       "      <td>15.0</td>\n",
       "      <td>smart</td>\n",
       "      <td>1567.0</td>\n",
       "    </tr>\n",
       "  </tbody>\n",
       "</table>\n",
       "</div>"
      ],
      "text/plain": [
       "      user_id  month  calls_count  calls_sum  message_count   mb_used  \\\n",
       "2274     1283     11         40.0      264.0           19.0  18842.55   \n",
       "349      1208      6         77.0      569.0            0.0  23130.53   \n",
       "2417     1314      6         48.0      370.0           30.0  22371.69   \n",
       "695      1377     12        185.0     1259.0           17.0   1444.81   \n",
       "1414     1093      9        106.0      825.0           72.0  12970.57   \n",
       "156      1094     10        117.0      868.0           28.0  17736.30   \n",
       "2938     1435     10         40.0      318.0            0.0  18837.98   \n",
       "735      1385      5         48.0      343.0          127.0  29585.49   \n",
       "1237     1054     10         87.0      708.0           65.0  20087.87   \n",
       "180      1099      8         97.0      724.0           47.0  14407.83   \n",
       "3033     1464      3         74.0      529.0           22.0  20412.58   \n",
       "893      1463     12         93.0      715.0           31.0  25950.26   \n",
       "2907     1431      8         29.0      196.0           91.0  14062.72   \n",
       "1950     1209      7         54.0      409.0           73.0  18425.68   \n",
       "1591     1134      5         66.0      385.0           68.0  14103.05   \n",
       "1017     1007      4         25.0      198.0           11.0   8022.76   \n",
       "2550     1345     11         26.0      170.0            4.0  16870.19   \n",
       "2712     1393      8         85.0      554.0           60.0  13879.99   \n",
       "1820     1178      8         58.0      404.0           30.0  18080.19   \n",
       "1523     1118      7         99.0      839.0            0.0  14379.09   \n",
       "\n",
       "      gb_used tariff  cost_per_month  \n",
       "2274     19.0  smart          1350.0  \n",
       "349      23.0  ultra          1950.0  \n",
       "2417     22.0  smart          1950.0  \n",
       "695       2.0  ultra          1950.0  \n",
       "1414     13.0  smart          1591.0  \n",
       "156      18.0  ultra          1950.0  \n",
       "2938     19.0  smart          1350.0  \n",
       "735      29.0  ultra          1950.0  \n",
       "1237     20.0  smart          2219.0  \n",
       "180      15.0  ultra          1950.0  \n",
       "3033     20.0  smart          1637.0  \n",
       "893      26.0  ultra          1950.0  \n",
       "2907     14.0  smart           673.0  \n",
       "1950     18.0  smart          1219.0  \n",
       "1591     14.0  smart           604.0  \n",
       "1017      8.0  smart           550.0  \n",
       "2550     17.0  smart           950.0  \n",
       "2712     14.0  smart           742.0  \n",
       "1820     18.0  smart          1150.0  \n",
       "1523     15.0  smart          1567.0  "
      ]
     },
     "execution_count": 31,
     "metadata": {},
     "output_type": "execute_result"
    }
   ],
   "source": [
    "# применим эту функцию ко всем строкам датафрейма и добавим новый столбец с величиной затрат в месяц\n",
    "users_data['cost_per_month'] = users_data.apply(monthly_cost, axis = 1)\n",
    "\n",
    "# и удалим из датафрейма ненужные столбцы\n",
    "users_data = users_data.drop(['messages_included', 'mb_per_month_included', 'minutes_included', \n",
    "                             'rub_monthly_fee', 'rub_per_gb', 'rub_per_message', 'rub_per_minute', \n",
    "                             'tariff_name'], axis='columns') \n",
    "\n",
    "users_data.sample(20)"
   ]
  },
  {
   "cell_type": "markdown",
   "id": "7dc09fce",
   "metadata": {},
   "source": [
    "## **Исследовательский анализ данных** <a id=\"ИАД\"></a>"
   ]
  },
  {
   "cell_type": "markdown",
   "id": "9b4ca0b1",
   "metadata": {},
   "source": [
    "Итак у нас есть в единой таблице данные по каждому абоненту в разрезе месяцев: сколько он разговаривал, отправлял сообщений, использовал трафика, и сколько, в зависимости от тарифа, он за это заплатил.\n",
    "\n",
    "Далее нам необходимо описать поведение клиентов в зависимости от тарифа:\n",
    "- сколько минут разговора требуется в месяц\n",
    "- сколько сообщений\n",
    "- сколько гигабайт трафика\n",
    "\n",
    "Для сравнения пользователей разных тарифов разделим их на отдельные дата фреймы."
   ]
  },
  {
   "cell_type": "code",
   "execution_count": 32,
   "id": "729723d6",
   "metadata": {
    "scrolled": false
   },
   "outputs": [
    {
     "data": {
      "text/html": [
       "<div>\n",
       "<style scoped>\n",
       "    .dataframe tbody tr th:only-of-type {\n",
       "        vertical-align: middle;\n",
       "    }\n",
       "\n",
       "    .dataframe tbody tr th {\n",
       "        vertical-align: top;\n",
       "    }\n",
       "\n",
       "    .dataframe thead th {\n",
       "        text-align: right;\n",
       "    }\n",
       "</style>\n",
       "<table border=\"1\" class=\"dataframe\">\n",
       "  <thead>\n",
       "    <tr style=\"text-align: right;\">\n",
       "      <th></th>\n",
       "      <th>user_id</th>\n",
       "      <th>month</th>\n",
       "      <th>calls_count</th>\n",
       "      <th>calls_sum</th>\n",
       "      <th>message_count</th>\n",
       "      <th>mb_used</th>\n",
       "      <th>gb_used</th>\n",
       "      <th>tariff</th>\n",
       "      <th>cost_per_month</th>\n",
       "    </tr>\n",
       "  </thead>\n",
       "  <tbody>\n",
       "    <tr>\n",
       "      <th>1165</th>\n",
       "      <td>1036</td>\n",
       "      <td>11</td>\n",
       "      <td>60.0</td>\n",
       "      <td>424.0</td>\n",
       "      <td>0.0</td>\n",
       "      <td>14945.25</td>\n",
       "      <td>15.0</td>\n",
       "      <td>smart</td>\n",
       "      <td>550.0</td>\n",
       "    </tr>\n",
       "    <tr>\n",
       "      <th>985</th>\n",
       "      <td>1001</td>\n",
       "      <td>11</td>\n",
       "      <td>59.0</td>\n",
       "      <td>430.0</td>\n",
       "      <td>0.0</td>\n",
       "      <td>18429.34</td>\n",
       "      <td>18.0</td>\n",
       "      <td>smart</td>\n",
       "      <td>1150.0</td>\n",
       "    </tr>\n",
       "    <tr>\n",
       "      <th>2453</th>\n",
       "      <td>1321</td>\n",
       "      <td>8</td>\n",
       "      <td>68.0</td>\n",
       "      <td>509.0</td>\n",
       "      <td>22.0</td>\n",
       "      <td>20558.98</td>\n",
       "      <td>21.0</td>\n",
       "      <td>smart</td>\n",
       "      <td>1777.0</td>\n",
       "    </tr>\n",
       "    <tr>\n",
       "      <th>2224</th>\n",
       "      <td>1268</td>\n",
       "      <td>12</td>\n",
       "      <td>56.0</td>\n",
       "      <td>396.0</td>\n",
       "      <td>59.0</td>\n",
       "      <td>16033.67</td>\n",
       "      <td>16.0</td>\n",
       "      <td>smart</td>\n",
       "      <td>777.0</td>\n",
       "    </tr>\n",
       "    <tr>\n",
       "      <th>2211</th>\n",
       "      <td>1266</td>\n",
       "      <td>12</td>\n",
       "      <td>74.0</td>\n",
       "      <td>558.0</td>\n",
       "      <td>47.0</td>\n",
       "      <td>13534.06</td>\n",
       "      <td>14.0</td>\n",
       "      <td>smart</td>\n",
       "      <td>724.0</td>\n",
       "    </tr>\n",
       "  </tbody>\n",
       "</table>\n",
       "</div>"
      ],
      "text/plain": [
       "      user_id  month  calls_count  calls_sum  message_count   mb_used  \\\n",
       "1165     1036     11         60.0      424.0            0.0  14945.25   \n",
       "985      1001     11         59.0      430.0            0.0  18429.34   \n",
       "2453     1321      8         68.0      509.0           22.0  20558.98   \n",
       "2224     1268     12         56.0      396.0           59.0  16033.67   \n",
       "2211     1266     12         74.0      558.0           47.0  13534.06   \n",
       "\n",
       "      gb_used tariff  cost_per_month  \n",
       "1165     15.0  smart           550.0  \n",
       "985      18.0  smart          1150.0  \n",
       "2453     21.0  smart          1777.0  \n",
       "2224     16.0  smart           777.0  \n",
       "2211     14.0  smart           724.0  "
      ]
     },
     "execution_count": 32,
     "metadata": {},
     "output_type": "execute_result"
    }
   ],
   "source": [
    "# создадим датафрейм с пользователями тарифа Ультра\n",
    "users_data_ultra = users_data.query('tariff == \"ultra\"')\n",
    "\n",
    "# и датафрейм с пользователями тарифа Смарт\n",
    "users_data_smart = users_data.query('tariff == \"smart\"')\n",
    "\n",
    "users_data_smart.sample(5)"
   ]
  },
  {
   "cell_type": "markdown",
   "id": "355eac38",
   "metadata": {},
   "source": [
    "Посмотрим на пользователей тарифа Ультра"
   ]
  },
  {
   "cell_type": "code",
   "execution_count": 33,
   "id": "86079977",
   "metadata": {
    "scrolled": true
   },
   "outputs": [
    {
     "data": {
      "text/html": [
       "<div>\n",
       "<style scoped>\n",
       "    .dataframe tbody tr th:only-of-type {\n",
       "        vertical-align: middle;\n",
       "    }\n",
       "\n",
       "    .dataframe tbody tr th {\n",
       "        vertical-align: top;\n",
       "    }\n",
       "\n",
       "    .dataframe thead th {\n",
       "        text-align: right;\n",
       "    }\n",
       "</style>\n",
       "<table border=\"1\" class=\"dataframe\">\n",
       "  <thead>\n",
       "    <tr style=\"text-align: right;\">\n",
       "      <th></th>\n",
       "      <th>month</th>\n",
       "      <th>calls_sum_smart</th>\n",
       "      <th>message_count_smart</th>\n",
       "      <th>gb_used_smart</th>\n",
       "      <th>cost_per_month_smart</th>\n",
       "      <th>calls_sum_ultra</th>\n",
       "      <th>message_count_ultra</th>\n",
       "      <th>gb_used_ultra</th>\n",
       "      <th>cost_per_month_ultra</th>\n",
       "    </tr>\n",
       "  </thead>\n",
       "  <tbody>\n",
       "    <tr>\n",
       "      <th>0</th>\n",
       "      <td>1</td>\n",
       "      <td>203.85</td>\n",
       "      <td>18.24</td>\n",
       "      <td>8.74</td>\n",
       "      <td>721.32</td>\n",
       "      <td>428.11</td>\n",
       "      <td>33.78</td>\n",
       "      <td>13.22</td>\n",
       "      <td>1950.00</td>\n",
       "    </tr>\n",
       "    <tr>\n",
       "      <th>1</th>\n",
       "      <td>2</td>\n",
       "      <td>298.69</td>\n",
       "      <td>24.09</td>\n",
       "      <td>11.84</td>\n",
       "      <td>827.60</td>\n",
       "      <td>297.12</td>\n",
       "      <td>21.96</td>\n",
       "      <td>12.00</td>\n",
       "      <td>1975.00</td>\n",
       "    </tr>\n",
       "    <tr>\n",
       "      <th>2</th>\n",
       "      <td>3</td>\n",
       "      <td>390.05</td>\n",
       "      <td>31.86</td>\n",
       "      <td>15.23</td>\n",
       "      <td>1164.62</td>\n",
       "      <td>489.65</td>\n",
       "      <td>32.30</td>\n",
       "      <td>17.65</td>\n",
       "      <td>2014.86</td>\n",
       "    </tr>\n",
       "    <tr>\n",
       "      <th>3</th>\n",
       "      <td>4</td>\n",
       "      <td>367.13</td>\n",
       "      <td>30.74</td>\n",
       "      <td>13.62</td>\n",
       "      <td>963.09</td>\n",
       "      <td>458.02</td>\n",
       "      <td>31.56</td>\n",
       "      <td>16.96</td>\n",
       "      <td>2001.82</td>\n",
       "    </tr>\n",
       "    <tr>\n",
       "      <th>4</th>\n",
       "      <td>5</td>\n",
       "      <td>387.36</td>\n",
       "      <td>33.77</td>\n",
       "      <td>15.91</td>\n",
       "      <td>1197.51</td>\n",
       "      <td>510.33</td>\n",
       "      <td>37.85</td>\n",
       "      <td>19.37</td>\n",
       "      <td>2059.70</td>\n",
       "    </tr>\n",
       "    <tr>\n",
       "      <th>5</th>\n",
       "      <td>6</td>\n",
       "      <td>395.64</td>\n",
       "      <td>33.40</td>\n",
       "      <td>15.95</td>\n",
       "      <td>1204.02</td>\n",
       "      <td>479.70</td>\n",
       "      <td>41.73</td>\n",
       "      <td>18.94</td>\n",
       "      <td>2039.29</td>\n",
       "    </tr>\n",
       "    <tr>\n",
       "      <th>6</th>\n",
       "      <td>7</td>\n",
       "      <td>408.35</td>\n",
       "      <td>33.75</td>\n",
       "      <td>15.88</td>\n",
       "      <td>1223.95</td>\n",
       "      <td>545.79</td>\n",
       "      <td>49.85</td>\n",
       "      <td>20.51</td>\n",
       "      <td>2118.13</td>\n",
       "    </tr>\n",
       "    <tr>\n",
       "      <th>7</th>\n",
       "      <td>8</td>\n",
       "      <td>421.47</td>\n",
       "      <td>33.64</td>\n",
       "      <td>16.74</td>\n",
       "      <td>1320.60</td>\n",
       "      <td>510.78</td>\n",
       "      <td>48.44</td>\n",
       "      <td>19.60</td>\n",
       "      <td>2083.18</td>\n",
       "    </tr>\n",
       "    <tr>\n",
       "      <th>8</th>\n",
       "      <td>9</td>\n",
       "      <td>428.61</td>\n",
       "      <td>33.64</td>\n",
       "      <td>16.39</td>\n",
       "      <td>1249.95</td>\n",
       "      <td>539.44</td>\n",
       "      <td>52.29</td>\n",
       "      <td>19.24</td>\n",
       "      <td>2024.35</td>\n",
       "    </tr>\n",
       "    <tr>\n",
       "      <th>9</th>\n",
       "      <td>10</td>\n",
       "      <td>426.14</td>\n",
       "      <td>33.77</td>\n",
       "      <td>16.88</td>\n",
       "      <td>1364.85</td>\n",
       "      <td>558.08</td>\n",
       "      <td>58.43</td>\n",
       "      <td>20.07</td>\n",
       "      <td>2065.85</td>\n",
       "    </tr>\n",
       "    <tr>\n",
       "      <th>10</th>\n",
       "      <td>11</td>\n",
       "      <td>435.27</td>\n",
       "      <td>34.08</td>\n",
       "      <td>17.00</td>\n",
       "      <td>1343.05</td>\n",
       "      <td>541.38</td>\n",
       "      <td>55.79</td>\n",
       "      <td>19.81</td>\n",
       "      <td>2092.16</td>\n",
       "    </tr>\n",
       "    <tr>\n",
       "      <th>11</th>\n",
       "      <td>12</td>\n",
       "      <td>478.56</td>\n",
       "      <td>35.99</td>\n",
       "      <td>18.20</td>\n",
       "      <td>1578.53</td>\n",
       "      <td>592.81</td>\n",
       "      <td>60.61</td>\n",
       "      <td>21.74</td>\n",
       "      <td>2138.85</td>\n",
       "    </tr>\n",
       "  </tbody>\n",
       "</table>\n",
       "</div>"
      ],
      "text/plain": [
       "    month  calls_sum_smart  message_count_smart  gb_used_smart  \\\n",
       "0       1           203.85                18.24           8.74   \n",
       "1       2           298.69                24.09          11.84   \n",
       "2       3           390.05                31.86          15.23   \n",
       "3       4           367.13                30.74          13.62   \n",
       "4       5           387.36                33.77          15.91   \n",
       "5       6           395.64                33.40          15.95   \n",
       "6       7           408.35                33.75          15.88   \n",
       "7       8           421.47                33.64          16.74   \n",
       "8       9           428.61                33.64          16.39   \n",
       "9      10           426.14                33.77          16.88   \n",
       "10     11           435.27                34.08          17.00   \n",
       "11     12           478.56                35.99          18.20   \n",
       "\n",
       "    cost_per_month_smart  calls_sum_ultra  message_count_ultra  gb_used_ultra  \\\n",
       "0                 721.32           428.11                33.78          13.22   \n",
       "1                 827.60           297.12                21.96          12.00   \n",
       "2                1164.62           489.65                32.30          17.65   \n",
       "3                 963.09           458.02                31.56          16.96   \n",
       "4                1197.51           510.33                37.85          19.37   \n",
       "5                1204.02           479.70                41.73          18.94   \n",
       "6                1223.95           545.79                49.85          20.51   \n",
       "7                1320.60           510.78                48.44          19.60   \n",
       "8                1249.95           539.44                52.29          19.24   \n",
       "9                1364.85           558.08                58.43          20.07   \n",
       "10               1343.05           541.38                55.79          19.81   \n",
       "11               1578.53           592.81                60.61          21.74   \n",
       "\n",
       "    cost_per_month_ultra  \n",
       "0                1950.00  \n",
       "1                1975.00  \n",
       "2                2014.86  \n",
       "3                2001.82  \n",
       "4                2059.70  \n",
       "5                2039.29  \n",
       "6                2118.13  \n",
       "7                2083.18  \n",
       "8                2024.35  \n",
       "9                2065.85  \n",
       "10               2092.16  \n",
       "11               2138.85  "
      ]
     },
     "execution_count": 33,
     "metadata": {},
     "output_type": "execute_result"
    }
   ],
   "source": [
    "# посчитаем средние длительности разговоров,сообщений и гигабайт по месяцам для \n",
    "# через группировку по месяцу, расчетом среднего и обновлением индексов, с округлением до 2 зн\n",
    "users_data_ultra_pivot = round(users_data_ultra.groupby('month')\n",
    "                             [['calls_sum', 'message_count', 'gb_used', 'cost_per_month' ]].mean().reset_index(), 2)\n",
    "\n",
    "# переименуем колонки таблицы\n",
    "users_data_ultra_pivot.columns = ['month', 'calls_sum_ultra', 'message_count_ultra', 'gb_used_ultra', 'cost_per_month_ultra']\n",
    "\n",
    "# сделаем аналогичную операцию для тарифа Смарт\n",
    "users_data_smart_pivot = round(users_data_smart.groupby('month')\n",
    "                             [['calls_sum', 'message_count', 'gb_used', 'cost_per_month' ]].mean().reset_index(), 2)\n",
    "\n",
    "users_data_smart_pivot.columns = ['month', 'calls_sum_smart', 'message_count_smart', 'gb_used_smart', 'cost_per_month_smart']\n",
    "\n",
    "# объединим таблицы для удобного сравнения на графиках\n",
    "\n",
    "users_data_common_data = users_data_smart_pivot.merge(users_data_ultra_pivot, on = ['month'])\n",
    "\n",
    "users_data_common_data.head(12)\n"
   ]
  },
  {
   "cell_type": "markdown",
   "id": "09daae9e",
   "metadata": {},
   "source": [
    "Получили данные по средним тратам минут, сообщений и трафика, а также затрат помесячно для обоих тарифов\n",
    "\n",
    "Посмотрим графически, как менялось поведение клиентов."
   ]
  },
  {
   "cell_type": "code",
   "execution_count": 34,
   "id": "086ff085",
   "metadata": {},
   "outputs": [
    {
     "data": {
      "image/png": "[encoded data removed]",
      "text/plain": [
       "<Figure size 432x288 with 1 Axes>"
      ]
     },
     "metadata": {
      "needs_background": "light"
     },
     "output_type": "display_data"
    }
   ],
   "source": [
    "users_data_common_data[['calls_sum_smart', 'calls_sum_ultra']].plot()\n",
    "\n",
    "plt.title('Сравнение по звонкам')\n",
    "plt.xlabel('Месяц')\n",
    "plt.ylabel('Средняя длительность')\n",
    "plt.show()"
   ]
  },
  {
   "cell_type": "markdown",
   "id": "9702fa95",
   "metadata": {},
   "source": [
    "Видно, что пользователи тарифа Ультра звонят в среднем  больше, чем абоненты Смарт. И у тех и у других в течении года наблюдалось увеличение длительности звонков, с пиковым значением в декабре"
   ]
  },
  {
   "cell_type": "code",
   "execution_count": 35,
   "id": "644ac7eb",
   "metadata": {
    "scrolled": true
   },
   "outputs": [
    {
     "data": {
      "image/png": "[encoded data removed]",
      "text/plain": [
       "<Figure size 432x288 with 1 Axes>"
      ]
     },
     "metadata": {
      "needs_background": "light"
     },
     "output_type": "display_data"
    }
   ],
   "source": [
    "# построим график среднего количества сообщений в месяц\n",
    "users_data_common_data[['message_count_smart', 'message_count_ultra']].plot()\n",
    "\n",
    "plt.title('Сравнение по сообщениям')\n",
    "plt.xlabel('Месяц')\n",
    "plt.ylabel('Среднее кол-во сообщений')\n",
    "plt.show()"
   ]
  },
  {
   "cell_type": "markdown",
   "id": "1909d706",
   "metadata": {},
   "source": [
    "Видим похожую картину, абоненты Ультра более активно пользуются сообщениями, и их активность растет в течении года, тогда как абоненты Смарт после выхода на среднее около 40 сообщений в месяц на этом уровне и держаться"
   ]
  },
  {
   "cell_type": "code",
   "execution_count": 36,
   "id": "b8b5a5b5",
   "metadata": {
    "scrolled": true
   },
   "outputs": [
    {
     "data": {
      "image/png": "[encoded data removed]",
      "text/plain": [
       "<Figure size 432x288 with 1 Axes>"
      ]
     },
     "metadata": {
      "needs_background": "light"
     },
     "output_type": "display_data"
    }
   ],
   "source": [
    "# сравним использование интернет-трафика\n",
    "users_data_common_data[['gb_used_smart', 'gb_used_ultra']].plot()\n",
    "\n",
    "plt.title('Сравнение по трафику')\n",
    "plt.xlabel('Месяц')\n",
    "plt.ylabel('Средний трафик')\n",
    "plt.show()"
   ]
  },
  {
   "cell_type": "markdown",
   "id": "9907e432",
   "metadata": {},
   "source": [
    "Аналогично, использующие тариф Ультра более активно используют интернет трафик"
   ]
  },
  {
   "cell_type": "code",
   "execution_count": 37,
   "id": "0899aeb8",
   "metadata": {
    "scrolled": true
   },
   "outputs": [
    {
     "data": {
      "image/png": "[encoded data removed]",
      "text/plain": [
       "<Figure size 432x288 with 1 Axes>"
      ]
     },
     "metadata": {
      "needs_background": "light"
     },
     "output_type": "display_data"
    }
   ],
   "source": [
    "# и посмотрим на средние траты\n",
    "# сравним использование интернет-трафика\n",
    "users_data_common_data[['cost_per_month_smart', 'cost_per_month_ultra']].plot()\n",
    "\n",
    "plt.title('Сравнение по затратам')\n",
    "plt.xlabel('Месяц')\n",
    "plt.ylabel('Средние траты')\n",
    "plt.show()"
   ]
  },
  {
   "cell_type": "markdown",
   "id": "bb9d1190",
   "metadata": {},
   "source": [
    "Очевидно, что пользователи Ультра тратят больше в среднем. Но они редко выходят за рамки включенных в тариф опций, поэтому их среднее в течении года лишь ненамного выше, чем аб плата в размере 1950 рублей.\n",
    "В то время как абоненты Смарт, у которых аб плата 550 рублей, имеют минимальные средние затраты на уровне 717 рублей, а чаще всего выше 1000 рублей."
   ]
  },
  {
   "cell_type": "markdown",
   "id": "0378c58f",
   "metadata": {},
   "source": [
    "Теперь посмотрим на типичного пользователя обоих тарифов. Для этого построим гистограммы по звонкам, сообщениям и трафику для каждого из тарифов."
   ]
  },
  {
   "cell_type": "code",
   "execution_count": 38,
   "id": "e19b187a",
   "metadata": {},
   "outputs": [
    {
     "data": {
      "text/plain": [
       "count     985.000000\n",
       "mean      526.623350\n",
       "std       317.606098\n",
       "min         0.000000\n",
       "25%       284.000000\n",
       "50%       518.000000\n",
       "75%       752.000000\n",
       "max      1673.000000\n",
       "Name: calls_sum, dtype: float64"
      ]
     },
     "metadata": {},
     "output_type": "display_data"
    },
    {
     "name": "stdout",
     "output_type": "stream",
     "text": [
      "Дисперсия равна =  100873.63\n"
     ]
    },
    {
     "data": {
      "image/png": "[encoded data removed]",
      "text/plain": [
       "<Figure size 432x288 with 1 Axes>"
      ]
     },
     "metadata": {
      "needs_background": "light"
     },
     "output_type": "display_data"
    }
   ],
   "source": [
    "users_data_ultra['calls_sum'].hist(bins = 50)\n",
    "display(users_data_ultra['calls_sum'].describe())\n",
    "\n",
    "# посчитаем дисперсию методом var с указанием ddof = 1, так как мы используем выборку из датасета\n",
    "print('Дисперсия равна = ',round(np.var(users_data_ultra['calls_sum'], ddof = 1), 2))\n",
    "# выведет тот же результат, что и строка выше\n",
    "# display(users_data_ultra['calls_sum'].var())"
   ]
  },
  {
   "cell_type": "code",
   "execution_count": 39,
   "id": "42220d6f",
   "metadata": {},
   "outputs": [
    {
     "data": {
      "text/plain": [
       "count    2229.000000\n",
       "mean      417.934948\n",
       "std       190.313730\n",
       "min         0.000000\n",
       "25%       282.000000\n",
       "50%       422.000000\n",
       "75%       545.000000\n",
       "max      1435.000000\n",
       "Name: calls_sum, dtype: float64"
      ]
     },
     "metadata": {},
     "output_type": "display_data"
    },
    {
     "name": "stdout",
     "output_type": "stream",
     "text": [
      "Дисперсия равна =  36219.32\n"
     ]
    },
    {
     "data": {
      "image/png": "[encoded data removed]",
      "text/plain": [
       "<Figure size 432x288 with 1 Axes>"
      ]
     },
     "metadata": {
      "needs_background": "light"
     },
     "output_type": "display_data"
    }
   ],
   "source": [
    "users_data_smart['calls_sum'].hist(bins = 50)\n",
    "display(users_data_smart['calls_sum'].describe())\n",
    "print('Дисперсия равна = ',round(np.var(users_data_smart['calls_sum'], ddof = 1), 2))"
   ]
  },
  {
   "cell_type": "markdown",
   "id": "b195a8d2",
   "metadata": {},
   "source": [
    "**Выводы по длительности звонков**\n",
    "- В обоих тарифах есть те, кто не совершает звонки, видимо используют только сообщения или трафик. \n",
    "- пользователи тарифа Смарт чаще всего говорят до 545 минут в месяц, таких 75% абонентов. И более 25% абонентов не укладываются во включенные в тариф минуты. В среднем они наговаривают 419 минут, со стандартным отклонением 189\n",
    "- пользователи Ультра никогда не превышают порог минут. В среднем разговаривают 545 минут со ст откл 306. Они разговаривают не намного больше абонентов Смарт, но при необходимости увеличивают длительность разговоров, тогда как абоненты Смарт стараются не выходить за лимит"
   ]
  },
  {
   "cell_type": "code",
   "execution_count": 40,
   "id": "233c28a4",
   "metadata": {},
   "outputs": [
    {
     "data": {
      "text/plain": [
       "count    985.000000\n",
       "mean      49.363452\n",
       "std       47.804457\n",
       "min        0.000000\n",
       "25%        6.000000\n",
       "50%       38.000000\n",
       "75%       79.000000\n",
       "max      224.000000\n",
       "Name: message_count, dtype: float64"
      ]
     },
     "metadata": {},
     "output_type": "display_data"
    },
    {
     "name": "stdout",
     "output_type": "stream",
     "text": [
      "Дисперсия равна =  2285.27\n"
     ]
    },
    {
     "data": {
      "image/png": "[encoded data removed]",
      "text/plain": [
       "<Figure size 432x288 with 1 Axes>"
      ]
     },
     "metadata": {
      "needs_background": "light"
     },
     "output_type": "display_data"
    }
   ],
   "source": [
    "users_data_ultra['message_count'].hist(bins = 50)\n",
    "display(users_data_ultra['message_count'].describe())\n",
    "print('Дисперсия равна = ',round(np.var(users_data_ultra['message_count'], ddof = 1), 2))"
   ]
  },
  {
   "cell_type": "code",
   "execution_count": 41,
   "id": "558b617f",
   "metadata": {},
   "outputs": [
    {
     "data": {
      "text/plain": [
       "count    2229.000000\n",
       "mean       33.384029\n",
       "std        28.227876\n",
       "min         0.000000\n",
       "25%        10.000000\n",
       "50%        28.000000\n",
       "75%        51.000000\n",
       "max       143.000000\n",
       "Name: message_count, dtype: float64"
      ]
     },
     "metadata": {},
     "output_type": "display_data"
    },
    {
     "name": "stdout",
     "output_type": "stream",
     "text": [
      "Дисперсия равна =  796.81\n"
     ]
    },
    {
     "data": {
      "image/png": "[encoded data removed]",
      "text/plain": [
       "<Figure size 432x288 with 1 Axes>"
      ]
     },
     "metadata": {
      "needs_background": "light"
     },
     "output_type": "display_data"
    }
   ],
   "source": [
    "users_data_smart['message_count'].hist(bins = 50)\n",
    "display(users_data_smart['message_count'].describe())\n",
    "print('Дисперсия равна = ',round(np.var(users_data_smart['message_count'], ddof = 1), 2))"
   ]
  },
  {
   "cell_type": "markdown",
   "id": "346be11f",
   "metadata": {},
   "source": [
    "**Выводы по сообщениям**\n",
    "- в целом сообщениями пользуются не так активно, как звонками, в обоих тарифах распределение не \"нормальное\", а с пиками, недалеко отстоящими от нулевых значений\n",
    "- абоненты Ультра гораздо активнне пользуются сообщениями, в среднем 61 сообщение, против 38 у Смарта \n",
    "- чуть более 25% абонентов Смарт отправляет более 50 сообщений, то есть выходит за лимит включенный в тариф\n",
    "- абоненты Ультра с 1000 сообщений включенных в тариф никогда не выходят за лимит"
   ]
  },
  {
   "cell_type": "code",
   "execution_count": 42,
   "id": "165e399b",
   "metadata": {},
   "outputs": [
    {
     "data": {
      "text/plain": [
       "count    985.000000\n",
       "mean      19.494416\n",
       "std        9.853511\n",
       "min        0.000000\n",
       "25%       12.000000\n",
       "50%       19.000000\n",
       "75%       27.000000\n",
       "max       49.000000\n",
       "Name: gb_used, dtype: float64"
      ]
     },
     "metadata": {},
     "output_type": "display_data"
    },
    {
     "name": "stdout",
     "output_type": "stream",
     "text": [
      "Дисперсия равна =  97.09\n"
     ]
    },
    {
     "data": {
      "image/png": "[encoded data removed]",
      "text/plain": [
       "<Figure size 432x288 with 1 Axes>"
      ]
     },
     "metadata": {
      "needs_background": "light"
     },
     "output_type": "display_data"
    }
   ],
   "source": [
    "users_data_ultra['gb_used'].hist(bins = 50)\n",
    "display(users_data_ultra['gb_used'].describe())\n",
    "print('Дисперсия равна = ',round(np.var(users_data_ultra['gb_used'], ddof = 1), 2))"
   ]
  },
  {
   "cell_type": "code",
   "execution_count": 43,
   "id": "b2cc7f31",
   "metadata": {
    "scrolled": false
   },
   "outputs": [
    {
     "data": {
      "text/plain": [
       "count    2229.000000\n",
       "mean       16.328847\n",
       "std         5.747061\n",
       "min         0.000000\n",
       "25%        13.000000\n",
       "50%        17.000000\n",
       "75%        20.000000\n",
       "max        38.000000\n",
       "Name: gb_used, dtype: float64"
      ]
     },
     "metadata": {},
     "output_type": "display_data"
    },
    {
     "name": "stdout",
     "output_type": "stream",
     "text": [
      "Дисперсия равна =  33.03\n"
     ]
    },
    {
     "data": {
      "image/png": "[encoded data removed]",
      "text/plain": [
       "<Figure size 432x288 with 1 Axes>"
      ]
     },
     "metadata": {
      "needs_background": "light"
     },
     "output_type": "display_data"
    }
   ],
   "source": [
    "users_data_smart['gb_used'].hist(bins = 50)\n",
    "display(users_data_smart['gb_used'].describe())\n",
    "print('Дисперсия равна = ',round(np.var(users_data_smart['gb_used'], ddof = 1), 2))"
   ]
  },
  {
   "cell_type": "markdown",
   "id": "506a61de",
   "metadata": {},
   "source": [
    "**Выводы по испозьзованному трафику**\n",
    "- абоненты Ультра больше пользуются интернетом, но ненамного. Среднее у Ультра 19, а у Смарт 16, при ст отклонении Ультра 9,7, смарт 5,7. \n",
    "- Медианное значение у Ультра 19Гб, у Смарт 17Гб, то есть в обоих тарифах трафиком пользуются приблизительно одинаково\n",
    "- абоненты Ультра никогда не исчерпывали свой лимит звонков и сообщений, в примерно 20% случаев не укладываются в лимит по трафику, а значит доплачивают за него.\n",
    "- абоненты Смарт примерно в 25% случаев не укладывались в лимит по звонкам, а по трафику они более чем в 50% случаев перебирают сверх лимита, и соответственно также доплачивают за использование."
   ]
  },
  {
   "cell_type": "code",
   "execution_count": 44,
   "id": "62beae0e",
   "metadata": {},
   "outputs": [
    {
     "data": {
      "text/plain": [
       "count     985.000000\n",
       "mean     2070.152284\n",
       "std       376.187114\n",
       "min      1950.000000\n",
       "25%      1950.000000\n",
       "50%      1950.000000\n",
       "75%      1950.000000\n",
       "max      4800.000000\n",
       "Name: cost_per_month, dtype: float64"
      ]
     },
     "metadata": {},
     "output_type": "display_data"
    },
    {
     "name": "stdout",
     "output_type": "stream",
     "text": [
      "Дисперсия равна =  141516.75\n"
     ]
    },
    {
     "data": {
      "image/png": "[encoded data removed]",
      "text/plain": [
       "<Figure size 432x288 with 1 Axes>"
      ]
     },
     "metadata": {
      "needs_background": "light"
     },
     "output_type": "display_data"
    }
   ],
   "source": [
    "users_data_ultra['cost_per_month'].hist(bins = 50)\n",
    "display(users_data_ultra['cost_per_month'].describe())\n",
    "print('Дисперсия равна = ',round(np.var(users_data_ultra['cost_per_month'], ddof = 1), 2))"
   ]
  },
  {
   "cell_type": "code",
   "execution_count": 45,
   "id": "7c8f7e9f",
   "metadata": {
    "scrolled": false
   },
   "outputs": [
    {
     "data": {
      "text/plain": [
       "count    2229.000000\n",
       "mean     1289.973531\n",
       "std       818.404367\n",
       "min       550.000000\n",
       "25%       550.000000\n",
       "50%      1023.000000\n",
       "75%      1750.000000\n",
       "max      6770.000000\n",
       "Name: cost_per_month, dtype: float64"
      ]
     },
     "metadata": {},
     "output_type": "display_data"
    },
    {
     "name": "stdout",
     "output_type": "stream",
     "text": [
      "Дисперсия равна =  669785.71\n"
     ]
    },
    {
     "data": {
      "image/png": "[encoded data removed]",
      "text/plain": [
       "<Figure size 432x288 with 1 Axes>"
      ]
     },
     "metadata": {
      "needs_background": "light"
     },
     "output_type": "display_data"
    }
   ],
   "source": [
    "users_data_smart['cost_per_month'].hist(bins = 50)\n",
    "display(users_data_smart['cost_per_month'].describe())\n",
    "print('Дисперсия равна = ',round(np.var(users_data_smart['cost_per_month'], ddof = 1), 2))"
   ]
  },
  {
   "cell_type": "code",
   "execution_count": 46,
   "id": "1ee8b0f6",
   "metadata": {},
   "outputs": [
    {
     "data": {
      "text/plain": [
       "417"
      ]
     },
     "execution_count": 46,
     "metadata": {},
     "output_type": "execute_result"
    }
   ],
   "source": [
    "users_data_smart.query('cost_per_month > 1950')['user_id'].count()"
   ]
  },
  {
   "cell_type": "markdown",
   "id": "ed660459",
   "metadata": {},
   "source": [
    "**Выводы по расходам**\n",
    "- абоненты Ультра крайне редко выходят за лимиты включенных в тариф опций. Как мы видели это просходит только с трафиком. Поэтому их средние расходы всего на 120 рублей выше аб платы\n",
    "- абоненты Смарт при аб плате 550 руб в среднем тратят 1255 руб в месяц\n",
    "- 383 абонента (более 10% всех абонентов) Смарт тратит в месяц более 1950 рублей, более аб платы в тарифе Ультра"
   ]
  },
  {
   "cell_type": "code",
   "execution_count": 47,
   "id": "b1e57934",
   "metadata": {},
   "outputs": [
    {
     "data": {
      "text/html": [
       "<div>\n",
       "<style scoped>\n",
       "    .dataframe tbody tr th:only-of-type {\n",
       "        vertical-align: middle;\n",
       "    }\n",
       "\n",
       "    .dataframe tbody tr th {\n",
       "        vertical-align: top;\n",
       "    }\n",
       "\n",
       "    .dataframe thead tr th {\n",
       "        text-align: left;\n",
       "    }\n",
       "\n",
       "    .dataframe thead tr:last-of-type th {\n",
       "        text-align: right;\n",
       "    }\n",
       "</style>\n",
       "<table border=\"1\" class=\"dataframe\">\n",
       "  <thead>\n",
       "    <tr>\n",
       "      <th></th>\n",
       "      <th colspan=\"4\" halign=\"left\">mean</th>\n",
       "      <th colspan=\"4\" halign=\"left\">var</th>\n",
       "      <th colspan=\"4\" halign=\"left\">std</th>\n",
       "    </tr>\n",
       "    <tr>\n",
       "      <th></th>\n",
       "      <th>calls_sum</th>\n",
       "      <th>cost_per_month</th>\n",
       "      <th>gb_used</th>\n",
       "      <th>message_count</th>\n",
       "      <th>calls_sum</th>\n",
       "      <th>cost_per_month</th>\n",
       "      <th>gb_used</th>\n",
       "      <th>message_count</th>\n",
       "      <th>calls_sum</th>\n",
       "      <th>cost_per_month</th>\n",
       "      <th>gb_used</th>\n",
       "      <th>message_count</th>\n",
       "    </tr>\n",
       "    <tr>\n",
       "      <th>tariff</th>\n",
       "      <th></th>\n",
       "      <th></th>\n",
       "      <th></th>\n",
       "      <th></th>\n",
       "      <th></th>\n",
       "      <th></th>\n",
       "      <th></th>\n",
       "      <th></th>\n",
       "      <th></th>\n",
       "      <th></th>\n",
       "      <th></th>\n",
       "      <th></th>\n",
       "    </tr>\n",
       "  </thead>\n",
       "  <tbody>\n",
       "    <tr>\n",
       "      <th>smart</th>\n",
       "      <td>417.934948</td>\n",
       "      <td>1289.973531</td>\n",
       "      <td>16.328847</td>\n",
       "      <td>33.384029</td>\n",
       "      <td>36219.315784</td>\n",
       "      <td>669785.708006</td>\n",
       "      <td>33.028705</td>\n",
       "      <td>796.812958</td>\n",
       "      <td>190.313730</td>\n",
       "      <td>818.404367</td>\n",
       "      <td>5.747061</td>\n",
       "      <td>28.227876</td>\n",
       "    </tr>\n",
       "    <tr>\n",
       "      <th>ultra</th>\n",
       "      <td>526.623350</td>\n",
       "      <td>2070.152284</td>\n",
       "      <td>19.494416</td>\n",
       "      <td>49.363452</td>\n",
       "      <td>100873.633397</td>\n",
       "      <td>141516.745079</td>\n",
       "      <td>97.091686</td>\n",
       "      <td>2285.266143</td>\n",
       "      <td>317.606098</td>\n",
       "      <td>376.187114</td>\n",
       "      <td>9.853511</td>\n",
       "      <td>47.804457</td>\n",
       "    </tr>\n",
       "  </tbody>\n",
       "</table>\n",
       "</div>"
      ],
      "text/plain": [
       "              mean                                                    var  \\\n",
       "         calls_sum cost_per_month    gb_used message_count      calls_sum   \n",
       "tariff                                                                      \n",
       "smart   417.934948    1289.973531  16.328847     33.384029   36219.315784   \n",
       "ultra   526.623350    2070.152284  19.494416     49.363452  100873.633397   \n",
       "\n",
       "                                                       std                 \\\n",
       "       cost_per_month    gb_used message_count   calls_sum cost_per_month   \n",
       "tariff                                                                      \n",
       "smart   669785.708006  33.028705    796.812958  190.313730     818.404367   \n",
       "ultra   141516.745079  97.091686   2285.266143  317.606098     376.187114   \n",
       "\n",
       "                                \n",
       "         gb_used message_count  \n",
       "tariff                          \n",
       "smart   5.747061     28.227876  \n",
       "ultra   9.853511     47.804457  "
      ]
     },
     "execution_count": 47,
     "metadata": {},
     "output_type": "execute_result"
    }
   ],
   "source": [
    "#  код из подсказки ревьюера \n",
    "new_table = users_data.pivot_table(\n",
    "     index = 'tariff',\n",
    "     values = ['calls_sum', 'message_count', 'gb_used', 'cost_per_month'],\n",
    "     aggfunc= ['mean', 'var','std'])\n",
    "\n",
    "new_table.head()\n"
   ]
  },
  {
   "cell_type": "markdown",
   "id": "d2d36c71",
   "metadata": {},
   "source": [
    "## **Проверка гипотез** <a id=\"гипотезы\"></a>"
   ]
  },
  {
   "cell_type": "markdown",
   "id": "136709a9",
   "metadata": {},
   "source": [
    "Сформулируем нулевую гипотезу: средняя выручка пользователей тарифов Смарт и Ультра - одинаковы.\n",
    "Соответственно альтернативная гипотеза: средняя выручка пользователей обоих тарифов различается.\n",
    "\n",
    "Так как у нас в рассмотрении находятся только выборки из общих данных, будем использовать метод проверки гипотезы по выборкам."
   ]
  },
  {
   "cell_type": "code",
   "execution_count": 48,
   "id": "539b65cd",
   "metadata": {},
   "outputs": [
    {
     "name": "stdout",
     "output_type": "stream",
     "text": [
      "p-значение: 4.2606313931076085e-250\n",
      "Отвергаем нулевую гипотезу, средние выручки разных тарифов - разные\n"
     ]
    }
   ],
   "source": [
    "# установим критический уровень статистической значимости на уровне 0.05\n",
    "alpha = 0.05\n",
    "# если p-value окажется меньше него - отвергнем гипотезу\n",
    "\n",
    "# применим метод для проверки гипотезы о равенстве среднего\n",
    "# для двух датафреймов по разным тарифам\n",
    "# указав параметр equal_var = False, так как у нас разные по объему выборки (пользователей Смарт больше)\n",
    "# и мы по всем параметрам видели, что отклонения у выборок разные, значит и дисперсия скорее всего тоже\n",
    "results = st.ttest_ind(users_data_ultra['cost_per_month'], users_data_smart['cost_per_month'], equal_var = False)\n",
    "print('p-значение:', results.pvalue)\n",
    "\n",
    "if results.pvalue < alpha:\n",
    "    print(\"Отвергаем нулевую гипотезу, средние выручки разных тарифов - разные\")\n",
    "else:\n",
    "    print(\"Не получилось отвергнуть нулевую гипотезу, средние выручки разных тарифов - одинаковые\")"
   ]
  },
  {
   "cell_type": "markdown",
   "id": "4f23d5c7",
   "metadata": {},
   "source": [
    "Мы отвергли гипотезу, что средние выручки пользователей разных тарифов -  одинаковые. Значит верна гипотеза о том, что выручки пользователей разных тарифов - разные."
   ]
  },
  {
   "cell_type": "markdown",
   "id": "b3ae131d",
   "metadata": {},
   "source": [
    "Нулевая гипотеза - средние выручки пользователей из Москвы и других регионов - одинаковы!\n",
    "Альтернативная гипотеза - средние выручки пользователей из Москвы и других регионов отличаются друг от друга."
   ]
  },
  {
   "cell_type": "code",
   "execution_count": 49,
   "id": "96e45e46",
   "metadata": {
    "scrolled": false
   },
   "outputs": [],
   "source": [
    "# для этого мы к датафрейму users_data присоединим данные из users\n",
    "users_data = users_data.merge(users[['user_id', 'city']], on = 'user_id' )"
   ]
  },
  {
   "cell_type": "code",
   "execution_count": 50,
   "id": "669ee1b4",
   "metadata": {},
   "outputs": [
    {
     "name": "stdout",
     "output_type": "stream",
     "text": [
      "p-значение: 0.5440152911670224\n",
      "Не получилось отвергнуть нулевую гипотезу, средние выручки в Мск и других регионах  одинаковые\n"
     ]
    }
   ],
   "source": [
    "# установим критический уровень статистической значимости на уровне 0.5\n",
    "alpha = 0.05\n",
    "# если p-value окажется меньше него - отвергнем гипотезу\n",
    "\n",
    "results = st.ttest_ind(users_data.query('city == \"Москва\"')['cost_per_month'], \n",
    "                       users_data.query('city != \"Москва\"')['cost_per_month'])\n",
    "print('p-значение:', results.pvalue)\n",
    "\n",
    "if results.pvalue < alpha:\n",
    "    print(\"Отвергаем нулевую гипотезу, средние выручки в Мск и других регионах  - разные\")\n",
    "else:\n",
    "    print(\"Не получилось отвергнуть нулевую гипотезу, средние выручки в Мск и других регионах  одинаковые\")"
   ]
  },
  {
   "cell_type": "markdown",
   "id": "cdcf8b57",
   "metadata": {},
   "source": [
    "## **Общие выводы** <a id=\"выводы\"></a>"
   ]
  },
  {
   "cell_type": "markdown",
   "id": "be312d46",
   "metadata": {},
   "source": [
    "Рассмотрев имеющиеся данные можно сделать следующие общие выводы исследования:\n",
    "- исходные данные были предоставлены качественные, без пропусков, с ними удобно сразу работать\n",
    "- пользователей тарифа Смарт, с более низкой аб платой в выборке больше, чем пользователей Ульта, что вероятно соответствует генеральной совокупности данных о пользователях\n",
    "- поведение пользователей тарифов - разное. Пользователи тарифа Ультра больше звонят, отправляют СМС и пользуются трафиком\n",
    "- при этом самая большая разница - в отправке сообщений, в среднем на 30% абоненты Ультра отправляют больше сообщений, тогда как в звонках и трафике разница около 20%\n",
    "- пользователи тарифа Ультра никогда не выходят за лимиты по звонкам и сообщениям, их плата сверх аб платы может быть только за трафик\n",
    "- Гипотеза о том, что средние выручки пользователей тарифов Смарт и  Ультра одинаковы - не нашла подтверждения в данных и отвергнута. Данные говорят о том что верна альтернативная гипотеза - выручки пользователей этих двух тарифов - разные.\n",
    "- Гистограммы расходов показывают, что абоненты Ультра тратят в среднем 2070 рублей в месяц, а Смарт - 1255 р.\n",
    "- из этого следует главный вывод исследования - коммерческому департаменту необходимо направлять рекламный бюджет на продвижение тарифа Ультра. Его пользователи нагружают сеть больше на 20-30%, а доход приносят на 60% больше\n",
    "- средние траты в Москве и других городах - одинаковые.\n",
    "\n"
   ]
  },
  {
   "cell_type": "markdown",
   "id": "3b5b4f75",
   "metadata": {},
   "source": [
    "## **Данные о датасетах** <a id=\"данные\"></a>\n",
    "\n",
    "Таблица users (информация о пользователях):\n",
    "- user_id — уникальный идентификатор пользователя\n",
    "- first_name — имя пользователя\n",
    "- last_name — фамилия пользователя\n",
    "- age — возраст пользователя (годы)\n",
    "- reg_date — дата подключения тарифа (день, месяц, год)\n",
    "- churn_date — дата прекращения пользования тарифом (если значение пропущено, то тариф ещё действовал на момент выгрузки данных)\n",
    "- city — город проживания пользователя\n",
    "- tariff — название тарифного плана\n",
    "\n",
    "Таблица calls (информация о звонках):\n",
    "- id — уникальный номер звонка\n",
    "- call_date — дата звонка\n",
    "- duration — длительность звонка в минутах\n",
    "- user_id — идентификатор пользователя, сделавшего звонок\n",
    "\n",
    "Таблица messages (информация о сообщениях):\n",
    "- id — уникальный номер сообщения\n",
    "- message_date — дата сообщения\n",
    "- user_id — идентификатор пользователя, отправившего сообщение\n",
    "\n",
    "Таблица internet (информация об интернет-сессиях):\n",
    "- id — уникальный номер сессии\n",
    "- mb_used — объём потраченного за сессию интернет-трафика (в мегабайтах)\n",
    "- session_date — дата интернет-сессии\n",
    "- user_id — идентификатор пользователя\n",
    "\n",
    "Таблица tariffs (информация о тарифах):\n",
    "- tariff_name — название тарифа\n",
    "- rub_monthly_fee — ежемесячная абонентская плата в рублях\n",
    "- minutes_included — количество минут разговора в месяц, включённых в абонентскую плату\n",
    "- messages_included — количество сообщений в месяц, включённых в абонентскую плату\n",
    "- mb_per_month_included — объём интернет-трафика, включённого в абонентскую плату (в мегабайтах)\n",
    "- rub_per_minute — стоимость минуты разговора сверх тарифного пакета (например, если в тарифе 100 минут разговора в месяц, то со 101 минуты будет взиматься плата)\n",
    "- rub_per_message — стоимость отправки сообщения сверх тарифного пакета\n",
    "- rub_per_gb — стоимость дополнительного гигабайта интернет-трафика сверх тарифного пакета (1 гигабайт = 1024 мегабайта)"
   ]
  }
 ],
 "metadata": {
  "ExecuteTimeLog": [
   {
    "duration": 1123,
    "start_time": "2022-05-15T09:18:36.430Z"
   },
   {
    "duration": 68,
    "start_time": "2022-05-15T09:18:37.555Z"
   },
   {
    "duration": 13,
    "start_time": "2022-05-15T09:18:37.625Z"
   },
   {
    "duration": 220,
    "start_time": "2022-05-15T09:18:37.641Z"
   },
   {
    "duration": 20,
    "start_time": "2022-05-15T09:18:37.863Z"
   },
   {
    "duration": 25,
    "start_time": "2022-05-15T09:18:37.885Z"
   },
   {
    "duration": 6,
    "start_time": "2022-05-15T09:18:37.913Z"
   },
   {
    "duration": 248,
    "start_time": "2022-05-15T09:18:37.921Z"
   },
   {
    "duration": 6,
    "start_time": "2022-05-15T09:18:38.171Z"
   },
   {
    "duration": 9,
    "start_time": "2022-05-15T09:18:38.179Z"
   },
   {
    "duration": 239,
    "start_time": "2022-05-15T09:18:38.189Z"
   },
   {
    "duration": 296,
    "start_time": "2022-05-15T09:18:38.430Z"
   },
   {
    "duration": 39,
    "start_time": "2022-05-15T09:18:38.728Z"
   },
   {
    "duration": 10,
    "start_time": "2022-05-15T09:18:38.769Z"
   },
   {
    "duration": 4,
    "start_time": "2022-05-15T09:18:38.781Z"
   },
   {
    "duration": 172,
    "start_time": "2022-05-15T09:18:38.808Z"
   },
   {
    "duration": 55,
    "start_time": "2022-05-15T09:18:38.982Z"
   },
   {
    "duration": 163,
    "start_time": "2022-05-15T09:18:39.039Z"
   },
   {
    "duration": 34,
    "start_time": "2022-05-15T09:18:39.207Z"
   },
   {
    "duration": 202,
    "start_time": "2022-05-15T09:18:39.243Z"
   },
   {
    "duration": 65,
    "start_time": "2022-05-15T09:18:39.447Z"
   },
   {
    "duration": 34,
    "start_time": "2022-05-15T09:18:39.514Z"
   },
   {
    "duration": 10,
    "start_time": "2022-05-15T09:18:39.550Z"
   },
   {
    "duration": 46,
    "start_time": "2022-05-15T09:18:39.562Z"
   },
   {
    "duration": 17,
    "start_time": "2022-05-15T09:18:39.610Z"
   },
   {
    "duration": 20,
    "start_time": "2022-05-15T09:18:39.629Z"
   },
   {
    "duration": 4,
    "start_time": "2022-05-15T09:18:39.651Z"
   },
   {
    "duration": 45,
    "start_time": "2022-05-15T09:18:39.659Z"
   },
   {
    "duration": 24,
    "start_time": "2022-05-15T09:18:39.706Z"
   },
   {
    "duration": 5,
    "start_time": "2022-05-15T09:18:39.732Z"
   },
   {
    "duration": 147,
    "start_time": "2022-05-15T09:18:39.740Z"
   },
   {
    "duration": 29,
    "start_time": "2022-05-15T09:18:39.890Z"
   },
   {
    "duration": 29,
    "start_time": "2022-05-15T09:18:39.920Z"
   },
   {
    "duration": 203,
    "start_time": "2022-05-15T09:18:39.950Z"
   },
   {
    "duration": 160,
    "start_time": "2022-05-15T09:18:40.155Z"
   },
   {
    "duration": 165,
    "start_time": "2022-05-15T09:18:40.316Z"
   },
   {
    "duration": 243,
    "start_time": "2022-05-15T09:18:40.482Z"
   },
   {
    "duration": 214,
    "start_time": "2022-05-15T09:18:40.727Z"
   },
   {
    "duration": 239,
    "start_time": "2022-05-15T09:18:40.943Z"
   },
   {
    "duration": 181,
    "start_time": "2022-05-15T09:18:41.183Z"
   },
   {
    "duration": 229,
    "start_time": "2022-05-15T09:18:41.365Z"
   },
   {
    "duration": 185,
    "start_time": "2022-05-15T09:18:41.596Z"
   },
   {
    "duration": 211,
    "start_time": "2022-05-15T09:18:41.782Z"
   },
   {
    "duration": 196,
    "start_time": "2022-05-15T09:18:41.994Z"
   },
   {
    "duration": 208,
    "start_time": "2022-05-15T09:18:42.191Z"
   },
   {
    "duration": 11,
    "start_time": "2022-05-15T09:18:42.400Z"
   },
   {
    "duration": 9,
    "start_time": "2022-05-15T09:18:42.413Z"
   },
   {
    "duration": 11,
    "start_time": "2022-05-15T09:18:42.424Z"
   },
   {
    "duration": 11,
    "start_time": "2022-05-15T09:18:42.436Z"
   },
   {
    "duration": 33,
    "start_time": "2022-05-15T09:31:41.980Z"
   },
   {
    "duration": 4,
    "start_time": "2022-05-15T10:10:21.936Z"
   },
   {
    "duration": 14,
    "start_time": "2022-05-15T10:13:41.373Z"
   },
   {
    "duration": 4,
    "start_time": "2022-05-15T11:25:02.918Z"
   },
   {
    "duration": 1255,
    "start_time": "2022-05-15T11:38:22.624Z"
   },
   {
    "duration": 66,
    "start_time": "2022-05-15T11:38:23.882Z"
   },
   {
    "duration": 13,
    "start_time": "2022-05-15T11:38:23.950Z"
   },
   {
    "duration": 209,
    "start_time": "2022-05-15T11:38:23.965Z"
   },
   {
    "duration": 33,
    "start_time": "2022-05-15T11:38:24.177Z"
   },
   {
    "duration": 6,
    "start_time": "2022-05-15T11:38:24.212Z"
   },
   {
    "duration": 6,
    "start_time": "2022-05-15T11:38:24.220Z"
   },
   {
    "duration": 265,
    "start_time": "2022-05-15T11:38:24.228Z"
   },
   {
    "duration": 16,
    "start_time": "2022-05-15T11:38:24.496Z"
   },
   {
    "duration": 8,
    "start_time": "2022-05-15T11:38:24.514Z"
   },
   {
    "duration": 214,
    "start_time": "2022-05-15T11:38:24.524Z"
   },
   {
    "duration": 320,
    "start_time": "2022-05-15T11:38:24.740Z"
   },
   {
    "duration": 51,
    "start_time": "2022-05-15T11:38:25.062Z"
   },
   {
    "duration": 12,
    "start_time": "2022-05-15T11:38:25.116Z"
   },
   {
    "duration": 5,
    "start_time": "2022-05-15T11:38:25.129Z"
   },
   {
    "duration": 143,
    "start_time": "2022-05-15T11:38:25.136Z"
   },
   {
    "duration": 51,
    "start_time": "2022-05-15T11:38:25.281Z"
   },
   {
    "duration": 161,
    "start_time": "2022-05-15T11:38:25.334Z"
   },
   {
    "duration": 40,
    "start_time": "2022-05-15T11:38:25.497Z"
   },
   {
    "duration": 187,
    "start_time": "2022-05-15T11:38:25.539Z"
   },
   {
    "duration": 57,
    "start_time": "2022-05-15T11:38:25.728Z"
   },
   {
    "duration": 50,
    "start_time": "2022-05-15T11:38:25.786Z"
   },
   {
    "duration": 11,
    "start_time": "2022-05-15T11:38:25.838Z"
   },
   {
    "duration": 24,
    "start_time": "2022-05-15T11:38:25.851Z"
   },
   {
    "duration": 38,
    "start_time": "2022-05-15T11:38:25.877Z"
   },
   {
    "duration": 20,
    "start_time": "2022-05-15T11:38:25.917Z"
   },
   {
    "duration": 4,
    "start_time": "2022-05-15T11:38:25.939Z"
   },
   {
    "duration": 73,
    "start_time": "2022-05-15T11:38:25.944Z"
   },
   {
    "duration": 21,
    "start_time": "2022-05-15T11:38:26.019Z"
   },
   {
    "duration": 5,
    "start_time": "2022-05-15T11:38:26.042Z"
   },
   {
    "duration": 132,
    "start_time": "2022-05-15T11:38:26.048Z"
   },
   {
    "duration": 29,
    "start_time": "2022-05-15T11:38:26.182Z"
   },
   {
    "duration": 30,
    "start_time": "2022-05-15T11:38:26.213Z"
   },
   {
    "duration": 193,
    "start_time": "2022-05-15T11:38:26.245Z"
   },
   {
    "duration": 162,
    "start_time": "2022-05-15T11:38:26.441Z"
   },
   {
    "duration": 174,
    "start_time": "2022-05-15T11:38:26.605Z"
   },
   {
    "duration": 253,
    "start_time": "2022-05-15T11:38:26.781Z"
   },
   {
    "duration": 199,
    "start_time": "2022-05-15T11:38:27.035Z"
   },
   {
    "duration": 209,
    "start_time": "2022-05-15T11:38:27.236Z"
   },
   {
    "duration": 173,
    "start_time": "2022-05-15T11:38:27.447Z"
   },
   {
    "duration": 212,
    "start_time": "2022-05-15T11:38:27.624Z"
   },
   {
    "duration": 186,
    "start_time": "2022-05-15T11:38:27.837Z"
   },
   {
    "duration": 215,
    "start_time": "2022-05-15T11:38:28.025Z"
   },
   {
    "duration": 203,
    "start_time": "2022-05-15T11:38:28.242Z"
   },
   {
    "duration": 203,
    "start_time": "2022-05-15T11:38:28.447Z"
   },
   {
    "duration": 9,
    "start_time": "2022-05-15T11:38:28.652Z"
   },
   {
    "duration": 7,
    "start_time": "2022-05-15T11:38:28.663Z"
   },
   {
    "duration": 10,
    "start_time": "2022-05-15T11:38:28.672Z"
   },
   {
    "duration": 31,
    "start_time": "2022-05-15T11:38:28.684Z"
   },
   {
    "duration": 1924,
    "start_time": "2022-05-15T14:06:21.434Z"
   },
   {
    "duration": 123,
    "start_time": "2022-05-15T14:06:23.362Z"
   },
   {
    "duration": 20,
    "start_time": "2022-05-15T14:06:23.488Z"
   },
   {
    "duration": 506,
    "start_time": "2022-05-15T14:06:23.512Z"
   },
   {
    "duration": 46,
    "start_time": "2022-05-15T14:06:24.021Z"
   },
   {
    "duration": 8,
    "start_time": "2022-05-15T14:06:24.083Z"
   },
   {
    "duration": 8,
    "start_time": "2022-05-15T14:06:24.094Z"
   },
   {
    "duration": 592,
    "start_time": "2022-05-15T14:06:24.104Z"
   },
   {
    "duration": 9,
    "start_time": "2022-05-15T14:06:24.699Z"
   },
   {
    "duration": 9,
    "start_time": "2022-05-15T14:06:24.713Z"
   },
   {
    "duration": 425,
    "start_time": "2022-05-15T14:06:24.724Z"
   },
   {
    "duration": 453,
    "start_time": "2022-05-15T14:06:25.151Z"
   },
   {
    "duration": 54,
    "start_time": "2022-05-15T14:06:25.606Z"
   },
   {
    "duration": 31,
    "start_time": "2022-05-15T14:06:25.662Z"
   },
   {
    "duration": 7,
    "start_time": "2022-05-15T14:06:25.696Z"
   },
   {
    "duration": 266,
    "start_time": "2022-05-15T14:06:25.705Z"
   },
   {
    "duration": 101,
    "start_time": "2022-05-15T14:06:25.982Z"
   },
   {
    "duration": 338,
    "start_time": "2022-05-15T14:06:26.086Z"
   },
   {
    "duration": 73,
    "start_time": "2022-05-15T14:06:26.427Z"
   },
   {
    "duration": 362,
    "start_time": "2022-05-15T14:06:26.502Z"
   },
   {
    "duration": 128,
    "start_time": "2022-05-15T14:06:26.866Z"
   },
   {
    "duration": 59,
    "start_time": "2022-05-15T14:06:26.996Z"
   },
   {
    "duration": 37,
    "start_time": "2022-05-15T14:06:27.057Z"
   },
   {
    "duration": 44,
    "start_time": "2022-05-15T14:06:27.096Z"
   },
   {
    "duration": 59,
    "start_time": "2022-05-15T14:06:27.143Z"
   },
   {
    "duration": 37,
    "start_time": "2022-05-15T14:06:27.204Z"
   },
   {
    "duration": 6,
    "start_time": "2022-05-15T14:06:27.244Z"
   },
   {
    "duration": 111,
    "start_time": "2022-05-15T14:06:27.256Z"
   },
   {
    "duration": 31,
    "start_time": "2022-05-15T14:06:27.369Z"
   },
   {
    "duration": 7,
    "start_time": "2022-05-15T14:06:27.402Z"
   },
   {
    "duration": 2246,
    "start_time": "2022-05-15T14:06:27.411Z"
   },
   {
    "duration": 0,
    "start_time": "2022-05-15T14:06:29.660Z"
   },
   {
    "duration": 0,
    "start_time": "2022-05-15T14:06:29.662Z"
   },
   {
    "duration": 1,
    "start_time": "2022-05-15T14:06:29.663Z"
   },
   {
    "duration": 0,
    "start_time": "2022-05-15T14:06:29.665Z"
   },
   {
    "duration": 0,
    "start_time": "2022-05-15T14:06:29.666Z"
   },
   {
    "duration": 0,
    "start_time": "2022-05-15T14:06:29.668Z"
   },
   {
    "duration": 6,
    "start_time": "2022-05-15T14:07:44.518Z"
   },
   {
    "duration": 4,
    "start_time": "2022-05-15T14:08:09.592Z"
   },
   {
    "duration": 114,
    "start_time": "2022-05-15T14:08:09.599Z"
   },
   {
    "duration": 16,
    "start_time": "2022-05-15T14:08:09.716Z"
   },
   {
    "duration": 315,
    "start_time": "2022-05-15T14:08:09.735Z"
   },
   {
    "duration": 42,
    "start_time": "2022-05-15T14:08:10.053Z"
   },
   {
    "duration": 9,
    "start_time": "2022-05-15T14:08:10.098Z"
   },
   {
    "duration": 9,
    "start_time": "2022-05-15T14:08:10.110Z"
   },
   {
    "duration": 280,
    "start_time": "2022-05-15T14:08:10.121Z"
   },
   {
    "duration": 7,
    "start_time": "2022-05-15T14:08:10.404Z"
   },
   {
    "duration": 12,
    "start_time": "2022-05-15T14:08:10.414Z"
   },
   {
    "duration": 315,
    "start_time": "2022-05-15T14:08:10.431Z"
   },
   {
    "duration": 528,
    "start_time": "2022-05-15T14:08:10.749Z"
   },
   {
    "duration": 53,
    "start_time": "2022-05-15T14:08:11.283Z"
   },
   {
    "duration": 16,
    "start_time": "2022-05-15T14:08:11.338Z"
   },
   {
    "duration": 29,
    "start_time": "2022-05-15T14:08:11.357Z"
   },
   {
    "duration": 209,
    "start_time": "2022-05-15T14:08:11.388Z"
   },
   {
    "duration": 113,
    "start_time": "2022-05-15T14:08:11.600Z"
   },
   {
    "duration": 346,
    "start_time": "2022-05-15T14:08:11.716Z"
   },
   {
    "duration": 67,
    "start_time": "2022-05-15T14:08:12.064Z"
   },
   {
    "duration": 368,
    "start_time": "2022-05-15T14:08:12.134Z"
   },
   {
    "duration": 131,
    "start_time": "2022-05-15T14:08:12.505Z"
   },
   {
    "duration": 59,
    "start_time": "2022-05-15T14:08:12.639Z"
   },
   {
    "duration": 20,
    "start_time": "2022-05-15T14:08:12.700Z"
   },
   {
    "duration": 68,
    "start_time": "2022-05-15T14:08:12.723Z"
   },
   {
    "duration": 31,
    "start_time": "2022-05-15T14:08:12.794Z"
   },
   {
    "duration": 62,
    "start_time": "2022-05-15T14:08:12.828Z"
   },
   {
    "duration": 6,
    "start_time": "2022-05-15T14:08:12.893Z"
   },
   {
    "duration": 114,
    "start_time": "2022-05-15T14:08:12.901Z"
   },
   {
    "duration": 47,
    "start_time": "2022-05-15T14:08:13.022Z"
   },
   {
    "duration": 10,
    "start_time": "2022-05-15T14:08:13.071Z"
   },
   {
    "duration": 2145,
    "start_time": "2022-05-15T14:08:13.084Z"
   },
   {
    "duration": 0,
    "start_time": "2022-05-15T14:08:15.232Z"
   },
   {
    "duration": 0,
    "start_time": "2022-05-15T14:08:15.233Z"
   },
   {
    "duration": 0,
    "start_time": "2022-05-15T14:08:15.236Z"
   },
   {
    "duration": 0,
    "start_time": "2022-05-15T14:08:15.238Z"
   },
   {
    "duration": 1,
    "start_time": "2022-05-15T14:08:15.239Z"
   },
   {
    "duration": 0,
    "start_time": "2022-05-15T14:08:15.241Z"
   },
   {
    "duration": 6,
    "start_time": "2022-05-15T14:08:40.451Z"
   },
   {
    "duration": 4,
    "start_time": "2022-05-15T14:08:53.912Z"
   },
   {
    "duration": 107,
    "start_time": "2022-05-15T14:08:53.919Z"
   },
   {
    "duration": 16,
    "start_time": "2022-05-15T14:08:54.029Z"
   },
   {
    "duration": 315,
    "start_time": "2022-05-15T14:08:54.048Z"
   },
   {
    "duration": 36,
    "start_time": "2022-05-15T14:08:54.366Z"
   },
   {
    "duration": 11,
    "start_time": "2022-05-15T14:08:54.404Z"
   },
   {
    "duration": 9,
    "start_time": "2022-05-15T14:08:54.417Z"
   },
   {
    "duration": 265,
    "start_time": "2022-05-15T14:08:54.428Z"
   },
   {
    "duration": 8,
    "start_time": "2022-05-15T14:08:54.695Z"
   },
   {
    "duration": 15,
    "start_time": "2022-05-15T14:08:54.706Z"
   },
   {
    "duration": 351,
    "start_time": "2022-05-15T14:08:54.725Z"
   },
   {
    "duration": 550,
    "start_time": "2022-05-15T14:08:55.082Z"
   },
   {
    "duration": 62,
    "start_time": "2022-05-15T14:08:55.635Z"
   },
   {
    "duration": 15,
    "start_time": "2022-05-15T14:08:55.700Z"
   },
   {
    "duration": 6,
    "start_time": "2022-05-15T14:08:55.718Z"
   },
   {
    "duration": 203,
    "start_time": "2022-05-15T14:08:55.727Z"
   },
   {
    "duration": 84,
    "start_time": "2022-05-15T14:08:55.932Z"
   },
   {
    "duration": 247,
    "start_time": "2022-05-15T14:08:56.019Z"
   },
   {
    "duration": 59,
    "start_time": "2022-05-15T14:08:56.269Z"
   },
   {
    "duration": 263,
    "start_time": "2022-05-15T14:08:56.330Z"
   },
   {
    "duration": 89,
    "start_time": "2022-05-15T14:08:56.596Z"
   },
   {
    "duration": 33,
    "start_time": "2022-05-15T14:08:56.687Z"
   },
   {
    "duration": 14,
    "start_time": "2022-05-15T14:08:56.723Z"
   },
   {
    "duration": 60,
    "start_time": "2022-05-15T14:08:56.739Z"
   },
   {
    "duration": 26,
    "start_time": "2022-05-15T14:08:56.802Z"
   },
   {
    "duration": 57,
    "start_time": "2022-05-15T14:08:56.830Z"
   },
   {
    "duration": 6,
    "start_time": "2022-05-15T14:08:56.890Z"
   },
   {
    "duration": 82,
    "start_time": "2022-05-15T14:08:56.898Z"
   },
   {
    "duration": 30,
    "start_time": "2022-05-15T14:08:56.987Z"
   },
   {
    "duration": 7,
    "start_time": "2022-05-15T14:08:57.019Z"
   },
   {
    "duration": 223,
    "start_time": "2022-05-15T14:08:57.027Z"
   },
   {
    "duration": 34,
    "start_time": "2022-05-15T14:08:57.252Z"
   },
   {
    "duration": 41,
    "start_time": "2022-05-15T14:08:57.288Z"
   },
   {
    "duration": 293,
    "start_time": "2022-05-15T14:08:57.331Z"
   },
   {
    "duration": 345,
    "start_time": "2022-05-15T14:08:57.627Z"
   },
   {
    "duration": 360,
    "start_time": "2022-05-15T14:08:57.982Z"
   },
   {
    "duration": 506,
    "start_time": "2022-05-15T14:08:58.345Z"
   },
   {
    "duration": 295,
    "start_time": "2022-05-15T14:11:41.864Z"
   },
   {
    "duration": 291,
    "start_time": "2022-05-15T14:12:08.550Z"
   },
   {
    "duration": 395,
    "start_time": "2022-05-15T14:13:55.710Z"
   },
   {
    "duration": 427,
    "start_time": "2022-05-15T14:16:24.178Z"
   },
   {
    "duration": 403,
    "start_time": "2022-05-15T14:16:39.482Z"
   },
   {
    "duration": 331,
    "start_time": "2022-05-15T14:21:08.009Z"
   },
   {
    "duration": 135,
    "start_time": "2022-05-15T14:21:24.599Z"
   },
   {
    "duration": 158,
    "start_time": "2022-05-15T14:21:29.213Z"
   },
   {
    "duration": 366,
    "start_time": "2022-05-15T14:21:36.686Z"
   },
   {
    "duration": 338,
    "start_time": "2022-05-15T14:21:43.612Z"
   },
   {
    "duration": 318,
    "start_time": "2022-05-15T14:22:10.661Z"
   },
   {
    "duration": 343,
    "start_time": "2022-05-15T14:22:27.935Z"
   },
   {
    "duration": 429,
    "start_time": "2022-05-15T14:23:10.877Z"
   },
   {
    "duration": 303,
    "start_time": "2022-05-15T14:23:29.614Z"
   },
   {
    "duration": 269,
    "start_time": "2022-05-15T14:24:17.131Z"
   },
   {
    "duration": 311,
    "start_time": "2022-05-15T14:24:36.580Z"
   },
   {
    "duration": 269,
    "start_time": "2022-05-15T14:24:41.881Z"
   },
   {
    "duration": 303,
    "start_time": "2022-05-15T14:25:26.019Z"
   },
   {
    "duration": 284,
    "start_time": "2022-05-15T14:25:58.276Z"
   },
   {
    "duration": 306,
    "start_time": "2022-05-15T14:26:34.337Z"
   },
   {
    "duration": 303,
    "start_time": "2022-05-15T14:27:15.185Z"
   },
   {
    "duration": 444,
    "start_time": "2022-05-15T14:27:51.754Z"
   },
   {
    "duration": 305,
    "start_time": "2022-05-15T14:28:05.489Z"
   },
   {
    "duration": 304,
    "start_time": "2022-05-15T14:28:10.588Z"
   },
   {
    "duration": 17,
    "start_time": "2022-05-15T14:43:45.219Z"
   },
   {
    "duration": 52,
    "start_time": "2022-05-15T14:45:44.305Z"
   },
   {
    "duration": 1596,
    "start_time": "2022-05-15T15:11:00.169Z"
   },
   {
    "duration": 109,
    "start_time": "2022-05-15T15:11:01.768Z"
   },
   {
    "duration": 23,
    "start_time": "2022-05-15T15:11:01.880Z"
   },
   {
    "duration": 358,
    "start_time": "2022-05-15T15:11:01.907Z"
   },
   {
    "duration": 52,
    "start_time": "2022-05-15T15:11:02.267Z"
   },
   {
    "duration": 8,
    "start_time": "2022-05-15T15:11:02.322Z"
   },
   {
    "duration": 16,
    "start_time": "2022-05-15T15:11:02.333Z"
   },
   {
    "duration": 401,
    "start_time": "2022-05-15T15:11:02.352Z"
   },
   {
    "duration": 9,
    "start_time": "2022-05-15T15:11:02.755Z"
   },
   {
    "duration": 14,
    "start_time": "2022-05-15T15:11:02.781Z"
   },
   {
    "duration": 440,
    "start_time": "2022-05-15T15:11:02.797Z"
   },
   {
    "duration": 519,
    "start_time": "2022-05-15T15:11:03.239Z"
   },
   {
    "duration": 72,
    "start_time": "2022-05-15T15:11:03.761Z"
   },
   {
    "duration": 18,
    "start_time": "2022-05-15T15:11:03.836Z"
   },
   {
    "duration": 23,
    "start_time": "2022-05-15T15:11:03.857Z"
   },
   {
    "duration": 252,
    "start_time": "2022-05-15T15:11:03.883Z"
   },
   {
    "duration": 84,
    "start_time": "2022-05-15T15:11:04.138Z"
   },
   {
    "duration": 268,
    "start_time": "2022-05-15T15:11:04.224Z"
   },
   {
    "duration": 41,
    "start_time": "2022-05-15T15:11:04.495Z"
   },
   {
    "duration": 276,
    "start_time": "2022-05-15T15:11:04.539Z"
   },
   {
    "duration": 95,
    "start_time": "2022-05-15T15:11:04.818Z"
   },
   {
    "duration": 46,
    "start_time": "2022-05-15T15:11:04.915Z"
   },
   {
    "duration": 28,
    "start_time": "2022-05-15T15:11:04.964Z"
   },
   {
    "duration": 44,
    "start_time": "2022-05-15T15:11:04.995Z"
   },
   {
    "duration": 43,
    "start_time": "2022-05-15T15:11:05.041Z"
   },
   {
    "duration": 36,
    "start_time": "2022-05-15T15:11:05.086Z"
   },
   {
    "duration": 5,
    "start_time": "2022-05-15T15:11:05.124Z"
   },
   {
    "duration": 210,
    "start_time": "2022-05-15T15:11:05.137Z"
   },
   {
    "duration": 41,
    "start_time": "2022-05-15T15:11:05.349Z"
   },
   {
    "duration": 9,
    "start_time": "2022-05-15T15:11:05.392Z"
   },
   {
    "duration": 228,
    "start_time": "2022-05-15T15:11:05.403Z"
   },
   {
    "duration": 26,
    "start_time": "2022-05-15T15:11:05.634Z"
   },
   {
    "duration": 71,
    "start_time": "2022-05-15T15:11:05.663Z"
   },
   {
    "duration": 285,
    "start_time": "2022-05-15T15:11:05.737Z"
   },
   {
    "duration": 449,
    "start_time": "2022-05-15T15:11:06.024Z"
   },
   {
    "duration": 272,
    "start_time": "2022-05-15T15:11:06.475Z"
   },
   {
    "duration": 355,
    "start_time": "2022-05-15T15:11:06.750Z"
   },
   {
    "duration": 332,
    "start_time": "2022-05-15T15:11:07.108Z"
   },
   {
    "duration": 356,
    "start_time": "2022-05-15T15:11:07.442Z"
   },
   {
    "duration": 298,
    "start_time": "2022-05-15T15:11:07.801Z"
   },
   {
    "duration": 346,
    "start_time": "2022-05-15T15:11:08.102Z"
   },
   {
    "duration": 310,
    "start_time": "2022-05-15T15:11:08.451Z"
   },
   {
    "duration": 346,
    "start_time": "2022-05-15T15:11:08.764Z"
   },
   {
    "duration": 333,
    "start_time": "2022-05-15T15:11:09.112Z"
   },
   {
    "duration": 341,
    "start_time": "2022-05-15T15:11:09.447Z"
   },
   {
    "duration": 11,
    "start_time": "2022-05-15T15:11:09.795Z"
   },
   {
    "duration": 54,
    "start_time": "2022-05-15T15:11:09.809Z"
   },
   {
    "duration": 9,
    "start_time": "2022-05-15T15:11:09.882Z"
   },
   {
    "duration": 25,
    "start_time": "2022-05-15T15:11:09.897Z"
   },
   {
    "duration": 151,
    "start_time": "2022-05-15T15:11:09.924Z"
   },
   {
    "duration": 2100,
    "start_time": "2022-05-15T15:55:42.577Z"
   },
   {
    "duration": 91,
    "start_time": "2022-05-15T15:55:44.685Z"
   },
   {
    "duration": 20,
    "start_time": "2022-05-15T15:55:44.778Z"
   },
   {
    "duration": 347,
    "start_time": "2022-05-15T15:55:44.802Z"
   },
   {
    "duration": 46,
    "start_time": "2022-05-15T15:55:45.152Z"
   },
   {
    "duration": 10,
    "start_time": "2022-05-15T15:55:45.201Z"
   },
   {
    "duration": 16,
    "start_time": "2022-05-15T15:55:45.214Z"
   },
   {
    "duration": 403,
    "start_time": "2022-05-15T15:55:45.233Z"
   },
   {
    "duration": 9,
    "start_time": "2022-05-15T15:55:45.639Z"
   },
   {
    "duration": 57,
    "start_time": "2022-05-15T15:55:45.653Z"
   },
   {
    "duration": 411,
    "start_time": "2022-05-15T15:55:45.713Z"
   },
   {
    "duration": 483,
    "start_time": "2022-05-15T15:55:46.126Z"
   },
   {
    "duration": 78,
    "start_time": "2022-05-15T15:55:46.612Z"
   },
   {
    "duration": 22,
    "start_time": "2022-05-15T15:55:46.693Z"
   },
   {
    "duration": 3,
    "start_time": "2022-05-15T15:55:46.718Z"
   },
   {
    "duration": 208,
    "start_time": "2022-05-15T15:55:46.723Z"
   },
   {
    "duration": 86,
    "start_time": "2022-05-15T15:55:46.934Z"
   },
   {
    "duration": 245,
    "start_time": "2022-05-15T15:55:47.022Z"
   },
   {
    "duration": 57,
    "start_time": "2022-05-15T15:55:47.270Z"
   },
   {
    "duration": 280,
    "start_time": "2022-05-15T15:55:47.330Z"
   },
   {
    "duration": 97,
    "start_time": "2022-05-15T15:55:47.612Z"
   },
   {
    "duration": 44,
    "start_time": "2022-05-15T15:55:47.711Z"
   },
   {
    "duration": 43,
    "start_time": "2022-05-15T15:55:47.758Z"
   },
   {
    "duration": 51,
    "start_time": "2022-05-15T15:55:47.804Z"
   },
   {
    "duration": 49,
    "start_time": "2022-05-15T15:55:47.858Z"
   },
   {
    "duration": 38,
    "start_time": "2022-05-15T15:55:47.910Z"
   },
   {
    "duration": 32,
    "start_time": "2022-05-15T15:55:47.951Z"
   },
   {
    "duration": 73,
    "start_time": "2022-05-15T15:55:47.990Z"
   },
   {
    "duration": 47,
    "start_time": "2022-05-15T15:55:48.065Z"
   },
   {
    "duration": 7,
    "start_time": "2022-05-15T15:55:48.114Z"
   },
   {
    "duration": 328,
    "start_time": "2022-05-15T15:55:48.124Z"
   },
   {
    "duration": 48,
    "start_time": "2022-05-15T15:55:48.456Z"
   },
   {
    "duration": 47,
    "start_time": "2022-05-15T15:55:48.509Z"
   },
   {
    "duration": 300,
    "start_time": "2022-05-15T15:55:48.559Z"
   },
   {
    "duration": 260,
    "start_time": "2022-05-15T15:55:48.861Z"
   },
   {
    "duration": 354,
    "start_time": "2022-05-15T15:55:49.123Z"
   },
   {
    "duration": 278,
    "start_time": "2022-05-15T15:55:49.481Z"
   },
   {
    "duration": 328,
    "start_time": "2022-05-15T15:55:49.762Z"
   },
   {
    "duration": 340,
    "start_time": "2022-05-15T15:55:50.097Z"
   },
   {
    "duration": 298,
    "start_time": "2022-05-15T15:55:50.439Z"
   },
   {
    "duration": 346,
    "start_time": "2022-05-15T15:55:50.740Z"
   },
   {
    "duration": 300,
    "start_time": "2022-05-15T15:55:51.089Z"
   },
   {
    "duration": 331,
    "start_time": "2022-05-15T15:55:51.391Z"
   },
   {
    "duration": 340,
    "start_time": "2022-05-15T15:55:51.725Z"
   },
   {
    "duration": 441,
    "start_time": "2022-05-15T15:55:52.067Z"
   },
   {
    "duration": 12,
    "start_time": "2022-05-15T15:55:52.510Z"
   },
   {
    "duration": 95,
    "start_time": "2022-05-15T15:55:52.525Z"
   },
   {
    "duration": 8,
    "start_time": "2022-05-15T15:55:52.622Z"
   },
   {
    "duration": 21,
    "start_time": "2022-05-15T15:55:52.633Z"
   },
   {
    "duration": 33,
    "start_time": "2022-05-15T15:55:52.656Z"
   },
   {
    "duration": 154,
    "start_time": "2022-05-15T15:57:05.741Z"
   },
   {
    "duration": 24,
    "start_time": "2022-05-15T15:57:12.261Z"
   },
   {
    "duration": 1768,
    "start_time": "2022-05-15T16:04:40.088Z"
   },
   {
    "duration": 113,
    "start_time": "2022-05-15T16:04:41.860Z"
   },
   {
    "duration": 28,
    "start_time": "2022-05-15T16:04:41.976Z"
   },
   {
    "duration": 358,
    "start_time": "2022-05-15T16:04:42.007Z"
   },
   {
    "duration": 40,
    "start_time": "2022-05-15T16:04:42.368Z"
   },
   {
    "duration": 12,
    "start_time": "2022-05-15T16:04:42.410Z"
   },
   {
    "duration": 13,
    "start_time": "2022-05-15T16:04:42.424Z"
   },
   {
    "duration": 418,
    "start_time": "2022-05-15T16:04:42.438Z"
   },
   {
    "duration": 8,
    "start_time": "2022-05-15T16:04:42.858Z"
   },
   {
    "duration": 21,
    "start_time": "2022-05-15T16:04:42.868Z"
   },
   {
    "duration": 343,
    "start_time": "2022-05-15T16:04:42.892Z"
   },
   {
    "duration": 476,
    "start_time": "2022-05-15T16:04:43.237Z"
   },
   {
    "duration": 88,
    "start_time": "2022-05-15T16:04:43.716Z"
   },
   {
    "duration": 21,
    "start_time": "2022-05-15T16:04:43.814Z"
   },
   {
    "duration": 5,
    "start_time": "2022-05-15T16:04:43.837Z"
   },
   {
    "duration": 213,
    "start_time": "2022-05-15T16:04:43.845Z"
   },
   {
    "duration": 81,
    "start_time": "2022-05-15T16:04:44.061Z"
   },
   {
    "duration": 254,
    "start_time": "2022-05-15T16:04:44.144Z"
   },
   {
    "duration": 51,
    "start_time": "2022-05-15T16:04:44.400Z"
   },
   {
    "duration": 307,
    "start_time": "2022-05-15T16:04:44.453Z"
   },
   {
    "duration": 102,
    "start_time": "2022-05-15T16:04:44.762Z"
   },
   {
    "duration": 62,
    "start_time": "2022-05-15T16:04:44.867Z"
   },
   {
    "duration": 15,
    "start_time": "2022-05-15T16:04:44.931Z"
   },
   {
    "duration": 65,
    "start_time": "2022-05-15T16:04:44.949Z"
   },
   {
    "duration": 26,
    "start_time": "2022-05-15T16:04:45.018Z"
   },
   {
    "duration": 67,
    "start_time": "2022-05-15T16:04:45.047Z"
   },
   {
    "duration": 4,
    "start_time": "2022-05-15T16:04:45.117Z"
   },
   {
    "duration": 74,
    "start_time": "2022-05-15T16:04:45.124Z"
   },
   {
    "duration": 37,
    "start_time": "2022-05-15T16:04:45.200Z"
   },
   {
    "duration": 7,
    "start_time": "2022-05-15T16:04:45.239Z"
   },
   {
    "duration": 331,
    "start_time": "2022-05-15T16:04:45.249Z"
   },
   {
    "duration": 34,
    "start_time": "2022-05-15T16:04:45.589Z"
   },
   {
    "duration": 44,
    "start_time": "2022-05-15T16:04:45.625Z"
   },
   {
    "duration": 272,
    "start_time": "2022-05-15T16:04:45.681Z"
   },
   {
    "duration": 257,
    "start_time": "2022-05-15T16:04:45.955Z"
   },
   {
    "duration": 267,
    "start_time": "2022-05-15T16:04:46.215Z"
   },
   {
    "duration": 352,
    "start_time": "2022-05-15T16:04:46.486Z"
   },
   {
    "duration": 435,
    "start_time": "2022-05-15T16:04:46.841Z"
   },
   {
    "duration": 450,
    "start_time": "2022-05-15T16:04:47.283Z"
   },
   {
    "duration": 398,
    "start_time": "2022-05-15T16:04:47.736Z"
   },
   {
    "duration": 451,
    "start_time": "2022-05-15T16:04:48.142Z"
   },
   {
    "duration": 297,
    "start_time": "2022-05-15T16:04:48.597Z"
   },
   {
    "duration": 332,
    "start_time": "2022-05-15T16:04:48.901Z"
   },
   {
    "duration": 338,
    "start_time": "2022-05-15T16:04:49.236Z"
   },
   {
    "duration": 345,
    "start_time": "2022-05-15T16:04:49.577Z"
   },
   {
    "duration": 11,
    "start_time": "2022-05-15T16:04:49.924Z"
   },
   {
    "duration": 77,
    "start_time": "2022-05-15T16:04:49.937Z"
   },
   {
    "duration": 7,
    "start_time": "2022-05-15T16:04:50.016Z"
   },
   {
    "duration": 22,
    "start_time": "2022-05-15T16:04:50.025Z"
   },
   {
    "duration": 162,
    "start_time": "2022-05-15T16:04:50.049Z"
   }
  ],
  "kernelspec": {
   "display_name": "Python 3 (ipykernel)",
   "language": "python",
   "name": "python3"
  },
  "language_info": {
   "codemirror_mode": {
    "name": "ipython",
    "version": 3
   },
   "file_extension": ".py",
   "mimetype": "text/x-python",
   "name": "python",
   "nbconvert_exporter": "python",
   "pygments_lexer": "ipython3",
   "version": "3.10.7"
  },
  "toc": {
   "base_numbering": 1,
   "nav_menu": {},
   "number_sections": true,
   "sideBar": true,
   "skip_h1_title": true,
   "title_cell": "Table of Contents",
   "title_sidebar": "Contents",
   "toc_cell": false,
   "toc_position": {},
   "toc_section_display": true,
   "toc_window_display": false
  },
  "varInspector": {
   "cols": {
    "lenName": 16,
    "lenType": 16,
    "lenVar": 40
   },
   "kernels_config": {
    "python": {
     "delete_cmd_postfix": "",
     "delete_cmd_prefix": "del ",
     "library": "var_list.py",
     "varRefreshCmd": "print(var_dic_list())"
    },
    "r": {
     "delete_cmd_postfix": ") ",
     "delete_cmd_prefix": "rm(",
     "library": "var_list.r",
     "varRefreshCmd": "cat(var_dic_list()) "
    }
   },
   "types_to_exclude": [
    "module",
    "function",
    "builtin_function_or_method",
    "instance",
    "_Feature"
   ],
   "window_display": false
  }
 },
 "nbformat": 4,
 "nbformat_minor": 5
}
