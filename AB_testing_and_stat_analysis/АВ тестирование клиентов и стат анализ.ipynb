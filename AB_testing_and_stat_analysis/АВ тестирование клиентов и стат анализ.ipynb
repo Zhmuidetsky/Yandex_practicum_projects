{
 "cells": [
  {
   "cell_type": "markdown",
   "id": "4afc8590",
   "metadata": {},
   "source": [
    "# **Проект A/B-тестирования действий пользователей, связанных с внедрением улучшенной рекомендательной системы**"
   ]
  },
  {
   "cell_type": "markdown",
   "id": "57777595",
   "metadata": {},
   "source": [
    "## План исследования \n",
    "\n",
    "Работать с данными будем в следующем порядке:\n",
    " - данные о датасете\n",
    " - подготовка данных\n",
    " - оценка коррекции проведения теста\n",
    " - исследовательский анализ данных\n",
    " - оценка результатов А/В теста\n",
    " - общий вывод исследования"
   ]
  },
  {
   "cell_type": "markdown",
   "id": "5c9d76e9",
   "metadata": {},
   "source": [
    "## Цель исследования\n"
   ]
  },
  {
   "cell_type": "markdown",
   "id": "7e6cf1a8",
   "metadata": {},
   "source": [
    "Целью исследования являются:\n",
    "- оценить корректность проведения теста\n",
    "- проанализировать результаты теста\n",
    "\n",
    "Ожидания от теста -  за 14 дней с момента регистрации пользователи покажут улучшение каждой метрики не менее, чем на 10%: \n",
    "-\tконверсии в просмотр карточек товаров — событие product_page,\n",
    "-\tпросмотры корзины — product_cart,\n",
    "-\tпокупки — purchase.\n"
   ]
  },
  {
   "cell_type": "markdown",
   "id": "416edbb1",
   "metadata": {},
   "source": [
    "## Техническое задание\n",
    "\n",
    "- Название теста: `recommender_system_test`;\n",
    "- группы: А — контрольная, B — новая платёжная воронка;\n",
    "- дата запуска: 2020-12-07;\n",
    "- дата остановки набора новых пользователей: 2020-12-21;\n",
    "- дата остановки: 2021-01-04;\n",
    "- аудитория: 15% новых пользователей из региона EU;\n",
    "- назначение теста: тестирование изменений, связанных с внедрением улучшенной рекомендательной системы;\n",
    "- ожидаемое количество участников теста: 6000.\n",
    "- ожидаемый эффект: за 14 дней с момента регистрации пользователи покажут улучшение каждой метрики не менее, чем на 10%:\n",
    "    - конверсии в просмотр карточек товаров — событие `product_page`,\n",
    "    - просмотры корзины — `product_cart`,\n",
    "    - покупки — `purchase`"
   ]
  },
  {
   "cell_type": "markdown",
   "id": "287c1f9b",
   "metadata": {},
   "source": [
    "## Описание данных\n",
    "\n",
    "`ab_project_marketing_events.csv` — календарь маркетинговых событий на 2020 год.\n",
    "\n",
    "Структура файла:\n",
    "\n",
    "- `name` — название маркетингового события;\n",
    "- `regions` — регионы, в которых будет проводиться рекламная кампания;\n",
    "- `start_dt` — дата начала кампании;\n",
    "- `finish_dt` — дата завершения кампании.\n",
    "\n",
    "`final_ab_new_users.csv` — пользователи, зарегистрировавшиеся с 7 по 21 декабря 2020 года.\n",
    "\n",
    "Структура файла:\n",
    "\n",
    "- `user_id` — идентификатор пользователя;\n",
    "- `first_date` — дата регистрации;\n",
    "- `region` — регион пользователя;\n",
    "- `device` — устройство, с которого происходила регистрация.\n",
    "\n",
    "`final_ab_events.csv` — действия новых пользователей в период с 7 декабря 2020 по 4 января 2021 года.\n",
    "\n",
    "Структура файла:\n",
    "\n",
    "- `user_id` — идентификатор пользователя;\n",
    "- `event_dt` — дата и время покупки;\n",
    "- `event_name` — тип события;\n",
    "- `details` — дополнительные данные о событии. Например, для покупок, `purchase,` в этом поле хранится стоимость покупки в долларах.\n",
    "\n",
    "`final_ab_participants.csv` — таблица участников тестов.\n",
    "\n",
    "Структура файла:\n",
    "\n",
    "- `user_id` — идентификатор пользователя;\n",
    "- `ab_test` — название теста;\n",
    "- `group` — группа пользователя."
   ]
  },
  {
   "cell_type": "markdown",
   "id": "6315ea72",
   "metadata": {},
   "source": [
    "## Подготовка данных"
   ]
  },
  {
   "cell_type": "code",
   "execution_count": null,
   "id": "6c09c088",
   "metadata": {},
   "outputs": [],
   "source": [
    "# перед началом работы импортируем библиотеки, которые могут понадобиться в работе над проектом\n",
    "\n",
    "import pandas as pd\n",
    "\n",
    "import math\n",
    "\n",
    "import numpy as np\n",
    "\n",
    "from matplotlib import pyplot as plt\n",
    "\n",
    "from scipy import stats as st\n",
    "\n",
    "import seaborn as sns\n",
    "\n",
    "import scipy.stats as stats\n",
    "\n",
    "import plotly.express as px\n",
    "\n",
    "import plotly.graph_objs as go\n",
    "\n",
    "from plotly.subplots import make_subplots\n",
    "\n",
    "import requests \n",
    "\n",
    "from urllib.parse import urlencode \n",
    "\n",
    "import re\n",
    "\n",
    "from calendar import day_name\n",
    "\n",
    "%matplotlib inline"
   ]
  },
  {
   "cell_type": "code",
   "execution_count": null,
   "id": "e254aa27",
   "metadata": {},
   "outputs": [],
   "source": [
    "# откроем файлы\n",
    "# используя конструкцию try-ecxept для возможности открыть локально и с внешнего источника\n",
    "try:\n",
    "    mark_events = pd.read_csv(\n",
    "        r'C:\\Users\\rosto\\OneDrive\\Документы\\Learning_is_the_light\\Projects_and_data\\Выпускной проект\\А-В тест\\ab_project_marketing_events.csv', sep=',')\n",
    "    ab_events = pd.read_csv(\n",
    "        r'C:\\Users\\rosto\\OneDrive\\Документы\\Learning_is_the_light\\Projects_and_data\\Выпускной проект\\А-В тест\\final_ab_events.csv', sep=',')\n",
    "    new_users = pd.read_csv(\n",
    "        r'C:\\Users\\rosto\\OneDrive\\Документы\\Learning_is_the_light\\Projects_and_data\\Выпускной проект\\А-В тест\\final_ab_new_users.csv', sep=',')\n",
    "    participants = pd.read_csv(\n",
    "        r'C:\\Users\\rosto\\OneDrive\\Документы\\Learning_is_the_light\\Projects_and_data\\Выпускной проект\\А-В тест\\final_ab_participants.csv', sep=',')\n",
    "except:\n",
    "\n",
    "    # используем api\n",
    "    base_url = 'https://cloud-api.yandex.net/v1/disk/public/resources/download?'\n",
    "    public_key = 'https://disk.yandex.ru/d/gJQQR1lCJ3pAkg'\n",
    "    # получаем url\n",
    "    final_url = base_url + urlencode(dict(public_key=public_key))\n",
    "    response = requests.get(final_url)\n",
    "    download_url = response.json()['href']\n",
    "    # загружаем файл в df\n",
    "    download_response = requests.get(download_url)\n",
    "    mark_events = pd.read_csv(download_url)\n",
    "    \n",
    "    public_key = 'https://disk.yandex.ru/d/py_jSsn_0NbOlg'\n",
    "    # получаем url\n",
    "    final_url = base_url + urlencode(dict(public_key=public_key))\n",
    "    response = requests.get(final_url)\n",
    "    download_url = response.json()['href']\n",
    "    # загружаем файл в df\n",
    "    download_response = requests.get(download_url)\n",
    "    ab_events = pd.read_csv(download_url)\n",
    "    \n",
    "    public_key = 'https://disk.yandex.ru/d/j31YNvragOty9A'\n",
    "    # получаем url\n",
    "    final_url = base_url + urlencode(dict(public_key=public_key))\n",
    "    response = requests.get(final_url)\n",
    "    download_url = response.json()['href']\n",
    "    # загружаем файл в df\n",
    "    download_response = requests.get(download_url)\n",
    "    new_users = pd.read_csv(download_url)\n",
    "    \n",
    "    public_key = 'https://disk.yandex.ru/d/F-Xyn02AhX3T1w'\n",
    "    # получаем url\n",
    "    final_url = base_url + urlencode(dict(public_key=public_key))\n",
    "    response = requests.get(final_url)\n",
    "    download_url = response.json()['href']\n",
    "    # загружаем файл в df\n",
    "    download_response = requests.get(download_url)\n",
    "    participants = pd.read_csv(download_url)\n",
    "\n",
    "# увеличим ширину колонки, что бы иметь возможность видеть все наименование продукта полностью\n",
    "pd.options.display.max_colwidth = 150"
   ]
  },
  {
   "cell_type": "markdown",
   "id": "cd6566f0",
   "metadata": {},
   "source": [
    "Посмотрим на каждый из датасетов."
   ]
  },
  {
   "cell_type": "code",
   "execution_count": null,
   "id": "dfc19f9d",
   "metadata": {
    "scrolled": false
   },
   "outputs": [],
   "source": [
    "# веведем часть дф и информацию о нем\n",
    "display(mark_events.head())\n",
    "mark_events.info()"
   ]
  },
  {
   "cell_type": "markdown",
   "id": "c9826213",
   "metadata": {},
   "source": [
    "В датафрейме необходимо сделать следующие преобразования:\n",
    "- значения в столбцах имени  привести к строчным буквам\n",
    "- название региона пока оставим без изменений\n",
    "- значения в столбцах начала и окончания кампании привести в формат даты"
   ]
  },
  {
   "cell_type": "code",
   "execution_count": null,
   "id": "960b55b0",
   "metadata": {},
   "outputs": [],
   "source": [
    "mark_events['finish_dt'] = pd.to_datetime(mark_events['finish_dt'])\n",
    "mark_events['start_dt'] = pd.to_datetime(mark_events['start_dt'])"
   ]
  },
  {
   "cell_type": "code",
   "execution_count": null,
   "id": "621c7b20",
   "metadata": {
    "scrolled": true
   },
   "outputs": [],
   "source": [
    "# проверим наличие пропусков\n",
    "mark_events.isna().sum()"
   ]
  },
  {
   "cell_type": "code",
   "execution_count": null,
   "id": "7327ebe2",
   "metadata": {},
   "outputs": [],
   "source": [
    "# и проверим наличие дубликатов\n",
    "mark_events.duplicated().sum()"
   ]
  },
  {
   "cell_type": "markdown",
   "id": "a4c085ed",
   "metadata": {},
   "source": [
    "Дубликатов и пропусков в этом датафрейме не обнаружено"
   ]
  },
  {
   "cell_type": "code",
   "execution_count": null,
   "id": "06a525d4",
   "metadata": {
    "scrolled": true
   },
   "outputs": [],
   "source": [
    "# веведем часть дф и информацию о нем\n",
    "display(ab_events.head())\n",
    "ab_events.info()"
   ]
  },
  {
   "cell_type": "markdown",
   "id": "67e5dfc4",
   "metadata": {},
   "source": [
    "В датафрейме евентов необходимо только привести столбец даты события в формат даты"
   ]
  },
  {
   "cell_type": "code",
   "execution_count": null,
   "id": "8057980a",
   "metadata": {},
   "outputs": [],
   "source": [
    "ab_events['event_dt'] = pd.to_datetime(ab_events['event_dt'])"
   ]
  },
  {
   "cell_type": "code",
   "execution_count": null,
   "id": "dac8290a",
   "metadata": {
    "scrolled": false
   },
   "outputs": [],
   "source": [
    "ab_events.isna().sum()"
   ]
  },
  {
   "cell_type": "markdown",
   "id": "e3be812b",
   "metadata": {},
   "source": [
    "Видим большое количество пропусков в столбце details. Посмотрим более детально на то, где есть пропуски."
   ]
  },
  {
   "cell_type": "code",
   "execution_count": null,
   "id": "ffd8f1d4",
   "metadata": {},
   "outputs": [],
   "source": [
    "# применим логическую индексацию по пропускам в столбце\n",
    "ab_events[ab_events['details'].isna()]"
   ]
  },
  {
   "cell_type": "code",
   "execution_count": null,
   "id": "1c083b14",
   "metadata": {},
   "outputs": [],
   "source": [
    "# сгруппируем дф по событию и посчитаем среднее значение столбца деталей\n",
    "ab_events.groupby('event_name')['details'].mean()"
   ]
  },
  {
   "cell_type": "markdown",
   "id": "ee81adc0",
   "metadata": {},
   "source": [
    "Видим, что отсутствуют значения, соответствующие событиям не связанным с покупкой, это вход, открытие страницы продукта или списка продуктов.\n",
    "\n",
    "Заменим отсутствующие значения на нули"
   ]
  },
  {
   "cell_type": "code",
   "execution_count": null,
   "id": "f420a6b4",
   "metadata": {},
   "outputs": [],
   "source": [
    "ab_events['details'] = ab_events['details'].fillna(0)\n",
    "ab_events.isna().sum()"
   ]
  },
  {
   "cell_type": "code",
   "execution_count": null,
   "id": "c9f8ad1c",
   "metadata": {},
   "outputs": [],
   "source": [
    "mark_events.duplicated().sum()"
   ]
  },
  {
   "cell_type": "markdown",
   "id": "32c255ac",
   "metadata": {},
   "source": [
    "Пропуски и дубликаты в датафрейме событий отсутствуют."
   ]
  },
  {
   "cell_type": "code",
   "execution_count": null,
   "id": "50e150ac",
   "metadata": {
    "scrolled": true
   },
   "outputs": [],
   "source": [
    "# веведем часть дф и информацию о нем\n",
    "display(new_users.head())\n",
    "new_users.info()"
   ]
  },
  {
   "cell_type": "markdown",
   "id": "1260bfd3",
   "metadata": {},
   "source": [
    "Столбец даты регистрации необходимо привести к формату даты, для столбцов региона и устройства проверить, какие там есть значения и не требуют ли они преобразования"
   ]
  },
  {
   "cell_type": "code",
   "execution_count": null,
   "id": "4a648f23",
   "metadata": {},
   "outputs": [],
   "source": [
    "new_users['first_date'] = pd.to_datetime(new_users['first_date'])"
   ]
  },
  {
   "cell_type": "code",
   "execution_count": null,
   "id": "1b9ea561",
   "metadata": {
    "scrolled": true
   },
   "outputs": [],
   "source": [
    "# посмотрим на то, какие регионы есть в дф и сколько\n",
    "new_users['region'].value_counts()"
   ]
  },
  {
   "cell_type": "code",
   "execution_count": null,
   "id": "e799377d",
   "metadata": {
    "scrolled": false
   },
   "outputs": [],
   "source": [
    "# посмотрим на то, какие устройства фигурируют в дф и сколько\n",
    "new_users['device'].value_counts()"
   ]
  },
  {
   "cell_type": "markdown",
   "id": "73e495a2",
   "metadata": {},
   "source": [
    "В этих столбцах значения не будем приводить к строчным буквам."
   ]
  },
  {
   "cell_type": "code",
   "execution_count": null,
   "id": "54b448ea",
   "metadata": {},
   "outputs": [],
   "source": [
    "ab_events.isna().sum()"
   ]
  },
  {
   "cell_type": "code",
   "execution_count": null,
   "id": "0331d140",
   "metadata": {},
   "outputs": [],
   "source": [
    "mark_events.duplicated().sum()"
   ]
  },
  {
   "cell_type": "markdown",
   "id": "32945cb2",
   "metadata": {},
   "source": [
    "Пропусков и дубликатов в датафрейме нет."
   ]
  },
  {
   "cell_type": "code",
   "execution_count": null,
   "id": "46bbfd6e",
   "metadata": {
    "scrolled": false
   },
   "outputs": [],
   "source": [
    "# веведем часть дф и информацию о нем\n",
    "display(participants.head())\n",
    "participants.info()"
   ]
  },
  {
   "cell_type": "code",
   "execution_count": null,
   "id": "e8d8b726",
   "metadata": {},
   "outputs": [],
   "source": [
    "participants['group'].value_counts()"
   ]
  },
  {
   "cell_type": "code",
   "execution_count": null,
   "id": "73384b31",
   "metadata": {
    "scrolled": true
   },
   "outputs": [],
   "source": [
    "participants['ab_test'].value_counts()"
   ]
  },
  {
   "cell_type": "code",
   "execution_count": null,
   "id": "d9d01bc4",
   "metadata": {
    "scrolled": true
   },
   "outputs": [],
   "source": [
    "participants.isna().sum()"
   ]
  },
  {
   "cell_type": "code",
   "execution_count": null,
   "id": "da8d9ce5",
   "metadata": {},
   "outputs": [],
   "source": [
    "participants.duplicated().sum()"
   ]
  },
  {
   "cell_type": "markdown",
   "id": "4a80bae8",
   "metadata": {},
   "source": [
    "В рамках предобработки датафреймов:\n",
    "- во всех столбцах, где это было необходимо, изменили данные о датах на корректный формат. \n",
    "- проверили наличие пропусков и в датафрейме событий заменили пропуски нулями\n",
    "- убедились в отсутствии дубликатов\n",
    "- проверили, что бы значения в столбцах региона, устройства пользователя, группы теста не содержали неявных дубликатов\n",
    "\n",
    "Данные подготовлены для дальнейшего анализа."
   ]
  },
  {
   "cell_type": "markdown",
   "id": "060ca208",
   "metadata": {},
   "source": [
    "# **Проверка данных на соответствие техническим условиям** "
   ]
  },
  {
   "cell_type": "markdown",
   "id": "2caf9f21",
   "metadata": {},
   "source": [
    "## Изучение и проверка логов событий"
   ]
  },
  {
   "cell_type": "markdown",
   "id": "42fc0bdd",
   "metadata": {},
   "source": [
    "Посмотрим более детально на данные по событиям, а именно проверим:\n",
    "- сколько событий есть в данных\n",
    "- сколько уникальных пользователей есть в данных\n",
    "- сколько событий они совершают"
   ]
  },
  {
   "cell_type": "code",
   "execution_count": null,
   "id": "d19addcd",
   "metadata": {},
   "outputs": [],
   "source": [
    "# посчитаем общее количество событий в дф\n",
    "ab_events['event_name'].count()"
   ]
  },
  {
   "cell_type": "code",
   "execution_count": null,
   "id": "7be84f28",
   "metadata": {},
   "outputs": [],
   "source": [
    "# посчитаем количество уникальных пользователей\n",
    "ab_events['user_id'].nunique()"
   ]
  },
  {
   "cell_type": "code",
   "execution_count": null,
   "id": "959c968f",
   "metadata": {},
   "outputs": [],
   "source": [
    "# сформируем таблицу с количеством событий на одного пользователя\n",
    "aver_event = ab_events.groupby('user_id')['event_name'].count().reset_index()\n",
    "# и выведем информацию по  событиям\n",
    "aver_event['event_name'].describe()"
   ]
  },
  {
   "cell_type": "markdown",
   "id": "5207c2f2",
   "metadata": {},
   "source": [
    "В данных есть информация о 440 тыс событий и 58,8 тыс уникальных пользователей. Среднее количество событий на одного пользователя 7,5, минимальное 1, максимальное 36"
   ]
  },
  {
   "cell_type": "code",
   "execution_count": null,
   "id": "71c99f28",
   "metadata": {
    "scrolled": true
   },
   "outputs": [],
   "source": [
    "# построим диаграмму размаха для данных о количестве действий\n",
    "fig = px.box(aver_event, x = 'event_name' )\n",
    "fig.update_layout(xaxis_title=\"Количество событий на одного пользователя\",\n",
    "                  height=300,  # установим размер графика\n",
    "                  width=700)\n",
    "fig.show()"
   ]
  },
  {
   "cell_type": "code",
   "execution_count": null,
   "id": "8f27f9f7",
   "metadata": {},
   "outputs": [],
   "source": [
    "# посчитаем персентили по количеству заказов\n",
    "print(np.percentile(aver_event['event_name'], [90, 95, 99])) "
   ]
  },
  {
   "cell_type": "markdown",
   "id": "3beacb67",
   "metadata": {},
   "source": [
    "Менее одного процента пользователей делали более 20 операций. Посмотрим для примера на действия того, у кого больше всего операций в приложении."
   ]
  },
  {
   "cell_type": "code",
   "execution_count": null,
   "id": "d1d6a6e0",
   "metadata": {},
   "outputs": [],
   "source": [
    "# получим номер устройства клиента с максимальным количеством действий\n",
    "aver_event.loc[aver_event['event_name'].idxmax()]"
   ]
  },
  {
   "cell_type": "code",
   "execution_count": null,
   "id": "9ffea4a3",
   "metadata": {
    "scrolled": true
   },
   "outputs": [],
   "source": [
    "# выделим в отдельный датафрейм действия пользователя с максимальным количеством действий\n",
    "max_event = ab_events.query('user_id == \"A3917F81482141F2\"')\n",
    "# и посмотрим, как они были распределены во времени\n",
    "\n",
    "fig = px.histogram(max_event, x='event_dt',  title='Гистограмма кол-ва событий по датам')\n",
    "\n",
    "fig.update_layout(yaxis_title=\"Количество событий\",\n",
    "                  xaxis_title=\"Дата\",\n",
    "                  height=400,  # установим размер графика\n",
    "                  width=800)\n",
    "\n",
    "fig.show()"
   ]
  },
  {
   "cell_type": "markdown",
   "id": "d8011ec7",
   "metadata": {},
   "source": [
    "Хотя пользователи, совершившие более 20 событий превышают 99 перцентиль, количество таких пользователей относительно общего их количества крайне мало, и анализ их поведения во времени показывает, что они совершали действия в течении длительного, около 30 дней, периода. Также стоит учесть, что одна из оцениваемых метрик это конверсия, на которую пользователи с большим количеством действий не повлияют,  считать таких пользователей аномальными не буду и оставлю в датафрейме."
   ]
  },
  {
   "cell_type": "code",
   "execution_count": null,
   "id": "bacd5ba5",
   "metadata": {},
   "outputs": [],
   "source": [
    "# проверим минимальную и максимальные даты совершения событий в данных\n",
    "print('Дата самого раннего события', ab_events['event_dt'].min())\n",
    "print('Дата самого позднего события', ab_events['event_dt'].max())\n"
   ]
  },
  {
   "cell_type": "code",
   "execution_count": null,
   "id": "6c43ce52",
   "metadata": {},
   "outputs": [],
   "source": [
    "# проверим распределение событий по дням на гистограмме\n",
    "fig = px.histogram(ab_events, x='event_dt',  title='Гистограмма кол-ва событий по датам')\n",
    "\n",
    "fig.update_layout(yaxis_title=\"Количество событий\",\n",
    "                  xaxis_title=\"Дата\",\n",
    "                  height=500,  # установим размер графика\n",
    "                  width=900)\n",
    "\n",
    "fig.show()"
   ]
  },
  {
   "cell_type": "markdown",
   "id": "ec970737",
   "metadata": {},
   "source": [
    "По техническим  условиям теста\n",
    "- дата запуска: 2020-12-07;\n",
    "- дата остановки набора новых пользователей: 2020-12-21\n",
    "- остановка теста 2021-01-04\n",
    "- ожидаемый эффект должен проявляться в течении 14 дней после регистрации\n",
    "\n",
    "\n",
    "На гистограмме и по максимальной дате в датафрейме мы видим, что после 29-го декабря событый в логе практически нет, кроме единичных действий 30 декабря. Видимо тест был прерван раньше, либо история событий не была сохранена, или она не была передана нам. \n",
    "\n",
    "Мы не знаем причину отсутствия данных, но так как наша задача - сравнить относительные показатели между группами, на которые отсутствие информации повлияет одинаково, пока просто примем это во внимание.\n",
    "\n",
    "В списке совершенных действий необходимо оставить только те, которые произошли в течении 14 дней после регистрации.\n"
   ]
  },
  {
   "cell_type": "code",
   "execution_count": null,
   "id": "fec9c6e1",
   "metadata": {},
   "outputs": [],
   "source": [
    "# присоединим колонку first_date из дф новых пользователей методом inner\n",
    "# что бы в дф остались только те пользователи, которые есть в обоих дф\n",
    "# таким образом останутся только пользователи из EU и с датой регистрации до 16-го декабря\n",
    "ab_events = ab_events.merge(new_users[['user_id', 'first_date']], on = 'user_id', how = 'inner')"
   ]
  },
  {
   "cell_type": "code",
   "execution_count": null,
   "id": "c00f6719",
   "metadata": {
    "scrolled": true
   },
   "outputs": [],
   "source": [
    "# посчитаем время от момента регистрации до времени совершения события\n",
    "ab_events['life_time'] = ab_events['event_dt'] - ab_events['first_date']\n",
    "# приведем его к целому дню\n",
    "ab_events['life_time'] = ab_events['life_time'].astype('timedelta64[D]')\n",
    "ab_events.head()"
   ]
  },
  {
   "cell_type": "code",
   "execution_count": null,
   "id": "5001a1e4",
   "metadata": {
    "scrolled": true
   },
   "outputs": [],
   "source": [
    "# и удалим из дф данные о событиях, которые произошли после 14 дней после регистрации\n",
    "ab_events = ab_events.query('life_time < 15')"
   ]
  },
  {
   "cell_type": "markdown",
   "id": "8de44ed9",
   "metadata": {},
   "source": [
    "Таким образом в данный момент в датафрейме событий остались только те действия, которые совершались в течении 14 дней после регистрации."
   ]
  },
  {
   "cell_type": "code",
   "execution_count": null,
   "id": "21c032aa",
   "metadata": {
    "scrolled": true
   },
   "outputs": [],
   "source": [
    "# проверим распределение событий по дням на гистограмме в обновленном датафрейме\n",
    "fig = px.histogram(ab_events, x='event_dt',  title='Гистограмма кол-ва событий по датам')\n",
    "\n",
    "fig.update_layout(yaxis_title=\"Количество событий\",\n",
    "                  xaxis_title=\"Дата\",\n",
    "                  height=500,  # установим размер графика\n",
    "                  width=900)\n",
    "\n",
    "fig.show()"
   ]
  },
  {
   "cell_type": "markdown",
   "id": "39eefee7",
   "metadata": {},
   "source": [
    "На графике видим большее, чем до обработки, падение количества действий после 24-го декабря, что связано с удалением действий, совершенный ранее зарегистрированными клиентами после 14 дней после регистрации."
   ]
  },
  {
   "cell_type": "markdown",
   "id": "22312870",
   "metadata": {},
   "source": [
    "## Проверка пересечения теста с другими активностями"
   ]
  },
  {
   "cell_type": "code",
   "execution_count": null,
   "id": "58378f22",
   "metadata": {
    "scrolled": true
   },
   "outputs": [],
   "source": [
    "# выведем проведенные рекламные компании\n",
    "mark_events"
   ]
  },
  {
   "cell_type": "markdown",
   "id": "1320112b",
   "metadata": {},
   "source": [
    "Видим, что кампания рождественского и новогоднего промо началась тогда, когда шел АВ тест. Набор новых пользователей в этот момент уже не проводился,  стартовавшее промо должно было повлиять на обе группы теста одинаково, поэтому до появления дополнительных данных не будем сокращать рассматриваемый период и клиентов.\n"
   ]
  },
  {
   "cell_type": "markdown",
   "id": "ee331c76",
   "metadata": {},
   "source": [
    "## Проверка корректности распределения клиентов по группам"
   ]
  },
  {
   "cell_type": "code",
   "execution_count": null,
   "id": "3e3a3a0c",
   "metadata": {
    "scrolled": true
   },
   "outputs": [],
   "source": [
    "participants"
   ]
  },
  {
   "cell_type": "markdown",
   "id": "dc362ae3",
   "metadata": {},
   "source": [
    "Название нашего теста - recommender_system_test. Посмотрим, данные о скольки тестах есть в данных и сколько в них участников."
   ]
  },
  {
   "cell_type": "code",
   "execution_count": null,
   "id": "523ece80",
   "metadata": {
    "scrolled": true
   },
   "outputs": [],
   "source": [
    "participants.groupby('ab_test')['group'].count()"
   ]
  },
  {
   "cell_type": "code",
   "execution_count": null,
   "id": "fb40bbdf",
   "metadata": {},
   "outputs": [],
   "source": [
    "participants.groupby(['ab_test', 'group'])['user_id'].count()"
   ]
  },
  {
   "cell_type": "markdown",
   "id": "a344990f",
   "metadata": {},
   "source": [
    "Видим 6701 участник нашего теста и 11567 какого-то другого теста.  Распределение в нашем тесте неравномерное между группами, группа В меньше группы А. Проверим, нет ли пересечений по участию в тестах или участников, которые попали в обе группы."
   ]
  },
  {
   "cell_type": "code",
   "execution_count": null,
   "id": "60a036f2",
   "metadata": {
    "scrolled": true
   },
   "outputs": [],
   "source": [
    "# для этого сгруппируем данные по пользователю, посчитаем сколько раз он принимал участие в тестах\n",
    "# и сразу оставим только тех, кто есть в данных более двух раз\n",
    "participants_wrong = participants.groupby('user_id')['ab_test'].count().reset_index().query('ab_test > 1')\n",
    "participants_wrong.info()"
   ]
  },
  {
   "cell_type": "markdown",
   "id": "172257b4",
   "metadata": {},
   "source": [
    "У нас выявились 1602 участника, которые принимали участие в двух тестах одновременно. Мы не знаем, в чем была суть теста interface_eu_test и могло ли участие в нем повлиять на метрики нашего теста, перед принятием решения проверим, какое количество пользователей из группы Б второго теста были участниками групп А и В нашего теста."
   ]
  },
  {
   "cell_type": "code",
   "execution_count": null,
   "id": "cb663114",
   "metadata": {
    "scrolled": true
   },
   "outputs": [],
   "source": [
    "# веделим в однельный датафрейм пользователей из группы А нашего теста\n",
    "participants_A_test = participants.query('group == \"A\" and ab_test == \"recommender_system_test\"')\n",
    "\n",
    "# веделим в однельный датафрейм пользователей из группы В нашего теста\n",
    "participants_B_test = participants.query('group == \"B\" and ab_test == \"recommender_system_test\"')\n",
    "\n",
    "# выделим в отдельный дф пользователей группы В второго теста\n",
    "participants_B_wrong_test = participants.query('group == \"B\" and ab_test == \"interface_eu_test\"')"
   ]
  },
  {
   "cell_type": "code",
   "execution_count": null,
   "id": "a0b4f468",
   "metadata": {
    "scrolled": true
   },
   "outputs": [],
   "source": [
    "# присоединим к участникам группы А нашего теста их участие в группе В второго теста\n",
    "participants_A_test = participants_A_test.merge(participants_B_wrong_test[['user_id', 'ab_test']], on = 'user_id', how = 'left')\n",
    "# и посчитаем, сколько участников принимало участие во втором тесте\n",
    "participants_A_test.groupby('group')[['ab_test_x', 'ab_test_y' ]].count()"
   ]
  },
  {
   "cell_type": "markdown",
   "id": "81dab652",
   "metadata": {},
   "source": [
    "439 участников группы А принимало участие в группе В второго теста, это 11,4%"
   ]
  },
  {
   "cell_type": "code",
   "execution_count": null,
   "id": "f506c45d",
   "metadata": {},
   "outputs": [],
   "source": [
    "participants_B_test = participants_B_test.merge(participants_B_wrong_test[['user_id', 'ab_test']], on = 'user_id', how = 'left')\n",
    "participants_B_test.groupby('group')[['ab_test_x', 'ab_test_y' ]].count()"
   ]
  },
  {
   "cell_type": "markdown",
   "id": "d56d1f1d",
   "metadata": {},
   "source": [
    "344 участника группы В нашего теста принимали участие во втором тесте в группе В, это 11,9%.\n",
    "\n",
    "Так как доли участников второго теста одинаковы в обеих группах нашего теста, мы можем сделать вывод, что второй тест влиял на  результаты участников в равной степени и не должен сказаться на итоговых результатах нашего теста.\n",
    "\n",
    "Таким образом решение - оставить всех участников нашего теста, 6701 человека."
   ]
  },
  {
   "cell_type": "code",
   "execution_count": null,
   "id": "a9430234",
   "metadata": {
    "scrolled": true
   },
   "outputs": [],
   "source": [
    "# удалим участников второго теста из дф участников\n",
    "participants = participants.query('ab_test == \"recommender_system_test\"')\n",
    "participants.info()"
   ]
  },
  {
   "cell_type": "markdown",
   "id": "3b03515c",
   "metadata": {},
   "source": [
    "## Проверка, все ли пользователи совершали действия"
   ]
  },
  {
   "cell_type": "markdown",
   "id": "e63bef1d",
   "metadata": {},
   "source": [
    "Для такой проверки посчитаем, сколько действий совершил каждый пользователь и присоединим эти данные к списку пользователей теста"
   ]
  },
  {
   "cell_type": "code",
   "execution_count": null,
   "id": "87ef7799",
   "metadata": {},
   "outputs": [],
   "source": [
    "# сгруппируем количество событий по пользователю\n",
    "user_event_grouped = ab_events.groupby('user_id')['event_name'].count().reset_index()\n",
    "# сформируем дф с количеством событий на каждого пользователя - участника теста\n",
    "test_user_events = participants.merge(user_event_grouped, on = 'user_id', how = 'left')\n",
    "# заполним пропуски нулями, для тех кто не совершил ни одного действия\n",
    "test_user_events['event_name'] = test_user_events['event_name'].fillna(0)\n",
    "test_user_events.head()"
   ]
  },
  {
   "cell_type": "code",
   "execution_count": null,
   "id": "2d0c87e5",
   "metadata": {
    "scrolled": false
   },
   "outputs": [],
   "source": [
    "# отобразим активность пользователей на гистограмме\n",
    "fig = go.Figure(data=[go.Histogram(x=test_user_events['event_name'])])\n",
    "fig.update_layout(\n",
    "    title=\"Гистограмма количества действий пользователей\",\n",
    "    title_x = 0.5,\n",
    "    xaxis_title=\"Количество действий\",\n",
    "    yaxis_title=\"Количество пользователей\")\n",
    "fig.show()"
   ]
  },
  {
   "cell_type": "markdown",
   "id": "bcf9850c",
   "metadata": {},
   "source": [
    "Видим 3026 пользователей, которые не совершили ни одного действия, кроме собственно регистрации. Посмотрим, как эти пользователе распределены между группами."
   ]
  },
  {
   "cell_type": "code",
   "execution_count": null,
   "id": "fb1984bd",
   "metadata": {},
   "outputs": [],
   "source": [
    "test_user_events.query('group == \"A\" and event_name == 0').shape[0]"
   ]
  },
  {
   "cell_type": "code",
   "execution_count": null,
   "id": "7cdc5b85",
   "metadata": {},
   "outputs": [],
   "source": [
    "test_user_events.query('group == \"B\" and event_name == 0').shape[0]"
   ]
  },
  {
   "cell_type": "markdown",
   "id": "82611e6c",
   "metadata": {},
   "source": [
    "В группе А 1077 пользователей из 3824 (28%) не совершали никаких действий после регистрации. В группе В 1949 из 2877 (67%) не совершали никаких действий. Такое различие в неактивных пользователях будет заранее определять различие в долях пользователей на каждом этапе воронки в тестовой и контрольной группах, поэтому удалим таких пользователей из дальнейшего рассмотрения."
   ]
  },
  {
   "cell_type": "code",
   "execution_count": null,
   "id": "7d7cf839",
   "metadata": {
    "scrolled": true
   },
   "outputs": [],
   "source": [
    "# удалим из датафрейма всех, у кого собития = 0\n",
    "test_user_events = test_user_events.query('event_name > 0')\n",
    "# и посмотрим, сколько осталось пользователей в группах\n",
    "test_user_events.groupby('group')['user_id'].count()"
   ]
  },
  {
   "cell_type": "markdown",
   "id": "b1ef2950",
   "metadata": {},
   "source": [
    "Группа В после удаления пользователей без действий стала в три раза меньше группы А. Также общее количество участников теста стало 3675, что значительно меньше требуемого условиями теста количества 6000 человек."
   ]
  },
  {
   "cell_type": "markdown",
   "id": "26ee1e27",
   "metadata": {},
   "source": [
    "## Проверка доли пользователей требуемого региона"
   ]
  },
  {
   "cell_type": "markdown",
   "id": "9fac199d",
   "metadata": {},
   "source": [
    "По условиям теста участники должны составлять 15% от всех новых пользователей из Европы."
   ]
  },
  {
   "cell_type": "code",
   "execution_count": null,
   "id": "ed13650d",
   "metadata": {
    "scrolled": true
   },
   "outputs": [],
   "source": [
    "# посчитаем количество новых пользователей по регионам\n",
    "new_users.groupby('region')['user_id'].count()"
   ]
  },
  {
   "cell_type": "markdown",
   "id": "f9f460d0",
   "metadata": {},
   "source": [
    "В регионе EU  зарегисрировалось 46 270 новых пользователей. 15% от этого числа это 6 940 человек. В начальной выборке теста было 6701 пользователь, но в текущей, после удаления пользователей, не совершавших действия, осталось 3675 человек, что составляет 8% от всех новых пользователей. Это не удовлетворяет условиям теста, но мы продолжим исследование и учтем это в выводах."
   ]
  },
  {
   "cell_type": "markdown",
   "id": "2820a3b7",
   "metadata": {},
   "source": [
    "## Выводы по итогам проверки данных"
   ]
  },
  {
   "cell_type": "markdown",
   "id": "0a84f5d3",
   "metadata": {},
   "source": [
    "В рамках проверки данные на соответствие условиям теста выяснили следующие факты:\n",
    "- в логах содержится информация только до 30.12.2020, в то время как по условиям теста он должен был продолжаться до 4-го января\n",
    "- количество пользователей в группах неодинаковое\n",
    "- тест пересекался с рекламной кампанией, предполагается что кампания оказала равное влияние на участников обеих групп\n",
    "- некоторые участники теста принимали участие в другом тесте. Анализ доли участников показал, что участников нашего теста второй тест затронул равномерно в обеих группах, и мы не стали удалять таких участников\n",
    "- ряд пользователей не совершал после регистрации никаких действий, причем доля таких пользователей в группе В значительно больше, чем в группе А, и такое различие повлияло бы на результаты теста, поэтому таких пользователей удалили из дальнейшего рассмотрения\n",
    "- после этого удаления общее  количество участников теста стало значительно меньше условий, и распределение между группами стало еще более неравномерным\n",
    "\n",
    "Однако продолжим исследование и позже оценим мощность теста с помощью стороннего ресурса."
   ]
  },
  {
   "cell_type": "markdown",
   "id": "9bf11a8e",
   "metadata": {},
   "source": [
    "# Исследовательский анализ данных"
   ]
  },
  {
   "cell_type": "markdown",
   "id": "b3b6f875",
   "metadata": {},
   "source": [
    "## Количество событий на пользователя"
   ]
  },
  {
   "cell_type": "code",
   "execution_count": null,
   "id": "c47669cd",
   "metadata": {
    "scrolled": true
   },
   "outputs": [],
   "source": [
    "# посмотрим сколько в среднем событий приходится на одного пользователя в каждой группе\n",
    "test_user_events.groupby('group')['event_name'].mean().reset_index()"
   ]
  },
  {
   "cell_type": "markdown",
   "id": "eee5d1ea",
   "metadata": {},
   "source": [
    "В группе А на одного пользователя приходится в среднем 6,8 действий, в группе В 5,5"
   ]
  },
  {
   "cell_type": "markdown",
   "id": "3250c07e",
   "metadata": {},
   "source": [
    "## Распределение событий в выборках по дням"
   ]
  },
  {
   "cell_type": "code",
   "execution_count": null,
   "id": "bc9f69de",
   "metadata": {},
   "outputs": [],
   "source": [
    "# уберем из файла событий ненужный уже лайфтайм и дату первой регистрации\n",
    "ab_events = ab_events.drop(['first_date', 'life_time'], axis=1)"
   ]
  },
  {
   "cell_type": "code",
   "execution_count": null,
   "id": "84fa898c",
   "metadata": {
    "scrolled": false
   },
   "outputs": [],
   "source": [
    "# добавим группу участника теста к данным о его действиях\n",
    "ab_events = ab_events.merge(test_user_events[['user_id', 'group']], on = 'user_id')\n",
    "ab_events"
   ]
  },
  {
   "cell_type": "code",
   "execution_count": null,
   "id": "10c6d64f",
   "metadata": {
    "scrolled": true
   },
   "outputs": [],
   "source": [
    "fig = go.Figure()\n",
    "fig.add_trace(go.Histogram(x=ab_events.query('group == \"A\"')['event_dt'], name='Группа А'))\n",
    "fig.add_trace(go.Histogram(x=ab_events.query('group == \"B\"')['event_dt'], name='Группа В'))\n",
    "fig.update_layout(\n",
    "    title=\"Распределение событий по времени в группах А и В\",\n",
    "    title_x = 0.5,\n",
    "    xaxis_title=\"Дата\",\n",
    "    yaxis_title=\"Количество событий\",\n",
    "    legend=dict(x=.5, xanchor=\"center\", orientation=\"v\"),\n",
    "    margin=dict(l=0, r=0, t=30, b=0))\n",
    "\n",
    "fig.show()"
   ]
  },
  {
   "cell_type": "markdown",
   "id": "f125043f",
   "metadata": {},
   "source": [
    "С первых дней теста и до 13-го декабря количество событий в каждой из групп сопоставимо друг с другом, начиная с 14-го декабря количество событий в группе А значительно растет, тогда как в группе В оно остается на примерно том же уровне, что и ранее. Ранее мы видели, что в группе А значительно больше пользователей, и теперь мы видим когда начало проявляться это изменение."
   ]
  },
  {
   "cell_type": "markdown",
   "id": "d732b795",
   "metadata": {},
   "source": [
    "## Динамика конверсии по воронке"
   ]
  },
  {
   "cell_type": "markdown",
   "id": "6976d7f3",
   "metadata": {},
   "source": [
    "Сначала посмотрим на общую воронку для обеих групп"
   ]
  },
  {
   "cell_type": "code",
   "execution_count": null,
   "id": "e94be8d1",
   "metadata": {},
   "outputs": [],
   "source": [
    "# сгруппируем события по их наименованию и посчитаем как часто они встречаются\n",
    "grouped_events = ab_events.groupby('event_name')['user_id'].count().reset_index().sort_values(by='user_id', ascending=False) # отсортируем по убыванию частоты\n",
    "grouped_events"
   ]
  },
  {
   "cell_type": "markdown",
   "id": "7bbffb69",
   "metadata": {},
   "source": [
    "Чаще встрего встречается событие входа, потом отображение страницы продукта. Событие покупки встречается чаще, чем просмотр корзины. Это может быть связано с тем, что у клиента есть возможность приобретать продукт не добавляя его в корзину."
   ]
  },
  {
   "cell_type": "markdown",
   "id": "26ac88f2",
   "metadata": {},
   "source": [
    "Посчитаем, сколько пользователей совершали каждое из этих событий, и долю пользователей, которые хоть раз совершали событие"
   ]
  },
  {
   "cell_type": "code",
   "execution_count": null,
   "id": "65c6b34c",
   "metadata": {
    "scrolled": true
   },
   "outputs": [],
   "source": [
    "# создадим датафрейм с количеством каждого события, вычислив его по количеству уникальных пользователей\n",
    "events_share = ab_events.groupby('event_name')['user_id'].nunique().reset_index().sort_values(by='user_id', ascending=False)\n",
    "# переименуем столбцы\n",
    "events_share.columns = ['event_name', 'events_quantity']\n",
    "# посчитаем долю пользователей, хоть раз совершивших событие\n",
    "# для этого разделим количество событий уникальных пользователей на общее количество уникальных пользователей\n",
    "events_share['events_share'] = round(events_share['events_quantity']/ab_events['user_id'].nunique()*100, 1)\n",
    "events_share"
   ]
  },
  {
   "cell_type": "markdown",
   "id": "f3238272",
   "metadata": {},
   "source": [
    "100% пользователей осуществляет вход, 62,7% заходят на страницу товара, 30,7 совершают покупку и 29,4 заходят в корзину. Это подтверждает предположение о том, что можно совершить покупку минуя заход в корзину."
   ]
  },
  {
   "cell_type": "markdown",
   "id": "6d91c665",
   "metadata": {},
   "source": [
    "Сформируем данные по событиям в каждой группе."
   ]
  },
  {
   "cell_type": "code",
   "execution_count": null,
   "id": "e453d182",
   "metadata": {},
   "outputs": [],
   "source": [
    "# сгруппируем события по группе, посчитаем количество уникальных пользователей на каждом этапе\n",
    "grouped_events_by_group = ab_events.pivot_table(\n",
    "    index='group', columns='event_name', values='user_id', aggfunc='nunique')\n",
    "grouped_events_by_group"
   ]
  },
  {
   "cell_type": "code",
   "execution_count": null,
   "id": "d9ebaa5d",
   "metadata": {},
   "outputs": [],
   "source": [
    "# для удобства дальнейшей работы транспонируем эту таблицу\n",
    "grouped_events_by_group_t = grouped_events_by_group.T.reset_index()"
   ]
  },
  {
   "cell_type": "code",
   "execution_count": null,
   "id": "e5437b84",
   "metadata": {
    "scrolled": false
   },
   "outputs": [],
   "source": [
    "# и переименуем столбцы\n",
    "grouped_events_by_group_t.columns = ['event_name', 'group_A', 'group_B']\n",
    "grouped_events_by_group_t.reset_index()\n",
    "grouped_events_by_group_t"
   ]
  },
  {
   "cell_type": "code",
   "execution_count": null,
   "id": "cdbe414b",
   "metadata": {},
   "outputs": [],
   "source": [
    "# изменим последовательность строк в соответствии с воронкой действий\n",
    "grouped_events_by_group_t = grouped_events_by_group_t.loc[[0, 2, 1, 3]]\n",
    "grouped_events_by_group_t"
   ]
  },
  {
   "cell_type": "code",
   "execution_count": null,
   "id": "21383a01",
   "metadata": {
    "scrolled": false
   },
   "outputs": [],
   "source": [
    "# отобразим воронку конверсии для групп на графике\n",
    "fig = go.Figure()\n",
    "for i in ['group_A', 'group_B']:\n",
    "    fig.add_trace(go.Funnel(\n",
    "        name = str(i),\n",
    "        y = grouped_events_by_group_t['event_name'],\n",
    "        x = grouped_events_by_group_t[i],\n",
    "        textposition = \"inside\",\n",
    "        textinfo = \"value+percent initial+percent previous\")\n",
    "                 )\n",
    "    fig.update_layout(\n",
    "    title_text='Воронка событий для исследуемых групп',\n",
    "    title_x=0.5,\n",
    "    # установим размер графика    \n",
    "    height=500,  \n",
    "    width=1100,\n",
    "    legend=dict(x=.5, xanchor=\"center\", orientation=\"h\")\n",
    "    )\n",
    "fig.show()"
   ]
  },
  {
   "cell_type": "markdown",
   "id": "e7a2d2e1",
   "metadata": {},
   "source": [
    "Воронка событий для рассматриваемых групп показывает:\n",
    "- как мы видели ранее размеры групп разные, группа А значительно больше\n",
    "- ожидаемого улучшения метрик конверсии не поизошло, на всех этапах она в группе В хуже, чем в группе А"
   ]
  },
  {
   "cell_type": "markdown",
   "id": "dc60478f",
   "metadata": {},
   "source": [
    "# Статистическая значимость разницы"
   ]
  },
  {
   "cell_type": "markdown",
   "id": "c92797cf",
   "metadata": {},
   "source": [
    "От проводимого теста ожидали следующий эффект: за 14 дней с момента регистрации пользователи покажут улучшение каждой метрики не менее, чем на 10%: \n",
    "-\tконверсии в просмотр карточек товаров — событие product_page,\n",
    "-\tпросмотры корзины — product_cart,\n",
    "-\tпокупки — purchase.\n",
    "\n",
    "\n",
    "Сформулируем нулевую гипотезу, которую будем проверять. Статистически значимых отличий в конверсии пользователей на каждом этапе  взаимодействия  - НЕТ. Альтернативная гипотеза - статистически значимые различия в конверсии есть.\n",
    "\n",
    "Для проверки будем использовать z-тест для пропорций, который подходит для сравнения конверсий в двух группах, понимая под конверсией отношение количества пользователей на каждом событии к общему количеству пользователей."
   ]
  },
  {
   "cell_type": "code",
   "execution_count": null,
   "id": "5e3086ce",
   "metadata": {
    "scrolled": true
   },
   "outputs": [],
   "source": [
    "# импортируем необходимый статистический тест\n",
    "from statsmodels.stats.proportion import proportions_ztest\n",
    "from termcolor import colored\n",
    "\n",
    "# зададим уровень статистической значимости\n",
    "alpha = 0.05\n",
    "\n",
    "# напишем цикл перебора индексов в таблице groups_conv_t\n",
    "# для проверки статистической разницы для каждого этапа\n",
    "for i in [2, 1, 3]:\n",
    "\n",
    "    # в переменную count запишем данные по количеству пользователей на каждом этапе\n",
    "    count = np.array([grouped_events_by_group_t.loc[i, 'group_A'],\n",
    "                     grouped_events_by_group_t.loc[i, 'group_B']])\n",
    "    # в перем nobs запишем общее количество членов группы\n",
    "    nobs = np.array([grouped_events_by_group_t.loc[0, 'group_A'],\n",
    "                    grouped_events_by_group_t.loc[0, 'group_B']])\n",
    "\n",
    "    stat, pval = proportions_ztest(count, nobs)  # запустим z-тест\n",
    "\n",
    "    print('p-значение для:',\n",
    "          grouped_events_by_group_t.loc[i, 'event_name'], '{0:0.5f}'.format(pval))\n",
    "\n",
    "    if pval < alpha:\n",
    "        print(colored(\n",
    "            f\"Отвергаем нулевую гипотезу, конверсия в  {grouped_events_by_group_t.loc[i,'event_name']} в группах разные \\n\", 'red'))\n",
    "    else:\n",
    "        print(colored(\n",
    "            f\"Не получилось отвергнуть нулевую гипотезу, конверсия в {grouped_events_by_group_t.loc[i,'event_name']} в группах  одинаковые \\n\", 'green'))"
   ]
  },
  {
   "cell_type": "markdown",
   "id": "f9bfbc0c",
   "metadata": {},
   "source": [
    "По результатам оценки статистической значимости различий z-тест показал таковую для конверсии в переход на страницу товара и для конверсии в покупку, при этом из анализа воронки действий мы знаем, что для группы В эта конверсия ниже, чем для группы А, то есть показатели ухудшились. \n",
    "\n",
    "Перед тем как делать выводы оценим мощность теста"
   ]
  },
  {
   "cell_type": "markdown",
   "id": "2ccd7f87",
   "metadata": {},
   "source": [
    "# **Оценка мощности теста**"
   ]
  },
  {
   "attachments": {
    "AB%20test.PNG": {
     "image/png": "[encoded data removed]"
    }
   },
   "cell_type": "markdown",
   "id": "c9936cc9",
   "metadata": {},
   "source": [
    "С помощью сервиса abtestguide оценим исходные данные и результаты нашего теста. Ознакомиться с результатами можно по ссылке \n",
    "https://abtestguide.com/calc/?ua=2747&ub=927&ca=872&cb=265 \n",
    "\n",
    "![AB%20test.PNG](attachment:AB%20test.PNG)"
   ]
  },
  {
   "cell_type": "markdown",
   "id": "b61e7f36",
   "metadata": {},
   "source": [
    "Сервис сообщает нам, что результаты не имеют значения, нам нужно собрать больше данных, а также указывает нам на то, что выборки в группах А и В разные по размеру."
   ]
  },
  {
   "cell_type": "markdown",
   "id": "16650937",
   "metadata": {},
   "source": [
    "# **Общий вывод исследования**"
   ]
  },
  {
   "cell_type": "markdown",
   "id": "71a65c4e",
   "metadata": {},
   "source": [
    "Главный вывод исследования - на основании имеющихся данных принимать решение нельзя. \n",
    "\n",
    "Группа пользователей В показывает худшие результаты конверсии в покупку, по сравнению с группой А, но с учетом выявленных особенностей данных, а именно:\n",
    "- сбор данных прекращен ранее даты окончания теста\n",
    "- группы А и В = неодинаковы по размеру, группа А была больше\n",
    "- в данных по группам А и В была информация о пользователях, не совершивших никаких действий (28 и 67% соответственно)\n",
    "- удаление таких пользователей привело к еще большей разнице в размере групп\n",
    "вероятно эти результаты некорректны.\n",
    "\n",
    "Рекомендация - тест прекратить, вариант измененной рекомендательной системы пока отключить. Провести проверку системы распределения пользователей по группам, и после ее настройки провести тест повторно."
   ]
  }
 ],
 "metadata": {
  "ExecuteTimeLog": [
   {
    "duration": 1248,
    "start_time": "2022-09-18T23:07:59.487Z"
   },
   {
    "duration": 3719,
    "start_time": "2022-09-18T23:08:00.738Z"
   },
   {
    "duration": 19,
    "start_time": "2022-09-18T23:08:04.459Z"
   },
   {
    "duration": 5,
    "start_time": "2022-09-18T23:08:04.479Z"
   },
   {
    "duration": 11,
    "start_time": "2022-09-18T23:08:04.486Z"
   },
   {
    "duration": 8,
    "start_time": "2022-09-18T23:08:04.498Z"
   },
   {
    "duration": 88,
    "start_time": "2022-09-18T23:08:04.507Z"
   },
   {
    "duration": 115,
    "start_time": "2022-09-18T23:08:04.597Z"
   },
   {
    "duration": 87,
    "start_time": "2022-09-18T23:08:04.714Z"
   },
   {
    "duration": 34,
    "start_time": "2022-09-18T23:08:04.804Z"
   },
   {
    "duration": 89,
    "start_time": "2022-09-18T23:08:04.840Z"
   },
   {
    "duration": 98,
    "start_time": "2022-09-18T23:08:04.931Z"
   },
   {
    "duration": 5,
    "start_time": "2022-09-18T23:08:05.031Z"
   },
   {
    "duration": 73,
    "start_time": "2022-09-18T23:08:05.037Z"
   },
   {
    "duration": 12,
    "start_time": "2022-09-18T23:08:05.112Z"
   },
   {
    "duration": 9,
    "start_time": "2022-09-18T23:08:05.125Z"
   },
   {
    "duration": 64,
    "start_time": "2022-09-18T23:08:05.135Z"
   },
   {
    "duration": 39,
    "start_time": "2022-09-18T23:08:05.201Z"
   },
   {
    "duration": 57,
    "start_time": "2022-09-18T23:08:05.242Z"
   },
   {
    "duration": 24,
    "start_time": "2022-09-18T23:08:05.301Z"
   },
   {
    "duration": 8,
    "start_time": "2022-09-18T23:08:05.327Z"
   },
   {
    "duration": 61,
    "start_time": "2022-09-18T23:08:05.336Z"
   },
   {
    "duration": 9,
    "start_time": "2022-09-18T23:08:05.399Z"
   },
   {
    "duration": 10,
    "start_time": "2022-09-18T23:08:05.410Z"
   },
   {
    "duration": 15,
    "start_time": "2022-09-18T23:08:05.422Z"
   },
   {
    "duration": 186,
    "start_time": "2022-09-18T23:08:05.439Z"
   },
   {
    "duration": 291,
    "start_time": "2022-09-18T23:08:05.627Z"
   },
   {
    "duration": 1120,
    "start_time": "2022-09-18T23:08:05.921Z"
   },
   {
    "duration": 6,
    "start_time": "2022-09-18T23:08:07.095Z"
   },
   {
    "duration": 8,
    "start_time": "2022-09-18T23:08:07.103Z"
   },
   {
    "duration": 197,
    "start_time": "2022-09-18T23:08:07.112Z"
   },
   {
    "duration": 6,
    "start_time": "2022-09-18T23:08:07.310Z"
   },
   {
    "duration": 10865,
    "start_time": "2022-09-18T23:08:07.318Z"
   },
   {
    "duration": 1514,
    "start_time": "2022-09-19T08:15:03.007Z"
   },
   {
    "duration": 4340,
    "start_time": "2022-09-19T08:15:04.523Z"
   },
   {
    "duration": 25,
    "start_time": "2022-09-19T08:15:08.864Z"
   },
   {
    "duration": 8,
    "start_time": "2022-09-19T08:15:08.890Z"
   },
   {
    "duration": 7,
    "start_time": "2022-09-19T08:15:08.906Z"
   },
   {
    "duration": 8,
    "start_time": "2022-09-19T08:15:08.914Z"
   },
   {
    "duration": 84,
    "start_time": "2022-09-19T08:15:08.924Z"
   },
   {
    "duration": 113,
    "start_time": "2022-09-19T08:15:09.012Z"
   },
   {
    "duration": 35,
    "start_time": "2022-09-19T08:15:09.127Z"
   },
   {
    "duration": 48,
    "start_time": "2022-09-19T08:15:09.164Z"
   },
   {
    "duration": 36,
    "start_time": "2022-09-19T08:15:09.214Z"
   },
   {
    "duration": 69,
    "start_time": "2022-09-19T08:15:09.252Z"
   },
   {
    "duration": 5,
    "start_time": "2022-09-19T08:15:09.322Z"
   },
   {
    "duration": 22,
    "start_time": "2022-09-19T08:15:09.330Z"
   },
   {
    "duration": 46,
    "start_time": "2022-09-19T08:15:09.353Z"
   },
   {
    "duration": 22,
    "start_time": "2022-09-19T08:15:09.406Z"
   },
   {
    "duration": 12,
    "start_time": "2022-09-19T08:15:09.430Z"
   },
   {
    "duration": 69,
    "start_time": "2022-09-19T08:15:09.443Z"
   },
   {
    "duration": 7,
    "start_time": "2022-09-19T08:15:09.514Z"
   },
   {
    "duration": 28,
    "start_time": "2022-09-19T08:15:09.523Z"
   },
   {
    "duration": 8,
    "start_time": "2022-09-19T08:15:09.553Z"
   },
   {
    "duration": 13,
    "start_time": "2022-09-19T08:15:09.579Z"
   },
   {
    "duration": 28,
    "start_time": "2022-09-19T08:15:09.594Z"
   },
   {
    "duration": 13,
    "start_time": "2022-09-19T08:15:09.624Z"
   },
   {
    "duration": 17,
    "start_time": "2022-09-19T08:15:09.638Z"
   },
   {
    "duration": 98,
    "start_time": "2022-09-19T08:15:09.657Z"
   },
   {
    "duration": 177,
    "start_time": "2022-09-19T08:15:09.757Z"
   },
   {
    "duration": 3081,
    "start_time": "2022-09-19T08:15:09.936Z"
   },
   {
    "duration": 9,
    "start_time": "2022-09-19T08:15:13.018Z"
   },
   {
    "duration": 50,
    "start_time": "2022-09-19T08:15:13.029Z"
   },
   {
    "duration": 216,
    "start_time": "2022-09-19T08:15:13.088Z"
   },
   {
    "duration": 12,
    "start_time": "2022-09-19T08:15:13.305Z"
   },
   {
    "duration": 12169,
    "start_time": "2022-09-19T08:15:13.319Z"
   },
   {
    "duration": 515,
    "start_time": "2022-09-19T08:15:25.492Z"
   },
   {
    "duration": 88,
    "start_time": "2022-09-19T08:15:26.013Z"
   },
   {
    "duration": 117,
    "start_time": "2022-09-19T08:15:26.103Z"
   },
   {
    "duration": 12338,
    "start_time": "2022-09-19T08:15:26.222Z"
   },
   {
    "duration": 31,
    "start_time": "2022-09-19T08:15:38.562Z"
   },
   {
    "duration": 76,
    "start_time": "2022-09-19T08:15:38.606Z"
   },
   {
    "duration": 39,
    "start_time": "2022-09-19T08:15:38.684Z"
   },
   {
    "duration": 67,
    "start_time": "2022-09-19T08:15:38.729Z"
   },
   {
    "duration": 92,
    "start_time": "2022-09-19T08:15:38.798Z"
   },
   {
    "duration": 19,
    "start_time": "2022-09-19T08:15:38.892Z"
   },
   {
    "duration": 80,
    "start_time": "2022-09-19T08:15:38.913Z"
   },
   {
    "duration": 23,
    "start_time": "2022-09-19T08:15:38.996Z"
   },
   {
    "duration": 71,
    "start_time": "2022-09-19T08:15:39.021Z"
   },
   {
    "duration": 509,
    "start_time": "2022-09-19T08:15:39.094Z"
   },
   {
    "duration": 85,
    "start_time": "2022-09-19T08:15:39.605Z"
   },
   {
    "duration": 11,
    "start_time": "2022-09-19T08:15:39.692Z"
   },
   {
    "duration": 19,
    "start_time": "2022-09-19T08:15:39.705Z"
   },
   {
    "duration": 62,
    "start_time": "2022-09-19T08:15:39.726Z"
   },
   {
    "duration": 53,
    "start_time": "2022-09-19T08:15:39.790Z"
   },
   {
    "duration": 44,
    "start_time": "2022-09-19T08:15:39.845Z"
   },
   {
    "duration": 39,
    "start_time": "2022-09-19T08:15:39.891Z"
   },
   {
    "duration": 124,
    "start_time": "2022-09-19T08:15:39.932Z"
   },
   {
    "duration": 611,
    "start_time": "2022-09-19T08:15:40.057Z"
   },
   {
    "duration": 40,
    "start_time": "2022-09-19T08:15:40.670Z"
   },
   {
    "duration": 29,
    "start_time": "2022-09-19T08:15:40.712Z"
   },
   {
    "duration": 60,
    "start_time": "2022-09-19T08:15:40.743Z"
   },
   {
    "duration": 4,
    "start_time": "2022-09-19T08:15:40.805Z"
   },
   {
    "duration": 14,
    "start_time": "2022-09-19T08:15:40.810Z"
   },
   {
    "duration": 11,
    "start_time": "2022-09-19T08:15:40.825Z"
   },
   {
    "duration": 21,
    "start_time": "2022-09-19T08:15:40.837Z"
   },
   {
    "duration": 82,
    "start_time": "2022-09-19T08:15:40.877Z"
   },
   {
    "duration": 267,
    "start_time": "2022-09-19T08:16:42.871Z"
   },
   {
    "duration": 1501,
    "start_time": "2022-09-19T08:32:18.490Z"
   },
   {
    "duration": 4360,
    "start_time": "2022-09-19T08:32:19.993Z"
   },
   {
    "duration": 32,
    "start_time": "2022-09-19T08:32:24.358Z"
   },
   {
    "duration": 28,
    "start_time": "2022-09-19T08:32:24.401Z"
   },
   {
    "duration": 11,
    "start_time": "2022-09-19T08:32:24.431Z"
   },
   {
    "duration": 9,
    "start_time": "2022-09-19T08:32:24.444Z"
   },
   {
    "duration": 89,
    "start_time": "2022-09-19T08:32:24.455Z"
   },
   {
    "duration": 188,
    "start_time": "2022-09-19T08:32:24.547Z"
   },
   {
    "duration": 88,
    "start_time": "2022-09-19T08:32:24.737Z"
   },
   {
    "duration": 58,
    "start_time": "2022-09-19T08:32:24.827Z"
   },
   {
    "duration": 43,
    "start_time": "2022-09-19T08:32:24.887Z"
   },
   {
    "duration": 77,
    "start_time": "2022-09-19T08:32:24.932Z"
   },
   {
    "duration": 5,
    "start_time": "2022-09-19T08:32:25.012Z"
   },
   {
    "duration": 27,
    "start_time": "2022-09-19T08:32:25.019Z"
   },
   {
    "duration": 13,
    "start_time": "2022-09-19T08:32:25.048Z"
   },
   {
    "duration": 39,
    "start_time": "2022-09-19T08:32:25.063Z"
   },
   {
    "duration": 11,
    "start_time": "2022-09-19T08:32:25.108Z"
   },
   {
    "duration": 38,
    "start_time": "2022-09-19T08:32:25.121Z"
   },
   {
    "duration": 18,
    "start_time": "2022-09-19T08:32:25.161Z"
   },
   {
    "duration": 79,
    "start_time": "2022-09-19T08:32:25.180Z"
   },
   {
    "duration": 23,
    "start_time": "2022-09-19T08:32:25.261Z"
   },
   {
    "duration": 53,
    "start_time": "2022-09-19T08:32:25.287Z"
   },
   {
    "duration": 19,
    "start_time": "2022-09-19T08:32:25.342Z"
   },
   {
    "duration": 27,
    "start_time": "2022-09-19T08:32:25.363Z"
   },
   {
    "duration": 72,
    "start_time": "2022-09-19T08:32:25.392Z"
   },
   {
    "duration": 159,
    "start_time": "2022-09-19T08:32:25.466Z"
   },
   {
    "duration": 175,
    "start_time": "2022-09-19T08:32:25.627Z"
   },
   {
    "duration": 881,
    "start_time": "2022-09-19T08:32:25.803Z"
   },
   {
    "duration": 8,
    "start_time": "2022-09-19T08:32:26.687Z"
   },
   {
    "duration": 41,
    "start_time": "2022-09-19T08:32:26.697Z"
   },
   {
    "duration": 302,
    "start_time": "2022-09-19T08:32:26.742Z"
   },
   {
    "duration": 9,
    "start_time": "2022-09-19T08:32:27.046Z"
   },
   {
    "duration": 13069,
    "start_time": "2022-09-19T08:32:27.058Z"
   },
   {
    "duration": 554,
    "start_time": "2022-09-19T08:32:40.129Z"
   },
   {
    "duration": 41,
    "start_time": "2022-09-19T08:32:40.685Z"
   },
   {
    "duration": 158,
    "start_time": "2022-09-19T08:32:40.728Z"
   },
   {
    "duration": 13771,
    "start_time": "2022-09-19T08:32:40.889Z"
   },
   {
    "duration": 28,
    "start_time": "2022-09-19T08:32:54.663Z"
   },
   {
    "duration": 47,
    "start_time": "2022-09-19T08:32:54.695Z"
   },
   {
    "duration": 19,
    "start_time": "2022-09-19T08:32:54.787Z"
   },
   {
    "duration": 69,
    "start_time": "2022-09-19T08:32:54.808Z"
   },
   {
    "duration": 39,
    "start_time": "2022-09-19T08:32:54.880Z"
   },
   {
    "duration": 71,
    "start_time": "2022-09-19T08:32:54.923Z"
   },
   {
    "duration": 94,
    "start_time": "2022-09-19T08:32:55.000Z"
   },
   {
    "duration": 88,
    "start_time": "2022-09-19T08:32:55.096Z"
   },
   {
    "duration": 50,
    "start_time": "2022-09-19T08:32:55.186Z"
   },
   {
    "duration": 483,
    "start_time": "2022-09-19T08:32:55.238Z"
   },
   {
    "duration": 87,
    "start_time": "2022-09-19T08:32:55.723Z"
   },
   {
    "duration": 75,
    "start_time": "2022-09-19T08:32:55.812Z"
   },
   {
    "duration": 10,
    "start_time": "2022-09-19T08:32:55.889Z"
   },
   {
    "duration": 90,
    "start_time": "2022-09-19T08:32:55.901Z"
   },
   {
    "duration": 27,
    "start_time": "2022-09-19T08:32:55.994Z"
   },
   {
    "duration": 58,
    "start_time": "2022-09-19T08:32:56.023Z"
   },
   {
    "duration": 31,
    "start_time": "2022-09-19T08:32:56.083Z"
   },
   {
    "duration": 270,
    "start_time": "2022-09-19T08:32:56.115Z"
   }
  ],
  "kernelspec": {
   "display_name": "Python 3 (ipykernel)",
   "language": "python",
   "name": "python3"
  },
  "language_info": {
   "codemirror_mode": {
    "name": "ipython",
    "version": 3
   },
   "file_extension": ".py",
   "mimetype": "text/x-python",
   "name": "python",
   "nbconvert_exporter": "python",
   "pygments_lexer": "ipython3",
   "version": "3.10.7"
  },
  "toc": {
   "base_numbering": 1,
   "nav_menu": {},
   "number_sections": true,
   "sideBar": true,
   "skip_h1_title": false,
   "title_cell": "Table of Contents",
   "title_sidebar": "Contents",
   "toc_cell": false,
   "toc_position": {},
   "toc_section_display": true,
   "toc_window_display": true
  },
  "varInspector": {
   "cols": {
    "lenName": 16,
    "lenType": 16,
    "lenVar": 40
   },
   "kernels_config": {
    "python": {
     "delete_cmd_postfix": "",
     "delete_cmd_prefix": "del ",
     "library": "var_list.py",
     "varRefreshCmd": "print(var_dic_list())"
    },
    "r": {
     "delete_cmd_postfix": ") ",
     "delete_cmd_prefix": "rm(",
     "library": "var_list.r",
     "varRefreshCmd": "cat(var_dic_list()) "
    }
   },
   "types_to_exclude": [
    "module",
    "function",
    "builtin_function_or_method",
    "instance",
    "_Feature"
   ],
   "window_display": false
  }
 },
 "nbformat": 4,
 "nbformat_minor": 5
}
